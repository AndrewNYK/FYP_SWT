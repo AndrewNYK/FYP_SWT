{
 "cells": [
  {
   "cell_type": "code",
   "execution_count": 1,
   "id": "gL4EoFd2Ybox",
   "metadata": {
    "colab": {
     "base_uri": "https://localhost:8080/"
    },
    "id": "gL4EoFd2Ybox",
    "outputId": "219bb41c-cbbb-4505-de0d-205b0f82c93c"
   },
   "outputs": [],
   "source": [
    "# from google.colab import drive\n",
    "# drive.mount('/content/gdrive')"
   ]
  },
  {
   "cell_type": "code",
   "execution_count": 2,
   "id": "JnUNjZQmYdZu",
   "metadata": {
    "colab": {
     "base_uri": "https://localhost:8080/"
    },
    "id": "JnUNjZQmYdZu",
    "outputId": "ef8eb020-7c3b-42e4-92df-d3f65f06c3bb"
   },
   "outputs": [],
   "source": [
    "# pip install pgzip==0.3.0"
   ]
  },
  {
   "cell_type": "code",
   "execution_count": 3,
   "id": "TTY5QNR2YfEy",
   "metadata": {
    "colab": {
     "base_uri": "https://localhost:8080/"
    },
    "id": "TTY5QNR2YfEy",
    "outputId": "64a8c5be-0dd9-425a-dd2d-2882f63b85e3"
   },
   "outputs": [
    {
     "name": "stdout",
     "output_type": "stream",
     "text": [
      "[name: \"/device:CPU:0\"\n",
      "device_type: \"CPU\"\n",
      "memory_limit: 268435456\n",
      "locality {\n",
      "}\n",
      "incarnation: 10619674110382546611\n",
      "xla_global_id: -1\n",
      ", name: \"/device:GPU:0\"\n",
      "device_type: \"GPU\"\n",
      "memory_limit: 3680501760\n",
      "locality {\n",
      "  bus_id: 1\n",
      "  links {\n",
      "  }\n",
      "}\n",
      "incarnation: 10197862866935386924\n",
      "physical_device_desc: \"device: 0, name: NVIDIA GeForce RTX 3050 6GB Laptop GPU, pci bus id: 0000:01:00.0, compute capability: 8.6\"\n",
      "xla_global_id: 416903419\n",
      "]\n"
     ]
    }
   ],
   "source": [
    "from tensorflow.python.client import device_lib\n",
    "print(device_lib.list_local_devices())"
   ]
  },
  {
   "cell_type": "code",
   "execution_count": 4,
   "id": "0c52fc97",
   "metadata": {
    "id": "0c52fc97"
   },
   "outputs": [],
   "source": [
    "import numpy as np\n",
    "\n",
    "import sys\n",
    "import time\n",
    "sys.path.append(\"./Models\")\n",
    "import os\n",
    "os.system('')\n",
    "\n",
    "import subprocess\n",
    "import torch\n",
    "from torch.utils.data import Dataset\n",
    "\n",
    "import pickle\n",
    "import pgzip\n",
    "import copy\n",
    "\n",
    "import datetime\n",
    "\n",
    "import math\n",
    "from sklearn.preprocessing import MinMaxScaler,StandardScaler\n",
    "from sklearn.metrics import mean_squared_error,mean_absolute_error\n",
    "import matplotlib.pyplot as plt"
   ]
  },
  {
   "cell_type": "code",
   "execution_count": 5,
   "id": "7c2d59d0",
   "metadata": {
    "id": "7c2d59d0"
   },
   "outputs": [],
   "source": [
    "#Default settings for experiment\n",
    "arg_model = \"tsrnn\" #Options: 'trfbb', 'tsrnn', 'trfbf'\n",
    "arg_dset = \"dyt\" #Datasets -- Spain: 'ree', AEP, DAYTON: 'dyt' London: 'lsm'\n",
    "\n",
    "attr_dset_smpl_rt = 24 if arg_dset == \"aep\" else (48 if arg_dset == \"lsm\" else 24) #Samples per day. Spain, AEP: 24, London: 48\n",
    "param_dset_lookback_weeks = 5\n",
    "param_dset_forecast = 48 if arg_dset == \"lsm\" else 24\n",
    "# param_dset_lookback_weeks = 9\n",
    "# param_dset_forecast = 168 if arg_dset == \"lsm\" else 84 # 3.5days = 168\n",
    "param_dset_train_stride = 48 #Choose a coprime value to the forecast so all reading frames are eventually considered\n",
    "param_dset_test_stride = 'same' #tsrnn paper uses 1 week\n",
    "param_dset_lookback = param_dset_lookback_weeks*7*attr_dset_smpl_rt - param_dset_forecast\n",
    "\n",
    "param_trf_weather = False\n",
    "\n"
   ]
  },
  {
   "cell_type": "code",
   "execution_count": 6,
   "id": "aab7d942",
   "metadata": {
    "id": "aab7d942"
   },
   "outputs": [],
   "source": [
    "import pywt\n",
    "from tqdm.auto import tqdm\n",
    "\n",
    "# Get the maximum decomposition level\n",
    "def print_maximal_decom_level(data):\n",
    "    max_level = pywt.swt_max_level(data)\n",
    "    print(\"Maximum decomposition level:\", max_level)\n",
    "\n",
    "    return max_level\n",
    "\n",
    "# SWT functions\n",
    "def data_preparation(dataset, window, lev):\n",
    "    da = []\n",
    "    max_level = print_maximal_decom_level(window)\n",
    "    for i in tqdm(range(len(dataset)), total=len(dataset), desc=\"swt\"):\n",
    "        coeffs = pywt.swt(dataset[i], wavelet='db2', level=lev)\n",
    "        da.append(coeffs);\n",
    "    return da\n",
    "\n",
    "def data_reconstruction(dataset):\n",
    "    da = []\n",
    "    for i in tqdm(range(len(dataset)), total= len(dataset), desc=\"iswt\"):\n",
    "#         recon = pywt.iswt(dataset[i,:,:,:].tolist(), 'db2')\n",
    "        recon = pywt.iswt(dataset[i], 'db2')\n",
    "#         print(np.array(recon).shape)\n",
    "        da.append(recon)\n",
    "#         da.append(recon[0][window-1])\n",
    "    return da\n",
    "\n",
    "\n",
    "# Called because iswt cannot accept tolist() dataset\n",
    "def data_organization(coeffs):\n",
    "    '''\n",
    "    Reshape data back to (n,3,2,window_length), where there are 3 tuples of 2 values consisting of\n",
    "    coeffs array_like Coefficients list of tuples:\n",
    "    [(cAn, cDn), ..., (cA2, cD2), (cA1, cD1)]\n",
    "    '''\n",
    "    reshape_list = []\n",
    "    for i in range(len(coeffs)):\n",
    "        reshape_list.append([])\n",
    "        for j in range(len(coeffs[0])):\n",
    "            reshape_list[i].append(tuple(coeffs[i][j]))\n",
    "\n",
    "    return reshape_list"
   ]
  },
  {
   "cell_type": "code",
   "execution_count": 7,
   "id": "8ed9883e",
   "metadata": {
    "id": "8ed9883e"
   },
   "outputs": [],
   "source": [
    "# -*- coding: utf-8 -*-\n",
    "\n",
    "import numpy as np\n",
    "\n",
    "import os\n",
    "import subprocess\n",
    "import torch\n",
    "from torch.utils.data import Dataset\n",
    "\n",
    "import pickle\n",
    "import pgzip\n",
    "import copy\n",
    "\n",
    "import datetime\n",
    "\n",
    "class DAYTON(Dataset):\n",
    "    \"\"\"\n",
    "    PJM-DAYTON dataset. Instantaneous power reported in MW.\n",
    "    Ranges from around ??? GW (???? MW) to ??? GW (???? MW).\n",
    "    \"\"\"\n",
    "    def __init__(self,path = '.',start_idx = 0, end_idx = 9999999,\n",
    "                 seq_len = 816, pred_horz = 24, stride=-1, timestamp = True):\n",
    "        assert(end_idx - start_idx > seq_len+pred_horz)\n",
    "        if stride <= 0:\n",
    "            stride = seq_len+pred_horz\n",
    "        #if 'aep_tensor.pkl' not in os.listdir(path) or 'aep_timestamps.pkl' not in os.listdir(path):\n",
    "        if 'dayton_dict.pkl.pgz' not in os.listdir(path):\n",
    "            raise FileNotFoundError(os.listdir(path))\n",
    "            #subprocess.check_call('python ./dayton_.py . aep_dict.pkl.pgz')\n",
    "\n",
    "        # with open(os.path.join(path,'aep_tensor.pkl'),'rb') as f:\n",
    "        #     series = pickle.load(f)\n",
    "        # with open(os.path.join(path,'aep_timestamps.pkl'),'rb') as f:\n",
    "        #     timestamps = pickle.load(f)\n",
    "\n",
    "        with pgzip.open(os.path.join(path,'dayton_dict.pkl.pgz')) as f:\n",
    "            sd = pickle.load(f)\n",
    "\n",
    "        series = sd[\"tensor\"] #121296 total elements\n",
    "        starttime = sd['start_time']\n",
    "\n",
    "        self.total_datapoints = len(series)\n",
    "\n",
    "        end_idx = min(end_idx,len(series))\n",
    "\n",
    "        wset = []\n",
    "        ser_start = []\n",
    "        pred_start = []\n",
    "        i = start_idx\n",
    "        while i + seq_len + pred_horz < end_idx:\n",
    "            wset.append(series[i:i+seq_len+pred_horz])\n",
    "            # ser_start.append(timestamps[i])\n",
    "            # pred_start.append(timestamps[i+seq_len+1])\n",
    "            ser_start.append(starttime + i*datetime.timedelta(hours=1))\n",
    "            pred_start.append(starttime + (i + seq_len)*datetime.timedelta(hours=1))\n",
    "            i += stride\n",
    "\n",
    "        wset = torch.stack(wset).unsqueeze(-1)\n",
    "        self.series = wset\n",
    "\n",
    "        for i in range(len(ser_start)):\n",
    "            tmptime = ser_start[i]\n",
    "            ser_start[i] = [tmptime.year,\n",
    "                            tmptime.month,\n",
    "                            tmptime.day,\n",
    "                            tmptime.hour,\n",
    "                            tmptime.minute,\n",
    "                            tmptime.second]\n",
    "\n",
    "        for i in range(len(pred_start)):\n",
    "            tmptime = pred_start[i]\n",
    "            pred_start[i] = [tmptime.year,\n",
    "                            tmptime.month,\n",
    "                            tmptime.day,\n",
    "                            tmptime.hour,\n",
    "                            tmptime.minute,\n",
    "                            tmptime.second]\n",
    "\n",
    "        #Series normalization\n",
    "        #Convert nans so that they do not count toward the min/max\n",
    "        # smin = self.series.nan_to_num(nan=torch.finfo(self.series.dtype).max).amin(dim=-2,keepdim=True)\n",
    "        # smax = self.series.nan_to_num(nan=torch.finfo(self.series.dtype).min).amax(dim=-2,keepdim=True)\n",
    "\n",
    "        self._min = self.series[~self.series.isnan()].min()\n",
    "        self._max = self.series[~self.series.isnan()].max()\n",
    "\n",
    "        #self.series = (self.series - smin.broadcast_to(self.series.shape))/(smax-smin).broadcast_to(self.series.shape)\n",
    "        self.series_starttimes = torch.tensor(ser_start,dtype=torch.long)\n",
    "        self.pred_start = torch.tensor(pred_start,dtype=torch.long)\n",
    "\n",
    "        self.length = len(self.series)\n",
    "        self.return_timestamps = timestamp\n",
    "\n",
    "        self.seq_len = seq_len\n",
    "        self.pred_horz = pred_horz\n",
    "\n",
    "        #Dataset in use will contain nans, to be handled by the training code\n",
    "\n",
    "    def __len__(self):\n",
    "        return self.length\n",
    "\n",
    "    def min(self):\n",
    "        \"\"\"Returns the minimum load power in GW\"\"\"\n",
    "        return self._min\n",
    "        #return 18.041\n",
    "\n",
    "    def max(self):\n",
    "        \"\"\"Returns the maximum load power in GW\"\"\"\n",
    "        return self._max\n",
    "        #return 41.015\n",
    "\n",
    "    def __getitem__(self,idx):\n",
    "        if self.return_timestamps:\n",
    "            return self.series[idx][:self.seq_len], self.series[idx][self.seq_len:], self.series_starttimes[idx], self.pred_start[idx]\n",
    "        return self.series[idx][:self.seq_len], self.series[idx][self.seq_len:]"
   ]
  },
  {
   "cell_type": "code",
   "execution_count": 8,
   "id": "3e0d3dc2",
   "metadata": {
    "colab": {
     "base_uri": "https://localhost:8080/"
    },
    "id": "3e0d3dc2",
    "outputId": "714b3299-2775-40d9-d05e-57757726fb19"
   },
   "outputs": [
    {
     "name": "stdout",
     "output_type": "stream",
     "text": [
      "torch.Size([3318, 840, 1])\n"
     ]
    }
   ],
   "source": [
    "# path = '/content/gdrive/MyDrive/FYP/Datasets/PJM_energy_datasets'\n",
    "path = '.'\n",
    "import sys\n",
    "sys.path.insert(0,path)\n",
    "\n",
    "full_set = DAYTON(path = \".\",\n",
    "                  seq_len = param_dset_lookback,\n",
    "                  pred_horz = param_dset_forecast,\n",
    "                  timestamp = False)\n",
    "dytmax = full_set.max()\n",
    "dytmin = full_set.min()\n",
    "del(full_set)\n",
    "\n",
    "train_set = DAYTON(path = \".\",\n",
    "                start_idx = 0, end_idx = 97036,\n",
    "                seq_len = param_dset_lookback,\n",
    "                pred_horz = param_dset_forecast,\n",
    "                stride=29,\n",
    "                timestamp = False)\n",
    "val_set = DAYTON(path = \".\",\n",
    "              start_idx = 97036, end_idx = 97036+12129,\n",
    "                seq_len = param_dset_lookback,\n",
    "                pred_horz = param_dset_forecast,\n",
    "                stride=param_dset_forecast,\n",
    "                timestamp = False)\n",
    "test_set = DAYTON(path = \".\",\n",
    "                start_idx = 97036+12129,\n",
    "                seq_len = param_dset_lookback,\n",
    "                pred_horz = param_dset_forecast,\n",
    "                stride=param_dset_forecast,\n",
    "                timestamp = False)\n",
    "\n",
    "\n",
    "train_set.series = (train_set.series - dytmin)/(dytmax - dytmin)\n",
    "val_set.series = (val_set.series - dytmin)/(dytmax - dytmin)\n",
    "test_set.series = (test_set.series - dytmin)/(dytmax - dytmin)\n",
    "\n",
    "print(train_set.series.shape)"
   ]
  },
  {
   "cell_type": "code",
   "execution_count": 9,
   "id": "a03b3057",
   "metadata": {
    "colab": {
     "base_uri": "https://localhost:8080/",
     "height": 582,
     "referenced_widgets": [
      "7a1863c060574471a1269845fba411b3",
      "0d6df6c164004c989b305dd574a0f161",
      "4bc85bc9085b4bf58b9e582a525a156f",
      "0ac21ef2886f4d5d824eb1c2c3a6cd1f",
      "20e1b14e268e4ca7b26015a0550a46b4",
      "88e592270bf34d75a2b6cb1b3a084dc4",
      "16ef9a1c2e8744f4aaf59a88383a280f",
      "da3cfc7266294a3bad6e92f37d6dff37",
      "b849142db43b443e9cff5d1668421462",
      "6c91baf251014a12ae85e5de4c02fb3c",
      "c6306010a67044f2871c97ac225073eb",
      "fef6f61c285243868ec70dccb7fdc0ad",
      "449234db07d241cd9293b032ae88701a",
      "d3a16bf08aea4800bac4fb0dabadb9ef",
      "0e8b902168b7457fb3fd2c1e37d56109",
      "7b7ccb3823e242c1a43a02bd958ff557",
      "380cd12c94fb4845b18b7b5cc6438bfb",
      "cd351d2406e94be8a62acc07a98e5aee",
      "181483622bf74cc7be60ec75433ba70a",
      "933cdb021ad04f738e93ebcd22842fbb",
      "a730ae1587b247c8954edd17fdbbd2ce",
      "80fa96ed08d84d0288cd4fdc8bc8667c",
      "810e3bd107f0475abe9ef231c2f7c303",
      "9b51cd4c37cc4610a32e6b99296552f1",
      "4395ebe6f5f04a27bdfa264604ed1b3a",
      "dc000aef513b441394e3a7e133a7650f",
      "0ca5dcaa5bce46fbba8591badf5df69b",
      "a744b2cb46034bebb46b75b53b00e724",
      "61c19f3e4f314df2a7fc7d9b1d179fe9",
      "c88119e9d77f469f8d0a9cd2c379eb46",
      "1765c3a16e174d5cbdc893635df7c2f9",
      "77ff28af0e6f4c3e9533bb0257fcae5a",
      "4b8ceaef190f4ea0884fc7c0578a0ca4"
     ]
    },
    "id": "a03b3057",
    "outputId": "c885ebc0-075c-4b9f-f060-c4e269b7f704"
   },
   "outputs": [
    {
     "name": "stdout",
     "output_type": "stream",
     "text": [
      "total series shape after squeeze:  torch.Size([3318, 816])\n",
      "torch shape:  torch.Size([3318, 816])\n",
      "numpy shape:  (3318, 816)\n",
      "Maximum decomposition level: 4\n"
     ]
    },
    {
     "data": {
      "application/vnd.jupyter.widget-view+json": {
       "model_id": "868e7f074276464b8fc8709eac70cdef",
       "version_major": 2,
       "version_minor": 0
      },
      "text/plain": [
       "swt:   0%|          | 0/3318 [00:00<?, ?it/s]"
      ]
     },
     "metadata": {},
     "output_type": "display_data"
    },
    {
     "name": "stdout",
     "output_type": "stream",
     "text": [
      "(3318, 3, 2, 816)\n",
      "(3318, 4896)\n",
      "(3318, 6, 816)\n",
      "train_set_transform shape:  (3318, 6, 816)\n",
      "----------------------------------------------------\n",
      "total series shape after squeeze:  torch.Size([471, 816])\n",
      "torch shape:  torch.Size([471, 816])\n",
      "numpy shape:  (471, 816)\n",
      "Maximum decomposition level: 4\n"
     ]
    },
    {
     "data": {
      "application/vnd.jupyter.widget-view+json": {
       "model_id": "e5c90cb7f45c4be18634b39813fa8c39",
       "version_major": 2,
       "version_minor": 0
      },
      "text/plain": [
       "swt:   0%|          | 0/471 [00:00<?, ?it/s]"
      ]
     },
     "metadata": {},
     "output_type": "display_data"
    },
    {
     "name": "stdout",
     "output_type": "stream",
     "text": [
      "(471, 3, 2, 816)\n",
      "(471, 4896)\n",
      "(471, 6, 816)\n",
      "val_set_transform shape:  (471, 6, 816)\n",
      "----------------------------------------------------\n",
      "total series shape after squeeze:  torch.Size([471, 816])\n",
      "torch shape:  torch.Size([471, 816])\n",
      "numpy shape:  (471, 816)\n",
      "Maximum decomposition level: 4\n"
     ]
    },
    {
     "data": {
      "application/vnd.jupyter.widget-view+json": {
       "model_id": "631f3a94fdb743a3a7a6bbab75b4aa66",
       "version_major": 2,
       "version_minor": 0
      },
      "text/plain": [
       "swt:   0%|          | 0/471 [00:00<?, ?it/s]"
      ]
     },
     "metadata": {},
     "output_type": "display_data"
    },
    {
     "name": "stdout",
     "output_type": "stream",
     "text": [
      "(471, 3, 2, 816)\n",
      "(471, 4896)\n",
      "(471, 6, 816)\n",
      "test_set_transform shape:  (471, 6, 816)\n",
      "----------------------------------------------------\n"
     ]
    }
   ],
   "source": [
    "#SWT Transformation\n",
    "def swt_transformation(self_series):\n",
    "    self_series = self_series.squeeze(-1)\n",
    "    print(\"total series shape after squeeze: \", self_series.shape)\n",
    "    self_series_numpy = self_series.numpy()\n",
    "    print(\"torch shape: \", self_series.shape)\n",
    "    print(\"numpy shape: \", self_series_numpy.shape)\n",
    "#     print(self_series[0])\n",
    "#     print(self_series_numpy[0])\n",
    "    lev = 3\n",
    "    da = data_preparation(self_series_numpy, self_series_numpy.shape[1], lev)\n",
    "#     print(da[0][0])\n",
    "\n",
    "    Vv = np.array(da)\n",
    "    print(Vv.shape)\n",
    "#     print(Vv[0][0])\n",
    "\n",
    "    vv = Vv.reshape(Vv.shape[0],2*lev*Vv.shape[3])\n",
    "    print(vv.shape)\n",
    "\n",
    "\n",
    "    # dataset = scaler.fit_transform(vv)\n",
    "\n",
    "    dat = vv.reshape(Vv.shape[0],2*lev,Vv.shape[3])\n",
    "    print(dat.shape)\n",
    "\n",
    "    return dat\n",
    "\n",
    "train_set_transform = swt_transformation(train_set.series[:,:param_dset_lookback])\n",
    "print(\"train_set_transform shape: \", train_set_transform.shape)\n",
    "print(\"----------------------------------------------------\")\n",
    "\n",
    "val_set_transform = swt_transformation(val_set.series[:,:param_dset_lookback])\n",
    "print(\"val_set_transform shape: \", val_set_transform.shape)\n",
    "print(\"----------------------------------------------------\")\n",
    "\n",
    "test_set_transform = swt_transformation(test_set.series[:,:param_dset_lookback])\n",
    "print(\"test_set_transform shape: \", test_set_transform.shape)\n",
    "print(\"----------------------------------------------------\")"
   ]
  },
  {
   "cell_type": "code",
   "execution_count": 10,
   "id": "d566a8d0",
   "metadata": {
    "colab": {
     "base_uri": "https://localhost:8080/"
    },
    "id": "d566a8d0",
    "outputId": "d33048ce-a8f0-40fd-bf73-aee3350fe1e8"
   },
   "outputs": [
    {
     "name": "stdout",
     "output_type": "stream",
     "text": [
      "(3318, 6, 816)\n",
      "(471, 6, 816)\n",
      "(471, 6, 816)\n",
      "torch.Size([3318, 24, 1])\n",
      "(3318, 816, 6)\n",
      "(471, 816, 6)\n",
      "(471, 816, 6)\n",
      "torch.Size([3318, 24, 1])\n",
      "torch.Size([471, 24, 1])\n",
      "torch.Size([471, 24, 1])\n"
     ]
    }
   ],
   "source": [
    "# Split seq_len and pred\n",
    "\n",
    "trainX,trainY = train_set_transform[:int(train_set_transform.shape[0]),:,:param_dset_lookback], train_set.series[:int(train_set_transform.shape[0]),param_dset_lookback:,:]\n",
    "valX,valY = val_set_transform[:,:,:param_dset_lookback], val_set.series[:,param_dset_lookback:,:]\n",
    "testX,testY = test_set_transform[:,:,:param_dset_lookback], test_set.series[:,param_dset_lookback:,:]\n",
    "\n",
    "# trainY = trainY.reshape([trainY.shape[0], trainY.shape[1]*trainY.shape[2]])\n",
    "# valY = valY.reshape([valY.shape[0], valY.shape[1]*valY.shape[2]])\n",
    "# testY = testY.reshape([testY.shape[0], testY.shape[1]*testY.shape[2]])\n",
    "\n",
    "print(trainX.shape)\n",
    "print(valX.shape)\n",
    "print(testX.shape)\n",
    "print(trainY.shape)\n",
    "\n",
    "trainX=np.transpose(trainX, (0, 2, 1))\n",
    "valX =np.transpose(valX, (0, 2, 1))\n",
    "testX=np.transpose(testX, (0, 2, 1))\n",
    "\n",
    "print(trainX.shape)\n",
    "print(valX.shape)\n",
    "print(testX.shape)\n",
    "\n",
    "print(trainY.shape)\n",
    "print(valY.shape)\n",
    "print(testY.shape)\n",
    "\n"
   ]
  },
  {
   "cell_type": "markdown",
   "id": "979e36f9",
   "metadata": {
    "id": "979e36f9"
   },
   "source": [
    "## Model Initialization"
   ]
  },
  {
   "cell_type": "code",
   "execution_count": 11,
   "id": "9abf1110",
   "metadata": {
    "id": "9abf1110"
   },
   "outputs": [],
   "source": [
    "import torch\n",
    "import torch.nn as nn\n",
    "import torch.nn.functional as F\n",
    "\n",
    "# path1 = \"/content/gdrive/MyDrive/FYP/Models\"\n",
    "# path2 = \"/content/gdrive/MyDrive/FYP/Models/BigBirdSparse\"\n",
    "# import sys\n",
    "# sys.path.insert(1,path1)\n",
    "# sys.path.insert(2,path2)\n",
    "import sys\n",
    "sys.path.append(\"../../Models\")\n",
    "\n",
    "from Encodings.encoding import LearnablePositionalEncoding\n",
    "from BigBirdSparse.bb_sparse import BlockSparseMultiheadAttention\n",
    "from BigBirdSparse.bb_fixed import BlockSparseFixedAttention\n",
    "from transformer_base import TBatchNorm\n",
    "\n",
    "class TransformerBBSparse(nn.Module):\n",
    "    def __init__(self, seq_len=2560, out_seq_len=24, interval=1, inp_dim=1, emb_dim=64,\\\n",
    "                 n_heads=4, n_enc_layers=2, n_dec_layers=2, block_size=40,\\\n",
    "                ffdim=128, drop_p = 0.1):\n",
    "        super(TransformerBBSparse,self).__init__()\n",
    "        self.seq_len = seq_len\n",
    "        self.out_seq_len = out_seq_len\n",
    "        self.emb_dim = emb_dim\n",
    "        #self.in_norm = nn.BatchNorm1d(seq_len,affine=False)\n",
    "        self.input_linear = nn.Linear(inp_dim,emb_dim)\n",
    "        #self.input_pool = nn.AvgPool1d(kernel_size=5,stride=5)\n",
    "        self.pe = LearnablePositionalEncoding(emb_dim,dropout=0.1,max_len=seq_len)\n",
    "        #self.pe = CosineEmbedding(emb_dim,max_len=seq_len,scale_factor=0.1)\n",
    "        #self.tpe = TimestampCosineEmbedding(emb_dim, interval, max_len = seq_len)\n",
    "\n",
    "        self.trf_el = nn.TransformerEncoderLayer(emb_dim,n_heads,ffdim,\n",
    "                                                 activation=F.gelu,dropout=drop_p,\n",
    "                                                 batch_first=True,norm_first=True)\n",
    "        self.trf_el.self_attn = BlockSparseMultiheadAttention(emb_dim, n_heads, block_size,batch_first=True)\n",
    "        #self.trf_el.self_attn = BlockSparseMheadAttnFixed(emb_dim, n_heads, block_size,batch_first=True)\n",
    "\n",
    "        self.trf_dl = nn.TransformerDecoderLayer(emb_dim,n_heads,ffdim,\n",
    "                                                 activation=F.gelu,dropout=drop_p,\n",
    "                                                 batch_first=True,norm_first=True)\n",
    "\n",
    "        self.trf_el.norm1 = TBatchNorm(num_features=emb_dim)\n",
    "        self.trf_el.norm1 = TBatchNorm(num_features=emb_dim)\n",
    "        self.trf_el.norm2 = TBatchNorm(num_features=emb_dim)\n",
    "\n",
    "        self.trf_dl.norm1 = TBatchNorm(num_features=emb_dim)\n",
    "        self.trf_dl.norm2 = TBatchNorm(num_features=emb_dim)\n",
    "        self.trf_dl.norm3 = TBatchNorm(num_features=emb_dim)\n",
    "\n",
    "        self.trf_e = nn.TransformerEncoder(self.trf_el,num_layers=n_enc_layers)\n",
    "        self.trf_d = nn.TransformerDecoder(self.trf_dl,num_layers=n_dec_layers)\n",
    "\n",
    "        # self.out = nn.Linear(emb_dim,inp_dim)\n",
    "        self.out = nn.Linear(emb_dim,1)\n",
    "        self.drop = nn.Dropout(p=drop_p)\n",
    "\n",
    "        # self.dec_tar = torch.nn.Parameter(torch.zeros((out_seq_len,emb_dim)))\n",
    "        # nn.init.normal_(self.dec_tar)\n",
    "        self.aux_out = nn.Linear(emb_dim,1)#inp_dim)\n",
    "        #self.reduce = nn.Linear(seq_len,out_seq_len)\n",
    "        self.aux_in = nn.Linear(1,emb_dim)#inp_dim,emb_dim)\n",
    "\n",
    "        self.expand = nn.Linear(seq_len,5120)\n",
    "        self.compress = nn.Linear(5120,out_seq_len)\n",
    "\n",
    "    def forward(self,x):\n",
    "        '''x: [batch dim, sequence length, variable dim]'''\n",
    "        x1 = self.input_linear(x) # x1.shape: [batch, seq len, emb dim]\n",
    "        x1 = self.pe(x1.permute(1,0,2)).permute(1,0,2)\n",
    "        #x1 = self.tpe(x1.permute(1,0,2),in_start_time).permute(1,0,2)\n",
    "        mem = self.trf_e(x1)\n",
    "\n",
    "        dec_in = self.aux_out(mem)\n",
    "        dec_in = F.gelu(self.expand(dec_in.view((-1,self.seq_len))))\n",
    "        dec_in = self.drop(dec_in)\n",
    "        dec_in = self.compress(dec_in)\n",
    "        #dec_in = F.gelu(self.reduce(dec_in.view((-1,self.seq_len))))\n",
    "\n",
    "        dec_in = self.aux_in(dec_in.unsqueeze(-1))\n",
    "\n",
    "        # x2 = self.trf_d(self.dec_tar.broadcast_to(x.shape[0],self.out_seq_len,self.emb_dim)\\\n",
    "        #                 ,mem)\n",
    "        x2 = self.trf_d(self.pe(dec_in.permute(1,0,2))\\\n",
    "                        .permute(1,0,2),mem)\n",
    "        # x2 = self.trf_d(self.tpe(dec_in.permute(1,0,2),pred_start_time)\\\n",
    "        #                 .permute(1,0,2),mem)\n",
    "\n",
    "        o1 = self.out(x2)\n",
    "\n",
    "        return o1\n",
    "\n"
   ]
  },
  {
   "cell_type": "code",
   "execution_count": 12,
   "id": "0b50fe50",
   "metadata": {
    "id": "0b50fe50"
   },
   "outputs": [],
   "source": [
    "class TransformerBBFixed(nn.Module):\n",
    "    def __init__(self, seq_len=2560, out_seq_len=24, interval=1, inp_dim=1, emb_dim=64,\\\n",
    "                 n_heads=4, n_enc_layers=2, n_dec_layers=2, block_size=40,\\\n",
    "                ffdim=128, drop_p = 0.1):\n",
    "        super(TransformerBBFixed,self).__init__()\n",
    "        self.seq_len = seq_len\n",
    "        self.out_seq_len = out_seq_len\n",
    "        self.emb_dim = emb_dim\n",
    "        #self.in_norm = nn.BatchNorm1d(seq_len,affine=False)\n",
    "        self.input_linear = nn.Linear(inp_dim,emb_dim)\n",
    "        #self.input_pool = nn.AvgPool1d(kernel_size=5,stride=5)\n",
    "        self.pe = LearnablePositionalEncoding(emb_dim,dropout=drop_p,max_len=seq_len)\n",
    "        #self.pe = CosineEmbedding(emb_dim,max_len=seq_len,scale_factor=0.1)\n",
    "        #self.tpe = TimestampCosineEmbedding(emb_dim, interval, max_len = seq_len)\n",
    "\n",
    "        self.trf_el = nn.TransformerEncoderLayer(emb_dim,n_heads,ffdim,\n",
    "                                                 activation=F.gelu,dropout=drop_p,\n",
    "                                                 batch_first=True,norm_first=True)\n",
    "        #self.trf_el.self_attn = BlockSparseMultiheadAttention(emb_dim, n_heads, block_size,batch_first=True)\n",
    "        self.trf_el.self_attn = BlockSparseFixedAttention(emb_dim, n_heads, block_size,batch_first=True)\n",
    "\n",
    "        self.trf_dl = nn.TransformerDecoderLayer(emb_dim,n_heads,ffdim,\n",
    "                                                 activation=F.gelu,dropout=drop_p,\n",
    "                                                 batch_first=True,norm_first=True)\n",
    "\n",
    "        self.trf_el.norm1 = TBatchNorm(num_features=emb_dim)\n",
    "        self.trf_el.norm1 = TBatchNorm(num_features=emb_dim)\n",
    "        self.trf_el.norm2 = TBatchNorm(num_features=emb_dim)\n",
    "\n",
    "        self.trf_dl.norm1 = TBatchNorm(num_features=emb_dim)\n",
    "        self.trf_dl.norm2 = TBatchNorm(num_features=emb_dim)\n",
    "        self.trf_dl.norm3 = TBatchNorm(num_features=emb_dim)\n",
    "\n",
    "        self.trf_e = nn.TransformerEncoder(self.trf_el,num_layers=n_enc_layers)\n",
    "        self.trf_d = nn.TransformerDecoder(self.trf_dl,num_layers=n_dec_layers)\n",
    "\n",
    "        # self.out = nn.Linear(emb_dim,inp_dim)\n",
    "        self.out = nn.Linear(emb_dim,1)\n",
    "        self.drop = nn.Dropout(p=drop_p)\n",
    "\n",
    "        # self.dec_tar = torch.nn.Parameter(torch.zeros((out_seq_len,emb_dim)))\n",
    "        # nn.init.normal_(self.dec_tar)\n",
    "        self.aux_out = nn.Linear(emb_dim,1)#inp_dim)\n",
    "        #self.reduce = nn.Linear(seq_len,out_seq_len)\n",
    "        self.aux_in = nn.Linear(1,emb_dim)#inp_dim,emb_dim)\n",
    "\n",
    "        self.expand = nn.Linear(seq_len,5120)\n",
    "        self.compress = nn.Linear(5120,out_seq_len)\n",
    "\n",
    "    def forward(self,x):\n",
    "        '''x: [batch dim, sequence length, variable dim]'''\n",
    "        x1 = self.input_linear(x) # x1.shape: [batch, seq len, emb dim]\n",
    "        x1 = self.pe(x1.permute(1,0,2)).permute(1,0,2)\n",
    "        #x1 = self.tpe(x1.permute(1,0,2),in_start_time).permute(1,0,2)\n",
    "        mem = self.trf_e(x1)\n",
    "\n",
    "        dec_in = self.aux_out(mem)\n",
    "        dec_in = F.gelu(self.expand(dec_in.view((-1,self.seq_len))))\n",
    "        dec_in = self.drop(dec_in)\n",
    "        dec_in = self.compress(dec_in)\n",
    "        #dec_in = F.gelu(self.reduce(dec_in.view((-1,self.seq_len))))\n",
    "\n",
    "        dec_in = self.aux_in(dec_in.unsqueeze(-1))\n",
    "\n",
    "        # x2 = self.trf_d(self.dec_tar.broadcast_to(x.shape[0],self.out_seq_len,self.emb_dim)\\\n",
    "        #                 ,mem)\n",
    "        x2 = self.trf_d(self.pe(dec_in.permute(1,0,2))\\\n",
    "                        .permute(1,0,2),mem)\n",
    "        # x2 = self.trf_d(self.tpe(dec_in.permute(1,0,2),pred_start_time)\\\n",
    "        #                 .permute(1,0,2),mem)\n",
    "\n",
    "        o1 = self.out(x2)\n",
    "\n",
    "        return o1"
   ]
  },
  {
   "cell_type": "code",
   "execution_count": null,
   "id": "973b717b",
   "metadata": {
    "id": "973b717b"
   },
   "outputs": [],
   "source": []
  },
  {
   "cell_type": "code",
   "execution_count": null,
   "id": "c516d8f7",
   "metadata": {
    "id": "c516d8f7"
   },
   "outputs": [],
   "source": []
  },
  {
   "cell_type": "code",
   "execution_count": null,
   "id": "080fde85",
   "metadata": {
    "id": "080fde85"
   },
   "outputs": [],
   "source": []
  },
  {
   "cell_type": "code",
   "execution_count": 13,
   "id": "eOcxMjAdb_19",
   "metadata": {
    "id": "eOcxMjAdb_19"
   },
   "outputs": [],
   "source": [
    "# Early stopping\n",
    "class EarlyStopper:\n",
    "    def __init__(self, patience=10, min_delta=0):\n",
    "        self.patience = patience\n",
    "        self.min_delta = min_delta\n",
    "        self.counter = 0\n",
    "        self.min_validation_loss = np.inf\n",
    "\n",
    "    def early_stop(self, validation_loss):\n",
    "        if validation_loss < self.min_validation_loss:\n",
    "            self.min_validation_loss = validation_loss\n",
    "            self.counter = 0\n",
    "        elif validation_loss > (self.min_validation_loss + self.min_delta):\n",
    "            self.counter += 1\n",
    "            if self.counter >= self.patience:\n",
    "                return True\n",
    "        return False\n",
    "\n",
    "class SaveBestModel:\n",
    "    \"\"\"\n",
    "    Class to save or load the best model while training.\n",
    "    \"\"\"\n",
    "    def __init__(\n",
    "        self, best_valid_loss=float('inf')\n",
    "    ):\n",
    "        self.best_valid_loss = best_valid_loss\n",
    "\n",
    "    def __call__(\n",
    "        self, current_valid_loss, epoch, model\n",
    "    ):\n",
    "        if current_valid_loss < self.best_valid_loss:\n",
    "            self.best_valid_loss = current_valid_loss\n",
    "#             print(f\"\\nBest validation loss: {self.best_valid_loss}\")\n",
    "#             print(f\"\\nSaving best model for epoch: {epoch+1}\\n\")\n",
    "            # Save the PyTorch model\n",
    "            torch.save(model.state_dict(), 'transformer_5min.pth')\n",
    "\n",
    "patience = 50\n",
    "early_stopper = EarlyStopper(patience=patience, min_delta=0)\n",
    "saveBestModel = SaveBestModel()"
   ]
  },
  {
   "cell_type": "markdown",
   "id": "07f52ef6",
   "metadata": {
    "id": "07f52ef6"
   },
   "source": [
    "## Create model and data tensor"
   ]
  },
  {
   "cell_type": "code",
   "execution_count": 14,
   "id": "c11a8ea8",
   "metadata": {
    "id": "c11a8ea8"
   },
   "outputs": [],
   "source": [
    "batch_size = 64\n",
    "lev=3\n",
    "\n",
    "seq_len = param_dset_lookback\n",
    "\n",
    "# Transformer parameters\n",
    "inp_len = 2*lev\n",
    "out_len = 2*lev\n",
    "emb_dim = 24\n",
    "n_heads = 4\n",
    "enc_layer = 4\n",
    "dec_layer = 4\n",
    "ff_dim = 256\n",
    "param_trf_bksz = 48"
   ]
  },
  {
   "cell_type": "code",
   "execution_count": 15,
   "id": "e83f32b4",
   "metadata": {
    "colab": {
     "base_uri": "https://localhost:8080/",
     "height": 170,
     "referenced_widgets": [
      "9829de0ad9b8432eb0dcd8fdd01cf97a",
      "004d848e6b8545a38ff0af8478653c2b",
      "852693f603684c5eab4223402e364d1d",
      "4f4374618538479d80cd46ea99dd93f5",
      "ea32c2a8cf9d41df8c25c6141683caf8",
      "f9a40e30e1fc46089c472e5cb8feaff2",
      "580a80552591472ea6da6fc386b441cc",
      "e31daaba94594b46b7ca78abf353bcae",
      "d8b0d11e031147f199b069ce9f424ffd",
      "973307790dfd453684f393add151fdf2",
      "6817b6547bd342289b5ec1d47122d239",
      "2bafe723e24a4f1d83f706c1a205712f",
      "bd7a84653fb64f6b80b1b29fda901a67",
      "3036d5d3d1d14a63a9bdcc31945478ee",
      "00be03abf2cc4670bee1415b0e22fc28",
      "e072098619654c249a66270ee75f9cc1",
      "3b3a0feb9b43474eb5e0e2b04c33ff6b",
      "d90557cb64fd4937aa98ffe3c02fc4f8",
      "5816cb37865d4f1db99ed85c5af67a54",
      "a362ad0e500a4d5d868ce428019cae12",
      "90d415083630471b908f4b001693dbe9",
      "57aafd9bfcf74b41a6f8c6b8db4451d3"
     ]
    },
    "id": "e83f32b4",
    "outputId": "e0a7f694-83da-43bc-97ae-fcd46890c364"
   },
   "outputs": [
    {
     "name": "stdout",
     "output_type": "stream",
     "text": [
      "Actual number of model parameters: 4488674\n",
      "Trainable model parameters: 4488674\n",
      "cuda\n"
     ]
    },
    {
     "name": "stderr",
     "output_type": "stream",
     "text": [
      "C:\\Users\\linwa\\AppData\\Local\\Temp\\ipykernel_11280\\1274684628.py:79: UserWarning: To copy construct from a tensor, it is recommended to use sourceTensor.clone().detach() or sourceTensor.clone().detach().requires_grad_(True), rather than torch.tensor(sourceTensor).\n",
      "  X_train, y_train = torch.tensor(trainX), torch.tensor(trainY)\n",
      "C:\\Users\\linwa\\AppData\\Local\\Temp\\ipykernel_11280\\1274684628.py:80: UserWarning: To copy construct from a tensor, it is recommended to use sourceTensor.clone().detach() or sourceTensor.clone().detach().requires_grad_(True), rather than torch.tensor(sourceTensor).\n",
      "  X_val, y_val = torch.tensor(valX), torch.tensor(valY)\n",
      "C:\\Users\\linwa\\AppData\\Local\\Temp\\ipykernel_11280\\1274684628.py:81: UserWarning: To copy construct from a tensor, it is recommended to use sourceTensor.clone().detach() or sourceTensor.clone().detach().requires_grad_(True), rather than torch.tensor(sourceTensor).\n",
      "  X_test, y_test = torch.tensor(testX), torch.tensor(testY)\n"
     ]
    },
    {
     "data": {
      "application/vnd.jupyter.widget-view+json": {
       "model_id": "55dd2863c4c54e45a098dee6f8bed430",
       "version_major": 2,
       "version_minor": 0
      },
      "text/plain": [
       "epochs:   0%|          | 0/1000 [00:00<?, ?it/s]"
      ]
     },
     "metadata": {},
     "output_type": "display_data"
    },
    {
     "data": {
      "application/vnd.jupyter.widget-view+json": {
       "model_id": "8fe2e5f2934740f1873762b981446ea6",
       "version_major": 2,
       "version_minor": 0
      },
      "text/plain": [
       "train batches:   0%|          | 0/52 [00:00<?, ?it/s]"
      ]
     },
     "metadata": {},
     "output_type": "display_data"
    },
    {
     "data": {
      "application/vnd.jupyter.widget-view+json": {
       "model_id": "adf10bf4c15f4ad3addb1eba390e86c9",
       "version_major": 2,
       "version_minor": 0
      },
      "text/plain": [
       "val batches:   0%|          | 0/8 [00:00<?, ?it/s]"
      ]
     },
     "metadata": {},
     "output_type": "display_data"
    },
    {
     "name": "stdout",
     "output_type": "stream",
     "text": [
      "Epoch 1/1000, Training Loss: 33.587708, Validation Loss: 0.166271\n"
     ]
    },
    {
     "data": {
      "application/vnd.jupyter.widget-view+json": {
       "model_id": "07e72a59ac9246ffbfa34cd50c4a878e",
       "version_major": 2,
       "version_minor": 0
      },
      "text/plain": [
       "train batches:   0%|          | 0/52 [00:00<?, ?it/s]"
      ]
     },
     "metadata": {},
     "output_type": "display_data"
    },
    {
     "data": {
      "application/vnd.jupyter.widget-view+json": {
       "model_id": "9111cf68697f46a3a323d7f90978e3b5",
       "version_major": 2,
       "version_minor": 0
      },
      "text/plain": [
       "val batches:   0%|          | 0/8 [00:00<?, ?it/s]"
      ]
     },
     "metadata": {},
     "output_type": "display_data"
    },
    {
     "name": "stdout",
     "output_type": "stream",
     "text": [
      "Epoch 2/1000, Training Loss: 0.132491, Validation Loss: 0.083670\n"
     ]
    },
    {
     "data": {
      "application/vnd.jupyter.widget-view+json": {
       "model_id": "0e6e1b8102514dbfb316aff99826f7d8",
       "version_major": 2,
       "version_minor": 0
      },
      "text/plain": [
       "train batches:   0%|          | 0/52 [00:00<?, ?it/s]"
      ]
     },
     "metadata": {},
     "output_type": "display_data"
    },
    {
     "data": {
      "application/vnd.jupyter.widget-view+json": {
       "model_id": "d58261ff5c2f490cac54f586a522c10f",
       "version_major": 2,
       "version_minor": 0
      },
      "text/plain": [
       "val batches:   0%|          | 0/8 [00:00<?, ?it/s]"
      ]
     },
     "metadata": {},
     "output_type": "display_data"
    },
    {
     "name": "stdout",
     "output_type": "stream",
     "text": [
      "Epoch 3/1000, Training Loss: 0.083510, Validation Loss: 0.057059\n"
     ]
    },
    {
     "data": {
      "application/vnd.jupyter.widget-view+json": {
       "model_id": "18d8d3f0993f4f44bcf0556bfaab711f",
       "version_major": 2,
       "version_minor": 0
      },
      "text/plain": [
       "train batches:   0%|          | 0/52 [00:00<?, ?it/s]"
      ]
     },
     "metadata": {},
     "output_type": "display_data"
    },
    {
     "data": {
      "application/vnd.jupyter.widget-view+json": {
       "model_id": "2b7f40501f194d6caf5cc7ce22b910e3",
       "version_major": 2,
       "version_minor": 0
      },
      "text/plain": [
       "val batches:   0%|          | 0/8 [00:00<?, ?it/s]"
      ]
     },
     "metadata": {},
     "output_type": "display_data"
    },
    {
     "name": "stdout",
     "output_type": "stream",
     "text": [
      "Epoch 4/1000, Training Loss: 0.054977, Validation Loss: 0.068979\n"
     ]
    },
    {
     "data": {
      "application/vnd.jupyter.widget-view+json": {
       "model_id": "0ac87dbef4a24dac9e6cd89630df8f6c",
       "version_major": 2,
       "version_minor": 0
      },
      "text/plain": [
       "train batches:   0%|          | 0/52 [00:00<?, ?it/s]"
      ]
     },
     "metadata": {},
     "output_type": "display_data"
    },
    {
     "data": {
      "application/vnd.jupyter.widget-view+json": {
       "model_id": "f4c84d7db81740b5bce5e65af39dc3ba",
       "version_major": 2,
       "version_minor": 0
      },
      "text/plain": [
       "val batches:   0%|          | 0/8 [00:00<?, ?it/s]"
      ]
     },
     "metadata": {},
     "output_type": "display_data"
    },
    {
     "name": "stdout",
     "output_type": "stream",
     "text": [
      "Epoch 5/1000, Training Loss: 0.045294, Validation Loss: 0.058603\n"
     ]
    },
    {
     "data": {
      "application/vnd.jupyter.widget-view+json": {
       "model_id": "600b7f8cae8848e1b858fd713d10afb9",
       "version_major": 2,
       "version_minor": 0
      },
      "text/plain": [
       "train batches:   0%|          | 0/52 [00:00<?, ?it/s]"
      ]
     },
     "metadata": {},
     "output_type": "display_data"
    },
    {
     "data": {
      "application/vnd.jupyter.widget-view+json": {
       "model_id": "99c8b5202c8a47a8863e14f060b8d20d",
       "version_major": 2,
       "version_minor": 0
      },
      "text/plain": [
       "val batches:   0%|          | 0/8 [00:00<?, ?it/s]"
      ]
     },
     "metadata": {},
     "output_type": "display_data"
    },
    {
     "name": "stdout",
     "output_type": "stream",
     "text": [
      "Epoch 6/1000, Training Loss: 0.048069, Validation Loss: 0.024706\n"
     ]
    },
    {
     "data": {
      "application/vnd.jupyter.widget-view+json": {
       "model_id": "d98d654d76394ad1b139f723130e23f8",
       "version_major": 2,
       "version_minor": 0
      },
      "text/plain": [
       "train batches:   0%|          | 0/52 [00:00<?, ?it/s]"
      ]
     },
     "metadata": {},
     "output_type": "display_data"
    },
    {
     "data": {
      "application/vnd.jupyter.widget-view+json": {
       "model_id": "f0fb085a7c794a9086c2c659cc7f5edc",
       "version_major": 2,
       "version_minor": 0
      },
      "text/plain": [
       "val batches:   0%|          | 0/8 [00:00<?, ?it/s]"
      ]
     },
     "metadata": {},
     "output_type": "display_data"
    },
    {
     "name": "stdout",
     "output_type": "stream",
     "text": [
      "Epoch 7/1000, Training Loss: 0.045923, Validation Loss: 0.056613\n"
     ]
    },
    {
     "data": {
      "application/vnd.jupyter.widget-view+json": {
       "model_id": "142fbb4ebc0f4b91bacdd257a8075a84",
       "version_major": 2,
       "version_minor": 0
      },
      "text/plain": [
       "train batches:   0%|          | 0/52 [00:00<?, ?it/s]"
      ]
     },
     "metadata": {},
     "output_type": "display_data"
    },
    {
     "data": {
      "application/vnd.jupyter.widget-view+json": {
       "model_id": "b5be8549676e44c09218f1703bdb6744",
       "version_major": 2,
       "version_minor": 0
      },
      "text/plain": [
       "val batches:   0%|          | 0/8 [00:00<?, ?it/s]"
      ]
     },
     "metadata": {},
     "output_type": "display_data"
    },
    {
     "name": "stdout",
     "output_type": "stream",
     "text": [
      "Epoch 8/1000, Training Loss: 0.066429, Validation Loss: 0.037646\n"
     ]
    },
    {
     "data": {
      "application/vnd.jupyter.widget-view+json": {
       "model_id": "a3d39875835f433ab6f7f7664da12e27",
       "version_major": 2,
       "version_minor": 0
      },
      "text/plain": [
       "train batches:   0%|          | 0/52 [00:00<?, ?it/s]"
      ]
     },
     "metadata": {},
     "output_type": "display_data"
    },
    {
     "data": {
      "application/vnd.jupyter.widget-view+json": {
       "model_id": "d82327e490834c9a884ce629f463f79f",
       "version_major": 2,
       "version_minor": 0
      },
      "text/plain": [
       "val batches:   0%|          | 0/8 [00:00<?, ?it/s]"
      ]
     },
     "metadata": {},
     "output_type": "display_data"
    },
    {
     "name": "stdout",
     "output_type": "stream",
     "text": [
      "Epoch 9/1000, Training Loss: 0.047255, Validation Loss: 0.053078\n"
     ]
    },
    {
     "data": {
      "application/vnd.jupyter.widget-view+json": {
       "model_id": "220150a455e843eaac948d21a9dc7a62",
       "version_major": 2,
       "version_minor": 0
      },
      "text/plain": [
       "train batches:   0%|          | 0/52 [00:00<?, ?it/s]"
      ]
     },
     "metadata": {},
     "output_type": "display_data"
    },
    {
     "data": {
      "application/vnd.jupyter.widget-view+json": {
       "model_id": "7a7a664a3f864dfab6e1028bef8536e8",
       "version_major": 2,
       "version_minor": 0
      },
      "text/plain": [
       "val batches:   0%|          | 0/8 [00:00<?, ?it/s]"
      ]
     },
     "metadata": {},
     "output_type": "display_data"
    },
    {
     "name": "stdout",
     "output_type": "stream",
     "text": [
      "Epoch 10/1000, Training Loss: 0.054336, Validation Loss: 0.053524\n"
     ]
    },
    {
     "data": {
      "application/vnd.jupyter.widget-view+json": {
       "model_id": "a9cc376f75f74b87a9be18038b38b99b",
       "version_major": 2,
       "version_minor": 0
      },
      "text/plain": [
       "train batches:   0%|          | 0/52 [00:00<?, ?it/s]"
      ]
     },
     "metadata": {},
     "output_type": "display_data"
    },
    {
     "data": {
      "application/vnd.jupyter.widget-view+json": {
       "model_id": "4ff3b0bc780444efb1d896eab9999e33",
       "version_major": 2,
       "version_minor": 0
      },
      "text/plain": [
       "val batches:   0%|          | 0/8 [00:00<?, ?it/s]"
      ]
     },
     "metadata": {},
     "output_type": "display_data"
    },
    {
     "name": "stdout",
     "output_type": "stream",
     "text": [
      "Epoch 11/1000, Training Loss: 0.056324, Validation Loss: 0.053917\n"
     ]
    },
    {
     "data": {
      "application/vnd.jupyter.widget-view+json": {
       "model_id": "6bf79f1a57614589a50cdedcc6fbc6b5",
       "version_major": 2,
       "version_minor": 0
      },
      "text/plain": [
       "train batches:   0%|          | 0/52 [00:00<?, ?it/s]"
      ]
     },
     "metadata": {},
     "output_type": "display_data"
    },
    {
     "data": {
      "application/vnd.jupyter.widget-view+json": {
       "model_id": "f97b55ba5e1046e99e00a32e6f36d361",
       "version_major": 2,
       "version_minor": 0
      },
      "text/plain": [
       "val batches:   0%|          | 0/8 [00:00<?, ?it/s]"
      ]
     },
     "metadata": {},
     "output_type": "display_data"
    },
    {
     "name": "stdout",
     "output_type": "stream",
     "text": [
      "Epoch 12/1000, Training Loss: 0.045727, Validation Loss: 0.142514\n"
     ]
    },
    {
     "data": {
      "application/vnd.jupyter.widget-view+json": {
       "model_id": "4b25e274b3c347fab79f37c4541ebd86",
       "version_major": 2,
       "version_minor": 0
      },
      "text/plain": [
       "train batches:   0%|          | 0/52 [00:00<?, ?it/s]"
      ]
     },
     "metadata": {},
     "output_type": "display_data"
    },
    {
     "data": {
      "application/vnd.jupyter.widget-view+json": {
       "model_id": "fdbfd9f8ccc74e3b8af651cf3df77175",
       "version_major": 2,
       "version_minor": 0
      },
      "text/plain": [
       "val batches:   0%|          | 0/8 [00:00<?, ?it/s]"
      ]
     },
     "metadata": {},
     "output_type": "display_data"
    },
    {
     "name": "stdout",
     "output_type": "stream",
     "text": [
      "Epoch 13/1000, Training Loss: 0.081529, Validation Loss: 0.026848\n"
     ]
    },
    {
     "data": {
      "application/vnd.jupyter.widget-view+json": {
       "model_id": "575da767bde6470496aa24131a0b0d55",
       "version_major": 2,
       "version_minor": 0
      },
      "text/plain": [
       "train batches:   0%|          | 0/52 [00:00<?, ?it/s]"
      ]
     },
     "metadata": {},
     "output_type": "display_data"
    },
    {
     "data": {
      "application/vnd.jupyter.widget-view+json": {
       "model_id": "dc5eb2a774844b89a7099af0e42840e3",
       "version_major": 2,
       "version_minor": 0
      },
      "text/plain": [
       "val batches:   0%|          | 0/8 [00:00<?, ?it/s]"
      ]
     },
     "metadata": {},
     "output_type": "display_data"
    },
    {
     "name": "stdout",
     "output_type": "stream",
     "text": [
      "Epoch 14/1000, Training Loss: 0.041695, Validation Loss: 0.020040\n"
     ]
    },
    {
     "data": {
      "application/vnd.jupyter.widget-view+json": {
       "model_id": "e404c91c8b3f4295a71eb227cd91b5f2",
       "version_major": 2,
       "version_minor": 0
      },
      "text/plain": [
       "train batches:   0%|          | 0/52 [00:00<?, ?it/s]"
      ]
     },
     "metadata": {},
     "output_type": "display_data"
    },
    {
     "data": {
      "application/vnd.jupyter.widget-view+json": {
       "model_id": "d8d8bdea92544b44b81cde4a1f07d8c9",
       "version_major": 2,
       "version_minor": 0
      },
      "text/plain": [
       "val batches:   0%|          | 0/8 [00:00<?, ?it/s]"
      ]
     },
     "metadata": {},
     "output_type": "display_data"
    },
    {
     "name": "stdout",
     "output_type": "stream",
     "text": [
      "Epoch 15/1000, Training Loss: 0.045734, Validation Loss: 0.025308\n"
     ]
    },
    {
     "data": {
      "application/vnd.jupyter.widget-view+json": {
       "model_id": "15c3bd4dc2564802bdc30307785896e2",
       "version_major": 2,
       "version_minor": 0
      },
      "text/plain": [
       "train batches:   0%|          | 0/52 [00:00<?, ?it/s]"
      ]
     },
     "metadata": {},
     "output_type": "display_data"
    },
    {
     "data": {
      "application/vnd.jupyter.widget-view+json": {
       "model_id": "843fb736aae54d51b654e2e943aeb4a1",
       "version_major": 2,
       "version_minor": 0
      },
      "text/plain": [
       "val batches:   0%|          | 0/8 [00:00<?, ?it/s]"
      ]
     },
     "metadata": {},
     "output_type": "display_data"
    },
    {
     "name": "stdout",
     "output_type": "stream",
     "text": [
      "Epoch 16/1000, Training Loss: 0.053077, Validation Loss: 0.499034\n"
     ]
    },
    {
     "data": {
      "application/vnd.jupyter.widget-view+json": {
       "model_id": "dbb89ff4f26447fe920ddaa49a4ad42d",
       "version_major": 2,
       "version_minor": 0
      },
      "text/plain": [
       "train batches:   0%|          | 0/52 [00:00<?, ?it/s]"
      ]
     },
     "metadata": {},
     "output_type": "display_data"
    },
    {
     "data": {
      "application/vnd.jupyter.widget-view+json": {
       "model_id": "972fbc1769954531b7603f47ffe1a85c",
       "version_major": 2,
       "version_minor": 0
      },
      "text/plain": [
       "val batches:   0%|          | 0/8 [00:00<?, ?it/s]"
      ]
     },
     "metadata": {},
     "output_type": "display_data"
    },
    {
     "name": "stdout",
     "output_type": "stream",
     "text": [
      "Epoch 17/1000, Training Loss: 0.031234, Validation Loss: 0.035814\n"
     ]
    },
    {
     "data": {
      "application/vnd.jupyter.widget-view+json": {
       "model_id": "d1c771b1612445dbb61f187d0a52df2e",
       "version_major": 2,
       "version_minor": 0
      },
      "text/plain": [
       "train batches:   0%|          | 0/52 [00:00<?, ?it/s]"
      ]
     },
     "metadata": {},
     "output_type": "display_data"
    },
    {
     "data": {
      "application/vnd.jupyter.widget-view+json": {
       "model_id": "7b5cd1c8bf8b4b7585454b713317b1e0",
       "version_major": 2,
       "version_minor": 0
      },
      "text/plain": [
       "val batches:   0%|          | 0/8 [00:00<?, ?it/s]"
      ]
     },
     "metadata": {},
     "output_type": "display_data"
    },
    {
     "name": "stdout",
     "output_type": "stream",
     "text": [
      "Epoch 18/1000, Training Loss: 0.783813, Validation Loss: 0.023481\n"
     ]
    },
    {
     "data": {
      "application/vnd.jupyter.widget-view+json": {
       "model_id": "02a90621f1684b6f853a07b8236f976c",
       "version_major": 2,
       "version_minor": 0
      },
      "text/plain": [
       "train batches:   0%|          | 0/52 [00:00<?, ?it/s]"
      ]
     },
     "metadata": {},
     "output_type": "display_data"
    },
    {
     "data": {
      "application/vnd.jupyter.widget-view+json": {
       "model_id": "3fa9693bb4254db8ae755e42a109b7fd",
       "version_major": 2,
       "version_minor": 0
      },
      "text/plain": [
       "val batches:   0%|          | 0/8 [00:00<?, ?it/s]"
      ]
     },
     "metadata": {},
     "output_type": "display_data"
    },
    {
     "name": "stdout",
     "output_type": "stream",
     "text": [
      "Epoch 19/1000, Training Loss: 0.056625, Validation Loss: 0.030227\n"
     ]
    },
    {
     "data": {
      "application/vnd.jupyter.widget-view+json": {
       "model_id": "f683f1c1770341f0b1c8617eae9f87af",
       "version_major": 2,
       "version_minor": 0
      },
      "text/plain": [
       "train batches:   0%|          | 0/52 [00:00<?, ?it/s]"
      ]
     },
     "metadata": {},
     "output_type": "display_data"
    },
    {
     "data": {
      "application/vnd.jupyter.widget-view+json": {
       "model_id": "7b95e32c2cdf468390a97426b0c8762d",
       "version_major": 2,
       "version_minor": 0
      },
      "text/plain": [
       "val batches:   0%|          | 0/8 [00:00<?, ?it/s]"
      ]
     },
     "metadata": {},
     "output_type": "display_data"
    },
    {
     "name": "stdout",
     "output_type": "stream",
     "text": [
      "Epoch 20/1000, Training Loss: 0.033599, Validation Loss: 0.020455\n"
     ]
    },
    {
     "data": {
      "application/vnd.jupyter.widget-view+json": {
       "model_id": "2d7dc93c6faa48fca919fa17db6087a4",
       "version_major": 2,
       "version_minor": 0
      },
      "text/plain": [
       "train batches:   0%|          | 0/52 [00:00<?, ?it/s]"
      ]
     },
     "metadata": {},
     "output_type": "display_data"
    },
    {
     "data": {
      "application/vnd.jupyter.widget-view+json": {
       "model_id": "8746bf1f1b0f47258ad58edb014497ce",
       "version_major": 2,
       "version_minor": 0
      },
      "text/plain": [
       "val batches:   0%|          | 0/8 [00:00<?, ?it/s]"
      ]
     },
     "metadata": {},
     "output_type": "display_data"
    },
    {
     "name": "stdout",
     "output_type": "stream",
     "text": [
      "Epoch 21/1000, Training Loss: 0.032894, Validation Loss: 0.019599\n"
     ]
    },
    {
     "data": {
      "application/vnd.jupyter.widget-view+json": {
       "model_id": "67be52e4309646afb3f1445c5d13d417",
       "version_major": 2,
       "version_minor": 0
      },
      "text/plain": [
       "train batches:   0%|          | 0/52 [00:00<?, ?it/s]"
      ]
     },
     "metadata": {},
     "output_type": "display_data"
    },
    {
     "data": {
      "application/vnd.jupyter.widget-view+json": {
       "model_id": "a98788c2d1ac4fb99f66214a22521809",
       "version_major": 2,
       "version_minor": 0
      },
      "text/plain": [
       "val batches:   0%|          | 0/8 [00:00<?, ?it/s]"
      ]
     },
     "metadata": {},
     "output_type": "display_data"
    },
    {
     "name": "stdout",
     "output_type": "stream",
     "text": [
      "Epoch 22/1000, Training Loss: 0.035626, Validation Loss: 0.018314\n"
     ]
    },
    {
     "data": {
      "application/vnd.jupyter.widget-view+json": {
       "model_id": "2c236fd4b8844dbb85018b3c0fcc00dd",
       "version_major": 2,
       "version_minor": 0
      },
      "text/plain": [
       "train batches:   0%|          | 0/52 [00:00<?, ?it/s]"
      ]
     },
     "metadata": {},
     "output_type": "display_data"
    },
    {
     "data": {
      "application/vnd.jupyter.widget-view+json": {
       "model_id": "1b6032cc55e74339ae5338a1ead4cab4",
       "version_major": 2,
       "version_minor": 0
      },
      "text/plain": [
       "val batches:   0%|          | 0/8 [00:00<?, ?it/s]"
      ]
     },
     "metadata": {},
     "output_type": "display_data"
    },
    {
     "name": "stdout",
     "output_type": "stream",
     "text": [
      "Epoch 23/1000, Training Loss: 0.033941, Validation Loss: 0.019687\n"
     ]
    },
    {
     "data": {
      "application/vnd.jupyter.widget-view+json": {
       "model_id": "ae9ca805afc0490bbe20f5549a8d1f6e",
       "version_major": 2,
       "version_minor": 0
      },
      "text/plain": [
       "train batches:   0%|          | 0/52 [00:00<?, ?it/s]"
      ]
     },
     "metadata": {},
     "output_type": "display_data"
    },
    {
     "data": {
      "application/vnd.jupyter.widget-view+json": {
       "model_id": "a562c4bf332c4068898b776848696dea",
       "version_major": 2,
       "version_minor": 0
      },
      "text/plain": [
       "val batches:   0%|          | 0/8 [00:00<?, ?it/s]"
      ]
     },
     "metadata": {},
     "output_type": "display_data"
    },
    {
     "name": "stdout",
     "output_type": "stream",
     "text": [
      "Epoch 24/1000, Training Loss: 0.033790, Validation Loss: 0.023831\n"
     ]
    },
    {
     "data": {
      "application/vnd.jupyter.widget-view+json": {
       "model_id": "c00f1353fa374902818712f8baaf6d01",
       "version_major": 2,
       "version_minor": 0
      },
      "text/plain": [
       "train batches:   0%|          | 0/52 [00:00<?, ?it/s]"
      ]
     },
     "metadata": {},
     "output_type": "display_data"
    },
    {
     "data": {
      "application/vnd.jupyter.widget-view+json": {
       "model_id": "125dc372382f4441bef1fe5b1f3e28fb",
       "version_major": 2,
       "version_minor": 0
      },
      "text/plain": [
       "val batches:   0%|          | 0/8 [00:00<?, ?it/s]"
      ]
     },
     "metadata": {},
     "output_type": "display_data"
    },
    {
     "name": "stdout",
     "output_type": "stream",
     "text": [
      "Epoch 25/1000, Training Loss: 0.029695, Validation Loss: 0.027959\n"
     ]
    },
    {
     "data": {
      "application/vnd.jupyter.widget-view+json": {
       "model_id": "11a952ba85614258a622c3f84f9bfe09",
       "version_major": 2,
       "version_minor": 0
      },
      "text/plain": [
       "train batches:   0%|          | 0/52 [00:00<?, ?it/s]"
      ]
     },
     "metadata": {},
     "output_type": "display_data"
    },
    {
     "data": {
      "application/vnd.jupyter.widget-view+json": {
       "model_id": "7b457eb268a4453186594ea20c94d8b7",
       "version_major": 2,
       "version_minor": 0
      },
      "text/plain": [
       "val batches:   0%|          | 0/8 [00:00<?, ?it/s]"
      ]
     },
     "metadata": {},
     "output_type": "display_data"
    },
    {
     "name": "stdout",
     "output_type": "stream",
     "text": [
      "Epoch 26/1000, Training Loss: 0.030670, Validation Loss: 0.061412\n"
     ]
    },
    {
     "data": {
      "application/vnd.jupyter.widget-view+json": {
       "model_id": "6c787751b0af43acad8d660fa466cf92",
       "version_major": 2,
       "version_minor": 0
      },
      "text/plain": [
       "train batches:   0%|          | 0/52 [00:00<?, ?it/s]"
      ]
     },
     "metadata": {},
     "output_type": "display_data"
    },
    {
     "data": {
      "application/vnd.jupyter.widget-view+json": {
       "model_id": "d727308d6a0b464491f7d6af41262ea6",
       "version_major": 2,
       "version_minor": 0
      },
      "text/plain": [
       "val batches:   0%|          | 0/8 [00:00<?, ?it/s]"
      ]
     },
     "metadata": {},
     "output_type": "display_data"
    },
    {
     "name": "stdout",
     "output_type": "stream",
     "text": [
      "Epoch 27/1000, Training Loss: 0.028768, Validation Loss: 0.019440\n"
     ]
    },
    {
     "data": {
      "application/vnd.jupyter.widget-view+json": {
       "model_id": "c92d144bfb364c858143ed75cc582815",
       "version_major": 2,
       "version_minor": 0
      },
      "text/plain": [
       "train batches:   0%|          | 0/52 [00:00<?, ?it/s]"
      ]
     },
     "metadata": {},
     "output_type": "display_data"
    },
    {
     "data": {
      "application/vnd.jupyter.widget-view+json": {
       "model_id": "5c407df5bd9945cb87cd6a76d91ea484",
       "version_major": 2,
       "version_minor": 0
      },
      "text/plain": [
       "val batches:   0%|          | 0/8 [00:00<?, ?it/s]"
      ]
     },
     "metadata": {},
     "output_type": "display_data"
    },
    {
     "name": "stdout",
     "output_type": "stream",
     "text": [
      "Epoch 28/1000, Training Loss: 0.025295, Validation Loss: 0.042846\n"
     ]
    },
    {
     "data": {
      "application/vnd.jupyter.widget-view+json": {
       "model_id": "59091a4077bc4760a1210186762e3720",
       "version_major": 2,
       "version_minor": 0
      },
      "text/plain": [
       "train batches:   0%|          | 0/52 [00:00<?, ?it/s]"
      ]
     },
     "metadata": {},
     "output_type": "display_data"
    },
    {
     "data": {
      "application/vnd.jupyter.widget-view+json": {
       "model_id": "28ab38b99ec343a7961ba5c5fd9734c5",
       "version_major": 2,
       "version_minor": 0
      },
      "text/plain": [
       "val batches:   0%|          | 0/8 [00:00<?, ?it/s]"
      ]
     },
     "metadata": {},
     "output_type": "display_data"
    },
    {
     "name": "stdout",
     "output_type": "stream",
     "text": [
      "Epoch 29/1000, Training Loss: 0.025738, Validation Loss: 0.048315\n"
     ]
    },
    {
     "data": {
      "application/vnd.jupyter.widget-view+json": {
       "model_id": "4e7517b8bcb24bdf998ae080d9cd82bb",
       "version_major": 2,
       "version_minor": 0
      },
      "text/plain": [
       "train batches:   0%|          | 0/52 [00:00<?, ?it/s]"
      ]
     },
     "metadata": {},
     "output_type": "display_data"
    },
    {
     "data": {
      "application/vnd.jupyter.widget-view+json": {
       "model_id": "e108787fbf704475adb9af6fbf68b050",
       "version_major": 2,
       "version_minor": 0
      },
      "text/plain": [
       "val batches:   0%|          | 0/8 [00:00<?, ?it/s]"
      ]
     },
     "metadata": {},
     "output_type": "display_data"
    },
    {
     "name": "stdout",
     "output_type": "stream",
     "text": [
      "Epoch 30/1000, Training Loss: 0.021199, Validation Loss: 0.024074\n"
     ]
    },
    {
     "data": {
      "application/vnd.jupyter.widget-view+json": {
       "model_id": "2c98a637eb6f4ee9bbc8206e24e2142b",
       "version_major": 2,
       "version_minor": 0
      },
      "text/plain": [
       "train batches:   0%|          | 0/52 [00:00<?, ?it/s]"
      ]
     },
     "metadata": {},
     "output_type": "display_data"
    },
    {
     "data": {
      "application/vnd.jupyter.widget-view+json": {
       "model_id": "32eb34043e5746d2878fb74b24703fc4",
       "version_major": 2,
       "version_minor": 0
      },
      "text/plain": [
       "val batches:   0%|          | 0/8 [00:00<?, ?it/s]"
      ]
     },
     "metadata": {},
     "output_type": "display_data"
    },
    {
     "name": "stdout",
     "output_type": "stream",
     "text": [
      "Epoch 31/1000, Training Loss: 0.015938, Validation Loss: 0.038856\n"
     ]
    },
    {
     "data": {
      "application/vnd.jupyter.widget-view+json": {
       "model_id": "3ef7ede625e34db48484d56b37614e28",
       "version_major": 2,
       "version_minor": 0
      },
      "text/plain": [
       "train batches:   0%|          | 0/52 [00:00<?, ?it/s]"
      ]
     },
     "metadata": {},
     "output_type": "display_data"
    },
    {
     "data": {
      "application/vnd.jupyter.widget-view+json": {
       "model_id": "10255c75ad4a452cbb516d1101c7c2d0",
       "version_major": 2,
       "version_minor": 0
      },
      "text/plain": [
       "val batches:   0%|          | 0/8 [00:00<?, ?it/s]"
      ]
     },
     "metadata": {},
     "output_type": "display_data"
    },
    {
     "name": "stdout",
     "output_type": "stream",
     "text": [
      "Epoch 32/1000, Training Loss: 0.016865, Validation Loss: 0.024026\n"
     ]
    },
    {
     "data": {
      "application/vnd.jupyter.widget-view+json": {
       "model_id": "e4105542b1cc4024a793e944676f1cce",
       "version_major": 2,
       "version_minor": 0
      },
      "text/plain": [
       "train batches:   0%|          | 0/52 [00:00<?, ?it/s]"
      ]
     },
     "metadata": {},
     "output_type": "display_data"
    },
    {
     "data": {
      "application/vnd.jupyter.widget-view+json": {
       "model_id": "c4edd2217e80465da916c2dd402c3366",
       "version_major": 2,
       "version_minor": 0
      },
      "text/plain": [
       "val batches:   0%|          | 0/8 [00:00<?, ?it/s]"
      ]
     },
     "metadata": {},
     "output_type": "display_data"
    },
    {
     "name": "stdout",
     "output_type": "stream",
     "text": [
      "Epoch 33/1000, Training Loss: 0.015383, Validation Loss: 0.018825\n"
     ]
    },
    {
     "data": {
      "application/vnd.jupyter.widget-view+json": {
       "model_id": "2c89bda971b84f4bb6544b45608119d4",
       "version_major": 2,
       "version_minor": 0
      },
      "text/plain": [
       "train batches:   0%|          | 0/52 [00:00<?, ?it/s]"
      ]
     },
     "metadata": {},
     "output_type": "display_data"
    },
    {
     "data": {
      "application/vnd.jupyter.widget-view+json": {
       "model_id": "429a4dbdc9a54cf0a80aaead183b3bac",
       "version_major": 2,
       "version_minor": 0
      },
      "text/plain": [
       "val batches:   0%|          | 0/8 [00:00<?, ?it/s]"
      ]
     },
     "metadata": {},
     "output_type": "display_data"
    },
    {
     "name": "stdout",
     "output_type": "stream",
     "text": [
      "Epoch 34/1000, Training Loss: 0.011673, Validation Loss: 0.033358\n"
     ]
    },
    {
     "data": {
      "application/vnd.jupyter.widget-view+json": {
       "model_id": "c2cf51a08ff04c15b68ce5db72213b09",
       "version_major": 2,
       "version_minor": 0
      },
      "text/plain": [
       "train batches:   0%|          | 0/52 [00:00<?, ?it/s]"
      ]
     },
     "metadata": {},
     "output_type": "display_data"
    },
    {
     "data": {
      "application/vnd.jupyter.widget-view+json": {
       "model_id": "4327db13edf04b26a5769aa2ca74e579",
       "version_major": 2,
       "version_minor": 0
      },
      "text/plain": [
       "val batches:   0%|          | 0/8 [00:00<?, ?it/s]"
      ]
     },
     "metadata": {},
     "output_type": "display_data"
    },
    {
     "name": "stdout",
     "output_type": "stream",
     "text": [
      "Epoch 35/1000, Training Loss: 0.011839, Validation Loss: 0.037856\n"
     ]
    },
    {
     "data": {
      "application/vnd.jupyter.widget-view+json": {
       "model_id": "f990423017e04d779e720481075eef00",
       "version_major": 2,
       "version_minor": 0
      },
      "text/plain": [
       "train batches:   0%|          | 0/52 [00:00<?, ?it/s]"
      ]
     },
     "metadata": {},
     "output_type": "display_data"
    },
    {
     "data": {
      "application/vnd.jupyter.widget-view+json": {
       "model_id": "821be798b6dd4667957a5bb55e5b7d18",
       "version_major": 2,
       "version_minor": 0
      },
      "text/plain": [
       "val batches:   0%|          | 0/8 [00:00<?, ?it/s]"
      ]
     },
     "metadata": {},
     "output_type": "display_data"
    },
    {
     "name": "stdout",
     "output_type": "stream",
     "text": [
      "Epoch 36/1000, Training Loss: 0.012533, Validation Loss: 0.027137\n"
     ]
    },
    {
     "data": {
      "application/vnd.jupyter.widget-view+json": {
       "model_id": "6eca6aa914be4f3fa279f1c0230fd0d4",
       "version_major": 2,
       "version_minor": 0
      },
      "text/plain": [
       "train batches:   0%|          | 0/52 [00:00<?, ?it/s]"
      ]
     },
     "metadata": {},
     "output_type": "display_data"
    },
    {
     "data": {
      "application/vnd.jupyter.widget-view+json": {
       "model_id": "ad170083d3b4465795f4556d9ba62961",
       "version_major": 2,
       "version_minor": 0
      },
      "text/plain": [
       "val batches:   0%|          | 0/8 [00:00<?, ?it/s]"
      ]
     },
     "metadata": {},
     "output_type": "display_data"
    },
    {
     "name": "stdout",
     "output_type": "stream",
     "text": [
      "Epoch 37/1000, Training Loss: 0.705920, Validation Loss: 0.044500\n"
     ]
    },
    {
     "data": {
      "application/vnd.jupyter.widget-view+json": {
       "model_id": "ea67f296087c4c278b0649eb44465869",
       "version_major": 2,
       "version_minor": 0
      },
      "text/plain": [
       "train batches:   0%|          | 0/52 [00:00<?, ?it/s]"
      ]
     },
     "metadata": {},
     "output_type": "display_data"
    },
    {
     "data": {
      "application/vnd.jupyter.widget-view+json": {
       "model_id": "13ca1c23a01d41968a7f0bf02c4a9ed1",
       "version_major": 2,
       "version_minor": 0
      },
      "text/plain": [
       "val batches:   0%|          | 0/8 [00:00<?, ?it/s]"
      ]
     },
     "metadata": {},
     "output_type": "display_data"
    },
    {
     "name": "stdout",
     "output_type": "stream",
     "text": [
      "Epoch 38/1000, Training Loss: 0.022108, Validation Loss: 0.081067\n"
     ]
    },
    {
     "data": {
      "application/vnd.jupyter.widget-view+json": {
       "model_id": "a08094e37aa1458997457216a7538398",
       "version_major": 2,
       "version_minor": 0
      },
      "text/plain": [
       "train batches:   0%|          | 0/52 [00:00<?, ?it/s]"
      ]
     },
     "metadata": {},
     "output_type": "display_data"
    },
    {
     "data": {
      "application/vnd.jupyter.widget-view+json": {
       "model_id": "3a9782664bb943f38883dafdefc86152",
       "version_major": 2,
       "version_minor": 0
      },
      "text/plain": [
       "val batches:   0%|          | 0/8 [00:00<?, ?it/s]"
      ]
     },
     "metadata": {},
     "output_type": "display_data"
    },
    {
     "name": "stdout",
     "output_type": "stream",
     "text": [
      "Epoch 39/1000, Training Loss: 0.015997, Validation Loss: 0.086898\n"
     ]
    },
    {
     "data": {
      "application/vnd.jupyter.widget-view+json": {
       "model_id": "949ea6bb35f44fe88dbf5e1fddfca933",
       "version_major": 2,
       "version_minor": 0
      },
      "text/plain": [
       "train batches:   0%|          | 0/52 [00:00<?, ?it/s]"
      ]
     },
     "metadata": {},
     "output_type": "display_data"
    },
    {
     "data": {
      "application/vnd.jupyter.widget-view+json": {
       "model_id": "0e7effcee8224909814464791099f966",
       "version_major": 2,
       "version_minor": 0
      },
      "text/plain": [
       "val batches:   0%|          | 0/8 [00:00<?, ?it/s]"
      ]
     },
     "metadata": {},
     "output_type": "display_data"
    },
    {
     "name": "stdout",
     "output_type": "stream",
     "text": [
      "Epoch 40/1000, Training Loss: 0.011642, Validation Loss: 0.036924\n"
     ]
    },
    {
     "data": {
      "application/vnd.jupyter.widget-view+json": {
       "model_id": "68fa610276ec4296939a0797342ce1c0",
       "version_major": 2,
       "version_minor": 0
      },
      "text/plain": [
       "train batches:   0%|          | 0/52 [00:00<?, ?it/s]"
      ]
     },
     "metadata": {},
     "output_type": "display_data"
    },
    {
     "data": {
      "application/vnd.jupyter.widget-view+json": {
       "model_id": "bcf4b0dda170496f8234a34569a2b691",
       "version_major": 2,
       "version_minor": 0
      },
      "text/plain": [
       "val batches:   0%|          | 0/8 [00:00<?, ?it/s]"
      ]
     },
     "metadata": {},
     "output_type": "display_data"
    },
    {
     "name": "stdout",
     "output_type": "stream",
     "text": [
      "Epoch 41/1000, Training Loss: 0.009010, Validation Loss: 0.029689\n"
     ]
    },
    {
     "data": {
      "application/vnd.jupyter.widget-view+json": {
       "model_id": "e852302c93154d3e83139c469dea4f87",
       "version_major": 2,
       "version_minor": 0
      },
      "text/plain": [
       "train batches:   0%|          | 0/52 [00:00<?, ?it/s]"
      ]
     },
     "metadata": {},
     "output_type": "display_data"
    },
    {
     "data": {
      "application/vnd.jupyter.widget-view+json": {
       "model_id": "16b249d884434c95ab42ecb8cc8d6a00",
       "version_major": 2,
       "version_minor": 0
      },
      "text/plain": [
       "val batches:   0%|          | 0/8 [00:00<?, ?it/s]"
      ]
     },
     "metadata": {},
     "output_type": "display_data"
    },
    {
     "name": "stdout",
     "output_type": "stream",
     "text": [
      "Epoch 42/1000, Training Loss: 0.008205, Validation Loss: 0.025216\n"
     ]
    },
    {
     "data": {
      "application/vnd.jupyter.widget-view+json": {
       "model_id": "23794a65b17846eb994d9c9e73b6dc35",
       "version_major": 2,
       "version_minor": 0
      },
      "text/plain": [
       "train batches:   0%|          | 0/52 [00:00<?, ?it/s]"
      ]
     },
     "metadata": {},
     "output_type": "display_data"
    },
    {
     "data": {
      "application/vnd.jupyter.widget-view+json": {
       "model_id": "c254e4a5931145338aac1f9b4c2ca592",
       "version_major": 2,
       "version_minor": 0
      },
      "text/plain": [
       "val batches:   0%|          | 0/8 [00:00<?, ?it/s]"
      ]
     },
     "metadata": {},
     "output_type": "display_data"
    },
    {
     "name": "stdout",
     "output_type": "stream",
     "text": [
      "Epoch 43/1000, Training Loss: 0.007119, Validation Loss: 0.023738\n"
     ]
    },
    {
     "data": {
      "application/vnd.jupyter.widget-view+json": {
       "model_id": "9ea8f4855e154ad2aaca821a6a514b19",
       "version_major": 2,
       "version_minor": 0
      },
      "text/plain": [
       "train batches:   0%|          | 0/52 [00:00<?, ?it/s]"
      ]
     },
     "metadata": {},
     "output_type": "display_data"
    },
    {
     "data": {
      "application/vnd.jupyter.widget-view+json": {
       "model_id": "ea1d14672b2446afb50754fcdc4b3cb6",
       "version_major": 2,
       "version_minor": 0
      },
      "text/plain": [
       "val batches:   0%|          | 0/8 [00:00<?, ?it/s]"
      ]
     },
     "metadata": {},
     "output_type": "display_data"
    },
    {
     "name": "stdout",
     "output_type": "stream",
     "text": [
      "Epoch 44/1000, Training Loss: 0.006914, Validation Loss: 0.022951\n"
     ]
    },
    {
     "data": {
      "application/vnd.jupyter.widget-view+json": {
       "model_id": "44b7bd27f69a46bfb087eeb3174e44fb",
       "version_major": 2,
       "version_minor": 0
      },
      "text/plain": [
       "train batches:   0%|          | 0/52 [00:00<?, ?it/s]"
      ]
     },
     "metadata": {},
     "output_type": "display_data"
    },
    {
     "data": {
      "application/vnd.jupyter.widget-view+json": {
       "model_id": "e6e601a9e49243248724da9edc1e12c8",
       "version_major": 2,
       "version_minor": 0
      },
      "text/plain": [
       "val batches:   0%|          | 0/8 [00:00<?, ?it/s]"
      ]
     },
     "metadata": {},
     "output_type": "display_data"
    },
    {
     "name": "stdout",
     "output_type": "stream",
     "text": [
      "Epoch 45/1000, Training Loss: 0.007044, Validation Loss: 0.026118\n"
     ]
    },
    {
     "data": {
      "application/vnd.jupyter.widget-view+json": {
       "model_id": "312cbb3c5a3f483588764473db920f4a",
       "version_major": 2,
       "version_minor": 0
      },
      "text/plain": [
       "train batches:   0%|          | 0/52 [00:00<?, ?it/s]"
      ]
     },
     "metadata": {},
     "output_type": "display_data"
    },
    {
     "data": {
      "application/vnd.jupyter.widget-view+json": {
       "model_id": "966ab6fa07294e93b9cba332536149f2",
       "version_major": 2,
       "version_minor": 0
      },
      "text/plain": [
       "val batches:   0%|          | 0/8 [00:00<?, ?it/s]"
      ]
     },
     "metadata": {},
     "output_type": "display_data"
    },
    {
     "name": "stdout",
     "output_type": "stream",
     "text": [
      "Epoch 46/1000, Training Loss: 0.007203, Validation Loss: 0.022431\n"
     ]
    },
    {
     "data": {
      "application/vnd.jupyter.widget-view+json": {
       "model_id": "0f206521079e46c199bb1ab3568f709c",
       "version_major": 2,
       "version_minor": 0
      },
      "text/plain": [
       "train batches:   0%|          | 0/52 [00:00<?, ?it/s]"
      ]
     },
     "metadata": {},
     "output_type": "display_data"
    },
    {
     "data": {
      "application/vnd.jupyter.widget-view+json": {
       "model_id": "3950d7b5353b4adab3b26070cbbc8aa1",
       "version_major": 2,
       "version_minor": 0
      },
      "text/plain": [
       "val batches:   0%|          | 0/8 [00:00<?, ?it/s]"
      ]
     },
     "metadata": {},
     "output_type": "display_data"
    },
    {
     "name": "stdout",
     "output_type": "stream",
     "text": [
      "Epoch 47/1000, Training Loss: 0.008788, Validation Loss: 0.021496\n"
     ]
    },
    {
     "data": {
      "application/vnd.jupyter.widget-view+json": {
       "model_id": "f17975c988f146f4be26fa2a626215e5",
       "version_major": 2,
       "version_minor": 0
      },
      "text/plain": [
       "train batches:   0%|          | 0/52 [00:00<?, ?it/s]"
      ]
     },
     "metadata": {},
     "output_type": "display_data"
    },
    {
     "data": {
      "application/vnd.jupyter.widget-view+json": {
       "model_id": "0812a06025e042a68bd231c3a4849fb9",
       "version_major": 2,
       "version_minor": 0
      },
      "text/plain": [
       "val batches:   0%|          | 0/8 [00:00<?, ?it/s]"
      ]
     },
     "metadata": {},
     "output_type": "display_data"
    },
    {
     "name": "stdout",
     "output_type": "stream",
     "text": [
      "Epoch 48/1000, Training Loss: 0.006164, Validation Loss: 0.021021\n"
     ]
    },
    {
     "data": {
      "application/vnd.jupyter.widget-view+json": {
       "model_id": "bd9d0918edf64b618619d1799ca511c9",
       "version_major": 2,
       "version_minor": 0
      },
      "text/plain": [
       "train batches:   0%|          | 0/52 [00:00<?, ?it/s]"
      ]
     },
     "metadata": {},
     "output_type": "display_data"
    },
    {
     "data": {
      "application/vnd.jupyter.widget-view+json": {
       "model_id": "a9b656b68a364904833d072db3279a63",
       "version_major": 2,
       "version_minor": 0
      },
      "text/plain": [
       "val batches:   0%|          | 0/8 [00:00<?, ?it/s]"
      ]
     },
     "metadata": {},
     "output_type": "display_data"
    },
    {
     "name": "stdout",
     "output_type": "stream",
     "text": [
      "Epoch 49/1000, Training Loss: 0.007642, Validation Loss: 0.054892\n"
     ]
    },
    {
     "data": {
      "application/vnd.jupyter.widget-view+json": {
       "model_id": "58b68670ecbf457a8838b690bf6fd466",
       "version_major": 2,
       "version_minor": 0
      },
      "text/plain": [
       "train batches:   0%|          | 0/52 [00:00<?, ?it/s]"
      ]
     },
     "metadata": {},
     "output_type": "display_data"
    },
    {
     "data": {
      "application/vnd.jupyter.widget-view+json": {
       "model_id": "d45b7dfad1154b099378f66c95fdf7b5",
       "version_major": 2,
       "version_minor": 0
      },
      "text/plain": [
       "val batches:   0%|          | 0/8 [00:00<?, ?it/s]"
      ]
     },
     "metadata": {},
     "output_type": "display_data"
    },
    {
     "name": "stdout",
     "output_type": "stream",
     "text": [
      "Epoch 50/1000, Training Loss: 0.007003, Validation Loss: 0.024634\n"
     ]
    },
    {
     "data": {
      "application/vnd.jupyter.widget-view+json": {
       "model_id": "fa40ee997edf4c0284f90b96a859a271",
       "version_major": 2,
       "version_minor": 0
      },
      "text/plain": [
       "train batches:   0%|          | 0/52 [00:00<?, ?it/s]"
      ]
     },
     "metadata": {},
     "output_type": "display_data"
    },
    {
     "data": {
      "application/vnd.jupyter.widget-view+json": {
       "model_id": "c09756e955a5433ba6af960a80bacf0d",
       "version_major": 2,
       "version_minor": 0
      },
      "text/plain": [
       "val batches:   0%|          | 0/8 [00:00<?, ?it/s]"
      ]
     },
     "metadata": {},
     "output_type": "display_data"
    },
    {
     "name": "stdout",
     "output_type": "stream",
     "text": [
      "Epoch 51/1000, Training Loss: 0.006771, Validation Loss: 0.034246\n"
     ]
    },
    {
     "data": {
      "application/vnd.jupyter.widget-view+json": {
       "model_id": "f2feb78d19a64a50b78ed049eee605ae",
       "version_major": 2,
       "version_minor": 0
      },
      "text/plain": [
       "train batches:   0%|          | 0/52 [00:00<?, ?it/s]"
      ]
     },
     "metadata": {},
     "output_type": "display_data"
    },
    {
     "data": {
      "application/vnd.jupyter.widget-view+json": {
       "model_id": "dab42e526dee41de9953f848f01bac4d",
       "version_major": 2,
       "version_minor": 0
      },
      "text/plain": [
       "val batches:   0%|          | 0/8 [00:00<?, ?it/s]"
      ]
     },
     "metadata": {},
     "output_type": "display_data"
    },
    {
     "name": "stdout",
     "output_type": "stream",
     "text": [
      "Epoch 52/1000, Training Loss: 0.011099, Validation Loss: 0.044804\n"
     ]
    },
    {
     "data": {
      "application/vnd.jupyter.widget-view+json": {
       "model_id": "a75675c5801c4d50840b38ec8df4d067",
       "version_major": 2,
       "version_minor": 0
      },
      "text/plain": [
       "train batches:   0%|          | 0/52 [00:00<?, ?it/s]"
      ]
     },
     "metadata": {},
     "output_type": "display_data"
    },
    {
     "data": {
      "application/vnd.jupyter.widget-view+json": {
       "model_id": "9d7a7771c37e403bb8f839ae14abfc60",
       "version_major": 2,
       "version_minor": 0
      },
      "text/plain": [
       "val batches:   0%|          | 0/8 [00:00<?, ?it/s]"
      ]
     },
     "metadata": {},
     "output_type": "display_data"
    },
    {
     "name": "stdout",
     "output_type": "stream",
     "text": [
      "Epoch 53/1000, Training Loss: 0.010147, Validation Loss: 0.046870\n"
     ]
    },
    {
     "data": {
      "application/vnd.jupyter.widget-view+json": {
       "model_id": "f4d82248a48e4d5c81e618166ff0b2b2",
       "version_major": 2,
       "version_minor": 0
      },
      "text/plain": [
       "train batches:   0%|          | 0/52 [00:00<?, ?it/s]"
      ]
     },
     "metadata": {},
     "output_type": "display_data"
    },
    {
     "data": {
      "application/vnd.jupyter.widget-view+json": {
       "model_id": "9f7fef2e810a46588e4e5077851a259f",
       "version_major": 2,
       "version_minor": 0
      },
      "text/plain": [
       "val batches:   0%|          | 0/8 [00:00<?, ?it/s]"
      ]
     },
     "metadata": {},
     "output_type": "display_data"
    },
    {
     "name": "stdout",
     "output_type": "stream",
     "text": [
      "Epoch 54/1000, Training Loss: 0.004947, Validation Loss: 0.061156\n"
     ]
    },
    {
     "data": {
      "application/vnd.jupyter.widget-view+json": {
       "model_id": "dbab7fa17e9c4dcabac4666f4a673130",
       "version_major": 2,
       "version_minor": 0
      },
      "text/plain": [
       "train batches:   0%|          | 0/52 [00:00<?, ?it/s]"
      ]
     },
     "metadata": {},
     "output_type": "display_data"
    },
    {
     "data": {
      "application/vnd.jupyter.widget-view+json": {
       "model_id": "56b48e408c0043149ee62e35d174c288",
       "version_major": 2,
       "version_minor": 0
      },
      "text/plain": [
       "val batches:   0%|          | 0/8 [00:00<?, ?it/s]"
      ]
     },
     "metadata": {},
     "output_type": "display_data"
    },
    {
     "name": "stdout",
     "output_type": "stream",
     "text": [
      "Epoch 55/1000, Training Loss: 0.006594, Validation Loss: 0.048706\n"
     ]
    },
    {
     "data": {
      "application/vnd.jupyter.widget-view+json": {
       "model_id": "74f41fa762f5499fbf173b88bc169628",
       "version_major": 2,
       "version_minor": 0
      },
      "text/plain": [
       "train batches:   0%|          | 0/52 [00:00<?, ?it/s]"
      ]
     },
     "metadata": {},
     "output_type": "display_data"
    },
    {
     "data": {
      "application/vnd.jupyter.widget-view+json": {
       "model_id": "a74de88ec18741bcac87abbe23170601",
       "version_major": 2,
       "version_minor": 0
      },
      "text/plain": [
       "val batches:   0%|          | 0/8 [00:00<?, ?it/s]"
      ]
     },
     "metadata": {},
     "output_type": "display_data"
    },
    {
     "name": "stdout",
     "output_type": "stream",
     "text": [
      "Epoch 56/1000, Training Loss: 0.010861, Validation Loss: 0.051753\n"
     ]
    },
    {
     "data": {
      "application/vnd.jupyter.widget-view+json": {
       "model_id": "bc733188cedc4edabb48c3626466ae15",
       "version_major": 2,
       "version_minor": 0
      },
      "text/plain": [
       "train batches:   0%|          | 0/52 [00:00<?, ?it/s]"
      ]
     },
     "metadata": {},
     "output_type": "display_data"
    },
    {
     "data": {
      "application/vnd.jupyter.widget-view+json": {
       "model_id": "1005104f3ec743c19635ed1985365a5c",
       "version_major": 2,
       "version_minor": 0
      },
      "text/plain": [
       "val batches:   0%|          | 0/8 [00:00<?, ?it/s]"
      ]
     },
     "metadata": {},
     "output_type": "display_data"
    },
    {
     "name": "stdout",
     "output_type": "stream",
     "text": [
      "Epoch 57/1000, Training Loss: 0.006731, Validation Loss: 0.039540\n"
     ]
    },
    {
     "data": {
      "application/vnd.jupyter.widget-view+json": {
       "model_id": "26638368b3d64c259cf94b418450d618",
       "version_major": 2,
       "version_minor": 0
      },
      "text/plain": [
       "train batches:   0%|          | 0/52 [00:00<?, ?it/s]"
      ]
     },
     "metadata": {},
     "output_type": "display_data"
    },
    {
     "data": {
      "application/vnd.jupyter.widget-view+json": {
       "model_id": "439d617343354cde9ae9b73e9799968f",
       "version_major": 2,
       "version_minor": 0
      },
      "text/plain": [
       "val batches:   0%|          | 0/8 [00:00<?, ?it/s]"
      ]
     },
     "metadata": {},
     "output_type": "display_data"
    },
    {
     "name": "stdout",
     "output_type": "stream",
     "text": [
      "Epoch 58/1000, Training Loss: 0.005761, Validation Loss: 0.041109\n"
     ]
    },
    {
     "data": {
      "application/vnd.jupyter.widget-view+json": {
       "model_id": "9aca365f90e2450abd58c5d1a4e66196",
       "version_major": 2,
       "version_minor": 0
      },
      "text/plain": [
       "train batches:   0%|          | 0/52 [00:00<?, ?it/s]"
      ]
     },
     "metadata": {},
     "output_type": "display_data"
    },
    {
     "data": {
      "application/vnd.jupyter.widget-view+json": {
       "model_id": "37a84c3a6ed740b887edac89de740232",
       "version_major": 2,
       "version_minor": 0
      },
      "text/plain": [
       "val batches:   0%|          | 0/8 [00:00<?, ?it/s]"
      ]
     },
     "metadata": {},
     "output_type": "display_data"
    },
    {
     "name": "stdout",
     "output_type": "stream",
     "text": [
      "Epoch 59/1000, Training Loss: 0.007935, Validation Loss: 0.035217\n"
     ]
    },
    {
     "data": {
      "application/vnd.jupyter.widget-view+json": {
       "model_id": "d2ab06bc16fd4816b9ec3468255456af",
       "version_major": 2,
       "version_minor": 0
      },
      "text/plain": [
       "train batches:   0%|          | 0/52 [00:00<?, ?it/s]"
      ]
     },
     "metadata": {},
     "output_type": "display_data"
    },
    {
     "data": {
      "application/vnd.jupyter.widget-view+json": {
       "model_id": "951d52537dde4183be83c995e49da702",
       "version_major": 2,
       "version_minor": 0
      },
      "text/plain": [
       "val batches:   0%|          | 0/8 [00:00<?, ?it/s]"
      ]
     },
     "metadata": {},
     "output_type": "display_data"
    },
    {
     "name": "stdout",
     "output_type": "stream",
     "text": [
      "Epoch 60/1000, Training Loss: 0.005513, Validation Loss: 0.043542\n"
     ]
    },
    {
     "data": {
      "application/vnd.jupyter.widget-view+json": {
       "model_id": "5c4d63af0afc45a182a7e67323799892",
       "version_major": 2,
       "version_minor": 0
      },
      "text/plain": [
       "train batches:   0%|          | 0/52 [00:00<?, ?it/s]"
      ]
     },
     "metadata": {},
     "output_type": "display_data"
    },
    {
     "data": {
      "application/vnd.jupyter.widget-view+json": {
       "model_id": "bed04a17ae6948b29537fcd4a21287e4",
       "version_major": 2,
       "version_minor": 0
      },
      "text/plain": [
       "val batches:   0%|          | 0/8 [00:00<?, ?it/s]"
      ]
     },
     "metadata": {},
     "output_type": "display_data"
    },
    {
     "name": "stdout",
     "output_type": "stream",
     "text": [
      "Epoch 61/1000, Training Loss: 0.007249, Validation Loss: 0.033832\n"
     ]
    },
    {
     "data": {
      "application/vnd.jupyter.widget-view+json": {
       "model_id": "d4ac1cf5256b44ce8c6af79bfa90e283",
       "version_major": 2,
       "version_minor": 0
      },
      "text/plain": [
       "train batches:   0%|          | 0/52 [00:00<?, ?it/s]"
      ]
     },
     "metadata": {},
     "output_type": "display_data"
    },
    {
     "data": {
      "application/vnd.jupyter.widget-view+json": {
       "model_id": "fa7e10a7517a41298a5fb3a2a57dbc44",
       "version_major": 2,
       "version_minor": 0
      },
      "text/plain": [
       "val batches:   0%|          | 0/8 [00:00<?, ?it/s]"
      ]
     },
     "metadata": {},
     "output_type": "display_data"
    },
    {
     "name": "stdout",
     "output_type": "stream",
     "text": [
      "Epoch 62/1000, Training Loss: 0.005575, Validation Loss: 0.030093\n"
     ]
    },
    {
     "data": {
      "application/vnd.jupyter.widget-view+json": {
       "model_id": "fdcda149a0ba4e38be9f51a80e4f8746",
       "version_major": 2,
       "version_minor": 0
      },
      "text/plain": [
       "train batches:   0%|          | 0/52 [00:00<?, ?it/s]"
      ]
     },
     "metadata": {},
     "output_type": "display_data"
    },
    {
     "data": {
      "application/vnd.jupyter.widget-view+json": {
       "model_id": "9eba2ed30f6c40c2932acdd61a3b556e",
       "version_major": 2,
       "version_minor": 0
      },
      "text/plain": [
       "val batches:   0%|          | 0/8 [00:00<?, ?it/s]"
      ]
     },
     "metadata": {},
     "output_type": "display_data"
    },
    {
     "name": "stdout",
     "output_type": "stream",
     "text": [
      "Epoch 63/1000, Training Loss: 0.005079, Validation Loss: 0.032330\n"
     ]
    },
    {
     "data": {
      "application/vnd.jupyter.widget-view+json": {
       "model_id": "e5f9cef07a964d528a546feac4cb0216",
       "version_major": 2,
       "version_minor": 0
      },
      "text/plain": [
       "train batches:   0%|          | 0/52 [00:00<?, ?it/s]"
      ]
     },
     "metadata": {},
     "output_type": "display_data"
    },
    {
     "data": {
      "application/vnd.jupyter.widget-view+json": {
       "model_id": "4bfed82a500341d9a461de2fcda648da",
       "version_major": 2,
       "version_minor": 0
      },
      "text/plain": [
       "val batches:   0%|          | 0/8 [00:00<?, ?it/s]"
      ]
     },
     "metadata": {},
     "output_type": "display_data"
    },
    {
     "name": "stdout",
     "output_type": "stream",
     "text": [
      "Epoch 64/1000, Training Loss: 0.009311, Validation Loss: 0.025341\n"
     ]
    },
    {
     "data": {
      "application/vnd.jupyter.widget-view+json": {
       "model_id": "ee2b35c00376468d970fadfeeb08103e",
       "version_major": 2,
       "version_minor": 0
      },
      "text/plain": [
       "train batches:   0%|          | 0/52 [00:00<?, ?it/s]"
      ]
     },
     "metadata": {},
     "output_type": "display_data"
    },
    {
     "data": {
      "application/vnd.jupyter.widget-view+json": {
       "model_id": "1ab919a89c9a429da62528b48095aaf4",
       "version_major": 2,
       "version_minor": 0
      },
      "text/plain": [
       "val batches:   0%|          | 0/8 [00:00<?, ?it/s]"
      ]
     },
     "metadata": {},
     "output_type": "display_data"
    },
    {
     "name": "stdout",
     "output_type": "stream",
     "text": [
      "Epoch 65/1000, Training Loss: 0.005102, Validation Loss: 0.021073\n"
     ]
    },
    {
     "data": {
      "application/vnd.jupyter.widget-view+json": {
       "model_id": "64c398e7b8204e0b846ae05629aa3a75",
       "version_major": 2,
       "version_minor": 0
      },
      "text/plain": [
       "train batches:   0%|          | 0/52 [00:00<?, ?it/s]"
      ]
     },
     "metadata": {},
     "output_type": "display_data"
    },
    {
     "data": {
      "application/vnd.jupyter.widget-view+json": {
       "model_id": "48f0960774b4402cb8ceea343e5228e3",
       "version_major": 2,
       "version_minor": 0
      },
      "text/plain": [
       "val batches:   0%|          | 0/8 [00:00<?, ?it/s]"
      ]
     },
     "metadata": {},
     "output_type": "display_data"
    },
    {
     "name": "stdout",
     "output_type": "stream",
     "text": [
      "Epoch 66/1000, Training Loss: 0.004375, Validation Loss: 0.019965\n"
     ]
    },
    {
     "data": {
      "application/vnd.jupyter.widget-view+json": {
       "model_id": "48f46e296ee445d3b831b26b2ce6bcb6",
       "version_major": 2,
       "version_minor": 0
      },
      "text/plain": [
       "train batches:   0%|          | 0/52 [00:00<?, ?it/s]"
      ]
     },
     "metadata": {},
     "output_type": "display_data"
    },
    {
     "data": {
      "application/vnd.jupyter.widget-view+json": {
       "model_id": "503a1db1289046d5b1f278b9de48fb88",
       "version_major": 2,
       "version_minor": 0
      },
      "text/plain": [
       "val batches:   0%|          | 0/8 [00:00<?, ?it/s]"
      ]
     },
     "metadata": {},
     "output_type": "display_data"
    },
    {
     "name": "stdout",
     "output_type": "stream",
     "text": [
      "Epoch 67/1000, Training Loss: 0.006409, Validation Loss: 0.034330\n"
     ]
    },
    {
     "data": {
      "application/vnd.jupyter.widget-view+json": {
       "model_id": "ea677d3c90e341ceb886cefbedd8a5cc",
       "version_major": 2,
       "version_minor": 0
      },
      "text/plain": [
       "train batches:   0%|          | 0/52 [00:00<?, ?it/s]"
      ]
     },
     "metadata": {},
     "output_type": "display_data"
    },
    {
     "data": {
      "application/vnd.jupyter.widget-view+json": {
       "model_id": "0bd037534af44b128dd73a9ccf47dca2",
       "version_major": 2,
       "version_minor": 0
      },
      "text/plain": [
       "val batches:   0%|          | 0/8 [00:00<?, ?it/s]"
      ]
     },
     "metadata": {},
     "output_type": "display_data"
    },
    {
     "name": "stdout",
     "output_type": "stream",
     "text": [
      "Epoch 68/1000, Training Loss: 0.005048, Validation Loss: 0.021506\n"
     ]
    },
    {
     "data": {
      "application/vnd.jupyter.widget-view+json": {
       "model_id": "0364645ebe904610bc344d36eb3a973e",
       "version_major": 2,
       "version_minor": 0
      },
      "text/plain": [
       "train batches:   0%|          | 0/52 [00:00<?, ?it/s]"
      ]
     },
     "metadata": {},
     "output_type": "display_data"
    },
    {
     "data": {
      "application/vnd.jupyter.widget-view+json": {
       "model_id": "690b34e5d0b347ddb886e5f0fa8405c7",
       "version_major": 2,
       "version_minor": 0
      },
      "text/plain": [
       "val batches:   0%|          | 0/8 [00:00<?, ?it/s]"
      ]
     },
     "metadata": {},
     "output_type": "display_data"
    },
    {
     "name": "stdout",
     "output_type": "stream",
     "text": [
      "Epoch 69/1000, Training Loss: 0.004237, Validation Loss: 0.023959\n"
     ]
    },
    {
     "data": {
      "application/vnd.jupyter.widget-view+json": {
       "model_id": "2b8e9475e9a441c989cb4e0c8e98a61e",
       "version_major": 2,
       "version_minor": 0
      },
      "text/plain": [
       "train batches:   0%|          | 0/52 [00:00<?, ?it/s]"
      ]
     },
     "metadata": {},
     "output_type": "display_data"
    },
    {
     "data": {
      "application/vnd.jupyter.widget-view+json": {
       "model_id": "07f4fbb62fdd410e8bb5c9e39f80495d",
       "version_major": 2,
       "version_minor": 0
      },
      "text/plain": [
       "val batches:   0%|          | 0/8 [00:00<?, ?it/s]"
      ]
     },
     "metadata": {},
     "output_type": "display_data"
    },
    {
     "name": "stdout",
     "output_type": "stream",
     "text": [
      "Epoch 70/1000, Training Loss: 0.013821, Validation Loss: 0.030086\n"
     ]
    },
    {
     "data": {
      "application/vnd.jupyter.widget-view+json": {
       "model_id": "773efc6b163e4443a615cd7e5d5edea5",
       "version_major": 2,
       "version_minor": 0
      },
      "text/plain": [
       "train batches:   0%|          | 0/52 [00:00<?, ?it/s]"
      ]
     },
     "metadata": {},
     "output_type": "display_data"
    },
    {
     "data": {
      "application/vnd.jupyter.widget-view+json": {
       "model_id": "e4351b21a73a45cf97bd65a73dd89e9e",
       "version_major": 2,
       "version_minor": 0
      },
      "text/plain": [
       "val batches:   0%|          | 0/8 [00:00<?, ?it/s]"
      ]
     },
     "metadata": {},
     "output_type": "display_data"
    },
    {
     "name": "stdout",
     "output_type": "stream",
     "text": [
      "Epoch 71/1000, Training Loss: 0.005460, Validation Loss: 0.022274\n"
     ]
    },
    {
     "data": {
      "application/vnd.jupyter.widget-view+json": {
       "model_id": "ae5d664c46164e80976aca9d1fa07725",
       "version_major": 2,
       "version_minor": 0
      },
      "text/plain": [
       "train batches:   0%|          | 0/52 [00:00<?, ?it/s]"
      ]
     },
     "metadata": {},
     "output_type": "display_data"
    },
    {
     "data": {
      "application/vnd.jupyter.widget-view+json": {
       "model_id": "061c34c0994e40b1845829e4280aee83",
       "version_major": 2,
       "version_minor": 0
      },
      "text/plain": [
       "val batches:   0%|          | 0/8 [00:00<?, ?it/s]"
      ]
     },
     "metadata": {},
     "output_type": "display_data"
    },
    {
     "name": "stdout",
     "output_type": "stream",
     "text": [
      "Epoch 72/1000, Training Loss: 0.003429, Validation Loss: 0.021836\n",
      "Done!\n"
     ]
    }
   ],
   "source": [
    "# model = create_model()\n",
    "# model.summary()\n",
    "\n",
    "# # Training data\n",
    "# X_train, y_train = trainX,trainY\n",
    "# ###############################################################################\n",
    "# # Validation data\n",
    "# X_val, y_val = testX,testY\n",
    "# ###############################################################################\n",
    "# # Test data\n",
    "# X_test, y_test = testX_a,testY_a\n",
    "# callback = tf.keras.callbacks.ModelCheckpoint('Transformer_5min.hdf5',\n",
    "#                                                       monitor='val_loss',\n",
    "#                                                       save_best_only=True,\n",
    "#                                                       verbose=1)\n",
    "# with tf.device(\"/gpu:0\"):\n",
    "#     history = model.fit(X_train, y_train,\n",
    "#                             batch_size=batch_size,\n",
    "# #                             epochs=50,\n",
    "#                             epochs=1,\n",
    "#                             validation_data=(X_val, y_val),\n",
    "#                             callbacks=[callback])\n",
    "\n",
    "# model = tf.keras.models.load_model('Transformer_5min.hdf5',\n",
    "#                                            custom_objects={'Time2Vector': Time2Vector,\n",
    "#                                                            'SingleAttention': SingleAttention,\n",
    "#                                                            'MultiAttention': MultiAttention,\n",
    "#                                                            'TransformerEncoder': TransformerEncoder,\n",
    "#                                                            'TransformerDecoder': TransformerDecoder}\n",
    "#                                            )\n",
    "\n",
    "import torch\n",
    "import torch.nn as nn\n",
    "import torch.optim as optim\n",
    "from torch.utils.data import TensorDataset, DataLoader\n",
    "from sklearn.model_selection import train_test_split\n",
    "import numpy as np\n",
    "\n",
    "torch.manual_seed(42)\n",
    "\n",
    "# Create PyTorch model\n",
    "model = TransformerBBSparse(seq_len = param_dset_lookback,\n",
    "                          # out_seq_len = param_dset_forecast,\n",
    "                          out_seq_len = param_dset_forecast,\n",
    "                          inp_dim = inp_len,\n",
    "                          emb_dim = emb_dim,\n",
    "                          n_heads = n_heads,\n",
    "                          n_enc_layers = enc_layer,\n",
    "                          n_dec_layers = dec_layer,\n",
    "                          block_size=param_trf_bksz,\n",
    "                          ffdim = ff_dim)\n",
    "\n",
    "# Print model summary\n",
    "# print(model)\n",
    "def num_parameters(m):\n",
    "    return sum([p.numel() for p in m.parameters()])\n",
    "\n",
    "parameters = num_parameters(model)\n",
    "\n",
    "# print(f\"Expected number of parameters: {m * dk * dk + m * 1 * 1 * n}\")\n",
    "print(f\"Actual number of model parameters: {parameters}\")\n",
    "\n",
    "trainable_params = sum(\n",
    "    p.numel() for p in model.parameters() if p.requires_grad\n",
    ")\n",
    "print(f\"Trainable model parameters: {trainable_params}\" )\n",
    "\n",
    "# total_params = 0\n",
    "# for name, parameter in model.named_parameters():\n",
    "#     if not parameter.requires_grad:\n",
    "#         continue\n",
    "#     params = parameter.numel()\n",
    "#     print(f\"{name}, {params}\")\n",
    "#     total_params+=params\n",
    "# print(f\"Total Trainable Params: {total_params}\")\n",
    "\n",
    "\n",
    "# Convert data to PyTorch tensors\n",
    "X_train, y_train = torch.tensor(trainX), torch.tensor(trainY)\n",
    "X_val, y_val = torch.tensor(valX), torch.tensor(valY)\n",
    "X_test, y_test = torch.tensor(testX), torch.tensor(testY)\n",
    "\n",
    "# Create DataLoader for training and validation data\n",
    "train_dataset = TensorDataset(X_train, y_train)\n",
    "# train_loader = DataLoader(train_dataset, batch_size=batch_size, shuffle=True)\n",
    "train_loader = DataLoader(train_dataset, batch_size=batch_size)\n",
    "\n",
    "val_dataset = TensorDataset(X_val, y_val)\n",
    "val_loader = DataLoader(val_dataset, batch_size=batch_size)\n",
    "\n",
    "test_dataset = TensorDataset(X_test, y_test)\n",
    "test_loader = DataLoader(test_dataset, batch_size=batch_size)\n",
    "\n",
    "# Optimizer and loss function\n",
    "optimizer = optim.RMSprop(model.parameters(), lr=0.001, eps=1e-07)\n",
    "# optimizer = optim.Adam(model.parameters())\n",
    "# optimizer = optim.SGD(model.parameters(), lr=0.001, momentum=0.9)\n",
    "criterion = nn.MSELoss()\n",
    "\n",
    "# Training loop\n",
    "num_epochs = 1000  # Replace with your desired number of epochs\n",
    "device = torch.device(\"cuda\" if torch.cuda.is_available() else \"cpu\")\n",
    "print(device)\n",
    "model.to(device)\n",
    "\n",
    "for epoch in tqdm(range(num_epochs), total= num_epochs, desc=\"epochs\", position=0, leave=True):\n",
    "    model.train()\n",
    "    train_loss = 0.0\n",
    "    for inputs, targets in tqdm(train_loader, total=len(train_loader), desc=\"train batches\", position=1, leave=True):\n",
    "        inputs, targets = inputs.to(device).nan_to_num(), targets.to(device)\n",
    "        optimizer.zero_grad()\n",
    "        outputs = model(inputs)\n",
    "\n",
    "        # print(\"inputs: \", inputs.shape)\n",
    "        # print(\"targets: \", targets.shape)\n",
    "        # print(\"outputs: \", outputs.shape)\n",
    "        loss = nn.MSELoss(reduction='mean')(outputs[~targets.isnan()], targets[~targets.isnan()])\n",
    "\n",
    "#         loss = criterion(outputs, targets)\n",
    "        loss.backward()\n",
    "        optimizer.step()\n",
    "\n",
    "#         for p in model.parameters():\n",
    "#             print(p.grad.norm())\n",
    "\n",
    "        train_loss += loss.item()\n",
    "\n",
    "    train_loss /= len(train_loader)\n",
    "\n",
    "    model.eval()\n",
    "    val_loss = 0.0\n",
    "    with torch.no_grad():\n",
    "        for inputs, targets in tqdm(val_loader, total=len(val_loader), desc=\"val batches\", position=2, leave=True):\n",
    "            inputs, targets = inputs.to(device).nan_to_num(), targets.to(device)\n",
    "            outputs = model(inputs)\n",
    "            val_loss += criterion(outputs, targets).item()\n",
    "\n",
    "    val_loss /= len(val_loader)\n",
    "    print(f'Epoch {epoch + 1}/{num_epochs}, Training Loss: {train_loss:.6f}, Validation Loss: {val_loss:.6f}')\n",
    "\n",
    "    saveBestModel(val_loss, epoch, model)\n",
    "\n",
    "    # Early stopping with patience\n",
    "    if early_stopper.early_stop(val_loss):\n",
    "        print(\"Done!\")\n",
    "        break\n"
   ]
  },
  {
   "cell_type": "code",
   "execution_count": 34,
   "id": "bff4271e",
   "metadata": {
    "id": "bff4271e",
    "scrolled": true
   },
   "outputs": [
    {
     "name": "stdout",
     "output_type": "stream",
     "text": [
      "(471, 816, 6)\n"
     ]
    },
    {
     "data": {
      "application/vnd.jupyter.widget-view+json": {
       "model_id": "8b0ed56513bb4d8899b364057b8dd71e",
       "version_major": 2,
       "version_minor": 0
      },
      "text/plain": [
       "test batch:   0%|          | 0/8 [00:00<?, ?it/s]"
      ]
     },
     "metadata": {},
     "output_type": "display_data"
    },
    {
     "name": "stdout",
     "output_type": "stream",
     "text": [
      "Test Loss: 0.0188\n"
     ]
    }
   ],
   "source": [
    "# Load the PyTorch model\n",
    "loaded_model = TransformerBBSparse(seq_len = param_dset_lookback,\n",
    "                          # out_seq_len = param_dset_forecast,\n",
    "                          out_seq_len = param_dset_forecast,\n",
    "                          inp_dim = inp_len,\n",
    "                          emb_dim = emb_dim,\n",
    "                          n_heads = n_heads,\n",
    "                          n_enc_layers = enc_layer,\n",
    "                          n_dec_layers = dec_layer,\n",
    "                          block_size=param_trf_bksz,\n",
    "                          ffdim = ff_dim)\n",
    "\n",
    "loaded_model.load_state_dict(torch.load('transformer_5min.pth'))\n",
    "loaded_model.to(device)\n",
    "loaded_model.eval()\n",
    "\n",
    "# Use the whole signal (both train and validation data)\n",
    "# The metrics are computed only using the validation part.\n",
    "# This is needed for the signal processing\n",
    "print(testX.shape)\n",
    "\n",
    "# Testing the model on the test dataset\n",
    "test_outputs = []\n",
    "test_loss = 0.0\n",
    "with torch.no_grad():\n",
    "    for inputs, targets in tqdm(test_loader, total=len(test_loader), desc=\"test batch\"):\n",
    "        inputs, targets = inputs.to(device).nan_to_num(), targets.to(device)\n",
    "        outputs = loaded_model(inputs)\n",
    "        test_outputs.append(outputs.cpu().numpy())  # Collect the outputs\n",
    "\n",
    "        loss = nn.MSELoss(reduction='mean')(outputs[~targets.isnan()], targets[~targets.isnan()])\n",
    "        test_loss += loss\n",
    "#         test_loss += criterion(outputs, targets).item()\n",
    "\n",
    "testPredict_a = np.concatenate(test_outputs, axis=0)  # Concatenate outputs into a single numpy array\n",
    "test_loss /= len(test_loader)\n",
    "print(f'Test Loss: {test_loss:.4f}')\n",
    "\n",
    "# # Result from test\n",
    "# testPredict_a = np.transpose(testPredict_a, (0, 2, 1))\n",
    "# print(testPredict_a.shape)\n",
    "\n",
    "# testX_original = np.transpose(testX, (0, 2, 1))\n",
    "# print(testX_original.shape)\n",
    "\n",
    "# test_cat = np.concatenate((testX_original, testPredict_a), axis=2)\n",
    "# print(test_cat.shape)"
   ]
  },
  {
   "cell_type": "code",
   "execution_count": 35,
   "id": "602a4a58",
   "metadata": {
    "id": "602a4a58"
   },
   "outputs": [],
   "source": [
    "\n",
    "# D = test_cat.reshape(test_cat.shape[0],test_cat.shape[1]*test_cat.shape[2])\n",
    "# print(D.shape)\n",
    "\n",
    "# R = D.reshape(test_cat.shape[0],lev,2,test_cat.shape[2])\n",
    "# print(R.shape)\n",
    "\n",
    "# R = data_organization(R)\n",
    "\n",
    "# # print(R)\n",
    "\n",
    "# re=data_reconstruction(R)\n",
    "# Re = np.array(re)\n",
    "# print(Re.shape)\n",
    "\n",
    "\n",
    "# # Re = np.nan_to_num(Re)\n",
    "# Re = torch.from_numpy(Re)"
   ]
  },
  {
   "cell_type": "code",
   "execution_count": 43,
   "id": "004014ed",
   "metadata": {
    "id": "004014ed"
   },
   "outputs": [
    {
     "name": "stdout",
     "output_type": "stream",
     "text": [
      "torch.Size([471, 24])\n",
      "test truth:  torch.Size([471, 840])\n",
      "tensor(0.1353)\n"
     ]
    }
   ],
   "source": [
    "Re = testPredict_a.squeeze(-1)\n",
    "Re = torch.from_numpy(Re)\n",
    "print(Re.shape)\n",
    "\n",
    "test_set_squeeze = test_set.series.squeeze(-1)\n",
    "print(\"test truth: \", test_set_squeeze.shape)\n",
    "\n",
    "test_rmse = torch.nn.MSELoss(reduction='none')(test_set_squeeze[:,param_dset_lookback:], Re[:,:]).nanmean().sqrt_()\n",
    "print(test_rmse)"
   ]
  },
  {
   "cell_type": "code",
   "execution_count": 39,
   "id": "134a66ec",
   "metadata": {
    "id": "134a66ec"
   },
   "outputs": [],
   "source": [
    "from sklearn.preprocessing import MinMaxScaler,StandardScaler\n",
    "from sklearn.metrics import mean_squared_error,mean_absolute_error\n",
    "import matplotlib.pyplot as plt\n",
    "\n",
    "\n",
    "# test_set_squeeze = test_set.series.squeeze(-1)\n",
    "# print(\"test truth: \", test_set_squeeze.shape)\n",
    "\n",
    "# print(test_set_squeeze[:,param_dset_lookback:].shape)\n",
    "# print(Re[:,param_dset_lookback:].shape)\n",
    "\n",
    "\n",
    "# test_rmse = math.sqrt( mean_squared_error(test_set_squeeze[:,param_dset_lookback:], Re[:,param_dset_lookback:]))\n",
    "# # test_rmse = math.sqrt( mean_squared_error(test_compare, Re))\n",
    "\n",
    "# test_mae=mean_absolute_error(test_set_squeeze[:,param_dset_lookback:], Re[:,param_dset_lookback:])\n",
    "# # test_mae=mean_absolute_error(test_compare, Re)\n",
    "\n",
    "# # mape=100*np.mean(np.divide(abs(test_compare[:,1632:]- Re[:,1632:]),test_compare[:,1632:]))\n",
    "\n",
    "test_actual = test_set_squeeze[:,param_dset_lookback:]\n",
    "test_predict = Re[:,:]\n",
    "\n",
    "test_rmse = torch.nn.MSELoss(reduction='none')(test_actual, test_predict).nanmean().sqrt_()\n",
    "\n",
    "test_mae = (test_predict-test_actual).abs_().nanmean()\n",
    "\n",
    "mape = (2*(test_actual-test_predict).abs_() / (test_actual.abs() + test_predict.abs())).nanmean()"
   ]
  },
  {
   "cell_type": "code",
   "execution_count": 40,
   "id": "ed6df351",
   "metadata": {
    "id": "ed6df351"
   },
   "outputs": [
    {
     "name": "stdout",
     "output_type": "stream",
     "text": [
      "RMSE:  0.135260\n",
      "MAE:  0.107953\n",
      "MAPE:  0.297768\n"
     ]
    }
   ],
   "source": [
    "print('RMSE:  %.6f' % test_rmse)\n",
    "print('MAE:  %.6f' % test_mae)\n",
    "print('MAPE:  %.6f' % mape)"
   ]
  },
  {
   "cell_type": "code",
   "execution_count": 42,
   "id": "7ca1d17c",
   "metadata": {
    "id": "7ca1d17c"
   },
   "outputs": [
    {
     "data": {
      "image/png": "[encoded data removed]",
      "text/plain": [
       "<Figure size 640x480 with 1 Axes>"
      ]
     },
     "metadata": {},
     "output_type": "display_data"
    }
   ],
   "source": [
    "fig = plt.figure()\n",
    "# print(test_set_squeeze[:3,param_dset_lookback:])\n",
    "# print(Re[:3,param_dset_lookback:])\n",
    "plt.plot(test_set_squeeze[:1,param_dset_lookback:][0])\n",
    "plt.plot(Re[:1,:][0])\n",
    "plt.xlabel('Time/min')\n",
    "plt.ylabel('Electricity load (kWh)')\n",
    "plt.legend(['True', 'Predict'], loc='upper left')\n",
    "plt.show()\n"
   ]
  },
  {
   "cell_type": "code",
   "execution_count": null,
   "id": "e0eab824",
   "metadata": {
    "id": "e0eab824"
   },
   "outputs": [],
   "source": []
  }
 ],
 "metadata": {
  "accelerator": "GPU",
  "colab": {
   "gpuType": "T4",
   "provenance": []
  },
  "kernelspec": {
   "display_name": "swt_env",
   "language": "python",
   "name": "swt_env"
  },
  "language_info": {
   "codemirror_mode": {
    "name": "ipython",
    "version": 3
   },
   "file_extension": ".py",
   "mimetype": "text/x-python",
   "name": "python",
   "nbconvert_exporter": "python",
   "pygments_lexer": "ipython3",
   "version": "3.10.13"
  },
  "widgets": {
   "application/vnd.jupyter.widget-state+json": {
    "004d848e6b8545a38ff0af8478653c2b": {
     "model_module": "@jupyter-widgets/controls",
     "model_module_version": "1.5.0",
     "model_name": "HTMLModel",
     "state": {
      "_dom_classes": [],
      "_model_module": "@jupyter-widgets/controls",
      "_model_module_version": "1.5.0",
      "_model_name": "HTMLModel",
      "_view_count": null,
      "_view_module": "@jupyter-widgets/controls",
      "_view_module_version": "1.5.0",
      "_view_name": "HTMLView",
      "description": "",
      "description_tooltip": null,
      "layout": "IPY_MODEL_f9a40e30e1fc46089c472e5cb8feaff2",
      "placeholder": "​",
      "style": "IPY_MODEL_580a80552591472ea6da6fc386b441cc",
      "value": "epochs:   0%"
     }
    },
    "00be03abf2cc4670bee1415b0e22fc28": {
     "model_module": "@jupyter-widgets/controls",
     "model_module_version": "1.5.0",
     "model_name": "HTMLModel",
     "state": {
      "_dom_classes": [],
      "_model_module": "@jupyter-widgets/controls",
      "_model_module_version": "1.5.0",
      "_model_name": "HTMLModel",
      "_view_count": null,
      "_view_module": "@jupyter-widgets/controls",
      "_view_module_version": "1.5.0",
      "_view_name": "HTMLView",
      "description": "",
      "description_tooltip": null,
      "layout": "IPY_MODEL_90d415083630471b908f4b001693dbe9",
      "placeholder": "​",
      "style": "IPY_MODEL_57aafd9bfcf74b41a6f8c6b8db4451d3",
      "value": " 1/52 [00:26&lt;22:23, 26.34s/it]"
     }
    },
    "0ac21ef2886f4d5d824eb1c2c3a6cd1f": {
     "model_module": "@jupyter-widgets/controls",
     "model_module_version": "1.5.0",
     "model_name": "HTMLModel",
     "state": {
      "_dom_classes": [],
      "_model_module": "@jupyter-widgets/controls",
      "_model_module_version": "1.5.0",
      "_model_name": "HTMLModel",
      "_view_count": null,
      "_view_module": "@jupyter-widgets/controls",
      "_view_module_version": "1.5.0",
      "_view_name": "HTMLView",
      "description": "",
      "description_tooltip": null,
      "layout": "IPY_MODEL_6c91baf251014a12ae85e5de4c02fb3c",
      "placeholder": "​",
      "style": "IPY_MODEL_c6306010a67044f2871c97ac225073eb",
      "value": " 3318/3318 [00:01&lt;00:00, 2291.86it/s]"
     }
    },
    "0ca5dcaa5bce46fbba8591badf5df69b": {
     "model_module": "@jupyter-widgets/base",
     "model_module_version": "1.2.0",
     "model_name": "LayoutModel",
     "state": {
      "_model_module": "@jupyter-widgets/base",
      "_model_module_version": "1.2.0",
      "_model_name": "LayoutModel",
      "_view_count": null,
      "_view_module": "@jupyter-widgets/base",
      "_view_module_version": "1.2.0",
      "_view_name": "LayoutView",
      "align_content": null,
      "align_items": null,
      "align_self": null,
      "border": null,
      "bottom": null,
      "display": null,
      "flex": null,
      "flex_flow": null,
      "grid_area": null,
      "grid_auto_columns": null,
      "grid_auto_flow": null,
      "grid_auto_rows": null,
      "grid_column": null,
      "grid_gap": null,
      "grid_row": null,
      "grid_template_areas": null,
      "grid_template_columns": null,
      "grid_template_rows": null,
      "height": null,
      "justify_content": null,
      "justify_items": null,
      "left": null,
      "margin": null,
      "max_height": null,
      "max_width": null,
      "min_height": null,
      "min_width": null,
      "object_fit": null,
      "object_position": null,
      "order": null,
      "overflow": null,
      "overflow_x": null,
      "overflow_y": null,
      "padding": null,
      "right": null,
      "top": null,
      "visibility": null,
      "width": null
     }
    },
    "0d6df6c164004c989b305dd574a0f161": {
     "model_module": "@jupyter-widgets/controls",
     "model_module_version": "1.5.0",
     "model_name": "HTMLModel",
     "state": {
      "_dom_classes": [],
      "_model_module": "@jupyter-widgets/controls",
      "_model_module_version": "1.5.0",
      "_model_name": "HTMLModel",
      "_view_count": null,
      "_view_module": "@jupyter-widgets/controls",
      "_view_module_version": "1.5.0",
      "_view_name": "HTMLView",
      "description": "",
      "description_tooltip": null,
      "layout": "IPY_MODEL_88e592270bf34d75a2b6cb1b3a084dc4",
      "placeholder": "​",
      "style": "IPY_MODEL_16ef9a1c2e8744f4aaf59a88383a280f",
      "value": "swt: 100%"
     }
    },
    "0e8b902168b7457fb3fd2c1e37d56109": {
     "model_module": "@jupyter-widgets/controls",
     "model_module_version": "1.5.0",
     "model_name": "HTMLModel",
     "state": {
      "_dom_classes": [],
      "_model_module": "@jupyter-widgets/controls",
      "_model_module_version": "1.5.0",
      "_model_name": "HTMLModel",
      "_view_count": null,
      "_view_module": "@jupyter-widgets/controls",
      "_view_module_version": "1.5.0",
      "_view_name": "HTMLView",
      "description": "",
      "description_tooltip": null,
      "layout": "IPY_MODEL_a730ae1587b247c8954edd17fdbbd2ce",
      "placeholder": "​",
      "style": "IPY_MODEL_80fa96ed08d84d0288cd4fdc8bc8667c",
      "value": " 471/471 [00:00&lt;00:00, 1998.14it/s]"
     }
    },
    "16ef9a1c2e8744f4aaf59a88383a280f": {
     "model_module": "@jupyter-widgets/controls",
     "model_module_version": "1.5.0",
     "model_name": "DescriptionStyleModel",
     "state": {
      "_model_module": "@jupyter-widgets/controls",
      "_model_module_version": "1.5.0",
      "_model_name": "DescriptionStyleModel",
      "_view_count": null,
      "_view_module": "@jupyter-widgets/base",
      "_view_module_version": "1.2.0",
      "_view_name": "StyleView",
      "description_width": ""
     }
    },
    "1765c3a16e174d5cbdc893635df7c2f9": {
     "model_module": "@jupyter-widgets/controls",
     "model_module_version": "1.5.0",
     "model_name": "ProgressStyleModel",
     "state": {
      "_model_module": "@jupyter-widgets/controls",
      "_model_module_version": "1.5.0",
      "_model_name": "ProgressStyleModel",
      "_view_count": null,
      "_view_module": "@jupyter-widgets/base",
      "_view_module_version": "1.2.0",
      "_view_name": "StyleView",
      "bar_color": null,
      "description_width": ""
     }
    },
    "181483622bf74cc7be60ec75433ba70a": {
     "model_module": "@jupyter-widgets/base",
     "model_module_version": "1.2.0",
     "model_name": "LayoutModel",
     "state": {
      "_model_module": "@jupyter-widgets/base",
      "_model_module_version": "1.2.0",
      "_model_name": "LayoutModel",
      "_view_count": null,
      "_view_module": "@jupyter-widgets/base",
      "_view_module_version": "1.2.0",
      "_view_name": "LayoutView",
      "align_content": null,
      "align_items": null,
      "align_self": null,
      "border": null,
      "bottom": null,
      "display": null,
      "flex": null,
      "flex_flow": null,
      "grid_area": null,
      "grid_auto_columns": null,
      "grid_auto_flow": null,
      "grid_auto_rows": null,
      "grid_column": null,
      "grid_gap": null,
      "grid_row": null,
      "grid_template_areas": null,
      "grid_template_columns": null,
      "grid_template_rows": null,
      "height": null,
      "justify_content": null,
      "justify_items": null,
      "left": null,
      "margin": null,
      "max_height": null,
      "max_width": null,
      "min_height": null,
      "min_width": null,
      "object_fit": null,
      "object_position": null,
      "order": null,
      "overflow": null,
      "overflow_x": null,
      "overflow_y": null,
      "padding": null,
      "right": null,
      "top": null,
      "visibility": null,
      "width": null
     }
    },
    "20e1b14e268e4ca7b26015a0550a46b4": {
     "model_module": "@jupyter-widgets/base",
     "model_module_version": "1.2.0",
     "model_name": "LayoutModel",
     "state": {
      "_model_module": "@jupyter-widgets/base",
      "_model_module_version": "1.2.0",
      "_model_name": "LayoutModel",
      "_view_count": null,
      "_view_module": "@jupyter-widgets/base",
      "_view_module_version": "1.2.0",
      "_view_name": "LayoutView",
      "align_content": null,
      "align_items": null,
      "align_self": null,
      "border": null,
      "bottom": null,
      "display": null,
      "flex": null,
      "flex_flow": null,
      "grid_area": null,
      "grid_auto_columns": null,
      "grid_auto_flow": null,
      "grid_auto_rows": null,
      "grid_column": null,
      "grid_gap": null,
      "grid_row": null,
      "grid_template_areas": null,
      "grid_template_columns": null,
      "grid_template_rows": null,
      "height": null,
      "justify_content": null,
      "justify_items": null,
      "left": null,
      "margin": null,
      "max_height": null,
      "max_width": null,
      "min_height": null,
      "min_width": null,
      "object_fit": null,
      "object_position": null,
      "order": null,
      "overflow": null,
      "overflow_x": null,
      "overflow_y": null,
      "padding": null,
      "right": null,
      "top": null,
      "visibility": null,
      "width": null
     }
    },
    "2bafe723e24a4f1d83f706c1a205712f": {
     "model_module": "@jupyter-widgets/controls",
     "model_module_version": "1.5.0",
     "model_name": "HBoxModel",
     "state": {
      "_dom_classes": [],
      "_model_module": "@jupyter-widgets/controls",
      "_model_module_version": "1.5.0",
      "_model_name": "HBoxModel",
      "_view_count": null,
      "_view_module": "@jupyter-widgets/controls",
      "_view_module_version": "1.5.0",
      "_view_name": "HBoxView",
      "box_style": "",
      "children": [
       "IPY_MODEL_bd7a84653fb64f6b80b1b29fda901a67",
       "IPY_MODEL_3036d5d3d1d14a63a9bdcc31945478ee",
       "IPY_MODEL_00be03abf2cc4670bee1415b0e22fc28"
      ],
      "layout": "IPY_MODEL_e072098619654c249a66270ee75f9cc1"
     }
    },
    "3036d5d3d1d14a63a9bdcc31945478ee": {
     "model_module": "@jupyter-widgets/controls",
     "model_module_version": "1.5.0",
     "model_name": "FloatProgressModel",
     "state": {
      "_dom_classes": [],
      "_model_module": "@jupyter-widgets/controls",
      "_model_module_version": "1.5.0",
      "_model_name": "FloatProgressModel",
      "_view_count": null,
      "_view_module": "@jupyter-widgets/controls",
      "_view_module_version": "1.5.0",
      "_view_name": "ProgressView",
      "bar_style": "",
      "description": "",
      "description_tooltip": null,
      "layout": "IPY_MODEL_5816cb37865d4f1db99ed85c5af67a54",
      "max": 52,
      "min": 0,
      "orientation": "horizontal",
      "style": "IPY_MODEL_a362ad0e500a4d5d868ce428019cae12",
      "value": 1
     }
    },
    "380cd12c94fb4845b18b7b5cc6438bfb": {
     "model_module": "@jupyter-widgets/base",
     "model_module_version": "1.2.0",
     "model_name": "LayoutModel",
     "state": {
      "_model_module": "@jupyter-widgets/base",
      "_model_module_version": "1.2.0",
      "_model_name": "LayoutModel",
      "_view_count": null,
      "_view_module": "@jupyter-widgets/base",
      "_view_module_version": "1.2.0",
      "_view_name": "LayoutView",
      "align_content": null,
      "align_items": null,
      "align_self": null,
      "border": null,
      "bottom": null,
      "display": null,
      "flex": null,
      "flex_flow": null,
      "grid_area": null,
      "grid_auto_columns": null,
      "grid_auto_flow": null,
      "grid_auto_rows": null,
      "grid_column": null,
      "grid_gap": null,
      "grid_row": null,
      "grid_template_areas": null,
      "grid_template_columns": null,
      "grid_template_rows": null,
      "height": null,
      "justify_content": null,
      "justify_items": null,
      "left": null,
      "margin": null,
      "max_height": null,
      "max_width": null,
      "min_height": null,
      "min_width": null,
      "object_fit": null,
      "object_position": null,
      "order": null,
      "overflow": null,
      "overflow_x": null,
      "overflow_y": null,
      "padding": null,
      "right": null,
      "top": null,
      "visibility": null,
      "width": null
     }
    },
    "3b3a0feb9b43474eb5e0e2b04c33ff6b": {
     "model_module": "@jupyter-widgets/base",
     "model_module_version": "1.2.0",
     "model_name": "LayoutModel",
     "state": {
      "_model_module": "@jupyter-widgets/base",
      "_model_module_version": "1.2.0",
      "_model_name": "LayoutModel",
      "_view_count": null,
      "_view_module": "@jupyter-widgets/base",
      "_view_module_version": "1.2.0",
      "_view_name": "LayoutView",
      "align_content": null,
      "align_items": null,
      "align_self": null,
      "border": null,
      "bottom": null,
      "display": null,
      "flex": null,
      "flex_flow": null,
      "grid_area": null,
      "grid_auto_columns": null,
      "grid_auto_flow": null,
      "grid_auto_rows": null,
      "grid_column": null,
      "grid_gap": null,
      "grid_row": null,
      "grid_template_areas": null,
      "grid_template_columns": null,
      "grid_template_rows": null,
      "height": null,
      "justify_content": null,
      "justify_items": null,
      "left": null,
      "margin": null,
      "max_height": null,
      "max_width": null,
      "min_height": null,
      "min_width": null,
      "object_fit": null,
      "object_position": null,
      "order": null,
      "overflow": null,
      "overflow_x": null,
      "overflow_y": null,
      "padding": null,
      "right": null,
      "top": null,
      "visibility": null,
      "width": null
     }
    },
    "4395ebe6f5f04a27bdfa264604ed1b3a": {
     "model_module": "@jupyter-widgets/controls",
     "model_module_version": "1.5.0",
     "model_name": "FloatProgressModel",
     "state": {
      "_dom_classes": [],
      "_model_module": "@jupyter-widgets/controls",
      "_model_module_version": "1.5.0",
      "_model_name": "FloatProgressModel",
      "_view_count": null,
      "_view_module": "@jupyter-widgets/controls",
      "_view_module_version": "1.5.0",
      "_view_name": "ProgressView",
      "bar_style": "success",
      "description": "",
      "description_tooltip": null,
      "layout": "IPY_MODEL_c88119e9d77f469f8d0a9cd2c379eb46",
      "max": 471,
      "min": 0,
      "orientation": "horizontal",
      "style": "IPY_MODEL_1765c3a16e174d5cbdc893635df7c2f9",
      "value": 471
     }
    },
    "449234db07d241cd9293b032ae88701a": {
     "model_module": "@jupyter-widgets/controls",
     "model_module_version": "1.5.0",
     "model_name": "HTMLModel",
     "state": {
      "_dom_classes": [],
      "_model_module": "@jupyter-widgets/controls",
      "_model_module_version": "1.5.0",
      "_model_name": "HTMLModel",
      "_view_count": null,
      "_view_module": "@jupyter-widgets/controls",
      "_view_module_version": "1.5.0",
      "_view_name": "HTMLView",
      "description": "",
      "description_tooltip": null,
      "layout": "IPY_MODEL_380cd12c94fb4845b18b7b5cc6438bfb",
      "placeholder": "​",
      "style": "IPY_MODEL_cd351d2406e94be8a62acc07a98e5aee",
      "value": "swt: 100%"
     }
    },
    "4b8ceaef190f4ea0884fc7c0578a0ca4": {
     "model_module": "@jupyter-widgets/controls",
     "model_module_version": "1.5.0",
     "model_name": "DescriptionStyleModel",
     "state": {
      "_model_module": "@jupyter-widgets/controls",
      "_model_module_version": "1.5.0",
      "_model_name": "DescriptionStyleModel",
      "_view_count": null,
      "_view_module": "@jupyter-widgets/base",
      "_view_module_version": "1.2.0",
      "_view_name": "StyleView",
      "description_width": ""
     }
    },
    "4bc85bc9085b4bf58b9e582a525a156f": {
     "model_module": "@jupyter-widgets/controls",
     "model_module_version": "1.5.0",
     "model_name": "FloatProgressModel",
     "state": {
      "_dom_classes": [],
      "_model_module": "@jupyter-widgets/controls",
      "_model_module_version": "1.5.0",
      "_model_name": "FloatProgressModel",
      "_view_count": null,
      "_view_module": "@jupyter-widgets/controls",
      "_view_module_version": "1.5.0",
      "_view_name": "ProgressView",
      "bar_style": "success",
      "description": "",
      "description_tooltip": null,
      "layout": "IPY_MODEL_da3cfc7266294a3bad6e92f37d6dff37",
      "max": 3318,
      "min": 0,
      "orientation": "horizontal",
      "style": "IPY_MODEL_b849142db43b443e9cff5d1668421462",
      "value": 3318
     }
    },
    "4f4374618538479d80cd46ea99dd93f5": {
     "model_module": "@jupyter-widgets/controls",
     "model_module_version": "1.5.0",
     "model_name": "HTMLModel",
     "state": {
      "_dom_classes": [],
      "_model_module": "@jupyter-widgets/controls",
      "_model_module_version": "1.5.0",
      "_model_name": "HTMLModel",
      "_view_count": null,
      "_view_module": "@jupyter-widgets/controls",
      "_view_module_version": "1.5.0",
      "_view_name": "HTMLView",
      "description": "",
      "description_tooltip": null,
      "layout": "IPY_MODEL_973307790dfd453684f393add151fdf2",
      "placeholder": "​",
      "style": "IPY_MODEL_6817b6547bd342289b5ec1d47122d239",
      "value": " 0/1000 [00:00&lt;?, ?it/s]"
     }
    },
    "57aafd9bfcf74b41a6f8c6b8db4451d3": {
     "model_module": "@jupyter-widgets/controls",
     "model_module_version": "1.5.0",
     "model_name": "DescriptionStyleModel",
     "state": {
      "_model_module": "@jupyter-widgets/controls",
      "_model_module_version": "1.5.0",
      "_model_name": "DescriptionStyleModel",
      "_view_count": null,
      "_view_module": "@jupyter-widgets/base",
      "_view_module_version": "1.2.0",
      "_view_name": "StyleView",
      "description_width": ""
     }
    },
    "580a80552591472ea6da6fc386b441cc": {
     "model_module": "@jupyter-widgets/controls",
     "model_module_version": "1.5.0",
     "model_name": "DescriptionStyleModel",
     "state": {
      "_model_module": "@jupyter-widgets/controls",
      "_model_module_version": "1.5.0",
      "_model_name": "DescriptionStyleModel",
      "_view_count": null,
      "_view_module": "@jupyter-widgets/base",
      "_view_module_version": "1.2.0",
      "_view_name": "StyleView",
      "description_width": ""
     }
    },
    "5816cb37865d4f1db99ed85c5af67a54": {
     "model_module": "@jupyter-widgets/base",
     "model_module_version": "1.2.0",
     "model_name": "LayoutModel",
     "state": {
      "_model_module": "@jupyter-widgets/base",
      "_model_module_version": "1.2.0",
      "_model_name": "LayoutModel",
      "_view_count": null,
      "_view_module": "@jupyter-widgets/base",
      "_view_module_version": "1.2.0",
      "_view_name": "LayoutView",
      "align_content": null,
      "align_items": null,
      "align_self": null,
      "border": null,
      "bottom": null,
      "display": null,
      "flex": null,
      "flex_flow": null,
      "grid_area": null,
      "grid_auto_columns": null,
      "grid_auto_flow": null,
      "grid_auto_rows": null,
      "grid_column": null,
      "grid_gap": null,
      "grid_row": null,
      "grid_template_areas": null,
      "grid_template_columns": null,
      "grid_template_rows": null,
      "height": null,
      "justify_content": null,
      "justify_items": null,
      "left": null,
      "margin": null,
      "max_height": null,
      "max_width": null,
      "min_height": null,
      "min_width": null,
      "object_fit": null,
      "object_position": null,
      "order": null,
      "overflow": null,
      "overflow_x": null,
      "overflow_y": null,
      "padding": null,
      "right": null,
      "top": null,
      "visibility": null,
      "width": null
     }
    },
    "61c19f3e4f314df2a7fc7d9b1d179fe9": {
     "model_module": "@jupyter-widgets/controls",
     "model_module_version": "1.5.0",
     "model_name": "DescriptionStyleModel",
     "state": {
      "_model_module": "@jupyter-widgets/controls",
      "_model_module_version": "1.5.0",
      "_model_name": "DescriptionStyleModel",
      "_view_count": null,
      "_view_module": "@jupyter-widgets/base",
      "_view_module_version": "1.2.0",
      "_view_name": "StyleView",
      "description_width": ""
     }
    },
    "6817b6547bd342289b5ec1d47122d239": {
     "model_module": "@jupyter-widgets/controls",
     "model_module_version": "1.5.0",
     "model_name": "DescriptionStyleModel",
     "state": {
      "_model_module": "@jupyter-widgets/controls",
      "_model_module_version": "1.5.0",
      "_model_name": "DescriptionStyleModel",
      "_view_count": null,
      "_view_module": "@jupyter-widgets/base",
      "_view_module_version": "1.2.0",
      "_view_name": "StyleView",
      "description_width": ""
     }
    },
    "6c91baf251014a12ae85e5de4c02fb3c": {
     "model_module": "@jupyter-widgets/base",
     "model_module_version": "1.2.0",
     "model_name": "LayoutModel",
     "state": {
      "_model_module": "@jupyter-widgets/base",
      "_model_module_version": "1.2.0",
      "_model_name": "LayoutModel",
      "_view_count": null,
      "_view_module": "@jupyter-widgets/base",
      "_view_module_version": "1.2.0",
      "_view_name": "LayoutView",
      "align_content": null,
      "align_items": null,
      "align_self": null,
      "border": null,
      "bottom": null,
      "display": null,
      "flex": null,
      "flex_flow": null,
      "grid_area": null,
      "grid_auto_columns": null,
      "grid_auto_flow": null,
      "grid_auto_rows": null,
      "grid_column": null,
      "grid_gap": null,
      "grid_row": null,
      "grid_template_areas": null,
      "grid_template_columns": null,
      "grid_template_rows": null,
      "height": null,
      "justify_content": null,
      "justify_items": null,
      "left": null,
      "margin": null,
      "max_height": null,
      "max_width": null,
      "min_height": null,
      "min_width": null,
      "object_fit": null,
      "object_position": null,
      "order": null,
      "overflow": null,
      "overflow_x": null,
      "overflow_y": null,
      "padding": null,
      "right": null,
      "top": null,
      "visibility": null,
      "width": null
     }
    },
    "77ff28af0e6f4c3e9533bb0257fcae5a": {
     "model_module": "@jupyter-widgets/base",
     "model_module_version": "1.2.0",
     "model_name": "LayoutModel",
     "state": {
      "_model_module": "@jupyter-widgets/base",
      "_model_module_version": "1.2.0",
      "_model_name": "LayoutModel",
      "_view_count": null,
      "_view_module": "@jupyter-widgets/base",
      "_view_module_version": "1.2.0",
      "_view_name": "LayoutView",
      "align_content": null,
      "align_items": null,
      "align_self": null,
      "border": null,
      "bottom": null,
      "display": null,
      "flex": null,
      "flex_flow": null,
      "grid_area": null,
      "grid_auto_columns": null,
      "grid_auto_flow": null,
      "grid_auto_rows": null,
      "grid_column": null,
      "grid_gap": null,
      "grid_row": null,
      "grid_template_areas": null,
      "grid_template_columns": null,
      "grid_template_rows": null,
      "height": null,
      "justify_content": null,
      "justify_items": null,
      "left": null,
      "margin": null,
      "max_height": null,
      "max_width": null,
      "min_height": null,
      "min_width": null,
      "object_fit": null,
      "object_position": null,
      "order": null,
      "overflow": null,
      "overflow_x": null,
      "overflow_y": null,
      "padding": null,
      "right": null,
      "top": null,
      "visibility": null,
      "width": null
     }
    },
    "7a1863c060574471a1269845fba411b3": {
     "model_module": "@jupyter-widgets/controls",
     "model_module_version": "1.5.0",
     "model_name": "HBoxModel",
     "state": {
      "_dom_classes": [],
      "_model_module": "@jupyter-widgets/controls",
      "_model_module_version": "1.5.0",
      "_model_name": "HBoxModel",
      "_view_count": null,
      "_view_module": "@jupyter-widgets/controls",
      "_view_module_version": "1.5.0",
      "_view_name": "HBoxView",
      "box_style": "",
      "children": [
       "IPY_MODEL_0d6df6c164004c989b305dd574a0f161",
       "IPY_MODEL_4bc85bc9085b4bf58b9e582a525a156f",
       "IPY_MODEL_0ac21ef2886f4d5d824eb1c2c3a6cd1f"
      ],
      "layout": "IPY_MODEL_20e1b14e268e4ca7b26015a0550a46b4"
     }
    },
    "7b7ccb3823e242c1a43a02bd958ff557": {
     "model_module": "@jupyter-widgets/base",
     "model_module_version": "1.2.0",
     "model_name": "LayoutModel",
     "state": {
      "_model_module": "@jupyter-widgets/base",
      "_model_module_version": "1.2.0",
      "_model_name": "LayoutModel",
      "_view_count": null,
      "_view_module": "@jupyter-widgets/base",
      "_view_module_version": "1.2.0",
      "_view_name": "LayoutView",
      "align_content": null,
      "align_items": null,
      "align_self": null,
      "border": null,
      "bottom": null,
      "display": null,
      "flex": null,
      "flex_flow": null,
      "grid_area": null,
      "grid_auto_columns": null,
      "grid_auto_flow": null,
      "grid_auto_rows": null,
      "grid_column": null,
      "grid_gap": null,
      "grid_row": null,
      "grid_template_areas": null,
      "grid_template_columns": null,
      "grid_template_rows": null,
      "height": null,
      "justify_content": null,
      "justify_items": null,
      "left": null,
      "margin": null,
      "max_height": null,
      "max_width": null,
      "min_height": null,
      "min_width": null,
      "object_fit": null,
      "object_position": null,
      "order": null,
      "overflow": null,
      "overflow_x": null,
      "overflow_y": null,
      "padding": null,
      "right": null,
      "top": null,
      "visibility": null,
      "width": null
     }
    },
    "80fa96ed08d84d0288cd4fdc8bc8667c": {
     "model_module": "@jupyter-widgets/controls",
     "model_module_version": "1.5.0",
     "model_name": "DescriptionStyleModel",
     "state": {
      "_model_module": "@jupyter-widgets/controls",
      "_model_module_version": "1.5.0",
      "_model_name": "DescriptionStyleModel",
      "_view_count": null,
      "_view_module": "@jupyter-widgets/base",
      "_view_module_version": "1.2.0",
      "_view_name": "StyleView",
      "description_width": ""
     }
    },
    "810e3bd107f0475abe9ef231c2f7c303": {
     "model_module": "@jupyter-widgets/controls",
     "model_module_version": "1.5.0",
     "model_name": "HBoxModel",
     "state": {
      "_dom_classes": [],
      "_model_module": "@jupyter-widgets/controls",
      "_model_module_version": "1.5.0",
      "_model_name": "HBoxModel",
      "_view_count": null,
      "_view_module": "@jupyter-widgets/controls",
      "_view_module_version": "1.5.0",
      "_view_name": "HBoxView",
      "box_style": "",
      "children": [
       "IPY_MODEL_9b51cd4c37cc4610a32e6b99296552f1",
       "IPY_MODEL_4395ebe6f5f04a27bdfa264604ed1b3a",
       "IPY_MODEL_dc000aef513b441394e3a7e133a7650f"
      ],
      "layout": "IPY_MODEL_0ca5dcaa5bce46fbba8591badf5df69b"
     }
    },
    "852693f603684c5eab4223402e364d1d": {
     "model_module": "@jupyter-widgets/controls",
     "model_module_version": "1.5.0",
     "model_name": "FloatProgressModel",
     "state": {
      "_dom_classes": [],
      "_model_module": "@jupyter-widgets/controls",
      "_model_module_version": "1.5.0",
      "_model_name": "FloatProgressModel",
      "_view_count": null,
      "_view_module": "@jupyter-widgets/controls",
      "_view_module_version": "1.5.0",
      "_view_name": "ProgressView",
      "bar_style": "",
      "description": "",
      "description_tooltip": null,
      "layout": "IPY_MODEL_e31daaba94594b46b7ca78abf353bcae",
      "max": 1000,
      "min": 0,
      "orientation": "horizontal",
      "style": "IPY_MODEL_d8b0d11e031147f199b069ce9f424ffd",
      "value": 0
     }
    },
    "88e592270bf34d75a2b6cb1b3a084dc4": {
     "model_module": "@jupyter-widgets/base",
     "model_module_version": "1.2.0",
     "model_name": "LayoutModel",
     "state": {
      "_model_module": "@jupyter-widgets/base",
      "_model_module_version": "1.2.0",
      "_model_name": "LayoutModel",
      "_view_count": null,
      "_view_module": "@jupyter-widgets/base",
      "_view_module_version": "1.2.0",
      "_view_name": "LayoutView",
      "align_content": null,
      "align_items": null,
      "align_self": null,
      "border": null,
      "bottom": null,
      "display": null,
      "flex": null,
      "flex_flow": null,
      "grid_area": null,
      "grid_auto_columns": null,
      "grid_auto_flow": null,
      "grid_auto_rows": null,
      "grid_column": null,
      "grid_gap": null,
      "grid_row": null,
      "grid_template_areas": null,
      "grid_template_columns": null,
      "grid_template_rows": null,
      "height": null,
      "justify_content": null,
      "justify_items": null,
      "left": null,
      "margin": null,
      "max_height": null,
      "max_width": null,
      "min_height": null,
      "min_width": null,
      "object_fit": null,
      "object_position": null,
      "order": null,
      "overflow": null,
      "overflow_x": null,
      "overflow_y": null,
      "padding": null,
      "right": null,
      "top": null,
      "visibility": null,
      "width": null
     }
    },
    "90d415083630471b908f4b001693dbe9": {
     "model_module": "@jupyter-widgets/base",
     "model_module_version": "1.2.0",
     "model_name": "LayoutModel",
     "state": {
      "_model_module": "@jupyter-widgets/base",
      "_model_module_version": "1.2.0",
      "_model_name": "LayoutModel",
      "_view_count": null,
      "_view_module": "@jupyter-widgets/base",
      "_view_module_version": "1.2.0",
      "_view_name": "LayoutView",
      "align_content": null,
      "align_items": null,
      "align_self": null,
      "border": null,
      "bottom": null,
      "display": null,
      "flex": null,
      "flex_flow": null,
      "grid_area": null,
      "grid_auto_columns": null,
      "grid_auto_flow": null,
      "grid_auto_rows": null,
      "grid_column": null,
      "grid_gap": null,
      "grid_row": null,
      "grid_template_areas": null,
      "grid_template_columns": null,
      "grid_template_rows": null,
      "height": null,
      "justify_content": null,
      "justify_items": null,
      "left": null,
      "margin": null,
      "max_height": null,
      "max_width": null,
      "min_height": null,
      "min_width": null,
      "object_fit": null,
      "object_position": null,
      "order": null,
      "overflow": null,
      "overflow_x": null,
      "overflow_y": null,
      "padding": null,
      "right": null,
      "top": null,
      "visibility": null,
      "width": null
     }
    },
    "933cdb021ad04f738e93ebcd22842fbb": {
     "model_module": "@jupyter-widgets/controls",
     "model_module_version": "1.5.0",
     "model_name": "ProgressStyleModel",
     "state": {
      "_model_module": "@jupyter-widgets/controls",
      "_model_module_version": "1.5.0",
      "_model_name": "ProgressStyleModel",
      "_view_count": null,
      "_view_module": "@jupyter-widgets/base",
      "_view_module_version": "1.2.0",
      "_view_name": "StyleView",
      "bar_color": null,
      "description_width": ""
     }
    },
    "973307790dfd453684f393add151fdf2": {
     "model_module": "@jupyter-widgets/base",
     "model_module_version": "1.2.0",
     "model_name": "LayoutModel",
     "state": {
      "_model_module": "@jupyter-widgets/base",
      "_model_module_version": "1.2.0",
      "_model_name": "LayoutModel",
      "_view_count": null,
      "_view_module": "@jupyter-widgets/base",
      "_view_module_version": "1.2.0",
      "_view_name": "LayoutView",
      "align_content": null,
      "align_items": null,
      "align_self": null,
      "border": null,
      "bottom": null,
      "display": null,
      "flex": null,
      "flex_flow": null,
      "grid_area": null,
      "grid_auto_columns": null,
      "grid_auto_flow": null,
      "grid_auto_rows": null,
      "grid_column": null,
      "grid_gap": null,
      "grid_row": null,
      "grid_template_areas": null,
      "grid_template_columns": null,
      "grid_template_rows": null,
      "height": null,
      "justify_content": null,
      "justify_items": null,
      "left": null,
      "margin": null,
      "max_height": null,
      "max_width": null,
      "min_height": null,
      "min_width": null,
      "object_fit": null,
      "object_position": null,
      "order": null,
      "overflow": null,
      "overflow_x": null,
      "overflow_y": null,
      "padding": null,
      "right": null,
      "top": null,
      "visibility": null,
      "width": null
     }
    },
    "9829de0ad9b8432eb0dcd8fdd01cf97a": {
     "model_module": "@jupyter-widgets/controls",
     "model_module_version": "1.5.0",
     "model_name": "HBoxModel",
     "state": {
      "_dom_classes": [],
      "_model_module": "@jupyter-widgets/controls",
      "_model_module_version": "1.5.0",
      "_model_name": "HBoxModel",
      "_view_count": null,
      "_view_module": "@jupyter-widgets/controls",
      "_view_module_version": "1.5.0",
      "_view_name": "HBoxView",
      "box_style": "",
      "children": [
       "IPY_MODEL_004d848e6b8545a38ff0af8478653c2b",
       "IPY_MODEL_852693f603684c5eab4223402e364d1d",
       "IPY_MODEL_4f4374618538479d80cd46ea99dd93f5"
      ],
      "layout": "IPY_MODEL_ea32c2a8cf9d41df8c25c6141683caf8"
     }
    },
    "9b51cd4c37cc4610a32e6b99296552f1": {
     "model_module": "@jupyter-widgets/controls",
     "model_module_version": "1.5.0",
     "model_name": "HTMLModel",
     "state": {
      "_dom_classes": [],
      "_model_module": "@jupyter-widgets/controls",
      "_model_module_version": "1.5.0",
      "_model_name": "HTMLModel",
      "_view_count": null,
      "_view_module": "@jupyter-widgets/controls",
      "_view_module_version": "1.5.0",
      "_view_name": "HTMLView",
      "description": "",
      "description_tooltip": null,
      "layout": "IPY_MODEL_a744b2cb46034bebb46b75b53b00e724",
      "placeholder": "​",
      "style": "IPY_MODEL_61c19f3e4f314df2a7fc7d9b1d179fe9",
      "value": "swt: 100%"
     }
    },
    "a362ad0e500a4d5d868ce428019cae12": {
     "model_module": "@jupyter-widgets/controls",
     "model_module_version": "1.5.0",
     "model_name": "ProgressStyleModel",
     "state": {
      "_model_module": "@jupyter-widgets/controls",
      "_model_module_version": "1.5.0",
      "_model_name": "ProgressStyleModel",
      "_view_count": null,
      "_view_module": "@jupyter-widgets/base",
      "_view_module_version": "1.2.0",
      "_view_name": "StyleView",
      "bar_color": null,
      "description_width": ""
     }
    },
    "a730ae1587b247c8954edd17fdbbd2ce": {
     "model_module": "@jupyter-widgets/base",
     "model_module_version": "1.2.0",
     "model_name": "LayoutModel",
     "state": {
      "_model_module": "@jupyter-widgets/base",
      "_model_module_version": "1.2.0",
      "_model_name": "LayoutModel",
      "_view_count": null,
      "_view_module": "@jupyter-widgets/base",
      "_view_module_version": "1.2.0",
      "_view_name": "LayoutView",
      "align_content": null,
      "align_items": null,
      "align_self": null,
      "border": null,
      "bottom": null,
      "display": null,
      "flex": null,
      "flex_flow": null,
      "grid_area": null,
      "grid_auto_columns": null,
      "grid_auto_flow": null,
      "grid_auto_rows": null,
      "grid_column": null,
      "grid_gap": null,
      "grid_row": null,
      "grid_template_areas": null,
      "grid_template_columns": null,
      "grid_template_rows": null,
      "height": null,
      "justify_content": null,
      "justify_items": null,
      "left": null,
      "margin": null,
      "max_height": null,
      "max_width": null,
      "min_height": null,
      "min_width": null,
      "object_fit": null,
      "object_position": null,
      "order": null,
      "overflow": null,
      "overflow_x": null,
      "overflow_y": null,
      "padding": null,
      "right": null,
      "top": null,
      "visibility": null,
      "width": null
     }
    },
    "a744b2cb46034bebb46b75b53b00e724": {
     "model_module": "@jupyter-widgets/base",
     "model_module_version": "1.2.0",
     "model_name": "LayoutModel",
     "state": {
      "_model_module": "@jupyter-widgets/base",
      "_model_module_version": "1.2.0",
      "_model_name": "LayoutModel",
      "_view_count": null,
      "_view_module": "@jupyter-widgets/base",
      "_view_module_version": "1.2.0",
      "_view_name": "LayoutView",
      "align_content": null,
      "align_items": null,
      "align_self": null,
      "border": null,
      "bottom": null,
      "display": null,
      "flex": null,
      "flex_flow": null,
      "grid_area": null,
      "grid_auto_columns": null,
      "grid_auto_flow": null,
      "grid_auto_rows": null,
      "grid_column": null,
      "grid_gap": null,
      "grid_row": null,
      "grid_template_areas": null,
      "grid_template_columns": null,
      "grid_template_rows": null,
      "height": null,
      "justify_content": null,
      "justify_items": null,
      "left": null,
      "margin": null,
      "max_height": null,
      "max_width": null,
      "min_height": null,
      "min_width": null,
      "object_fit": null,
      "object_position": null,
      "order": null,
      "overflow": null,
      "overflow_x": null,
      "overflow_y": null,
      "padding": null,
      "right": null,
      "top": null,
      "visibility": null,
      "width": null
     }
    },
    "b849142db43b443e9cff5d1668421462": {
     "model_module": "@jupyter-widgets/controls",
     "model_module_version": "1.5.0",
     "model_name": "ProgressStyleModel",
     "state": {
      "_model_module": "@jupyter-widgets/controls",
      "_model_module_version": "1.5.0",
      "_model_name": "ProgressStyleModel",
      "_view_count": null,
      "_view_module": "@jupyter-widgets/base",
      "_view_module_version": "1.2.0",
      "_view_name": "StyleView",
      "bar_color": null,
      "description_width": ""
     }
    },
    "bd7a84653fb64f6b80b1b29fda901a67": {
     "model_module": "@jupyter-widgets/controls",
     "model_module_version": "1.5.0",
     "model_name": "HTMLModel",
     "state": {
      "_dom_classes": [],
      "_model_module": "@jupyter-widgets/controls",
      "_model_module_version": "1.5.0",
      "_model_name": "HTMLModel",
      "_view_count": null,
      "_view_module": "@jupyter-widgets/controls",
      "_view_module_version": "1.5.0",
      "_view_name": "HTMLView",
      "description": "",
      "description_tooltip": null,
      "layout": "IPY_MODEL_3b3a0feb9b43474eb5e0e2b04c33ff6b",
      "placeholder": "​",
      "style": "IPY_MODEL_d90557cb64fd4937aa98ffe3c02fc4f8",
      "value": "train batches:   2%"
     }
    },
    "c6306010a67044f2871c97ac225073eb": {
     "model_module": "@jupyter-widgets/controls",
     "model_module_version": "1.5.0",
     "model_name": "DescriptionStyleModel",
     "state": {
      "_model_module": "@jupyter-widgets/controls",
      "_model_module_version": "1.5.0",
      "_model_name": "DescriptionStyleModel",
      "_view_count": null,
      "_view_module": "@jupyter-widgets/base",
      "_view_module_version": "1.2.0",
      "_view_name": "StyleView",
      "description_width": ""
     }
    },
    "c88119e9d77f469f8d0a9cd2c379eb46": {
     "model_module": "@jupyter-widgets/base",
     "model_module_version": "1.2.0",
     "model_name": "LayoutModel",
     "state": {
      "_model_module": "@jupyter-widgets/base",
      "_model_module_version": "1.2.0",
      "_model_name": "LayoutModel",
      "_view_count": null,
      "_view_module": "@jupyter-widgets/base",
      "_view_module_version": "1.2.0",
      "_view_name": "LayoutView",
      "align_content": null,
      "align_items": null,
      "align_self": null,
      "border": null,
      "bottom": null,
      "display": null,
      "flex": null,
      "flex_flow": null,
      "grid_area": null,
      "grid_auto_columns": null,
      "grid_auto_flow": null,
      "grid_auto_rows": null,
      "grid_column": null,
      "grid_gap": null,
      "grid_row": null,
      "grid_template_areas": null,
      "grid_template_columns": null,
      "grid_template_rows": null,
      "height": null,
      "justify_content": null,
      "justify_items": null,
      "left": null,
      "margin": null,
      "max_height": null,
      "max_width": null,
      "min_height": null,
      "min_width": null,
      "object_fit": null,
      "object_position": null,
      "order": null,
      "overflow": null,
      "overflow_x": null,
      "overflow_y": null,
      "padding": null,
      "right": null,
      "top": null,
      "visibility": null,
      "width": null
     }
    },
    "cd351d2406e94be8a62acc07a98e5aee": {
     "model_module": "@jupyter-widgets/controls",
     "model_module_version": "1.5.0",
     "model_name": "DescriptionStyleModel",
     "state": {
      "_model_module": "@jupyter-widgets/controls",
      "_model_module_version": "1.5.0",
      "_model_name": "DescriptionStyleModel",
      "_view_count": null,
      "_view_module": "@jupyter-widgets/base",
      "_view_module_version": "1.2.0",
      "_view_name": "StyleView",
      "description_width": ""
     }
    },
    "d3a16bf08aea4800bac4fb0dabadb9ef": {
     "model_module": "@jupyter-widgets/controls",
     "model_module_version": "1.5.0",
     "model_name": "FloatProgressModel",
     "state": {
      "_dom_classes": [],
      "_model_module": "@jupyter-widgets/controls",
      "_model_module_version": "1.5.0",
      "_model_name": "FloatProgressModel",
      "_view_count": null,
      "_view_module": "@jupyter-widgets/controls",
      "_view_module_version": "1.5.0",
      "_view_name": "ProgressView",
      "bar_style": "success",
      "description": "",
      "description_tooltip": null,
      "layout": "IPY_MODEL_181483622bf74cc7be60ec75433ba70a",
      "max": 471,
      "min": 0,
      "orientation": "horizontal",
      "style": "IPY_MODEL_933cdb021ad04f738e93ebcd22842fbb",
      "value": 471
     }
    },
    "d8b0d11e031147f199b069ce9f424ffd": {
     "model_module": "@jupyter-widgets/controls",
     "model_module_version": "1.5.0",
     "model_name": "ProgressStyleModel",
     "state": {
      "_model_module": "@jupyter-widgets/controls",
      "_model_module_version": "1.5.0",
      "_model_name": "ProgressStyleModel",
      "_view_count": null,
      "_view_module": "@jupyter-widgets/base",
      "_view_module_version": "1.2.0",
      "_view_name": "StyleView",
      "bar_color": null,
      "description_width": ""
     }
    },
    "d90557cb64fd4937aa98ffe3c02fc4f8": {
     "model_module": "@jupyter-widgets/controls",
     "model_module_version": "1.5.0",
     "model_name": "DescriptionStyleModel",
     "state": {
      "_model_module": "@jupyter-widgets/controls",
      "_model_module_version": "1.5.0",
      "_model_name": "DescriptionStyleModel",
      "_view_count": null,
      "_view_module": "@jupyter-widgets/base",
      "_view_module_version": "1.2.0",
      "_view_name": "StyleView",
      "description_width": ""
     }
    },
    "da3cfc7266294a3bad6e92f37d6dff37": {
     "model_module": "@jupyter-widgets/base",
     "model_module_version": "1.2.0",
     "model_name": "LayoutModel",
     "state": {
      "_model_module": "@jupyter-widgets/base",
      "_model_module_version": "1.2.0",
      "_model_name": "LayoutModel",
      "_view_count": null,
      "_view_module": "@jupyter-widgets/base",
      "_view_module_version": "1.2.0",
      "_view_name": "LayoutView",
      "align_content": null,
      "align_items": null,
      "align_self": null,
      "border": null,
      "bottom": null,
      "display": null,
      "flex": null,
      "flex_flow": null,
      "grid_area": null,
      "grid_auto_columns": null,
      "grid_auto_flow": null,
      "grid_auto_rows": null,
      "grid_column": null,
      "grid_gap": null,
      "grid_row": null,
      "grid_template_areas": null,
      "grid_template_columns": null,
      "grid_template_rows": null,
      "height": null,
      "justify_content": null,
      "justify_items": null,
      "left": null,
      "margin": null,
      "max_height": null,
      "max_width": null,
      "min_height": null,
      "min_width": null,
      "object_fit": null,
      "object_position": null,
      "order": null,
      "overflow": null,
      "overflow_x": null,
      "overflow_y": null,
      "padding": null,
      "right": null,
      "top": null,
      "visibility": null,
      "width": null
     }
    },
    "dc000aef513b441394e3a7e133a7650f": {
     "model_module": "@jupyter-widgets/controls",
     "model_module_version": "1.5.0",
     "model_name": "HTMLModel",
     "state": {
      "_dom_classes": [],
      "_model_module": "@jupyter-widgets/controls",
      "_model_module_version": "1.5.0",
      "_model_name": "HTMLModel",
      "_view_count": null,
      "_view_module": "@jupyter-widgets/controls",
      "_view_module_version": "1.5.0",
      "_view_name": "HTMLView",
      "description": "",
      "description_tooltip": null,
      "layout": "IPY_MODEL_77ff28af0e6f4c3e9533bb0257fcae5a",
      "placeholder": "​",
      "style": "IPY_MODEL_4b8ceaef190f4ea0884fc7c0578a0ca4",
      "value": " 471/471 [00:00&lt;00:00, 2907.80it/s]"
     }
    },
    "e072098619654c249a66270ee75f9cc1": {
     "model_module": "@jupyter-widgets/base",
     "model_module_version": "1.2.0",
     "model_name": "LayoutModel",
     "state": {
      "_model_module": "@jupyter-widgets/base",
      "_model_module_version": "1.2.0",
      "_model_name": "LayoutModel",
      "_view_count": null,
      "_view_module": "@jupyter-widgets/base",
      "_view_module_version": "1.2.0",
      "_view_name": "LayoutView",
      "align_content": null,
      "align_items": null,
      "align_self": null,
      "border": null,
      "bottom": null,
      "display": null,
      "flex": null,
      "flex_flow": null,
      "grid_area": null,
      "grid_auto_columns": null,
      "grid_auto_flow": null,
      "grid_auto_rows": null,
      "grid_column": null,
      "grid_gap": null,
      "grid_row": null,
      "grid_template_areas": null,
      "grid_template_columns": null,
      "grid_template_rows": null,
      "height": null,
      "justify_content": null,
      "justify_items": null,
      "left": null,
      "margin": null,
      "max_height": null,
      "max_width": null,
      "min_height": null,
      "min_width": null,
      "object_fit": null,
      "object_position": null,
      "order": null,
      "overflow": null,
      "overflow_x": null,
      "overflow_y": null,
      "padding": null,
      "right": null,
      "top": null,
      "visibility": null,
      "width": null
     }
    },
    "e31daaba94594b46b7ca78abf353bcae": {
     "model_module": "@jupyter-widgets/base",
     "model_module_version": "1.2.0",
     "model_name": "LayoutModel",
     "state": {
      "_model_module": "@jupyter-widgets/base",
      "_model_module_version": "1.2.0",
      "_model_name": "LayoutModel",
      "_view_count": null,
      "_view_module": "@jupyter-widgets/base",
      "_view_module_version": "1.2.0",
      "_view_name": "LayoutView",
      "align_content": null,
      "align_items": null,
      "align_self": null,
      "border": null,
      "bottom": null,
      "display": null,
      "flex": null,
      "flex_flow": null,
      "grid_area": null,
      "grid_auto_columns": null,
      "grid_auto_flow": null,
      "grid_auto_rows": null,
      "grid_column": null,
      "grid_gap": null,
      "grid_row": null,
      "grid_template_areas": null,
      "grid_template_columns": null,
      "grid_template_rows": null,
      "height": null,
      "justify_content": null,
      "justify_items": null,
      "left": null,
      "margin": null,
      "max_height": null,
      "max_width": null,
      "min_height": null,
      "min_width": null,
      "object_fit": null,
      "object_position": null,
      "order": null,
      "overflow": null,
      "overflow_x": null,
      "overflow_y": null,
      "padding": null,
      "right": null,
      "top": null,
      "visibility": null,
      "width": null
     }
    },
    "ea32c2a8cf9d41df8c25c6141683caf8": {
     "model_module": "@jupyter-widgets/base",
     "model_module_version": "1.2.0",
     "model_name": "LayoutModel",
     "state": {
      "_model_module": "@jupyter-widgets/base",
      "_model_module_version": "1.2.0",
      "_model_name": "LayoutModel",
      "_view_count": null,
      "_view_module": "@jupyter-widgets/base",
      "_view_module_version": "1.2.0",
      "_view_name": "LayoutView",
      "align_content": null,
      "align_items": null,
      "align_self": null,
      "border": null,
      "bottom": null,
      "display": null,
      "flex": null,
      "flex_flow": null,
      "grid_area": null,
      "grid_auto_columns": null,
      "grid_auto_flow": null,
      "grid_auto_rows": null,
      "grid_column": null,
      "grid_gap": null,
      "grid_row": null,
      "grid_template_areas": null,
      "grid_template_columns": null,
      "grid_template_rows": null,
      "height": null,
      "justify_content": null,
      "justify_items": null,
      "left": null,
      "margin": null,
      "max_height": null,
      "max_width": null,
      "min_height": null,
      "min_width": null,
      "object_fit": null,
      "object_position": null,
      "order": null,
      "overflow": null,
      "overflow_x": null,
      "overflow_y": null,
      "padding": null,
      "right": null,
      "top": null,
      "visibility": null,
      "width": null
     }
    },
    "f9a40e30e1fc46089c472e5cb8feaff2": {
     "model_module": "@jupyter-widgets/base",
     "model_module_version": "1.2.0",
     "model_name": "LayoutModel",
     "state": {
      "_model_module": "@jupyter-widgets/base",
      "_model_module_version": "1.2.0",
      "_model_name": "LayoutModel",
      "_view_count": null,
      "_view_module": "@jupyter-widgets/base",
      "_view_module_version": "1.2.0",
      "_view_name": "LayoutView",
      "align_content": null,
      "align_items": null,
      "align_self": null,
      "border": null,
      "bottom": null,
      "display": null,
      "flex": null,
      "flex_flow": null,
      "grid_area": null,
      "grid_auto_columns": null,
      "grid_auto_flow": null,
      "grid_auto_rows": null,
      "grid_column": null,
      "grid_gap": null,
      "grid_row": null,
      "grid_template_areas": null,
      "grid_template_columns": null,
      "grid_template_rows": null,
      "height": null,
      "justify_content": null,
      "justify_items": null,
      "left": null,
      "margin": null,
      "max_height": null,
      "max_width": null,
      "min_height": null,
      "min_width": null,
      "object_fit": null,
      "object_position": null,
      "order": null,
      "overflow": null,
      "overflow_x": null,
      "overflow_y": null,
      "padding": null,
      "right": null,
      "top": null,
      "visibility": null,
      "width": null
     }
    },
    "fef6f61c285243868ec70dccb7fdc0ad": {
     "model_module": "@jupyter-widgets/controls",
     "model_module_version": "1.5.0",
     "model_name": "HBoxModel",
     "state": {
      "_dom_classes": [],
      "_model_module": "@jupyter-widgets/controls",
      "_model_module_version": "1.5.0",
      "_model_name": "HBoxModel",
      "_view_count": null,
      "_view_module": "@jupyter-widgets/controls",
      "_view_module_version": "1.5.0",
      "_view_name": "HBoxView",
      "box_style": "",
      "children": [
       "IPY_MODEL_449234db07d241cd9293b032ae88701a",
       "IPY_MODEL_d3a16bf08aea4800bac4fb0dabadb9ef",
       "IPY_MODEL_0e8b902168b7457fb3fd2c1e37d56109"
      ],
      "layout": "IPY_MODEL_7b7ccb3823e242c1a43a02bd958ff557"
     }
    }
   }
  }
 },
 "nbformat": 4,
 "nbformat_minor": 5
}
