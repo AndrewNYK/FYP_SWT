{
 "cells": [
  {
   "cell_type": "code",
   "execution_count": 1,
   "id": "gL4EoFd2Ybox",
   "metadata": {
    "colab": {
     "base_uri": "https://localhost:8080/"
    },
    "id": "gL4EoFd2Ybox",
    "outputId": "219bb41c-cbbb-4505-de0d-205b0f82c93c"
   },
   "outputs": [],
   "source": [
    "# from google.colab import drive\n",
    "# drive.mount('/content/gdrive')"
   ]
  },
  {
   "cell_type": "code",
   "execution_count": 2,
   "id": "JnUNjZQmYdZu",
   "metadata": {
    "colab": {
     "base_uri": "https://localhost:8080/"
    },
    "id": "JnUNjZQmYdZu",
    "outputId": "ef8eb020-7c3b-42e4-92df-d3f65f06c3bb"
   },
   "outputs": [],
   "source": [
    "# pip install pgzip==0.3.0"
   ]
  },
  {
   "cell_type": "code",
   "execution_count": 3,
   "id": "TTY5QNR2YfEy",
   "metadata": {
    "colab": {
     "base_uri": "https://localhost:8080/"
    },
    "id": "TTY5QNR2YfEy",
    "outputId": "64a8c5be-0dd9-425a-dd2d-2882f63b85e3"
   },
   "outputs": [
    {
     "name": "stdout",
     "output_type": "stream",
     "text": [
      "[name: \"/device:CPU:0\"\n",
      "device_type: \"CPU\"\n",
      "memory_limit: 268435456\n",
      "locality {\n",
      "}\n",
      "incarnation: 17880240748975937104\n",
      "xla_global_id: -1\n",
      ", name: \"/device:GPU:0\"\n",
      "device_type: \"GPU\"\n",
      "memory_limit: 3680501760\n",
      "locality {\n",
      "  bus_id: 1\n",
      "  links {\n",
      "  }\n",
      "}\n",
      "incarnation: 13258244186559419870\n",
      "physical_device_desc: \"device: 0, name: NVIDIA GeForce RTX 3050 6GB Laptop GPU, pci bus id: 0000:01:00.0, compute capability: 8.6\"\n",
      "xla_global_id: 416903419\n",
      "]\n"
     ]
    }
   ],
   "source": [
    "from tensorflow.python.client import device_lib\n",
    "print(device_lib.list_local_devices())"
   ]
  },
  {
   "cell_type": "code",
   "execution_count": 4,
   "id": "0c52fc97",
   "metadata": {
    "id": "0c52fc97"
   },
   "outputs": [],
   "source": [
    "import numpy as np\n",
    "\n",
    "import sys\n",
    "import time\n",
    "sys.path.append(\"./Models\")\n",
    "import os\n",
    "os.system('')\n",
    "\n",
    "import subprocess\n",
    "import torch\n",
    "from torch.utils.data import Dataset\n",
    "\n",
    "import pickle\n",
    "import pgzip\n",
    "import copy\n",
    "\n",
    "import datetime\n",
    "\n",
    "import math\n",
    "from sklearn.preprocessing import MinMaxScaler,StandardScaler\n",
    "from sklearn.metrics import mean_squared_error,mean_absolute_error\n",
    "import matplotlib.pyplot as plt"
   ]
  },
  {
   "cell_type": "code",
   "execution_count": 5,
   "id": "7c2d59d0",
   "metadata": {
    "id": "7c2d59d0"
   },
   "outputs": [],
   "source": [
    "#Default settings for experiment\n",
    "arg_model = \"tsrnn\" #Options: 'trfbb', 'tsrnn', 'trfbf'\n",
    "arg_dset = \"dyt\" #Datasets -- Spain: 'ree', AEP, DAYTON: 'dyt' London: 'lsm'\n",
    "\n",
    "attr_dset_smpl_rt = 24 if arg_dset == \"aep\" else (48 if arg_dset == \"lsm\" else 24) #Samples per day. Spain, AEP: 24, London: 48\n",
    "param_dset_lookback_weeks = 5\n",
    "param_dset_forecast = 48 if arg_dset == \"lsm\" else 24\n",
    "# param_dset_lookback_weeks = 9\n",
    "# param_dset_forecast = 168 if arg_dset == \"lsm\" else 84 # 3.5days = 168\n",
    "param_dset_train_stride = 48 #Choose a coprime value to the forecast so all reading frames are eventually considered\n",
    "param_dset_test_stride = 'same' #tsrnn paper uses 1 week\n",
    "param_dset_lookback = param_dset_lookback_weeks*7*attr_dset_smpl_rt - param_dset_forecast\n",
    "\n",
    "param_trf_weather = False\n",
    "\n"
   ]
  },
  {
   "cell_type": "code",
   "execution_count": 6,
   "id": "aab7d942",
   "metadata": {
    "id": "aab7d942"
   },
   "outputs": [],
   "source": [
    "import pywt\n",
    "from tqdm.auto import tqdm\n",
    "\n",
    "# Get the maximum decomposition level\n",
    "def print_maximal_decom_level(data):\n",
    "    max_level = pywt.swt_max_level(data)\n",
    "    print(\"Maximum decomposition level:\", max_level)\n",
    "\n",
    "    return max_level\n",
    "\n",
    "# SWT functions\n",
    "def data_preparation(dataset, window, lev):\n",
    "    da = []\n",
    "    max_level = print_maximal_decom_level(window)\n",
    "    for i in tqdm(range(len(dataset)), total=len(dataset), desc=\"swt\"):\n",
    "        coeffs = pywt.swt(dataset[i], wavelet='db2', level=lev)\n",
    "        da.append(coeffs);\n",
    "    return da\n",
    "\n",
    "def data_reconstruction(dataset):\n",
    "    da = []\n",
    "    for i in tqdm(range(len(dataset)), total= len(dataset), desc=\"iswt\"):\n",
    "#         recon = pywt.iswt(dataset[i,:,:,:].tolist(), 'db2')\n",
    "        recon = pywt.iswt(dataset[i], 'db2')\n",
    "#         print(np.array(recon).shape)\n",
    "        da.append(recon)\n",
    "#         da.append(recon[0][window-1])\n",
    "    return da\n",
    "\n",
    "\n",
    "# Called because iswt cannot accept tolist() dataset\n",
    "def data_organization(coeffs):\n",
    "    '''\n",
    "    Reshape data back to (n,3,2,window_length), where there are 3 tuples of 2 values consisting of\n",
    "    coeffs array_like Coefficients list of tuples:\n",
    "    [(cAn, cDn), ..., (cA2, cD2), (cA1, cD1)]\n",
    "    '''\n",
    "    reshape_list = []\n",
    "    for i in range(len(coeffs)):\n",
    "        reshape_list.append([])\n",
    "        for j in range(len(coeffs[0])):\n",
    "            reshape_list[i].append(tuple(coeffs[i][j]))\n",
    "\n",
    "    return reshape_list"
   ]
  },
  {
   "cell_type": "code",
   "execution_count": 7,
   "id": "8ed9883e",
   "metadata": {
    "id": "8ed9883e"
   },
   "outputs": [],
   "source": [
    "# -*- coding: utf-8 -*-\n",
    "\n",
    "import numpy as np\n",
    "\n",
    "import os\n",
    "import subprocess\n",
    "import torch\n",
    "from torch.utils.data import Dataset\n",
    "\n",
    "import pickle\n",
    "import pgzip\n",
    "import copy\n",
    "\n",
    "import datetime\n",
    "\n",
    "class DAYTON(Dataset):\n",
    "    \"\"\"\n",
    "    PJM-DAYTON dataset. Instantaneous power reported in MW.\n",
    "    Ranges from around ??? GW (???? MW) to ??? GW (???? MW).\n",
    "    \"\"\"\n",
    "    def __init__(self,path = '.',start_idx = 0, end_idx = 9999999,\n",
    "                 seq_len = 816, pred_horz = 24, stride=-1, timestamp = True):\n",
    "        assert(end_idx - start_idx > seq_len+pred_horz)\n",
    "        if stride <= 0:\n",
    "            stride = seq_len+pred_horz\n",
    "        #if 'aep_tensor.pkl' not in os.listdir(path) or 'aep_timestamps.pkl' not in os.listdir(path):\n",
    "        if 'dayton_dict.pkl.pgz' not in os.listdir(path):\n",
    "            raise FileNotFoundError(os.listdir(path))\n",
    "            #subprocess.check_call('python ./dayton_.py . aep_dict.pkl.pgz')\n",
    "\n",
    "        # with open(os.path.join(path,'aep_tensor.pkl'),'rb') as f:\n",
    "        #     series = pickle.load(f)\n",
    "        # with open(os.path.join(path,'aep_timestamps.pkl'),'rb') as f:\n",
    "        #     timestamps = pickle.load(f)\n",
    "\n",
    "        with pgzip.open(os.path.join(path,'dayton_dict.pkl.pgz')) as f:\n",
    "            sd = pickle.load(f)\n",
    "\n",
    "        series = sd[\"tensor\"] #121296 total elements\n",
    "        starttime = sd['start_time']\n",
    "\n",
    "        self.total_datapoints = len(series)\n",
    "\n",
    "        end_idx = min(end_idx,len(series))\n",
    "\n",
    "        wset = []\n",
    "        ser_start = []\n",
    "        pred_start = []\n",
    "        i = start_idx\n",
    "        while i + seq_len + pred_horz < end_idx:\n",
    "            wset.append(series[i:i+seq_len+pred_horz])\n",
    "            # ser_start.append(timestamps[i])\n",
    "            # pred_start.append(timestamps[i+seq_len+1])\n",
    "            ser_start.append(starttime + i*datetime.timedelta(hours=1))\n",
    "            pred_start.append(starttime + (i + seq_len)*datetime.timedelta(hours=1))\n",
    "            i += stride\n",
    "\n",
    "        wset = torch.stack(wset).unsqueeze(-1)\n",
    "        self.series = wset\n",
    "\n",
    "        for i in range(len(ser_start)):\n",
    "            tmptime = ser_start[i]\n",
    "            ser_start[i] = [tmptime.year,\n",
    "                            tmptime.month,\n",
    "                            tmptime.day,\n",
    "                            tmptime.hour,\n",
    "                            tmptime.minute,\n",
    "                            tmptime.second]\n",
    "\n",
    "        for i in range(len(pred_start)):\n",
    "            tmptime = pred_start[i]\n",
    "            pred_start[i] = [tmptime.year,\n",
    "                            tmptime.month,\n",
    "                            tmptime.day,\n",
    "                            tmptime.hour,\n",
    "                            tmptime.minute,\n",
    "                            tmptime.second]\n",
    "\n",
    "        #Series normalization\n",
    "        #Convert nans so that they do not count toward the min/max\n",
    "        # smin = self.series.nan_to_num(nan=torch.finfo(self.series.dtype).max).amin(dim=-2,keepdim=True)\n",
    "        # smax = self.series.nan_to_num(nan=torch.finfo(self.series.dtype).min).amax(dim=-2,keepdim=True)\n",
    "\n",
    "        self._min = self.series[~self.series.isnan()].min()\n",
    "        self._max = self.series[~self.series.isnan()].max()\n",
    "\n",
    "        #self.series = (self.series - smin.broadcast_to(self.series.shape))/(smax-smin).broadcast_to(self.series.shape)\n",
    "        self.series_starttimes = torch.tensor(ser_start,dtype=torch.long)\n",
    "        self.pred_start = torch.tensor(pred_start,dtype=torch.long)\n",
    "\n",
    "        self.length = len(self.series)\n",
    "        self.return_timestamps = timestamp\n",
    "\n",
    "        self.seq_len = seq_len\n",
    "        self.pred_horz = pred_horz\n",
    "\n",
    "        #Dataset in use will contain nans, to be handled by the training code\n",
    "\n",
    "    def __len__(self):\n",
    "        return self.length\n",
    "\n",
    "    def min(self):\n",
    "        \"\"\"Returns the minimum load power in GW\"\"\"\n",
    "        return self._min\n",
    "        #return 18.041\n",
    "\n",
    "    def max(self):\n",
    "        \"\"\"Returns the maximum load power in GW\"\"\"\n",
    "        return self._max\n",
    "        #return 41.015\n",
    "\n",
    "    def __getitem__(self,idx):\n",
    "        if self.return_timestamps:\n",
    "            return self.series[idx][:self.seq_len], self.series[idx][self.seq_len:], self.series_starttimes[idx], self.pred_start[idx]\n",
    "        return self.series[idx][:self.seq_len], self.series[idx][self.seq_len:]"
   ]
  },
  {
   "cell_type": "code",
   "execution_count": 8,
   "id": "3e0d3dc2",
   "metadata": {
    "colab": {
     "base_uri": "https://localhost:8080/"
    },
    "id": "3e0d3dc2",
    "outputId": "714b3299-2775-40d9-d05e-57757726fb19"
   },
   "outputs": [
    {
     "name": "stdout",
     "output_type": "stream",
     "text": [
      "torch.Size([3318, 840, 1])\n"
     ]
    }
   ],
   "source": [
    "# path = '/content/gdrive/MyDrive/FYP/Datasets/PJM_energy_datasets'\n",
    "path = '.'\n",
    "import sys\n",
    "sys.path.insert(0,path)\n",
    "\n",
    "full_set = DAYTON(path = \".\",\n",
    "                  seq_len = param_dset_lookback,\n",
    "                  pred_horz = param_dset_forecast,\n",
    "                  timestamp = False)\n",
    "dytmax = full_set.max()\n",
    "dytmin = full_set.min()\n",
    "del(full_set)\n",
    "\n",
    "train_set = DAYTON(path = \".\",\n",
    "                start_idx = 0, end_idx = 97036,\n",
    "                seq_len = param_dset_lookback,\n",
    "                pred_horz = param_dset_forecast,\n",
    "                stride=29,\n",
    "                timestamp = False)\n",
    "val_set = DAYTON(path = \".\",\n",
    "              start_idx = 97036, end_idx = 97036+12129,\n",
    "                seq_len = param_dset_lookback,\n",
    "                pred_horz = param_dset_forecast,\n",
    "                stride=param_dset_forecast,\n",
    "                timestamp = False)\n",
    "test_set = DAYTON(path = \".\",\n",
    "                start_idx = 97036+12129,\n",
    "                seq_len = param_dset_lookback,\n",
    "                pred_horz = param_dset_forecast,\n",
    "                stride=param_dset_forecast,\n",
    "                timestamp = False)\n",
    "\n",
    "\n",
    "train_set.series = (train_set.series - dytmin)/(dytmax - dytmin)\n",
    "val_set.series = (val_set.series - dytmin)/(dytmax - dytmin)\n",
    "test_set.series = (test_set.series - dytmin)/(dytmax - dytmin)\n",
    "\n",
    "print(train_set.series.shape)"
   ]
  },
  {
   "cell_type": "code",
   "execution_count": 9,
   "id": "a03b3057",
   "metadata": {
    "colab": {
     "base_uri": "https://localhost:8080/",
     "height": 582,
     "referenced_widgets": [
      "7a1863c060574471a1269845fba411b3",
      "0d6df6c164004c989b305dd574a0f161",
      "4bc85bc9085b4bf58b9e582a525a156f",
      "0ac21ef2886f4d5d824eb1c2c3a6cd1f",
      "20e1b14e268e4ca7b26015a0550a46b4",
      "88e592270bf34d75a2b6cb1b3a084dc4",
      "16ef9a1c2e8744f4aaf59a88383a280f",
      "da3cfc7266294a3bad6e92f37d6dff37",
      "b849142db43b443e9cff5d1668421462",
      "6c91baf251014a12ae85e5de4c02fb3c",
      "c6306010a67044f2871c97ac225073eb",
      "fef6f61c285243868ec70dccb7fdc0ad",
      "449234db07d241cd9293b032ae88701a",
      "d3a16bf08aea4800bac4fb0dabadb9ef",
      "0e8b902168b7457fb3fd2c1e37d56109",
      "7b7ccb3823e242c1a43a02bd958ff557",
      "380cd12c94fb4845b18b7b5cc6438bfb",
      "cd351d2406e94be8a62acc07a98e5aee",
      "181483622bf74cc7be60ec75433ba70a",
      "933cdb021ad04f738e93ebcd22842fbb",
      "a730ae1587b247c8954edd17fdbbd2ce",
      "80fa96ed08d84d0288cd4fdc8bc8667c",
      "810e3bd107f0475abe9ef231c2f7c303",
      "9b51cd4c37cc4610a32e6b99296552f1",
      "4395ebe6f5f04a27bdfa264604ed1b3a",
      "dc000aef513b441394e3a7e133a7650f",
      "0ca5dcaa5bce46fbba8591badf5df69b",
      "a744b2cb46034bebb46b75b53b00e724",
      "61c19f3e4f314df2a7fc7d9b1d179fe9",
      "c88119e9d77f469f8d0a9cd2c379eb46",
      "1765c3a16e174d5cbdc893635df7c2f9",
      "77ff28af0e6f4c3e9533bb0257fcae5a",
      "4b8ceaef190f4ea0884fc7c0578a0ca4"
     ]
    },
    "id": "a03b3057",
    "outputId": "c885ebc0-075c-4b9f-f060-c4e269b7f704"
   },
   "outputs": [
    {
     "name": "stdout",
     "output_type": "stream",
     "text": [
      "total series shape after squeeze:  torch.Size([3318, 816])\n",
      "torch shape:  torch.Size([3318, 816])\n",
      "numpy shape:  (3318, 816)\n",
      "Maximum decomposition level: 4\n"
     ]
    },
    {
     "data": {
      "application/vnd.jupyter.widget-view+json": {
       "model_id": "5b7fdc1c944a49d090299b0871db0b5f",
       "version_major": 2,
       "version_minor": 0
      },
      "text/plain": [
       "swt:   0%|          | 0/3318 [00:00<?, ?it/s]"
      ]
     },
     "metadata": {},
     "output_type": "display_data"
    },
    {
     "name": "stdout",
     "output_type": "stream",
     "text": [
      "(3318, 3, 2, 816)\n",
      "(3318, 4896)\n",
      "(3318, 6, 816)\n",
      "train_set_transform shape:  (3318, 6, 816)\n",
      "----------------------------------------------------\n",
      "total series shape after squeeze:  torch.Size([471, 816])\n",
      "torch shape:  torch.Size([471, 816])\n",
      "numpy shape:  (471, 816)\n",
      "Maximum decomposition level: 4\n"
     ]
    },
    {
     "data": {
      "application/vnd.jupyter.widget-view+json": {
       "model_id": "fec28cbac4c54cf194386f3675709980",
       "version_major": 2,
       "version_minor": 0
      },
      "text/plain": [
       "swt:   0%|          | 0/471 [00:00<?, ?it/s]"
      ]
     },
     "metadata": {},
     "output_type": "display_data"
    },
    {
     "name": "stdout",
     "output_type": "stream",
     "text": [
      "(471, 3, 2, 816)\n",
      "(471, 4896)\n",
      "(471, 6, 816)\n",
      "val_set_transform shape:  (471, 6, 816)\n",
      "----------------------------------------------------\n",
      "total series shape after squeeze:  torch.Size([471, 816])\n",
      "torch shape:  torch.Size([471, 816])\n",
      "numpy shape:  (471, 816)\n",
      "Maximum decomposition level: 4\n"
     ]
    },
    {
     "data": {
      "application/vnd.jupyter.widget-view+json": {
       "model_id": "6b91c73eb24b4819b02e83f60e9d8932",
       "version_major": 2,
       "version_minor": 0
      },
      "text/plain": [
       "swt:   0%|          | 0/471 [00:00<?, ?it/s]"
      ]
     },
     "metadata": {},
     "output_type": "display_data"
    },
    {
     "name": "stdout",
     "output_type": "stream",
     "text": [
      "(471, 3, 2, 816)\n",
      "(471, 4896)\n",
      "(471, 6, 816)\n",
      "test_set_transform shape:  (471, 6, 816)\n",
      "----------------------------------------------------\n"
     ]
    }
   ],
   "source": [
    "#SWT Transformation\n",
    "def swt_transformation(self_series):\n",
    "    self_series = self_series.squeeze(-1)\n",
    "    print(\"total series shape after squeeze: \", self_series.shape)\n",
    "    self_series_numpy = self_series.numpy()\n",
    "    print(\"torch shape: \", self_series.shape)\n",
    "    print(\"numpy shape: \", self_series_numpy.shape)\n",
    "#     print(self_series[0])\n",
    "#     print(self_series_numpy[0])\n",
    "    lev = 3\n",
    "    da = data_preparation(self_series_numpy, self_series_numpy.shape[1], lev)\n",
    "#     print(da[0][0])\n",
    "\n",
    "    Vv = np.array(da)\n",
    "    print(Vv.shape)\n",
    "    # print(Vv[0][0])\n",
    "\n",
    "    vv = Vv.reshape(Vv.shape[0],2*lev*Vv.shape[3])\n",
    "    print(vv.shape)\n",
    "\n",
    "\n",
    "    # dataset = scaler.fit_transform(vv)\n",
    "\n",
    "    dat = vv.reshape(Vv.shape[0],2*lev,Vv.shape[3])\n",
    "    print(dat.shape)\n",
    "\n",
    "    # Check Reconstruction whether it is correct -> This is correct\n",
    "    # D = dat.reshape(Vv.shape[0],2*lev*Vv.shape[3])\n",
    "    # print(D.shape)\n",
    "    \n",
    "    # R = D.reshape(Vv.shape[0],lev,2,Vv.shape[3])\n",
    "    # print(R.shape)\n",
    "    \n",
    "    # R = data_organization(R)\n",
    "    # # print(R[0][0])\n",
    "\n",
    "    # re=data_reconstruction(R)\n",
    "    # Re = np.array(re)\n",
    "    # print(Re.shape)\n",
    "    # print(self_series[0])\n",
    "    # print(Re[0])\n",
    "\n",
    "    return dat\n",
    "\n",
    "train_set_transform = swt_transformation(train_set.series[:,:param_dset_lookback])\n",
    "print(\"train_set_transform shape: \", train_set_transform.shape)\n",
    "print(\"----------------------------------------------------\")\n",
    "\n",
    "val_set_transform = swt_transformation(val_set.series[:,:param_dset_lookback])\n",
    "print(\"val_set_transform shape: \", val_set_transform.shape)\n",
    "print(\"----------------------------------------------------\")\n",
    "\n",
    "test_set_transform = swt_transformation(test_set.series[:,:param_dset_lookback])\n",
    "print(\"test_set_transform shape: \", test_set_transform.shape)\n",
    "print(\"----------------------------------------------------\")"
   ]
  },
  {
   "cell_type": "code",
   "execution_count": 10,
   "id": "c3e16c4e-9bfb-42ac-8bbb-b2adc53547bc",
   "metadata": {},
   "outputs": [
    {
     "name": "stdout",
     "output_type": "stream",
     "text": [
      "torch.Size([3318, 816, 6])\n",
      "torch.Size([471, 816, 6])\n",
      "torch.Size([471, 816, 6])\n"
     ]
    }
   ],
   "source": [
    "# Concat swt as features with original data as inputs\n",
    "swt_train_features=torch.from_numpy(np.transpose(train_set_transform, (0, 2, 1)))\n",
    "swt_val_features =torch.from_numpy(np.transpose(val_set_transform, (0, 2, 1)))\n",
    "swt_test_features=torch.from_numpy(np.transpose(test_set_transform, (0, 2, 1)))\n",
    "\n",
    "print(swt_train_features.shape)\n",
    "print(swt_val_features.shape)\n",
    "print(swt_test_features.shape)\n"
   ]
  },
  {
   "cell_type": "code",
   "execution_count": 11,
   "id": "d566a8d0",
   "metadata": {
    "colab": {
     "base_uri": "https://localhost:8080/"
    },
    "id": "d566a8d0",
    "outputId": "d33048ce-a8f0-40fd-bf73-aee3350fe1e8"
   },
   "outputs": [
    {
     "name": "stdout",
     "output_type": "stream",
     "text": [
      "torch.Size([3318, 816, 1])\n",
      "torch.Size([471, 816, 1])\n",
      "torch.Size([471, 816, 1])\n",
      "torch.Size([3318, 24, 1])\n",
      "torch.Size([471, 24, 1])\n",
      "torch.Size([471, 24, 1])\n",
      "torch.Size([3318, 816, 7])\n",
      "torch.Size([471, 816, 7])\n",
      "torch.Size([471, 816, 7])\n"
     ]
    }
   ],
   "source": [
    "# Split seq_len and pred\n",
    "\n",
    "trainX,trainY = train_set.series[:int(train_set_transform.shape[0]),:param_dset_lookback,:], train_set.series[:int(train_set_transform.shape[0]),param_dset_lookback:,:]\n",
    "valX,valY = val_set.series[:,:param_dset_lookback,:], val_set.series[:,param_dset_lookback:,:]\n",
    "testX,testY = test_set.series[:,:param_dset_lookback,:], test_set.series[:,param_dset_lookback:,:]\n",
    "\n",
    "print(trainX.shape)\n",
    "print(valX.shape)\n",
    "print(testX.shape)\n",
    "\n",
    "print(trainY.shape)\n",
    "print(valY.shape)\n",
    "print(testY.shape)\n",
    "\n",
    "trainX = torch.cat((trainX, swt_train_features), dim=-1)\n",
    "valX = torch.cat((valX, swt_val_features), dim=-1)\n",
    "testX = torch.cat((testX, swt_test_features), dim=-1)\n",
    "\n",
    "print(trainX.shape)\n",
    "print(valX.shape)\n",
    "print(testX.shape)\n",
    "\n",
    "\n",
    "\n"
   ]
  },
  {
   "cell_type": "markdown",
   "id": "979e36f9",
   "metadata": {
    "id": "979e36f9"
   },
   "source": [
    "## Model Initialization"
   ]
  },
  {
   "cell_type": "code",
   "execution_count": 12,
   "id": "9abf1110",
   "metadata": {
    "id": "9abf1110"
   },
   "outputs": [],
   "source": [
    "import torch\n",
    "import torch.nn as nn\n",
    "import torch.nn.functional as F\n",
    "\n",
    "# path1 = \"/content/gdrive/MyDrive/FYP/Models\"\n",
    "# path2 = \"/content/gdrive/MyDrive/FYP/Models/BigBirdSparse\"\n",
    "# import sys\n",
    "# sys.path.insert(1,path1)\n",
    "# sys.path.insert(2,path2)\n",
    "import sys\n",
    "sys.path.append(\"../../Models\")\n",
    "\n",
    "from Encodings.encoding import LearnablePositionalEncoding\n",
    "from BigBirdSparse.bb_sparse import BlockSparseMultiheadAttention\n",
    "from BigBirdSparse.bb_fixed import BlockSparseFixedAttention\n",
    "from transformer_base import TBatchNorm\n",
    "\n",
    "class TransformerBBSparse(nn.Module):\n",
    "    def __init__(self, seq_len=2560, out_seq_len=24, interval=1, inp_dim=1, emb_dim=64,\\\n",
    "                 n_heads=4, n_enc_layers=2, n_dec_layers=2, block_size=40,\\\n",
    "                ffdim=128, drop_p = 0.1):\n",
    "        super(TransformerBBSparse,self).__init__()\n",
    "        self.seq_len = seq_len\n",
    "        self.out_seq_len = out_seq_len\n",
    "        self.emb_dim = emb_dim\n",
    "        #self.in_norm = nn.BatchNorm1d(seq_len,affine=False)\n",
    "        self.input_linear = nn.Linear(inp_dim,emb_dim)\n",
    "        #self.input_pool = nn.AvgPool1d(kernel_size=5,stride=5)\n",
    "        self.pe = LearnablePositionalEncoding(emb_dim,dropout=0.1,max_len=seq_len)\n",
    "        #self.pe = CosineEmbedding(emb_dim,max_len=seq_len,scale_factor=0.1)\n",
    "        #self.tpe = TimestampCosineEmbedding(emb_dim, interval, max_len = seq_len)\n",
    "\n",
    "        self.trf_el = nn.TransformerEncoderLayer(emb_dim,n_heads,ffdim,\n",
    "                                                 activation=F.gelu,dropout=drop_p,\n",
    "                                                 batch_first=True,norm_first=True)\n",
    "        self.trf_el.self_attn = BlockSparseMultiheadAttention(emb_dim, n_heads, block_size,batch_first=True)\n",
    "        #self.trf_el.self_attn = BlockSparseMheadAttnFixed(emb_dim, n_heads, block_size,batch_first=True)\n",
    "\n",
    "        self.trf_dl = nn.TransformerDecoderLayer(emb_dim,n_heads,ffdim,\n",
    "                                                 activation=F.gelu,dropout=drop_p,\n",
    "                                                 batch_first=True,norm_first=True)\n",
    "\n",
    "        self.trf_el.norm1 = TBatchNorm(num_features=emb_dim)\n",
    "        self.trf_el.norm1 = TBatchNorm(num_features=emb_dim)\n",
    "        self.trf_el.norm2 = TBatchNorm(num_features=emb_dim)\n",
    "\n",
    "        self.trf_dl.norm1 = TBatchNorm(num_features=emb_dim)\n",
    "        self.trf_dl.norm2 = TBatchNorm(num_features=emb_dim)\n",
    "        self.trf_dl.norm3 = TBatchNorm(num_features=emb_dim)\n",
    "\n",
    "        self.trf_e = nn.TransformerEncoder(self.trf_el,num_layers=n_enc_layers)\n",
    "        self.trf_d = nn.TransformerDecoder(self.trf_dl,num_layers=n_dec_layers)\n",
    "\n",
    "        # self.out = nn.Linear(emb_dim,inp_dim)\n",
    "        self.out = nn.Linear(emb_dim,1)\n",
    "        self.drop = nn.Dropout(p=drop_p)\n",
    "\n",
    "        # self.dec_tar = torch.nn.Parameter(torch.zeros((out_seq_len,emb_dim)))\n",
    "        # nn.init.normal_(self.dec_tar)\n",
    "        self.aux_out = nn.Linear(emb_dim,1)#inp_dim)\n",
    "        #self.reduce = nn.Linear(seq_len,out_seq_len)\n",
    "        self.aux_in = nn.Linear(1,emb_dim)#inp_dim,emb_dim)\n",
    "\n",
    "        self.expand = nn.Linear(seq_len,5120)\n",
    "        self.compress = nn.Linear(5120,out_seq_len)\n",
    "\n",
    "    def forward(self,x):\n",
    "        '''x: [batch dim, sequence length, variable dim]'''\n",
    "        x1 = self.input_linear(x) # x1.shape: [batch, seq len, emb dim]\n",
    "        x1 = self.pe(x1.permute(1,0,2)).permute(1,0,2)\n",
    "        #x1 = self.tpe(x1.permute(1,0,2),in_start_time).permute(1,0,2)\n",
    "        mem = self.trf_e(x1)\n",
    "\n",
    "        dec_in = self.aux_out(mem)\n",
    "        dec_in = F.gelu(self.expand(dec_in.view((-1,self.seq_len))))\n",
    "        dec_in = self.drop(dec_in)\n",
    "        dec_in = self.compress(dec_in)\n",
    "        #dec_in = F.gelu(self.reduce(dec_in.view((-1,self.seq_len))))\n",
    "\n",
    "        dec_in = self.aux_in(dec_in.unsqueeze(-1))\n",
    "\n",
    "        # x2 = self.trf_d(self.dec_tar.broadcast_to(x.shape[0],self.out_seq_len,self.emb_dim)\\\n",
    "        #                 ,mem)\n",
    "        x2 = self.trf_d(self.pe(dec_in.permute(1,0,2))\\\n",
    "                        .permute(1,0,2),mem)\n",
    "        # x2 = self.trf_d(self.tpe(dec_in.permute(1,0,2),pred_start_time)\\\n",
    "        #                 .permute(1,0,2),mem)\n",
    "\n",
    "        o1 = self.out(x2)\n",
    "\n",
    "        return o1\n",
    "\n"
   ]
  },
  {
   "cell_type": "code",
   "execution_count": 13,
   "id": "0b50fe50",
   "metadata": {
    "id": "0b50fe50"
   },
   "outputs": [],
   "source": [
    "class TransformerBBFixed(nn.Module):\n",
    "    def __init__(self, seq_len=2560, out_seq_len=24, interval=1, inp_dim=1, emb_dim=64,\\\n",
    "                 n_heads=4, n_enc_layers=2, n_dec_layers=2, block_size=40,\\\n",
    "                ffdim=128, drop_p = 0.1):\n",
    "        super(TransformerBBFixed,self).__init__()\n",
    "        self.seq_len = seq_len\n",
    "        self.out_seq_len = out_seq_len\n",
    "        self.emb_dim = emb_dim\n",
    "        #self.in_norm = nn.BatchNorm1d(seq_len,affine=False)\n",
    "        self.input_linear = nn.Linear(inp_dim,emb_dim)\n",
    "        #self.input_pool = nn.AvgPool1d(kernel_size=5,stride=5)\n",
    "        self.pe = LearnablePositionalEncoding(emb_dim,dropout=drop_p,max_len=seq_len)\n",
    "        #self.pe = CosineEmbedding(emb_dim,max_len=seq_len,scale_factor=0.1)\n",
    "        #self.tpe = TimestampCosineEmbedding(emb_dim, interval, max_len = seq_len)\n",
    "\n",
    "        self.trf_el = nn.TransformerEncoderLayer(emb_dim,n_heads,ffdim,\n",
    "                                                 activation=F.gelu,dropout=drop_p,\n",
    "                                                 batch_first=True,norm_first=True)\n",
    "        #self.trf_el.self_attn = BlockSparseMultiheadAttention(emb_dim, n_heads, block_size,batch_first=True)\n",
    "        self.trf_el.self_attn = BlockSparseFixedAttention(emb_dim, n_heads, block_size,batch_first=True)\n",
    "\n",
    "        self.trf_dl = nn.TransformerDecoderLayer(emb_dim,n_heads,ffdim,\n",
    "                                                 activation=F.gelu,dropout=drop_p,\n",
    "                                                 batch_first=True,norm_first=True)\n",
    "\n",
    "        self.trf_el.norm1 = TBatchNorm(num_features=emb_dim)\n",
    "        self.trf_el.norm1 = TBatchNorm(num_features=emb_dim)\n",
    "        self.trf_el.norm2 = TBatchNorm(num_features=emb_dim)\n",
    "\n",
    "        self.trf_dl.norm1 = TBatchNorm(num_features=emb_dim)\n",
    "        self.trf_dl.norm2 = TBatchNorm(num_features=emb_dim)\n",
    "        self.trf_dl.norm3 = TBatchNorm(num_features=emb_dim)\n",
    "\n",
    "        self.trf_e = nn.TransformerEncoder(self.trf_el,num_layers=n_enc_layers)\n",
    "        self.trf_d = nn.TransformerDecoder(self.trf_dl,num_layers=n_dec_layers)\n",
    "\n",
    "        # self.out = nn.Linear(emb_dim,inp_dim)\n",
    "        self.out = nn.Linear(emb_dim,1)\n",
    "        self.drop = nn.Dropout(p=drop_p)\n",
    "\n",
    "        # self.dec_tar = torch.nn.Parameter(torch.zeros((out_seq_len,emb_dim)))\n",
    "        # nn.init.normal_(self.dec_tar)\n",
    "        self.aux_out = nn.Linear(emb_dim,1)#inp_dim)\n",
    "        #self.reduce = nn.Linear(seq_len,out_seq_len)\n",
    "        self.aux_in = nn.Linear(1,emb_dim)#inp_dim,emb_dim)\n",
    "\n",
    "        self.expand = nn.Linear(seq_len,5120)\n",
    "        self.compress = nn.Linear(5120,out_seq_len)\n",
    "\n",
    "    def forward(self,x):\n",
    "        '''x: [batch dim, sequence length, variable dim]'''\n",
    "        x1 = self.input_linear(x) # x1.shape: [batch, seq len, emb dim]\n",
    "        x1 = self.pe(x1.permute(1,0,2)).permute(1,0,2)\n",
    "        #x1 = self.tpe(x1.permute(1,0,2),in_start_time).permute(1,0,2)\n",
    "        mem = self.trf_e(x1)\n",
    "\n",
    "        dec_in = self.aux_out(mem)\n",
    "        dec_in = F.gelu(self.expand(dec_in.view((-1,self.seq_len))))\n",
    "        dec_in = self.drop(dec_in)\n",
    "        dec_in = self.compress(dec_in)\n",
    "        #dec_in = F.gelu(self.reduce(dec_in.view((-1,self.seq_len))))\n",
    "\n",
    "        dec_in = self.aux_in(dec_in.unsqueeze(-1))\n",
    "\n",
    "        # x2 = self.trf_d(self.dec_tar.broadcast_to(x.shape[0],self.out_seq_len,self.emb_dim)\\\n",
    "        #                 ,mem)\n",
    "        x2 = self.trf_d(self.pe(dec_in.permute(1,0,2))\\\n",
    "                        .permute(1,0,2),mem)\n",
    "        # x2 = self.trf_d(self.tpe(dec_in.permute(1,0,2),pred_start_time)\\\n",
    "        #                 .permute(1,0,2),mem)\n",
    "\n",
    "        o1 = self.out(x2)\n",
    "\n",
    "        return o1"
   ]
  },
  {
   "cell_type": "code",
   "execution_count": null,
   "id": "973b717b",
   "metadata": {
    "id": "973b717b"
   },
   "outputs": [],
   "source": []
  },
  {
   "cell_type": "code",
   "execution_count": null,
   "id": "c516d8f7",
   "metadata": {
    "id": "c516d8f7"
   },
   "outputs": [],
   "source": []
  },
  {
   "cell_type": "code",
   "execution_count": null,
   "id": "080fde85",
   "metadata": {
    "id": "080fde85"
   },
   "outputs": [],
   "source": []
  },
  {
   "cell_type": "code",
   "execution_count": 14,
   "id": "eOcxMjAdb_19",
   "metadata": {
    "id": "eOcxMjAdb_19"
   },
   "outputs": [],
   "source": [
    "# Early stopping\n",
    "class EarlyStopper:\n",
    "    def __init__(self, patience=10, min_delta=0):\n",
    "        self.patience = patience\n",
    "        self.min_delta = min_delta\n",
    "        self.counter = 0\n",
    "        self.min_validation_loss = np.inf\n",
    "\n",
    "    def early_stop(self, validation_loss):\n",
    "        if validation_loss < self.min_validation_loss:\n",
    "            self.min_validation_loss = validation_loss\n",
    "            self.counter = 0\n",
    "        elif validation_loss > (self.min_validation_loss + self.min_delta):\n",
    "            self.counter += 1\n",
    "            if self.counter >= self.patience:\n",
    "                return True\n",
    "        return False\n",
    "\n",
    "class SaveBestModel:\n",
    "    \"\"\"\n",
    "    Class to save or load the best model while training.\n",
    "    \"\"\"\n",
    "    def __init__(\n",
    "        self, best_valid_loss=float('inf')\n",
    "    ):\n",
    "        self.best_valid_loss = best_valid_loss\n",
    "\n",
    "    def __call__(\n",
    "        self, current_valid_loss, epoch, model\n",
    "    ):\n",
    "        if current_valid_loss < self.best_valid_loss:\n",
    "            self.best_valid_loss = current_valid_loss\n",
    "#             print(f\"\\nBest validation loss: {self.best_valid_loss}\")\n",
    "#             print(f\"\\nSaving best model for epoch: {epoch+1}\\n\")\n",
    "            # Save the PyTorch model\n",
    "            torch.save(model.state_dict(), 'transformer_5min.pth')\n",
    "\n",
    "patience = 50\n",
    "early_stopper = EarlyStopper(patience=patience, min_delta=0)\n",
    "saveBestModel = SaveBestModel()"
   ]
  },
  {
   "cell_type": "markdown",
   "id": "07f52ef6",
   "metadata": {
    "id": "07f52ef6"
   },
   "source": [
    "## Create model and data tensor"
   ]
  },
  {
   "cell_type": "code",
   "execution_count": 17,
   "id": "c11a8ea8",
   "metadata": {
    "id": "c11a8ea8"
   },
   "outputs": [],
   "source": [
    "batch_size = 64\n",
    "lev=3\n",
    "\n",
    "seq_len = param_dset_lookback\n",
    "\n",
    "# Transformer parameters\n",
    "inp_len = 2* lev + 1\n",
    "out_len = 2*lev\n",
    "emb_dim = 24\n",
    "n_heads = 4\n",
    "enc_layer = 4\n",
    "dec_layer = 4\n",
    "ff_dim = 256\n",
    "param_trf_bksz = 48"
   ]
  },
  {
   "cell_type": "code",
   "execution_count": 18,
   "id": "e83f32b4",
   "metadata": {
    "colab": {
     "base_uri": "https://localhost:8080/",
     "height": 170,
     "referenced_widgets": [
      "9829de0ad9b8432eb0dcd8fdd01cf97a",
      "004d848e6b8545a38ff0af8478653c2b",
      "852693f603684c5eab4223402e364d1d",
      "4f4374618538479d80cd46ea99dd93f5",
      "ea32c2a8cf9d41df8c25c6141683caf8",
      "f9a40e30e1fc46089c472e5cb8feaff2",
      "580a80552591472ea6da6fc386b441cc",
      "e31daaba94594b46b7ca78abf353bcae",
      "d8b0d11e031147f199b069ce9f424ffd",
      "973307790dfd453684f393add151fdf2",
      "6817b6547bd342289b5ec1d47122d239",
      "2bafe723e24a4f1d83f706c1a205712f",
      "bd7a84653fb64f6b80b1b29fda901a67",
      "3036d5d3d1d14a63a9bdcc31945478ee",
      "00be03abf2cc4670bee1415b0e22fc28",
      "e072098619654c249a66270ee75f9cc1",
      "3b3a0feb9b43474eb5e0e2b04c33ff6b",
      "d90557cb64fd4937aa98ffe3c02fc4f8",
      "5816cb37865d4f1db99ed85c5af67a54",
      "a362ad0e500a4d5d868ce428019cae12",
      "90d415083630471b908f4b001693dbe9",
      "57aafd9bfcf74b41a6f8c6b8db4451d3"
     ]
    },
    "id": "e83f32b4",
    "outputId": "e0a7f694-83da-43bc-97ae-fcd46890c364"
   },
   "outputs": [
    {
     "name": "stdout",
     "output_type": "stream",
     "text": [
      "Actual number of model parameters: 4488698\n",
      "Trainable model parameters: 4488698\n",
      "cuda\n"
     ]
    },
    {
     "name": "stderr",
     "output_type": "stream",
     "text": [
      "C:\\Users\\linwa\\AppData\\Local\\Temp\\ipykernel_14624\\1274684628.py:79: UserWarning: To copy construct from a tensor, it is recommended to use sourceTensor.clone().detach() or sourceTensor.clone().detach().requires_grad_(True), rather than torch.tensor(sourceTensor).\n",
      "  X_train, y_train = torch.tensor(trainX), torch.tensor(trainY)\n",
      "C:\\Users\\linwa\\AppData\\Local\\Temp\\ipykernel_14624\\1274684628.py:80: UserWarning: To copy construct from a tensor, it is recommended to use sourceTensor.clone().detach() or sourceTensor.clone().detach().requires_grad_(True), rather than torch.tensor(sourceTensor).\n",
      "  X_val, y_val = torch.tensor(valX), torch.tensor(valY)\n",
      "C:\\Users\\linwa\\AppData\\Local\\Temp\\ipykernel_14624\\1274684628.py:81: UserWarning: To copy construct from a tensor, it is recommended to use sourceTensor.clone().detach() or sourceTensor.clone().detach().requires_grad_(True), rather than torch.tensor(sourceTensor).\n",
      "  X_test, y_test = torch.tensor(testX), torch.tensor(testY)\n"
     ]
    },
    {
     "data": {
      "application/vnd.jupyter.widget-view+json": {
       "model_id": "3e5d6e033e1b477d84cd4bb7fbe8287b",
       "version_major": 2,
       "version_minor": 0
      },
      "text/plain": [
       "epochs:   0%|          | 0/1000 [00:00<?, ?it/s]"
      ]
     },
     "metadata": {},
     "output_type": "display_data"
    },
    {
     "data": {
      "application/vnd.jupyter.widget-view+json": {
       "model_id": "87bbbe9d6f884694b6c90ba7316fbb52",
       "version_major": 2,
       "version_minor": 0
      },
      "text/plain": [
       "train batches:   0%|          | 0/52 [00:00<?, ?it/s]"
      ]
     },
     "metadata": {},
     "output_type": "display_data"
    },
    {
     "data": {
      "application/vnd.jupyter.widget-view+json": {
       "model_id": "9accde042bed4e5197583950332f2583",
       "version_major": 2,
       "version_minor": 0
      },
      "text/plain": [
       "val batches:   0%|          | 0/8 [00:00<?, ?it/s]"
      ]
     },
     "metadata": {},
     "output_type": "display_data"
    },
    {
     "name": "stdout",
     "output_type": "stream",
     "text": [
      "Epoch 1/1000, Training Loss: 42.572901, Validation Loss: 0.080680\n"
     ]
    },
    {
     "data": {
      "application/vnd.jupyter.widget-view+json": {
       "model_id": "735f64d126a14e9ea433bf3a2b04a7d4",
       "version_major": 2,
       "version_minor": 0
      },
      "text/plain": [
       "train batches:   0%|          | 0/52 [00:00<?, ?it/s]"
      ]
     },
     "metadata": {},
     "output_type": "display_data"
    },
    {
     "data": {
      "application/vnd.jupyter.widget-view+json": {
       "model_id": "93aa27ebb9b147d89dc4178468b11350",
       "version_major": 2,
       "version_minor": 0
      },
      "text/plain": [
       "val batches:   0%|          | 0/8 [00:00<?, ?it/s]"
      ]
     },
     "metadata": {},
     "output_type": "display_data"
    },
    {
     "name": "stdout",
     "output_type": "stream",
     "text": [
      "Epoch 2/1000, Training Loss: 0.055541, Validation Loss: 0.202384\n"
     ]
    },
    {
     "data": {
      "application/vnd.jupyter.widget-view+json": {
       "model_id": "06b14da7ecbd4f57aeef0a1e92369e1f",
       "version_major": 2,
       "version_minor": 0
      },
      "text/plain": [
       "train batches:   0%|          | 0/52 [00:00<?, ?it/s]"
      ]
     },
     "metadata": {},
     "output_type": "display_data"
    },
    {
     "data": {
      "application/vnd.jupyter.widget-view+json": {
       "model_id": "0ce7ca87121e4f5d81981cd2d2a4c8e4",
       "version_major": 2,
       "version_minor": 0
      },
      "text/plain": [
       "val batches:   0%|          | 0/8 [00:00<?, ?it/s]"
      ]
     },
     "metadata": {},
     "output_type": "display_data"
    },
    {
     "name": "stdout",
     "output_type": "stream",
     "text": [
      "Epoch 3/1000, Training Loss: 0.043582, Validation Loss: 0.174582\n"
     ]
    },
    {
     "data": {
      "application/vnd.jupyter.widget-view+json": {
       "model_id": "3845e4c4df9148bb9dd164ba6cd6a0ac",
       "version_major": 2,
       "version_minor": 0
      },
      "text/plain": [
       "train batches:   0%|          | 0/52 [00:00<?, ?it/s]"
      ]
     },
     "metadata": {},
     "output_type": "display_data"
    },
    {
     "data": {
      "application/vnd.jupyter.widget-view+json": {
       "model_id": "444da4663b134e3cb256fba7c7b30492",
       "version_major": 2,
       "version_minor": 0
      },
      "text/plain": [
       "val batches:   0%|          | 0/8 [00:00<?, ?it/s]"
      ]
     },
     "metadata": {},
     "output_type": "display_data"
    },
    {
     "name": "stdout",
     "output_type": "stream",
     "text": [
      "Epoch 4/1000, Training Loss: 0.037220, Validation Loss: 0.102158\n"
     ]
    },
    {
     "data": {
      "application/vnd.jupyter.widget-view+json": {
       "model_id": "a81d5109d2804c0a899ff6300aee388d",
       "version_major": 2,
       "version_minor": 0
      },
      "text/plain": [
       "train batches:   0%|          | 0/52 [00:00<?, ?it/s]"
      ]
     },
     "metadata": {},
     "output_type": "display_data"
    },
    {
     "data": {
      "application/vnd.jupyter.widget-view+json": {
       "model_id": "b504e5c54584496ea2d4bed33e56372b",
       "version_major": 2,
       "version_minor": 0
      },
      "text/plain": [
       "val batches:   0%|          | 0/8 [00:00<?, ?it/s]"
      ]
     },
     "metadata": {},
     "output_type": "display_data"
    },
    {
     "name": "stdout",
     "output_type": "stream",
     "text": [
      "Epoch 5/1000, Training Loss: 0.032225, Validation Loss: 0.083173\n"
     ]
    },
    {
     "data": {
      "application/vnd.jupyter.widget-view+json": {
       "model_id": "14cf77a0a6c64b57a1e84f626babb95f",
       "version_major": 2,
       "version_minor": 0
      },
      "text/plain": [
       "train batches:   0%|          | 0/52 [00:00<?, ?it/s]"
      ]
     },
     "metadata": {},
     "output_type": "display_data"
    },
    {
     "data": {
      "application/vnd.jupyter.widget-view+json": {
       "model_id": "bc15a9301c6f41179dcc8be8a7f6696d",
       "version_major": 2,
       "version_minor": 0
      },
      "text/plain": [
       "val batches:   0%|          | 0/8 [00:00<?, ?it/s]"
      ]
     },
     "metadata": {},
     "output_type": "display_data"
    },
    {
     "name": "stdout",
     "output_type": "stream",
     "text": [
      "Epoch 6/1000, Training Loss: 0.030035, Validation Loss: 0.080525\n"
     ]
    },
    {
     "data": {
      "application/vnd.jupyter.widget-view+json": {
       "model_id": "51b7b2c73790427a81a549f38ef57840",
       "version_major": 2,
       "version_minor": 0
      },
      "text/plain": [
       "train batches:   0%|          | 0/52 [00:00<?, ?it/s]"
      ]
     },
     "metadata": {},
     "output_type": "display_data"
    },
    {
     "data": {
      "application/vnd.jupyter.widget-view+json": {
       "model_id": "93d37eefa5d146998e9c9732f898cd8b",
       "version_major": 2,
       "version_minor": 0
      },
      "text/plain": [
       "val batches:   0%|          | 0/8 [00:00<?, ?it/s]"
      ]
     },
     "metadata": {},
     "output_type": "display_data"
    },
    {
     "name": "stdout",
     "output_type": "stream",
     "text": [
      "Epoch 7/1000, Training Loss: 0.029021, Validation Loss: 0.052514\n"
     ]
    },
    {
     "data": {
      "application/vnd.jupyter.widget-view+json": {
       "model_id": "57367d344059409b97cd270e6e1bf046",
       "version_major": 2,
       "version_minor": 0
      },
      "text/plain": [
       "train batches:   0%|          | 0/52 [00:00<?, ?it/s]"
      ]
     },
     "metadata": {},
     "output_type": "display_data"
    },
    {
     "data": {
      "application/vnd.jupyter.widget-view+json": {
       "model_id": "40c27c94cddf4d8dbd76c21c94296c87",
       "version_major": 2,
       "version_minor": 0
      },
      "text/plain": [
       "val batches:   0%|          | 0/8 [00:00<?, ?it/s]"
      ]
     },
     "metadata": {},
     "output_type": "display_data"
    },
    {
     "name": "stdout",
     "output_type": "stream",
     "text": [
      "Epoch 8/1000, Training Loss: 0.034027, Validation Loss: 0.058941\n"
     ]
    },
    {
     "data": {
      "application/vnd.jupyter.widget-view+json": {
       "model_id": "434bd2b0bf7b4b2e937244c9279fe1a2",
       "version_major": 2,
       "version_minor": 0
      },
      "text/plain": [
       "train batches:   0%|          | 0/52 [00:00<?, ?it/s]"
      ]
     },
     "metadata": {},
     "output_type": "display_data"
    },
    {
     "data": {
      "application/vnd.jupyter.widget-view+json": {
       "model_id": "a5b6243f653a441ba432673ab507582c",
       "version_major": 2,
       "version_minor": 0
      },
      "text/plain": [
       "val batches:   0%|          | 0/8 [00:00<?, ?it/s]"
      ]
     },
     "metadata": {},
     "output_type": "display_data"
    },
    {
     "name": "stdout",
     "output_type": "stream",
     "text": [
      "Epoch 9/1000, Training Loss: 0.026958, Validation Loss: 0.052273\n"
     ]
    },
    {
     "data": {
      "application/vnd.jupyter.widget-view+json": {
       "model_id": "cb1643597fea4a95b821a8ad27d2429b",
       "version_major": 2,
       "version_minor": 0
      },
      "text/plain": [
       "train batches:   0%|          | 0/52 [00:00<?, ?it/s]"
      ]
     },
     "metadata": {},
     "output_type": "display_data"
    },
    {
     "data": {
      "application/vnd.jupyter.widget-view+json": {
       "model_id": "2aa6625c029f49ba98fb9554c9097ba2",
       "version_major": 2,
       "version_minor": 0
      },
      "text/plain": [
       "val batches:   0%|          | 0/8 [00:00<?, ?it/s]"
      ]
     },
     "metadata": {},
     "output_type": "display_data"
    },
    {
     "name": "stdout",
     "output_type": "stream",
     "text": [
      "Epoch 10/1000, Training Loss: 0.030091, Validation Loss: 0.031859\n"
     ]
    },
    {
     "data": {
      "application/vnd.jupyter.widget-view+json": {
       "model_id": "06d81b61af0a4fc4afeff89fd8d9027f",
       "version_major": 2,
       "version_minor": 0
      },
      "text/plain": [
       "train batches:   0%|          | 0/52 [00:00<?, ?it/s]"
      ]
     },
     "metadata": {},
     "output_type": "display_data"
    },
    {
     "data": {
      "application/vnd.jupyter.widget-view+json": {
       "model_id": "4159bc8de50649dbb05f16ba4f4428b6",
       "version_major": 2,
       "version_minor": 0
      },
      "text/plain": [
       "val batches:   0%|          | 0/8 [00:00<?, ?it/s]"
      ]
     },
     "metadata": {},
     "output_type": "display_data"
    },
    {
     "name": "stdout",
     "output_type": "stream",
     "text": [
      "Epoch 11/1000, Training Loss: 0.031508, Validation Loss: 0.050811\n"
     ]
    },
    {
     "data": {
      "application/vnd.jupyter.widget-view+json": {
       "model_id": "a7e1e89063644ce7aba56ea07308b34f",
       "version_major": 2,
       "version_minor": 0
      },
      "text/plain": [
       "train batches:   0%|          | 0/52 [00:00<?, ?it/s]"
      ]
     },
     "metadata": {},
     "output_type": "display_data"
    },
    {
     "data": {
      "application/vnd.jupyter.widget-view+json": {
       "model_id": "d2e7c7674459473a85fb2060d83bed16",
       "version_major": 2,
       "version_minor": 0
      },
      "text/plain": [
       "val batches:   0%|          | 0/8 [00:00<?, ?it/s]"
      ]
     },
     "metadata": {},
     "output_type": "display_data"
    },
    {
     "name": "stdout",
     "output_type": "stream",
     "text": [
      "Epoch 12/1000, Training Loss: 0.046752, Validation Loss: 0.031391\n"
     ]
    },
    {
     "data": {
      "application/vnd.jupyter.widget-view+json": {
       "model_id": "cc520af598164af19e3c5b00c226e6fa",
       "version_major": 2,
       "version_minor": 0
      },
      "text/plain": [
       "train batches:   0%|          | 0/52 [00:00<?, ?it/s]"
      ]
     },
     "metadata": {},
     "output_type": "display_data"
    },
    {
     "data": {
      "application/vnd.jupyter.widget-view+json": {
       "model_id": "99d9b740d96043f2ad5f56cba37dc107",
       "version_major": 2,
       "version_minor": 0
      },
      "text/plain": [
       "val batches:   0%|          | 0/8 [00:00<?, ?it/s]"
      ]
     },
     "metadata": {},
     "output_type": "display_data"
    },
    {
     "name": "stdout",
     "output_type": "stream",
     "text": [
      "Epoch 13/1000, Training Loss: 0.033764, Validation Loss: 0.044446\n"
     ]
    },
    {
     "data": {
      "application/vnd.jupyter.widget-view+json": {
       "model_id": "4c8211e7180f4706a1966e7107e697ed",
       "version_major": 2,
       "version_minor": 0
      },
      "text/plain": [
       "train batches:   0%|          | 0/52 [00:00<?, ?it/s]"
      ]
     },
     "metadata": {},
     "output_type": "display_data"
    },
    {
     "data": {
      "application/vnd.jupyter.widget-view+json": {
       "model_id": "076ce7a99f21489aac356f00307e8a97",
       "version_major": 2,
       "version_minor": 0
      },
      "text/plain": [
       "val batches:   0%|          | 0/8 [00:00<?, ?it/s]"
      ]
     },
     "metadata": {},
     "output_type": "display_data"
    },
    {
     "name": "stdout",
     "output_type": "stream",
     "text": [
      "Epoch 14/1000, Training Loss: 0.038555, Validation Loss: 0.042698\n"
     ]
    },
    {
     "data": {
      "application/vnd.jupyter.widget-view+json": {
       "model_id": "0173c26d2ff04edeb0093e0a37fbc732",
       "version_major": 2,
       "version_minor": 0
      },
      "text/plain": [
       "train batches:   0%|          | 0/52 [00:00<?, ?it/s]"
      ]
     },
     "metadata": {},
     "output_type": "display_data"
    },
    {
     "data": {
      "application/vnd.jupyter.widget-view+json": {
       "model_id": "5c326c0f371a450d9d3b7433260441d0",
       "version_major": 2,
       "version_minor": 0
      },
      "text/plain": [
       "val batches:   0%|          | 0/8 [00:00<?, ?it/s]"
      ]
     },
     "metadata": {},
     "output_type": "display_data"
    },
    {
     "name": "stdout",
     "output_type": "stream",
     "text": [
      "Epoch 15/1000, Training Loss: 0.023948, Validation Loss: 0.054622\n"
     ]
    },
    {
     "data": {
      "application/vnd.jupyter.widget-view+json": {
       "model_id": "0e7f2ff9f15047adb3e8547572834308",
       "version_major": 2,
       "version_minor": 0
      },
      "text/plain": [
       "train batches:   0%|          | 0/52 [00:00<?, ?it/s]"
      ]
     },
     "metadata": {},
     "output_type": "display_data"
    },
    {
     "data": {
      "application/vnd.jupyter.widget-view+json": {
       "model_id": "77cc9791a15f4968a779cff07ed60020",
       "version_major": 2,
       "version_minor": 0
      },
      "text/plain": [
       "val batches:   0%|          | 0/8 [00:00<?, ?it/s]"
      ]
     },
     "metadata": {},
     "output_type": "display_data"
    },
    {
     "name": "stdout",
     "output_type": "stream",
     "text": [
      "Epoch 16/1000, Training Loss: 0.039256, Validation Loss: 0.033394\n"
     ]
    },
    {
     "data": {
      "application/vnd.jupyter.widget-view+json": {
       "model_id": "8c0aecd55839425dba4b07c951746ddd",
       "version_major": 2,
       "version_minor": 0
      },
      "text/plain": [
       "train batches:   0%|          | 0/52 [00:00<?, ?it/s]"
      ]
     },
     "metadata": {},
     "output_type": "display_data"
    },
    {
     "data": {
      "application/vnd.jupyter.widget-view+json": {
       "model_id": "697818412d05406b8ad841b86dfb494b",
       "version_major": 2,
       "version_minor": 0
      },
      "text/plain": [
       "val batches:   0%|          | 0/8 [00:00<?, ?it/s]"
      ]
     },
     "metadata": {},
     "output_type": "display_data"
    },
    {
     "name": "stdout",
     "output_type": "stream",
     "text": [
      "Epoch 17/1000, Training Loss: 0.021643, Validation Loss: 0.050126\n"
     ]
    },
    {
     "data": {
      "application/vnd.jupyter.widget-view+json": {
       "model_id": "ca86e62e129e4d9ca00467a209a665cf",
       "version_major": 2,
       "version_minor": 0
      },
      "text/plain": [
       "train batches:   0%|          | 0/52 [00:00<?, ?it/s]"
      ]
     },
     "metadata": {},
     "output_type": "display_data"
    },
    {
     "data": {
      "application/vnd.jupyter.widget-view+json": {
       "model_id": "60cc79b2074a465e9849bd98d9f8b6ab",
       "version_major": 2,
       "version_minor": 0
      },
      "text/plain": [
       "val batches:   0%|          | 0/8 [00:00<?, ?it/s]"
      ]
     },
     "metadata": {},
     "output_type": "display_data"
    },
    {
     "name": "stdout",
     "output_type": "stream",
     "text": [
      "Epoch 18/1000, Training Loss: 0.028458, Validation Loss: 0.021336\n"
     ]
    },
    {
     "data": {
      "application/vnd.jupyter.widget-view+json": {
       "model_id": "3508eb1e9fa146d185628ffa37ef627e",
       "version_major": 2,
       "version_minor": 0
      },
      "text/plain": [
       "train batches:   0%|          | 0/52 [00:00<?, ?it/s]"
      ]
     },
     "metadata": {},
     "output_type": "display_data"
    },
    {
     "data": {
      "application/vnd.jupyter.widget-view+json": {
       "model_id": "ade30abe32104395a5f6b7e43ff44e25",
       "version_major": 2,
       "version_minor": 0
      },
      "text/plain": [
       "val batches:   0%|          | 0/8 [00:00<?, ?it/s]"
      ]
     },
     "metadata": {},
     "output_type": "display_data"
    },
    {
     "name": "stdout",
     "output_type": "stream",
     "text": [
      "Epoch 19/1000, Training Loss: 0.023713, Validation Loss: 0.030235\n"
     ]
    },
    {
     "data": {
      "application/vnd.jupyter.widget-view+json": {
       "model_id": "da8d0b315fad446b9e1593043b3d7d92",
       "version_major": 2,
       "version_minor": 0
      },
      "text/plain": [
       "train batches:   0%|          | 0/52 [00:00<?, ?it/s]"
      ]
     },
     "metadata": {},
     "output_type": "display_data"
    },
    {
     "data": {
      "application/vnd.jupyter.widget-view+json": {
       "model_id": "f35643c8067d4fa39fc8df12a81f02b0",
       "version_major": 2,
       "version_minor": 0
      },
      "text/plain": [
       "val batches:   0%|          | 0/8 [00:00<?, ?it/s]"
      ]
     },
     "metadata": {},
     "output_type": "display_data"
    },
    {
     "name": "stdout",
     "output_type": "stream",
     "text": [
      "Epoch 20/1000, Training Loss: 0.020920, Validation Loss: 0.016974\n"
     ]
    },
    {
     "data": {
      "application/vnd.jupyter.widget-view+json": {
       "model_id": "25933dad9f7e42b9aaaa95464a08ee6c",
       "version_major": 2,
       "version_minor": 0
      },
      "text/plain": [
       "train batches:   0%|          | 0/52 [00:00<?, ?it/s]"
      ]
     },
     "metadata": {},
     "output_type": "display_data"
    },
    {
     "data": {
      "application/vnd.jupyter.widget-view+json": {
       "model_id": "3eb4ad16d6fd4c0e8294dcdacdadb7ca",
       "version_major": 2,
       "version_minor": 0
      },
      "text/plain": [
       "val batches:   0%|          | 0/8 [00:00<?, ?it/s]"
      ]
     },
     "metadata": {},
     "output_type": "display_data"
    },
    {
     "name": "stdout",
     "output_type": "stream",
     "text": [
      "Epoch 21/1000, Training Loss: 0.016685, Validation Loss: 0.025730\n"
     ]
    },
    {
     "data": {
      "application/vnd.jupyter.widget-view+json": {
       "model_id": "0fda978e00ff4bd4819fc2ff5af37b53",
       "version_major": 2,
       "version_minor": 0
      },
      "text/plain": [
       "train batches:   0%|          | 0/52 [00:00<?, ?it/s]"
      ]
     },
     "metadata": {},
     "output_type": "display_data"
    },
    {
     "data": {
      "application/vnd.jupyter.widget-view+json": {
       "model_id": "0ed1704b146745e8be32cdbb6c03997c",
       "version_major": 2,
       "version_minor": 0
      },
      "text/plain": [
       "val batches:   0%|          | 0/8 [00:00<?, ?it/s]"
      ]
     },
     "metadata": {},
     "output_type": "display_data"
    },
    {
     "name": "stdout",
     "output_type": "stream",
     "text": [
      "Epoch 22/1000, Training Loss: 0.014267, Validation Loss: 0.026196\n"
     ]
    },
    {
     "data": {
      "application/vnd.jupyter.widget-view+json": {
       "model_id": "a83e51331816470f93f9dbd791d8f825",
       "version_major": 2,
       "version_minor": 0
      },
      "text/plain": [
       "train batches:   0%|          | 0/52 [00:00<?, ?it/s]"
      ]
     },
     "metadata": {},
     "output_type": "display_data"
    },
    {
     "data": {
      "application/vnd.jupyter.widget-view+json": {
       "model_id": "c7453ace8b9d4352a716536501991d90",
       "version_major": 2,
       "version_minor": 0
      },
      "text/plain": [
       "val batches:   0%|          | 0/8 [00:00<?, ?it/s]"
      ]
     },
     "metadata": {},
     "output_type": "display_data"
    },
    {
     "name": "stdout",
     "output_type": "stream",
     "text": [
      "Epoch 23/1000, Training Loss: 0.013414, Validation Loss: 0.015427\n"
     ]
    },
    {
     "data": {
      "application/vnd.jupyter.widget-view+json": {
       "model_id": "7c5a7a98cb2e41238c050d1364bd7c83",
       "version_major": 2,
       "version_minor": 0
      },
      "text/plain": [
       "train batches:   0%|          | 0/52 [00:00<?, ?it/s]"
      ]
     },
     "metadata": {},
     "output_type": "display_data"
    },
    {
     "data": {
      "application/vnd.jupyter.widget-view+json": {
       "model_id": "6540ea57d2e14566ae3186f1c7351301",
       "version_major": 2,
       "version_minor": 0
      },
      "text/plain": [
       "val batches:   0%|          | 0/8 [00:00<?, ?it/s]"
      ]
     },
     "metadata": {},
     "output_type": "display_data"
    },
    {
     "name": "stdout",
     "output_type": "stream",
     "text": [
      "Epoch 24/1000, Training Loss: 0.009622, Validation Loss: 0.017891\n"
     ]
    },
    {
     "data": {
      "application/vnd.jupyter.widget-view+json": {
       "model_id": "694a6ebf05f24a2492b457f8a099dc33",
       "version_major": 2,
       "version_minor": 0
      },
      "text/plain": [
       "train batches:   0%|          | 0/52 [00:00<?, ?it/s]"
      ]
     },
     "metadata": {},
     "output_type": "display_data"
    },
    {
     "data": {
      "application/vnd.jupyter.widget-view+json": {
       "model_id": "5dfbbdf52e7c42668743c04f97835fba",
       "version_major": 2,
       "version_minor": 0
      },
      "text/plain": [
       "val batches:   0%|          | 0/8 [00:00<?, ?it/s]"
      ]
     },
     "metadata": {},
     "output_type": "display_data"
    },
    {
     "name": "stdout",
     "output_type": "stream",
     "text": [
      "Epoch 25/1000, Training Loss: 0.010129, Validation Loss: 0.019947\n"
     ]
    },
    {
     "data": {
      "application/vnd.jupyter.widget-view+json": {
       "model_id": "016e3cb7c61e4fd8a8721f3a5cc2bc75",
       "version_major": 2,
       "version_minor": 0
      },
      "text/plain": [
       "train batches:   0%|          | 0/52 [00:00<?, ?it/s]"
      ]
     },
     "metadata": {},
     "output_type": "display_data"
    },
    {
     "data": {
      "application/vnd.jupyter.widget-view+json": {
       "model_id": "7227cbc72d6641898436e985ff9c284f",
       "version_major": 2,
       "version_minor": 0
      },
      "text/plain": [
       "val batches:   0%|          | 0/8 [00:00<?, ?it/s]"
      ]
     },
     "metadata": {},
     "output_type": "display_data"
    },
    {
     "name": "stdout",
     "output_type": "stream",
     "text": [
      "Epoch 26/1000, Training Loss: 4.268997, Validation Loss: 0.030669\n"
     ]
    },
    {
     "data": {
      "application/vnd.jupyter.widget-view+json": {
       "model_id": "7c627ade06aa4a5696bbeedd8d2be1f1",
       "version_major": 2,
       "version_minor": 0
      },
      "text/plain": [
       "train batches:   0%|          | 0/52 [00:00<?, ?it/s]"
      ]
     },
     "metadata": {},
     "output_type": "display_data"
    },
    {
     "data": {
      "application/vnd.jupyter.widget-view+json": {
       "model_id": "15a2cca9ca7a44479dfd26f295d8525b",
       "version_major": 2,
       "version_minor": 0
      },
      "text/plain": [
       "val batches:   0%|          | 0/8 [00:00<?, ?it/s]"
      ]
     },
     "metadata": {},
     "output_type": "display_data"
    },
    {
     "name": "stdout",
     "output_type": "stream",
     "text": [
      "Epoch 27/1000, Training Loss: 0.031693, Validation Loss: 0.028249\n"
     ]
    },
    {
     "data": {
      "application/vnd.jupyter.widget-view+json": {
       "model_id": "308afe84b055485190ad4623c53894fe",
       "version_major": 2,
       "version_minor": 0
      },
      "text/plain": [
       "train batches:   0%|          | 0/52 [00:00<?, ?it/s]"
      ]
     },
     "metadata": {},
     "output_type": "display_data"
    },
    {
     "data": {
      "application/vnd.jupyter.widget-view+json": {
       "model_id": "a743ab75ba9346cca0fae3d6dfc6dfed",
       "version_major": 2,
       "version_minor": 0
      },
      "text/plain": [
       "val batches:   0%|          | 0/8 [00:00<?, ?it/s]"
      ]
     },
     "metadata": {},
     "output_type": "display_data"
    },
    {
     "name": "stdout",
     "output_type": "stream",
     "text": [
      "Epoch 28/1000, Training Loss: 0.023753, Validation Loss: 0.017679\n"
     ]
    },
    {
     "data": {
      "application/vnd.jupyter.widget-view+json": {
       "model_id": "71a26eab41dc4850b752e41378f12312",
       "version_major": 2,
       "version_minor": 0
      },
      "text/plain": [
       "train batches:   0%|          | 0/52 [00:00<?, ?it/s]"
      ]
     },
     "metadata": {},
     "output_type": "display_data"
    },
    {
     "data": {
      "application/vnd.jupyter.widget-view+json": {
       "model_id": "9675f272b7de4792ad5a6a647dcf96ce",
       "version_major": 2,
       "version_minor": 0
      },
      "text/plain": [
       "val batches:   0%|          | 0/8 [00:00<?, ?it/s]"
      ]
     },
     "metadata": {},
     "output_type": "display_data"
    },
    {
     "name": "stdout",
     "output_type": "stream",
     "text": [
      "Epoch 29/1000, Training Loss: 0.021355, Validation Loss: 0.018442\n"
     ]
    },
    {
     "data": {
      "application/vnd.jupyter.widget-view+json": {
       "model_id": "b32d521236b74b97beabb4b77ba2fccf",
       "version_major": 2,
       "version_minor": 0
      },
      "text/plain": [
       "train batches:   0%|          | 0/52 [00:00<?, ?it/s]"
      ]
     },
     "metadata": {},
     "output_type": "display_data"
    },
    {
     "data": {
      "application/vnd.jupyter.widget-view+json": {
       "model_id": "7876725546ab484e9df2cc2f95ba27bd",
       "version_major": 2,
       "version_minor": 0
      },
      "text/plain": [
       "val batches:   0%|          | 0/8 [00:00<?, ?it/s]"
      ]
     },
     "metadata": {},
     "output_type": "display_data"
    },
    {
     "name": "stdout",
     "output_type": "stream",
     "text": [
      "Epoch 30/1000, Training Loss: 0.019948, Validation Loss: 0.020689\n"
     ]
    },
    {
     "data": {
      "application/vnd.jupyter.widget-view+json": {
       "model_id": "a319d30ccece4c30b09ef2cdbeaf940c",
       "version_major": 2,
       "version_minor": 0
      },
      "text/plain": [
       "train batches:   0%|          | 0/52 [00:00<?, ?it/s]"
      ]
     },
     "metadata": {},
     "output_type": "display_data"
    },
    {
     "data": {
      "application/vnd.jupyter.widget-view+json": {
       "model_id": "44ae8e68c60a4d94b9c786207eace58a",
       "version_major": 2,
       "version_minor": 0
      },
      "text/plain": [
       "val batches:   0%|          | 0/8 [00:00<?, ?it/s]"
      ]
     },
     "metadata": {},
     "output_type": "display_data"
    },
    {
     "name": "stdout",
     "output_type": "stream",
     "text": [
      "Epoch 31/1000, Training Loss: 0.018506, Validation Loss: 0.024783\n"
     ]
    },
    {
     "data": {
      "application/vnd.jupyter.widget-view+json": {
       "model_id": "bde4e9509156496596ec533362cc2b8d",
       "version_major": 2,
       "version_minor": 0
      },
      "text/plain": [
       "train batches:   0%|          | 0/52 [00:00<?, ?it/s]"
      ]
     },
     "metadata": {},
     "output_type": "display_data"
    },
    {
     "data": {
      "application/vnd.jupyter.widget-view+json": {
       "model_id": "fd0871899d434d1b89d71e49e9c729cd",
       "version_major": 2,
       "version_minor": 0
      },
      "text/plain": [
       "val batches:   0%|          | 0/8 [00:00<?, ?it/s]"
      ]
     },
     "metadata": {},
     "output_type": "display_data"
    },
    {
     "name": "stdout",
     "output_type": "stream",
     "text": [
      "Epoch 32/1000, Training Loss: 0.016593, Validation Loss: 0.040174\n"
     ]
    },
    {
     "data": {
      "application/vnd.jupyter.widget-view+json": {
       "model_id": "043d79a2b58546ca87d04d8cbc8c5d7a",
       "version_major": 2,
       "version_minor": 0
      },
      "text/plain": [
       "train batches:   0%|          | 0/52 [00:00<?, ?it/s]"
      ]
     },
     "metadata": {},
     "output_type": "display_data"
    },
    {
     "data": {
      "application/vnd.jupyter.widget-view+json": {
       "model_id": "3d723d599ff84132b0dfdcbb5a159fbd",
       "version_major": 2,
       "version_minor": 0
      },
      "text/plain": [
       "val batches:   0%|          | 0/8 [00:00<?, ?it/s]"
      ]
     },
     "metadata": {},
     "output_type": "display_data"
    },
    {
     "name": "stdout",
     "output_type": "stream",
     "text": [
      "Epoch 33/1000, Training Loss: 0.014762, Validation Loss: 0.057253\n"
     ]
    },
    {
     "data": {
      "application/vnd.jupyter.widget-view+json": {
       "model_id": "75b765d5e00044bdafc0dae1f7d3d2ed",
       "version_major": 2,
       "version_minor": 0
      },
      "text/plain": [
       "train batches:   0%|          | 0/52 [00:00<?, ?it/s]"
      ]
     },
     "metadata": {},
     "output_type": "display_data"
    },
    {
     "data": {
      "application/vnd.jupyter.widget-view+json": {
       "model_id": "76f347f8c0cb4f3e8bf85d38f69927b6",
       "version_major": 2,
       "version_minor": 0
      },
      "text/plain": [
       "val batches:   0%|          | 0/8 [00:00<?, ?it/s]"
      ]
     },
     "metadata": {},
     "output_type": "display_data"
    },
    {
     "name": "stdout",
     "output_type": "stream",
     "text": [
      "Epoch 34/1000, Training Loss: 0.012410, Validation Loss: 0.062840\n"
     ]
    },
    {
     "data": {
      "application/vnd.jupyter.widget-view+json": {
       "model_id": "e21a99165485447f9654b1a9cddf93b5",
       "version_major": 2,
       "version_minor": 0
      },
      "text/plain": [
       "train batches:   0%|          | 0/52 [00:00<?, ?it/s]"
      ]
     },
     "metadata": {},
     "output_type": "display_data"
    },
    {
     "data": {
      "application/vnd.jupyter.widget-view+json": {
       "model_id": "50008efa1a634457a3c31157ba259e47",
       "version_major": 2,
       "version_minor": 0
      },
      "text/plain": [
       "val batches:   0%|          | 0/8 [00:00<?, ?it/s]"
      ]
     },
     "metadata": {},
     "output_type": "display_data"
    },
    {
     "name": "stdout",
     "output_type": "stream",
     "text": [
      "Epoch 35/1000, Training Loss: 0.011433, Validation Loss: 0.065883\n"
     ]
    },
    {
     "data": {
      "application/vnd.jupyter.widget-view+json": {
       "model_id": "5283a403e720438eab62b1194e90388c",
       "version_major": 2,
       "version_minor": 0
      },
      "text/plain": [
       "train batches:   0%|          | 0/52 [00:00<?, ?it/s]"
      ]
     },
     "metadata": {},
     "output_type": "display_data"
    },
    {
     "data": {
      "application/vnd.jupyter.widget-view+json": {
       "model_id": "301ae630620a489a91b7f8bcd9ee2dd9",
       "version_major": 2,
       "version_minor": 0
      },
      "text/plain": [
       "val batches:   0%|          | 0/8 [00:00<?, ?it/s]"
      ]
     },
     "metadata": {},
     "output_type": "display_data"
    },
    {
     "name": "stdout",
     "output_type": "stream",
     "text": [
      "Epoch 36/1000, Training Loss: 0.012752, Validation Loss: 0.058715\n"
     ]
    },
    {
     "data": {
      "application/vnd.jupyter.widget-view+json": {
       "model_id": "c9bdb18d48f94a5f8f0b009f06814bf4",
       "version_major": 2,
       "version_minor": 0
      },
      "text/plain": [
       "train batches:   0%|          | 0/52 [00:00<?, ?it/s]"
      ]
     },
     "metadata": {},
     "output_type": "display_data"
    },
    {
     "data": {
      "application/vnd.jupyter.widget-view+json": {
       "model_id": "4c99c80b76db40b59f3da985fa4da14a",
       "version_major": 2,
       "version_minor": 0
      },
      "text/plain": [
       "val batches:   0%|          | 0/8 [00:00<?, ?it/s]"
      ]
     },
     "metadata": {},
     "output_type": "display_data"
    },
    {
     "name": "stdout",
     "output_type": "stream",
     "text": [
      "Epoch 37/1000, Training Loss: 0.010008, Validation Loss: 0.070500\n"
     ]
    },
    {
     "data": {
      "application/vnd.jupyter.widget-view+json": {
       "model_id": "4786e246731d452c89f5c01cb3436ae4",
       "version_major": 2,
       "version_minor": 0
      },
      "text/plain": [
       "train batches:   0%|          | 0/52 [00:00<?, ?it/s]"
      ]
     },
     "metadata": {},
     "output_type": "display_data"
    },
    {
     "data": {
      "application/vnd.jupyter.widget-view+json": {
       "model_id": "592f6624eebe48feb38a76b181731693",
       "version_major": 2,
       "version_minor": 0
      },
      "text/plain": [
       "val batches:   0%|          | 0/8 [00:00<?, ?it/s]"
      ]
     },
     "metadata": {},
     "output_type": "display_data"
    },
    {
     "name": "stdout",
     "output_type": "stream",
     "text": [
      "Epoch 38/1000, Training Loss: 0.009456, Validation Loss: 0.108868\n"
     ]
    },
    {
     "data": {
      "application/vnd.jupyter.widget-view+json": {
       "model_id": "43b2ea26133f405c8b56340277e7d4f2",
       "version_major": 2,
       "version_minor": 0
      },
      "text/plain": [
       "train batches:   0%|          | 0/52 [00:00<?, ?it/s]"
      ]
     },
     "metadata": {},
     "output_type": "display_data"
    },
    {
     "data": {
      "application/vnd.jupyter.widget-view+json": {
       "model_id": "89380aee8ed94b728d25af002efc10ea",
       "version_major": 2,
       "version_minor": 0
      },
      "text/plain": [
       "val batches:   0%|          | 0/8 [00:00<?, ?it/s]"
      ]
     },
     "metadata": {},
     "output_type": "display_data"
    },
    {
     "name": "stdout",
     "output_type": "stream",
     "text": [
      "Epoch 39/1000, Training Loss: 0.013938, Validation Loss: 0.051856\n"
     ]
    },
    {
     "data": {
      "application/vnd.jupyter.widget-view+json": {
       "model_id": "96bef3bba6f04615838b692d6ef89352",
       "version_major": 2,
       "version_minor": 0
      },
      "text/plain": [
       "train batches:   0%|          | 0/52 [00:00<?, ?it/s]"
      ]
     },
     "metadata": {},
     "output_type": "display_data"
    },
    {
     "data": {
      "application/vnd.jupyter.widget-view+json": {
       "model_id": "2f446520f23a4c89a308b564bd0b34e2",
       "version_major": 2,
       "version_minor": 0
      },
      "text/plain": [
       "val batches:   0%|          | 0/8 [00:00<?, ?it/s]"
      ]
     },
     "metadata": {},
     "output_type": "display_data"
    },
    {
     "name": "stdout",
     "output_type": "stream",
     "text": [
      "Epoch 40/1000, Training Loss: 0.009993, Validation Loss: 0.040601\n"
     ]
    },
    {
     "data": {
      "application/vnd.jupyter.widget-view+json": {
       "model_id": "0b92b194bc1549a69f8911053d5505cb",
       "version_major": 2,
       "version_minor": 0
      },
      "text/plain": [
       "train batches:   0%|          | 0/52 [00:00<?, ?it/s]"
      ]
     },
     "metadata": {},
     "output_type": "display_data"
    },
    {
     "data": {
      "application/vnd.jupyter.widget-view+json": {
       "model_id": "9aadbddc3ae94e639e84600cf5ba5395",
       "version_major": 2,
       "version_minor": 0
      },
      "text/plain": [
       "val batches:   0%|          | 0/8 [00:00<?, ?it/s]"
      ]
     },
     "metadata": {},
     "output_type": "display_data"
    },
    {
     "name": "stdout",
     "output_type": "stream",
     "text": [
      "Epoch 41/1000, Training Loss: 0.008272, Validation Loss: 0.037076\n"
     ]
    },
    {
     "data": {
      "application/vnd.jupyter.widget-view+json": {
       "model_id": "fbfadc154ae24f2f90ad525ae15096c5",
       "version_major": 2,
       "version_minor": 0
      },
      "text/plain": [
       "train batches:   0%|          | 0/52 [00:00<?, ?it/s]"
      ]
     },
     "metadata": {},
     "output_type": "display_data"
    },
    {
     "data": {
      "application/vnd.jupyter.widget-view+json": {
       "model_id": "d6bf83b3ce3247a2948499930aa714a3",
       "version_major": 2,
       "version_minor": 0
      },
      "text/plain": [
       "val batches:   0%|          | 0/8 [00:00<?, ?it/s]"
      ]
     },
     "metadata": {},
     "output_type": "display_data"
    },
    {
     "name": "stdout",
     "output_type": "stream",
     "text": [
      "Epoch 42/1000, Training Loss: 0.008750, Validation Loss: 0.066003\n"
     ]
    },
    {
     "data": {
      "application/vnd.jupyter.widget-view+json": {
       "model_id": "b7cbe98dfa7544d8877ad18ab2b0df4f",
       "version_major": 2,
       "version_minor": 0
      },
      "text/plain": [
       "train batches:   0%|          | 0/52 [00:00<?, ?it/s]"
      ]
     },
     "metadata": {},
     "output_type": "display_data"
    },
    {
     "data": {
      "application/vnd.jupyter.widget-view+json": {
       "model_id": "7af2bb98ef44463c9f82a7e068fbbbac",
       "version_major": 2,
       "version_minor": 0
      },
      "text/plain": [
       "val batches:   0%|          | 0/8 [00:00<?, ?it/s]"
      ]
     },
     "metadata": {},
     "output_type": "display_data"
    },
    {
     "name": "stdout",
     "output_type": "stream",
     "text": [
      "Epoch 43/1000, Training Loss: 0.008469, Validation Loss: 0.018204\n"
     ]
    },
    {
     "data": {
      "application/vnd.jupyter.widget-view+json": {
       "model_id": "9463a456ebf2469fbccbbc6bcc1c020f",
       "version_major": 2,
       "version_minor": 0
      },
      "text/plain": [
       "train batches:   0%|          | 0/52 [00:00<?, ?it/s]"
      ]
     },
     "metadata": {},
     "output_type": "display_data"
    },
    {
     "data": {
      "application/vnd.jupyter.widget-view+json": {
       "model_id": "71c3d14808b446829c37e907e8a4b527",
       "version_major": 2,
       "version_minor": 0
      },
      "text/plain": [
       "val batches:   0%|          | 0/8 [00:00<?, ?it/s]"
      ]
     },
     "metadata": {},
     "output_type": "display_data"
    },
    {
     "name": "stdout",
     "output_type": "stream",
     "text": [
      "Epoch 44/1000, Training Loss: 0.009011, Validation Loss: 0.054380\n"
     ]
    },
    {
     "data": {
      "application/vnd.jupyter.widget-view+json": {
       "model_id": "4ef0594c83cc4a1ab396f2717032596a",
       "version_major": 2,
       "version_minor": 0
      },
      "text/plain": [
       "train batches:   0%|          | 0/52 [00:00<?, ?it/s]"
      ]
     },
     "metadata": {},
     "output_type": "display_data"
    },
    {
     "data": {
      "application/vnd.jupyter.widget-view+json": {
       "model_id": "50c89b1e503e41cfb7a34be4b44d5983",
       "version_major": 2,
       "version_minor": 0
      },
      "text/plain": [
       "val batches:   0%|          | 0/8 [00:00<?, ?it/s]"
      ]
     },
     "metadata": {},
     "output_type": "display_data"
    },
    {
     "name": "stdout",
     "output_type": "stream",
     "text": [
      "Epoch 45/1000, Training Loss: 0.008671, Validation Loss: 0.037720\n"
     ]
    },
    {
     "data": {
      "application/vnd.jupyter.widget-view+json": {
       "model_id": "e65e6709b0db43faa7b3bf35aec6696a",
       "version_major": 2,
       "version_minor": 0
      },
      "text/plain": [
       "train batches:   0%|          | 0/52 [00:00<?, ?it/s]"
      ]
     },
     "metadata": {},
     "output_type": "display_data"
    },
    {
     "data": {
      "application/vnd.jupyter.widget-view+json": {
       "model_id": "c13175379da043308b2d3e7dfc3078d4",
       "version_major": 2,
       "version_minor": 0
      },
      "text/plain": [
       "val batches:   0%|          | 0/8 [00:00<?, ?it/s]"
      ]
     },
     "metadata": {},
     "output_type": "display_data"
    },
    {
     "name": "stdout",
     "output_type": "stream",
     "text": [
      "Epoch 46/1000, Training Loss: 0.007504, Validation Loss: 0.050896\n"
     ]
    },
    {
     "data": {
      "application/vnd.jupyter.widget-view+json": {
       "model_id": "89e9113690aa41be9a4bff6f74b025d9",
       "version_major": 2,
       "version_minor": 0
      },
      "text/plain": [
       "train batches:   0%|          | 0/52 [00:00<?, ?it/s]"
      ]
     },
     "metadata": {},
     "output_type": "display_data"
    },
    {
     "data": {
      "application/vnd.jupyter.widget-view+json": {
       "model_id": "eb980042a3d644b5a43c0bfa7c9c2329",
       "version_major": 2,
       "version_minor": 0
      },
      "text/plain": [
       "val batches:   0%|          | 0/8 [00:00<?, ?it/s]"
      ]
     },
     "metadata": {},
     "output_type": "display_data"
    },
    {
     "name": "stdout",
     "output_type": "stream",
     "text": [
      "Epoch 47/1000, Training Loss: 0.486545, Validation Loss: 0.024032\n"
     ]
    },
    {
     "data": {
      "application/vnd.jupyter.widget-view+json": {
       "model_id": "37a508ca8ed944e9ae3e6785c975e0bc",
       "version_major": 2,
       "version_minor": 0
      },
      "text/plain": [
       "train batches:   0%|          | 0/52 [00:00<?, ?it/s]"
      ]
     },
     "metadata": {},
     "output_type": "display_data"
    },
    {
     "data": {
      "application/vnd.jupyter.widget-view+json": {
       "model_id": "c966e8ce0e204efeafcbfa0e8b7746bc",
       "version_major": 2,
       "version_minor": 0
      },
      "text/plain": [
       "val batches:   0%|          | 0/8 [00:00<?, ?it/s]"
      ]
     },
     "metadata": {},
     "output_type": "display_data"
    },
    {
     "name": "stdout",
     "output_type": "stream",
     "text": [
      "Epoch 48/1000, Training Loss: 0.021322, Validation Loss: 0.017088\n"
     ]
    },
    {
     "data": {
      "application/vnd.jupyter.widget-view+json": {
       "model_id": "36a7899617d94c36a47250e616b1d66b",
       "version_major": 2,
       "version_minor": 0
      },
      "text/plain": [
       "train batches:   0%|          | 0/52 [00:00<?, ?it/s]"
      ]
     },
     "metadata": {},
     "output_type": "display_data"
    },
    {
     "data": {
      "application/vnd.jupyter.widget-view+json": {
       "model_id": "54df440a886a47c3980be70411874d6c",
       "version_major": 2,
       "version_minor": 0
      },
      "text/plain": [
       "val batches:   0%|          | 0/8 [00:00<?, ?it/s]"
      ]
     },
     "metadata": {},
     "output_type": "display_data"
    },
    {
     "name": "stdout",
     "output_type": "stream",
     "text": [
      "Epoch 49/1000, Training Loss: 0.015916, Validation Loss: 0.018370\n"
     ]
    },
    {
     "data": {
      "application/vnd.jupyter.widget-view+json": {
       "model_id": "6a95565572c046a7b4b89c6af193bb04",
       "version_major": 2,
       "version_minor": 0
      },
      "text/plain": [
       "train batches:   0%|          | 0/52 [00:00<?, ?it/s]"
      ]
     },
     "metadata": {},
     "output_type": "display_data"
    },
    {
     "data": {
      "application/vnd.jupyter.widget-view+json": {
       "model_id": "a1bd53114de1482d871088eb3fc26081",
       "version_major": 2,
       "version_minor": 0
      },
      "text/plain": [
       "val batches:   0%|          | 0/8 [00:00<?, ?it/s]"
      ]
     },
     "metadata": {},
     "output_type": "display_data"
    },
    {
     "name": "stdout",
     "output_type": "stream",
     "text": [
      "Epoch 50/1000, Training Loss: 0.009499, Validation Loss: 0.020016\n"
     ]
    },
    {
     "data": {
      "application/vnd.jupyter.widget-view+json": {
       "model_id": "755e07a7ca0946b49fa11cda0c0d1d37",
       "version_major": 2,
       "version_minor": 0
      },
      "text/plain": [
       "train batches:   0%|          | 0/52 [00:00<?, ?it/s]"
      ]
     },
     "metadata": {},
     "output_type": "display_data"
    },
    {
     "data": {
      "application/vnd.jupyter.widget-view+json": {
       "model_id": "bda9f957265d4b95902ff76826621b9f",
       "version_major": 2,
       "version_minor": 0
      },
      "text/plain": [
       "val batches:   0%|          | 0/8 [00:00<?, ?it/s]"
      ]
     },
     "metadata": {},
     "output_type": "display_data"
    },
    {
     "name": "stdout",
     "output_type": "stream",
     "text": [
      "Epoch 51/1000, Training Loss: 0.008118, Validation Loss: 0.019218\n"
     ]
    },
    {
     "data": {
      "application/vnd.jupyter.widget-view+json": {
       "model_id": "5a3163be1a924d29970db1a11bb3f305",
       "version_major": 2,
       "version_minor": 0
      },
      "text/plain": [
       "train batches:   0%|          | 0/52 [00:00<?, ?it/s]"
      ]
     },
     "metadata": {},
     "output_type": "display_data"
    },
    {
     "data": {
      "application/vnd.jupyter.widget-view+json": {
       "model_id": "b665717c8f36452099a645fc6a1a5b3f",
       "version_major": 2,
       "version_minor": 0
      },
      "text/plain": [
       "val batches:   0%|          | 0/8 [00:00<?, ?it/s]"
      ]
     },
     "metadata": {},
     "output_type": "display_data"
    },
    {
     "name": "stdout",
     "output_type": "stream",
     "text": [
      "Epoch 52/1000, Training Loss: 0.007593, Validation Loss: 0.018183\n"
     ]
    },
    {
     "data": {
      "application/vnd.jupyter.widget-view+json": {
       "model_id": "ad00768bef904b8c8af2ee329261624b",
       "version_major": 2,
       "version_minor": 0
      },
      "text/plain": [
       "train batches:   0%|          | 0/52 [00:00<?, ?it/s]"
      ]
     },
     "metadata": {},
     "output_type": "display_data"
    },
    {
     "data": {
      "application/vnd.jupyter.widget-view+json": {
       "model_id": "9c9a136945cb40a1b876d68062c11173",
       "version_major": 2,
       "version_minor": 0
      },
      "text/plain": [
       "val batches:   0%|          | 0/8 [00:00<?, ?it/s]"
      ]
     },
     "metadata": {},
     "output_type": "display_data"
    },
    {
     "name": "stdout",
     "output_type": "stream",
     "text": [
      "Epoch 53/1000, Training Loss: 0.007821, Validation Loss: 0.020361\n"
     ]
    },
    {
     "data": {
      "application/vnd.jupyter.widget-view+json": {
       "model_id": "c8d96f9e36164b5a96da7e7635387a0c",
       "version_major": 2,
       "version_minor": 0
      },
      "text/plain": [
       "train batches:   0%|          | 0/52 [00:00<?, ?it/s]"
      ]
     },
     "metadata": {},
     "output_type": "display_data"
    },
    {
     "data": {
      "application/vnd.jupyter.widget-view+json": {
       "model_id": "a45ef7a499aa4b17bbea27306ee69dd9",
       "version_major": 2,
       "version_minor": 0
      },
      "text/plain": [
       "val batches:   0%|          | 0/8 [00:00<?, ?it/s]"
      ]
     },
     "metadata": {},
     "output_type": "display_data"
    },
    {
     "name": "stdout",
     "output_type": "stream",
     "text": [
      "Epoch 54/1000, Training Loss: 0.006797, Validation Loss: 0.023614\n"
     ]
    },
    {
     "data": {
      "application/vnd.jupyter.widget-view+json": {
       "model_id": "fe15605949b141c38ea83e5136508104",
       "version_major": 2,
       "version_minor": 0
      },
      "text/plain": [
       "train batches:   0%|          | 0/52 [00:00<?, ?it/s]"
      ]
     },
     "metadata": {},
     "output_type": "display_data"
    },
    {
     "data": {
      "application/vnd.jupyter.widget-view+json": {
       "model_id": "f02e7a64e6cf4c6aa928d070e9a87853",
       "version_major": 2,
       "version_minor": 0
      },
      "text/plain": [
       "val batches:   0%|          | 0/8 [00:00<?, ?it/s]"
      ]
     },
     "metadata": {},
     "output_type": "display_data"
    },
    {
     "name": "stdout",
     "output_type": "stream",
     "text": [
      "Epoch 55/1000, Training Loss: 0.006885, Validation Loss: 0.019444\n"
     ]
    },
    {
     "data": {
      "application/vnd.jupyter.widget-view+json": {
       "model_id": "c26e3a6534c44954b27bd8aa261af767",
       "version_major": 2,
       "version_minor": 0
      },
      "text/plain": [
       "train batches:   0%|          | 0/52 [00:00<?, ?it/s]"
      ]
     },
     "metadata": {},
     "output_type": "display_data"
    },
    {
     "data": {
      "application/vnd.jupyter.widget-view+json": {
       "model_id": "926d7df06d554b44894d5a386c8e5fda",
       "version_major": 2,
       "version_minor": 0
      },
      "text/plain": [
       "val batches:   0%|          | 0/8 [00:00<?, ?it/s]"
      ]
     },
     "metadata": {},
     "output_type": "display_data"
    },
    {
     "name": "stdout",
     "output_type": "stream",
     "text": [
      "Epoch 56/1000, Training Loss: 0.008145, Validation Loss: 0.018282\n"
     ]
    },
    {
     "data": {
      "application/vnd.jupyter.widget-view+json": {
       "model_id": "54f295d7290345e192dbae67e542411a",
       "version_major": 2,
       "version_minor": 0
      },
      "text/plain": [
       "train batches:   0%|          | 0/52 [00:00<?, ?it/s]"
      ]
     },
     "metadata": {},
     "output_type": "display_data"
    },
    {
     "data": {
      "application/vnd.jupyter.widget-view+json": {
       "model_id": "88626690d8144f04a21f4f214b5afae1",
       "version_major": 2,
       "version_minor": 0
      },
      "text/plain": [
       "val batches:   0%|          | 0/8 [00:00<?, ?it/s]"
      ]
     },
     "metadata": {},
     "output_type": "display_data"
    },
    {
     "name": "stdout",
     "output_type": "stream",
     "text": [
      "Epoch 57/1000, Training Loss: 0.006016, Validation Loss: 0.012363\n"
     ]
    },
    {
     "data": {
      "application/vnd.jupyter.widget-view+json": {
       "model_id": "68dc17dd953b4287808a431c0825e540",
       "version_major": 2,
       "version_minor": 0
      },
      "text/plain": [
       "train batches:   0%|          | 0/52 [00:00<?, ?it/s]"
      ]
     },
     "metadata": {},
     "output_type": "display_data"
    },
    {
     "data": {
      "application/vnd.jupyter.widget-view+json": {
       "model_id": "39a5591b0153471092a454ab6ad62a87",
       "version_major": 2,
       "version_minor": 0
      },
      "text/plain": [
       "val batches:   0%|          | 0/8 [00:00<?, ?it/s]"
      ]
     },
     "metadata": {},
     "output_type": "display_data"
    },
    {
     "name": "stdout",
     "output_type": "stream",
     "text": [
      "Epoch 58/1000, Training Loss: 0.006544, Validation Loss: 0.012618\n"
     ]
    },
    {
     "data": {
      "application/vnd.jupyter.widget-view+json": {
       "model_id": "248bc82b972f4abb8bf7fe3214ae0d97",
       "version_major": 2,
       "version_minor": 0
      },
      "text/plain": [
       "train batches:   0%|          | 0/52 [00:00<?, ?it/s]"
      ]
     },
     "metadata": {},
     "output_type": "display_data"
    },
    {
     "data": {
      "application/vnd.jupyter.widget-view+json": {
       "model_id": "6058d3b72be84641a6e85c3387c7fdca",
       "version_major": 2,
       "version_minor": 0
      },
      "text/plain": [
       "val batches:   0%|          | 0/8 [00:00<?, ?it/s]"
      ]
     },
     "metadata": {},
     "output_type": "display_data"
    },
    {
     "name": "stdout",
     "output_type": "stream",
     "text": [
      "Epoch 59/1000, Training Loss: 0.005885, Validation Loss: 0.011642\n"
     ]
    },
    {
     "data": {
      "application/vnd.jupyter.widget-view+json": {
       "model_id": "9b6bc5c45cd24da1a734a1108605fb51",
       "version_major": 2,
       "version_minor": 0
      },
      "text/plain": [
       "train batches:   0%|          | 0/52 [00:00<?, ?it/s]"
      ]
     },
     "metadata": {},
     "output_type": "display_data"
    },
    {
     "data": {
      "application/vnd.jupyter.widget-view+json": {
       "model_id": "b51c5fd5d6334e4b99302b70ea3cc0b5",
       "version_major": 2,
       "version_minor": 0
      },
      "text/plain": [
       "val batches:   0%|          | 0/8 [00:00<?, ?it/s]"
      ]
     },
     "metadata": {},
     "output_type": "display_data"
    },
    {
     "name": "stdout",
     "output_type": "stream",
     "text": [
      "Epoch 60/1000, Training Loss: 0.505310, Validation Loss: 0.161274\n"
     ]
    },
    {
     "data": {
      "application/vnd.jupyter.widget-view+json": {
       "model_id": "402a2e4e0c414721aca76bade487c247",
       "version_major": 2,
       "version_minor": 0
      },
      "text/plain": [
       "train batches:   0%|          | 0/52 [00:00<?, ?it/s]"
      ]
     },
     "metadata": {},
     "output_type": "display_data"
    },
    {
     "data": {
      "application/vnd.jupyter.widget-view+json": {
       "model_id": "c7fa206f1ba24817a96c798aa88f0f1c",
       "version_major": 2,
       "version_minor": 0
      },
      "text/plain": [
       "val batches:   0%|          | 0/8 [00:00<?, ?it/s]"
      ]
     },
     "metadata": {},
     "output_type": "display_data"
    },
    {
     "name": "stdout",
     "output_type": "stream",
     "text": [
      "Epoch 61/1000, Training Loss: 0.017686, Validation Loss: 0.041563\n"
     ]
    },
    {
     "data": {
      "application/vnd.jupyter.widget-view+json": {
       "model_id": "06d45dfa89784fe9bdef829b8c882011",
       "version_major": 2,
       "version_minor": 0
      },
      "text/plain": [
       "train batches:   0%|          | 0/52 [00:00<?, ?it/s]"
      ]
     },
     "metadata": {},
     "output_type": "display_data"
    },
    {
     "data": {
      "application/vnd.jupyter.widget-view+json": {
       "model_id": "283c59f9ddc948919d23b920be3cdf17",
       "version_major": 2,
       "version_minor": 0
      },
      "text/plain": [
       "val batches:   0%|          | 0/8 [00:00<?, ?it/s]"
      ]
     },
     "metadata": {},
     "output_type": "display_data"
    },
    {
     "name": "stdout",
     "output_type": "stream",
     "text": [
      "Epoch 62/1000, Training Loss: 0.011412, Validation Loss: 0.028206\n"
     ]
    },
    {
     "data": {
      "application/vnd.jupyter.widget-view+json": {
       "model_id": "545f55f32b4e4deca84c24faca5436eb",
       "version_major": 2,
       "version_minor": 0
      },
      "text/plain": [
       "train batches:   0%|          | 0/52 [00:00<?, ?it/s]"
      ]
     },
     "metadata": {},
     "output_type": "display_data"
    },
    {
     "data": {
      "application/vnd.jupyter.widget-view+json": {
       "model_id": "e0cc6c96b7734f078cb9885c76eba515",
       "version_major": 2,
       "version_minor": 0
      },
      "text/plain": [
       "val batches:   0%|          | 0/8 [00:00<?, ?it/s]"
      ]
     },
     "metadata": {},
     "output_type": "display_data"
    },
    {
     "name": "stdout",
     "output_type": "stream",
     "text": [
      "Epoch 63/1000, Training Loss: 0.008456, Validation Loss: 0.029022\n"
     ]
    },
    {
     "data": {
      "application/vnd.jupyter.widget-view+json": {
       "model_id": "277ae795b5d8456fb4ce23c0054558b7",
       "version_major": 2,
       "version_minor": 0
      },
      "text/plain": [
       "train batches:   0%|          | 0/52 [00:00<?, ?it/s]"
      ]
     },
     "metadata": {},
     "output_type": "display_data"
    },
    {
     "data": {
      "application/vnd.jupyter.widget-view+json": {
       "model_id": "dbcb7c1a89f743b6aacbaf9cec4f15c4",
       "version_major": 2,
       "version_minor": 0
      },
      "text/plain": [
       "val batches:   0%|          | 0/8 [00:00<?, ?it/s]"
      ]
     },
     "metadata": {},
     "output_type": "display_data"
    },
    {
     "name": "stdout",
     "output_type": "stream",
     "text": [
      "Epoch 64/1000, Training Loss: 0.006410, Validation Loss: 0.032388\n"
     ]
    },
    {
     "data": {
      "application/vnd.jupyter.widget-view+json": {
       "model_id": "5b41afd3fcc2427a829122b7ce458f21",
       "version_major": 2,
       "version_minor": 0
      },
      "text/plain": [
       "train batches:   0%|          | 0/52 [00:00<?, ?it/s]"
      ]
     },
     "metadata": {},
     "output_type": "display_data"
    },
    {
     "data": {
      "application/vnd.jupyter.widget-view+json": {
       "model_id": "d456a4e937754cef95f4d7994a9f23e7",
       "version_major": 2,
       "version_minor": 0
      },
      "text/plain": [
       "val batches:   0%|          | 0/8 [00:00<?, ?it/s]"
      ]
     },
     "metadata": {},
     "output_type": "display_data"
    },
    {
     "name": "stdout",
     "output_type": "stream",
     "text": [
      "Epoch 65/1000, Training Loss: 0.006313, Validation Loss: 0.048770\n"
     ]
    },
    {
     "data": {
      "application/vnd.jupyter.widget-view+json": {
       "model_id": "90314159ae624fb292b8d48d0172bded",
       "version_major": 2,
       "version_minor": 0
      },
      "text/plain": [
       "train batches:   0%|          | 0/52 [00:00<?, ?it/s]"
      ]
     },
     "metadata": {},
     "output_type": "display_data"
    },
    {
     "data": {
      "application/vnd.jupyter.widget-view+json": {
       "model_id": "48bd46832354435e86fe9582fb1d374e",
       "version_major": 2,
       "version_minor": 0
      },
      "text/plain": [
       "val batches:   0%|          | 0/8 [00:00<?, ?it/s]"
      ]
     },
     "metadata": {},
     "output_type": "display_data"
    },
    {
     "name": "stdout",
     "output_type": "stream",
     "text": [
      "Epoch 66/1000, Training Loss: 0.005539, Validation Loss: 0.045462\n"
     ]
    },
    {
     "data": {
      "application/vnd.jupyter.widget-view+json": {
       "model_id": "bdb4d70afcca483784b72711a8ec8539",
       "version_major": 2,
       "version_minor": 0
      },
      "text/plain": [
       "train batches:   0%|          | 0/52 [00:00<?, ?it/s]"
      ]
     },
     "metadata": {},
     "output_type": "display_data"
    },
    {
     "data": {
      "application/vnd.jupyter.widget-view+json": {
       "model_id": "4ef9b8cb3c104c5392ab26bef705e854",
       "version_major": 2,
       "version_minor": 0
      },
      "text/plain": [
       "val batches:   0%|          | 0/8 [00:00<?, ?it/s]"
      ]
     },
     "metadata": {},
     "output_type": "display_data"
    },
    {
     "name": "stdout",
     "output_type": "stream",
     "text": [
      "Epoch 67/1000, Training Loss: 0.005311, Validation Loss: 0.048703\n"
     ]
    },
    {
     "data": {
      "application/vnd.jupyter.widget-view+json": {
       "model_id": "ca24be3313a440a18461df3b57e56eb4",
       "version_major": 2,
       "version_minor": 0
      },
      "text/plain": [
       "train batches:   0%|          | 0/52 [00:00<?, ?it/s]"
      ]
     },
     "metadata": {},
     "output_type": "display_data"
    },
    {
     "data": {
      "application/vnd.jupyter.widget-view+json": {
       "model_id": "16ac0247cea14a2bb9e28fec42876726",
       "version_major": 2,
       "version_minor": 0
      },
      "text/plain": [
       "val batches:   0%|          | 0/8 [00:00<?, ?it/s]"
      ]
     },
     "metadata": {},
     "output_type": "display_data"
    },
    {
     "name": "stdout",
     "output_type": "stream",
     "text": [
      "Epoch 68/1000, Training Loss: 0.004885, Validation Loss: 0.055452\n"
     ]
    },
    {
     "data": {
      "application/vnd.jupyter.widget-view+json": {
       "model_id": "4c66c7a786b3479db936b9cf5251e5ea",
       "version_major": 2,
       "version_minor": 0
      },
      "text/plain": [
       "train batches:   0%|          | 0/52 [00:00<?, ?it/s]"
      ]
     },
     "metadata": {},
     "output_type": "display_data"
    },
    {
     "data": {
      "application/vnd.jupyter.widget-view+json": {
       "model_id": "ce6b2c8133204129ab82f350eb74c564",
       "version_major": 2,
       "version_minor": 0
      },
      "text/plain": [
       "val batches:   0%|          | 0/8 [00:00<?, ?it/s]"
      ]
     },
     "metadata": {},
     "output_type": "display_data"
    },
    {
     "name": "stdout",
     "output_type": "stream",
     "text": [
      "Epoch 69/1000, Training Loss: 0.005665, Validation Loss: 0.045344\n"
     ]
    },
    {
     "data": {
      "application/vnd.jupyter.widget-view+json": {
       "model_id": "f857b2a235494b89b0c6a8e4245b118b",
       "version_major": 2,
       "version_minor": 0
      },
      "text/plain": [
       "train batches:   0%|          | 0/52 [00:00<?, ?it/s]"
      ]
     },
     "metadata": {},
     "output_type": "display_data"
    },
    {
     "data": {
      "application/vnd.jupyter.widget-view+json": {
       "model_id": "1a34ba260ab04b0cb833b948f456e097",
       "version_major": 2,
       "version_minor": 0
      },
      "text/plain": [
       "val batches:   0%|          | 0/8 [00:00<?, ?it/s]"
      ]
     },
     "metadata": {},
     "output_type": "display_data"
    },
    {
     "name": "stdout",
     "output_type": "stream",
     "text": [
      "Epoch 70/1000, Training Loss: 0.004840, Validation Loss: 0.042530\n"
     ]
    },
    {
     "data": {
      "application/vnd.jupyter.widget-view+json": {
       "model_id": "f937db1ade5f4864a043a4c25a619c44",
       "version_major": 2,
       "version_minor": 0
      },
      "text/plain": [
       "train batches:   0%|          | 0/52 [00:00<?, ?it/s]"
      ]
     },
     "metadata": {},
     "output_type": "display_data"
    },
    {
     "data": {
      "application/vnd.jupyter.widget-view+json": {
       "model_id": "9cc61253f9024aa1afb2ba159fae5967",
       "version_major": 2,
       "version_minor": 0
      },
      "text/plain": [
       "val batches:   0%|          | 0/8 [00:00<?, ?it/s]"
      ]
     },
     "metadata": {},
     "output_type": "display_data"
    },
    {
     "name": "stdout",
     "output_type": "stream",
     "text": [
      "Epoch 71/1000, Training Loss: 0.005662, Validation Loss: 0.030971\n"
     ]
    },
    {
     "data": {
      "application/vnd.jupyter.widget-view+json": {
       "model_id": "6daf79d6be6b4ba9a5394e0a47795e52",
       "version_major": 2,
       "version_minor": 0
      },
      "text/plain": [
       "train batches:   0%|          | 0/52 [00:00<?, ?it/s]"
      ]
     },
     "metadata": {},
     "output_type": "display_data"
    },
    {
     "data": {
      "application/vnd.jupyter.widget-view+json": {
       "model_id": "c6c02b3f44c84085a4cda0517c82b555",
       "version_major": 2,
       "version_minor": 0
      },
      "text/plain": [
       "val batches:   0%|          | 0/8 [00:00<?, ?it/s]"
      ]
     },
     "metadata": {},
     "output_type": "display_data"
    },
    {
     "name": "stdout",
     "output_type": "stream",
     "text": [
      "Epoch 72/1000, Training Loss: 0.004936, Validation Loss: 0.034233\n"
     ]
    },
    {
     "data": {
      "application/vnd.jupyter.widget-view+json": {
       "model_id": "413fbe3c1d794061a24206d8f7608a4e",
       "version_major": 2,
       "version_minor": 0
      },
      "text/plain": [
       "train batches:   0%|          | 0/52 [00:00<?, ?it/s]"
      ]
     },
     "metadata": {},
     "output_type": "display_data"
    },
    {
     "data": {
      "application/vnd.jupyter.widget-view+json": {
       "model_id": "92fe6f0ce3194e709ac1478c8b615cc6",
       "version_major": 2,
       "version_minor": 0
      },
      "text/plain": [
       "val batches:   0%|          | 0/8 [00:00<?, ?it/s]"
      ]
     },
     "metadata": {},
     "output_type": "display_data"
    },
    {
     "name": "stdout",
     "output_type": "stream",
     "text": [
      "Epoch 73/1000, Training Loss: 0.005683, Validation Loss: 0.023468\n"
     ]
    },
    {
     "data": {
      "application/vnd.jupyter.widget-view+json": {
       "model_id": "8ef2afe6ac9549d581c434531f174adb",
       "version_major": 2,
       "version_minor": 0
      },
      "text/plain": [
       "train batches:   0%|          | 0/52 [00:00<?, ?it/s]"
      ]
     },
     "metadata": {},
     "output_type": "display_data"
    },
    {
     "data": {
      "application/vnd.jupyter.widget-view+json": {
       "model_id": "b1235fb797984d4ca0d9ffe0d6009e9f",
       "version_major": 2,
       "version_minor": 0
      },
      "text/plain": [
       "val batches:   0%|          | 0/8 [00:00<?, ?it/s]"
      ]
     },
     "metadata": {},
     "output_type": "display_data"
    },
    {
     "name": "stdout",
     "output_type": "stream",
     "text": [
      "Epoch 74/1000, Training Loss: 0.004527, Validation Loss: 0.015983\n"
     ]
    },
    {
     "data": {
      "application/vnd.jupyter.widget-view+json": {
       "model_id": "3ad566d6a1a843ffb5ef2ccf1c3de323",
       "version_major": 2,
       "version_minor": 0
      },
      "text/plain": [
       "train batches:   0%|          | 0/52 [00:00<?, ?it/s]"
      ]
     },
     "metadata": {},
     "output_type": "display_data"
    },
    {
     "data": {
      "application/vnd.jupyter.widget-view+json": {
       "model_id": "d9e02260927e4c2792ef4074af51a840",
       "version_major": 2,
       "version_minor": 0
      },
      "text/plain": [
       "val batches:   0%|          | 0/8 [00:00<?, ?it/s]"
      ]
     },
     "metadata": {},
     "output_type": "display_data"
    },
    {
     "name": "stdout",
     "output_type": "stream",
     "text": [
      "Epoch 75/1000, Training Loss: 0.291066, Validation Loss: 0.018184\n"
     ]
    },
    {
     "data": {
      "application/vnd.jupyter.widget-view+json": {
       "model_id": "220588735145476586648be76695c8f0",
       "version_major": 2,
       "version_minor": 0
      },
      "text/plain": [
       "train batches:   0%|          | 0/52 [00:00<?, ?it/s]"
      ]
     },
     "metadata": {},
     "output_type": "display_data"
    },
    {
     "data": {
      "application/vnd.jupyter.widget-view+json": {
       "model_id": "fd7b9e55e79f44fda0f807c0a0215361",
       "version_major": 2,
       "version_minor": 0
      },
      "text/plain": [
       "val batches:   0%|          | 0/8 [00:00<?, ?it/s]"
      ]
     },
     "metadata": {},
     "output_type": "display_data"
    },
    {
     "name": "stdout",
     "output_type": "stream",
     "text": [
      "Epoch 76/1000, Training Loss: 0.019287, Validation Loss: 0.018286\n"
     ]
    },
    {
     "data": {
      "application/vnd.jupyter.widget-view+json": {
       "model_id": "c713d58d2cfc417bb61373aae3baaef6",
       "version_major": 2,
       "version_minor": 0
      },
      "text/plain": [
       "train batches:   0%|          | 0/52 [00:00<?, ?it/s]"
      ]
     },
     "metadata": {},
     "output_type": "display_data"
    },
    {
     "data": {
      "application/vnd.jupyter.widget-view+json": {
       "model_id": "422071bbeafc4f0dbcf28afe78124499",
       "version_major": 2,
       "version_minor": 0
      },
      "text/plain": [
       "val batches:   0%|          | 0/8 [00:00<?, ?it/s]"
      ]
     },
     "metadata": {},
     "output_type": "display_data"
    },
    {
     "name": "stdout",
     "output_type": "stream",
     "text": [
      "Epoch 77/1000, Training Loss: 0.019318, Validation Loss: 0.018214\n"
     ]
    },
    {
     "data": {
      "application/vnd.jupyter.widget-view+json": {
       "model_id": "1422612cac91488ebceb279c91a0b97d",
       "version_major": 2,
       "version_minor": 0
      },
      "text/plain": [
       "train batches:   0%|          | 0/52 [00:00<?, ?it/s]"
      ]
     },
     "metadata": {},
     "output_type": "display_data"
    },
    {
     "data": {
      "application/vnd.jupyter.widget-view+json": {
       "model_id": "f6f44d023cc6414fa33d83c23174887a",
       "version_major": 2,
       "version_minor": 0
      },
      "text/plain": [
       "val batches:   0%|          | 0/8 [00:00<?, ?it/s]"
      ]
     },
     "metadata": {},
     "output_type": "display_data"
    },
    {
     "name": "stdout",
     "output_type": "stream",
     "text": [
      "Epoch 78/1000, Training Loss: 0.019129, Validation Loss: 0.018317\n"
     ]
    },
    {
     "data": {
      "application/vnd.jupyter.widget-view+json": {
       "model_id": "22eac5d6b49542b3a60cfb1efda5363d",
       "version_major": 2,
       "version_minor": 0
      },
      "text/plain": [
       "train batches:   0%|          | 0/52 [00:00<?, ?it/s]"
      ]
     },
     "metadata": {},
     "output_type": "display_data"
    },
    {
     "data": {
      "application/vnd.jupyter.widget-view+json": {
       "model_id": "e12d5c74e1bd44b3ab92126de00d33d1",
       "version_major": 2,
       "version_minor": 0
      },
      "text/plain": [
       "val batches:   0%|          | 0/8 [00:00<?, ?it/s]"
      ]
     },
     "metadata": {},
     "output_type": "display_data"
    },
    {
     "name": "stdout",
     "output_type": "stream",
     "text": [
      "Epoch 79/1000, Training Loss: 0.019124, Validation Loss: 0.018255\n"
     ]
    },
    {
     "data": {
      "application/vnd.jupyter.widget-view+json": {
       "model_id": "998ef7be29254269be45ca95855bffcb",
       "version_major": 2,
       "version_minor": 0
      },
      "text/plain": [
       "train batches:   0%|          | 0/52 [00:00<?, ?it/s]"
      ]
     },
     "metadata": {},
     "output_type": "display_data"
    },
    {
     "data": {
      "application/vnd.jupyter.widget-view+json": {
       "model_id": "8d8cdb1b05974e9783032ca6a8a1e665",
       "version_major": 2,
       "version_minor": 0
      },
      "text/plain": [
       "val batches:   0%|          | 0/8 [00:00<?, ?it/s]"
      ]
     },
     "metadata": {},
     "output_type": "display_data"
    },
    {
     "name": "stdout",
     "output_type": "stream",
     "text": [
      "Epoch 80/1000, Training Loss: 0.018781, Validation Loss: 0.018353\n"
     ]
    },
    {
     "data": {
      "application/vnd.jupyter.widget-view+json": {
       "model_id": "021ab06418294a1aa9b25848ba656a3d",
       "version_major": 2,
       "version_minor": 0
      },
      "text/plain": [
       "train batches:   0%|          | 0/52 [00:00<?, ?it/s]"
      ]
     },
     "metadata": {},
     "output_type": "display_data"
    },
    {
     "data": {
      "application/vnd.jupyter.widget-view+json": {
       "model_id": "a81c30fec1064bacb93e8bb1b57b8650",
       "version_major": 2,
       "version_minor": 0
      },
      "text/plain": [
       "val batches:   0%|          | 0/8 [00:00<?, ?it/s]"
      ]
     },
     "metadata": {},
     "output_type": "display_data"
    },
    {
     "name": "stdout",
     "output_type": "stream",
     "text": [
      "Epoch 81/1000, Training Loss: 0.018492, Validation Loss: 0.018583\n"
     ]
    },
    {
     "data": {
      "application/vnd.jupyter.widget-view+json": {
       "model_id": "ecab1bd8a327441e9a7b8b8487fb853f",
       "version_major": 2,
       "version_minor": 0
      },
      "text/plain": [
       "train batches:   0%|          | 0/52 [00:00<?, ?it/s]"
      ]
     },
     "metadata": {},
     "output_type": "display_data"
    },
    {
     "data": {
      "application/vnd.jupyter.widget-view+json": {
       "model_id": "45af25a31b944cd3be65bd226b1393df",
       "version_major": 2,
       "version_minor": 0
      },
      "text/plain": [
       "val batches:   0%|          | 0/8 [00:00<?, ?it/s]"
      ]
     },
     "metadata": {},
     "output_type": "display_data"
    },
    {
     "name": "stdout",
     "output_type": "stream",
     "text": [
      "Epoch 82/1000, Training Loss: 0.018167, Validation Loss: 0.017884\n"
     ]
    },
    {
     "data": {
      "application/vnd.jupyter.widget-view+json": {
       "model_id": "78977a07d4024ceea0ddd97d1903533d",
       "version_major": 2,
       "version_minor": 0
      },
      "text/plain": [
       "train batches:   0%|          | 0/52 [00:00<?, ?it/s]"
      ]
     },
     "metadata": {},
     "output_type": "display_data"
    },
    {
     "data": {
      "application/vnd.jupyter.widget-view+json": {
       "model_id": "6305efe307774b37b32effb44a77423e",
       "version_major": 2,
       "version_minor": 0
      },
      "text/plain": [
       "val batches:   0%|          | 0/8 [00:00<?, ?it/s]"
      ]
     },
     "metadata": {},
     "output_type": "display_data"
    },
    {
     "name": "stdout",
     "output_type": "stream",
     "text": [
      "Epoch 83/1000, Training Loss: 0.009006, Validation Loss: 0.011568\n"
     ]
    },
    {
     "data": {
      "application/vnd.jupyter.widget-view+json": {
       "model_id": "29ff5cc4651a4dd9a2e750b586b34d9e",
       "version_major": 2,
       "version_minor": 0
      },
      "text/plain": [
       "train batches:   0%|          | 0/52 [00:00<?, ?it/s]"
      ]
     },
     "metadata": {},
     "output_type": "display_data"
    },
    {
     "data": {
      "application/vnd.jupyter.widget-view+json": {
       "model_id": "33bd5eea38504e8f81f9e5bfb1abd163",
       "version_major": 2,
       "version_minor": 0
      },
      "text/plain": [
       "val batches:   0%|          | 0/8 [00:00<?, ?it/s]"
      ]
     },
     "metadata": {},
     "output_type": "display_data"
    },
    {
     "name": "stdout",
     "output_type": "stream",
     "text": [
      "Epoch 84/1000, Training Loss: 0.005643, Validation Loss: 0.009528\n"
     ]
    },
    {
     "data": {
      "application/vnd.jupyter.widget-view+json": {
       "model_id": "0072ef99cbfc4fc2af6207457c4569b3",
       "version_major": 2,
       "version_minor": 0
      },
      "text/plain": [
       "train batches:   0%|          | 0/52 [00:00<?, ?it/s]"
      ]
     },
     "metadata": {},
     "output_type": "display_data"
    },
    {
     "data": {
      "application/vnd.jupyter.widget-view+json": {
       "model_id": "aa8a0052ea3345e7919f997ce3dfad4c",
       "version_major": 2,
       "version_minor": 0
      },
      "text/plain": [
       "val batches:   0%|          | 0/8 [00:00<?, ?it/s]"
      ]
     },
     "metadata": {},
     "output_type": "display_data"
    },
    {
     "name": "stdout",
     "output_type": "stream",
     "text": [
      "Epoch 85/1000, Training Loss: 0.005401, Validation Loss: 0.011345\n"
     ]
    },
    {
     "data": {
      "application/vnd.jupyter.widget-view+json": {
       "model_id": "295db7f6e7024a0796c45e9209733370",
       "version_major": 2,
       "version_minor": 0
      },
      "text/plain": [
       "train batches:   0%|          | 0/52 [00:00<?, ?it/s]"
      ]
     },
     "metadata": {},
     "output_type": "display_data"
    },
    {
     "data": {
      "application/vnd.jupyter.widget-view+json": {
       "model_id": "6e83bbd1eaa648cb8d9d559f971dba04",
       "version_major": 2,
       "version_minor": 0
      },
      "text/plain": [
       "val batches:   0%|          | 0/8 [00:00<?, ?it/s]"
      ]
     },
     "metadata": {},
     "output_type": "display_data"
    },
    {
     "name": "stdout",
     "output_type": "stream",
     "text": [
      "Epoch 86/1000, Training Loss: 0.004995, Validation Loss: 0.015109\n"
     ]
    },
    {
     "data": {
      "application/vnd.jupyter.widget-view+json": {
       "model_id": "d0cc33e67235412a9c0d1d42a2e3be5f",
       "version_major": 2,
       "version_minor": 0
      },
      "text/plain": [
       "train batches:   0%|          | 0/52 [00:00<?, ?it/s]"
      ]
     },
     "metadata": {},
     "output_type": "display_data"
    },
    {
     "data": {
      "application/vnd.jupyter.widget-view+json": {
       "model_id": "4592b8bd6f1048818098496009d183c5",
       "version_major": 2,
       "version_minor": 0
      },
      "text/plain": [
       "val batches:   0%|          | 0/8 [00:00<?, ?it/s]"
      ]
     },
     "metadata": {},
     "output_type": "display_data"
    },
    {
     "name": "stdout",
     "output_type": "stream",
     "text": [
      "Epoch 87/1000, Training Loss: 0.005022, Validation Loss: 0.016849\n"
     ]
    },
    {
     "data": {
      "application/vnd.jupyter.widget-view+json": {
       "model_id": "2ee6087a65e84052925743405dfd6ddd",
       "version_major": 2,
       "version_minor": 0
      },
      "text/plain": [
       "train batches:   0%|          | 0/52 [00:00<?, ?it/s]"
      ]
     },
     "metadata": {},
     "output_type": "display_data"
    },
    {
     "data": {
      "application/vnd.jupyter.widget-view+json": {
       "model_id": "933c70c3404e48f0a7bd4fbbba5d89ed",
       "version_major": 2,
       "version_minor": 0
      },
      "text/plain": [
       "val batches:   0%|          | 0/8 [00:00<?, ?it/s]"
      ]
     },
     "metadata": {},
     "output_type": "display_data"
    },
    {
     "name": "stdout",
     "output_type": "stream",
     "text": [
      "Epoch 88/1000, Training Loss: 0.004850, Validation Loss: 0.017545\n"
     ]
    },
    {
     "data": {
      "application/vnd.jupyter.widget-view+json": {
       "model_id": "5b643972279641e2b7002195db9cd826",
       "version_major": 2,
       "version_minor": 0
      },
      "text/plain": [
       "train batches:   0%|          | 0/52 [00:00<?, ?it/s]"
      ]
     },
     "metadata": {},
     "output_type": "display_data"
    },
    {
     "data": {
      "application/vnd.jupyter.widget-view+json": {
       "model_id": "bce1c7b3ea4640f28757fe244449d33e",
       "version_major": 2,
       "version_minor": 0
      },
      "text/plain": [
       "val batches:   0%|          | 0/8 [00:00<?, ?it/s]"
      ]
     },
     "metadata": {},
     "output_type": "display_data"
    },
    {
     "name": "stdout",
     "output_type": "stream",
     "text": [
      "Epoch 89/1000, Training Loss: 0.005766, Validation Loss: 0.015670\n"
     ]
    },
    {
     "data": {
      "application/vnd.jupyter.widget-view+json": {
       "model_id": "14a2c17c4cbb4422b6b83ec9a681587a",
       "version_major": 2,
       "version_minor": 0
      },
      "text/plain": [
       "train batches:   0%|          | 0/52 [00:00<?, ?it/s]"
      ]
     },
     "metadata": {},
     "output_type": "display_data"
    },
    {
     "data": {
      "application/vnd.jupyter.widget-view+json": {
       "model_id": "5f7d52a9a83d4d7f85e52a3da4cb3f5e",
       "version_major": 2,
       "version_minor": 0
      },
      "text/plain": [
       "val batches:   0%|          | 0/8 [00:00<?, ?it/s]"
      ]
     },
     "metadata": {},
     "output_type": "display_data"
    },
    {
     "name": "stdout",
     "output_type": "stream",
     "text": [
      "Epoch 90/1000, Training Loss: 0.005420, Validation Loss: 0.026105\n"
     ]
    },
    {
     "data": {
      "application/vnd.jupyter.widget-view+json": {
       "model_id": "615d314a426b4cffb0af42ab02df7598",
       "version_major": 2,
       "version_minor": 0
      },
      "text/plain": [
       "train batches:   0%|          | 0/52 [00:00<?, ?it/s]"
      ]
     },
     "metadata": {},
     "output_type": "display_data"
    },
    {
     "data": {
      "application/vnd.jupyter.widget-view+json": {
       "model_id": "cd0beb4b65d44ac2bd694db3d2223998",
       "version_major": 2,
       "version_minor": 0
      },
      "text/plain": [
       "val batches:   0%|          | 0/8 [00:00<?, ?it/s]"
      ]
     },
     "metadata": {},
     "output_type": "display_data"
    },
    {
     "name": "stdout",
     "output_type": "stream",
     "text": [
      "Epoch 91/1000, Training Loss: 0.007345, Validation Loss: 0.031373\n"
     ]
    },
    {
     "data": {
      "application/vnd.jupyter.widget-view+json": {
       "model_id": "d678375afcac4f93af018a4f4d5e66c8",
       "version_major": 2,
       "version_minor": 0
      },
      "text/plain": [
       "train batches:   0%|          | 0/52 [00:00<?, ?it/s]"
      ]
     },
     "metadata": {},
     "output_type": "display_data"
    },
    {
     "data": {
      "application/vnd.jupyter.widget-view+json": {
       "model_id": "f3e30ecf998248d6a900fdbe3cd7c294",
       "version_major": 2,
       "version_minor": 0
      },
      "text/plain": [
       "val batches:   0%|          | 0/8 [00:00<?, ?it/s]"
      ]
     },
     "metadata": {},
     "output_type": "display_data"
    },
    {
     "name": "stdout",
     "output_type": "stream",
     "text": [
      "Epoch 92/1000, Training Loss: 0.004417, Validation Loss: 0.031374\n"
     ]
    },
    {
     "data": {
      "application/vnd.jupyter.widget-view+json": {
       "model_id": "596e47539e1a48678922463f49cb6eef",
       "version_major": 2,
       "version_minor": 0
      },
      "text/plain": [
       "train batches:   0%|          | 0/52 [00:00<?, ?it/s]"
      ]
     },
     "metadata": {},
     "output_type": "display_data"
    },
    {
     "data": {
      "application/vnd.jupyter.widget-view+json": {
       "model_id": "44468557d9504bc6b215aa583105c987",
       "version_major": 2,
       "version_minor": 0
      },
      "text/plain": [
       "val batches:   0%|          | 0/8 [00:00<?, ?it/s]"
      ]
     },
     "metadata": {},
     "output_type": "display_data"
    },
    {
     "name": "stdout",
     "output_type": "stream",
     "text": [
      "Epoch 93/1000, Training Loss: 0.009046, Validation Loss: 0.024453\n"
     ]
    },
    {
     "data": {
      "application/vnd.jupyter.widget-view+json": {
       "model_id": "8fdb0575c85e412b90bc75fba37ce422",
       "version_major": 2,
       "version_minor": 0
      },
      "text/plain": [
       "train batches:   0%|          | 0/52 [00:00<?, ?it/s]"
      ]
     },
     "metadata": {},
     "output_type": "display_data"
    },
    {
     "data": {
      "application/vnd.jupyter.widget-view+json": {
       "model_id": "edcc543281f243738218c24606cc202e",
       "version_major": 2,
       "version_minor": 0
      },
      "text/plain": [
       "val batches:   0%|          | 0/8 [00:00<?, ?it/s]"
      ]
     },
     "metadata": {},
     "output_type": "display_data"
    },
    {
     "name": "stdout",
     "output_type": "stream",
     "text": [
      "Epoch 94/1000, Training Loss: 0.005159, Validation Loss: 0.030863\n"
     ]
    },
    {
     "data": {
      "application/vnd.jupyter.widget-view+json": {
       "model_id": "f5527f65f6b94323a76b8f5b4d9d7107",
       "version_major": 2,
       "version_minor": 0
      },
      "text/plain": [
       "train batches:   0%|          | 0/52 [00:00<?, ?it/s]"
      ]
     },
     "metadata": {},
     "output_type": "display_data"
    },
    {
     "data": {
      "application/vnd.jupyter.widget-view+json": {
       "model_id": "56c5e06787e24e40923e551318d75cbd",
       "version_major": 2,
       "version_minor": 0
      },
      "text/plain": [
       "val batches:   0%|          | 0/8 [00:00<?, ?it/s]"
      ]
     },
     "metadata": {},
     "output_type": "display_data"
    },
    {
     "name": "stdout",
     "output_type": "stream",
     "text": [
      "Epoch 95/1000, Training Loss: 0.004275, Validation Loss: 0.036284\n"
     ]
    },
    {
     "data": {
      "application/vnd.jupyter.widget-view+json": {
       "model_id": "febea0bdf75246599b157127904e05d6",
       "version_major": 2,
       "version_minor": 0
      },
      "text/plain": [
       "train batches:   0%|          | 0/52 [00:00<?, ?it/s]"
      ]
     },
     "metadata": {},
     "output_type": "display_data"
    },
    {
     "data": {
      "application/vnd.jupyter.widget-view+json": {
       "model_id": "02aa40167b04463ab35565ae945677c9",
       "version_major": 2,
       "version_minor": 0
      },
      "text/plain": [
       "val batches:   0%|          | 0/8 [00:00<?, ?it/s]"
      ]
     },
     "metadata": {},
     "output_type": "display_data"
    },
    {
     "name": "stdout",
     "output_type": "stream",
     "text": [
      "Epoch 96/1000, Training Loss: 0.004580, Validation Loss: 0.035067\n"
     ]
    },
    {
     "data": {
      "application/vnd.jupyter.widget-view+json": {
       "model_id": "b218da6488444f1d92850d18c11b0a23",
       "version_major": 2,
       "version_minor": 0
      },
      "text/plain": [
       "train batches:   0%|          | 0/52 [00:00<?, ?it/s]"
      ]
     },
     "metadata": {},
     "output_type": "display_data"
    },
    {
     "data": {
      "application/vnd.jupyter.widget-view+json": {
       "model_id": "cee498079984493ba89f06c35b1760e6",
       "version_major": 2,
       "version_minor": 0
      },
      "text/plain": [
       "val batches:   0%|          | 0/8 [00:00<?, ?it/s]"
      ]
     },
     "metadata": {},
     "output_type": "display_data"
    },
    {
     "name": "stdout",
     "output_type": "stream",
     "text": [
      "Epoch 97/1000, Training Loss: 0.007522, Validation Loss: 0.042218\n"
     ]
    },
    {
     "data": {
      "application/vnd.jupyter.widget-view+json": {
       "model_id": "e567e1aa959f440489e7027d31fc063e",
       "version_major": 2,
       "version_minor": 0
      },
      "text/plain": [
       "train batches:   0%|          | 0/52 [00:00<?, ?it/s]"
      ]
     },
     "metadata": {},
     "output_type": "display_data"
    },
    {
     "data": {
      "application/vnd.jupyter.widget-view+json": {
       "model_id": "2e2bc6173959400ab2396140cce32ae3",
       "version_major": 2,
       "version_minor": 0
      },
      "text/plain": [
       "val batches:   0%|          | 0/8 [00:00<?, ?it/s]"
      ]
     },
     "metadata": {},
     "output_type": "display_data"
    },
    {
     "name": "stdout",
     "output_type": "stream",
     "text": [
      "Epoch 98/1000, Training Loss: 0.004371, Validation Loss: 0.036472\n"
     ]
    },
    {
     "data": {
      "application/vnd.jupyter.widget-view+json": {
       "model_id": "9373fc59f0ab4d06a37699eb443fb43a",
       "version_major": 2,
       "version_minor": 0
      },
      "text/plain": [
       "train batches:   0%|          | 0/52 [00:00<?, ?it/s]"
      ]
     },
     "metadata": {},
     "output_type": "display_data"
    },
    {
     "data": {
      "application/vnd.jupyter.widget-view+json": {
       "model_id": "7a612325403645d59f056ea9806055bb",
       "version_major": 2,
       "version_minor": 0
      },
      "text/plain": [
       "val batches:   0%|          | 0/8 [00:00<?, ?it/s]"
      ]
     },
     "metadata": {},
     "output_type": "display_data"
    },
    {
     "name": "stdout",
     "output_type": "stream",
     "text": [
      "Epoch 99/1000, Training Loss: 0.004015, Validation Loss: 0.031946\n"
     ]
    },
    {
     "data": {
      "application/vnd.jupyter.widget-view+json": {
       "model_id": "969ff3e1197e45f9aecec5f3348621b0",
       "version_major": 2,
       "version_minor": 0
      },
      "text/plain": [
       "train batches:   0%|          | 0/52 [00:00<?, ?it/s]"
      ]
     },
     "metadata": {},
     "output_type": "display_data"
    },
    {
     "data": {
      "application/vnd.jupyter.widget-view+json": {
       "model_id": "01d2388eea9b4e1ab3a1d438442a8ebe",
       "version_major": 2,
       "version_minor": 0
      },
      "text/plain": [
       "val batches:   0%|          | 0/8 [00:00<?, ?it/s]"
      ]
     },
     "metadata": {},
     "output_type": "display_data"
    },
    {
     "name": "stdout",
     "output_type": "stream",
     "text": [
      "Epoch 100/1000, Training Loss: 0.004272, Validation Loss: 0.038034\n"
     ]
    },
    {
     "data": {
      "application/vnd.jupyter.widget-view+json": {
       "model_id": "19f390935d85413eb065d8565f958890",
       "version_major": 2,
       "version_minor": 0
      },
      "text/plain": [
       "train batches:   0%|          | 0/52 [00:00<?, ?it/s]"
      ]
     },
     "metadata": {},
     "output_type": "display_data"
    },
    {
     "data": {
      "application/vnd.jupyter.widget-view+json": {
       "model_id": "04126b36c2fa4be68de4b52a51263ef8",
       "version_major": 2,
       "version_minor": 0
      },
      "text/plain": [
       "val batches:   0%|          | 0/8 [00:00<?, ?it/s]"
      ]
     },
     "metadata": {},
     "output_type": "display_data"
    },
    {
     "name": "stdout",
     "output_type": "stream",
     "text": [
      "Epoch 101/1000, Training Loss: 0.003707, Validation Loss: 0.031892\n"
     ]
    },
    {
     "data": {
      "application/vnd.jupyter.widget-view+json": {
       "model_id": "db05bf5d133e4d569494dfd09f887761",
       "version_major": 2,
       "version_minor": 0
      },
      "text/plain": [
       "train batches:   0%|          | 0/52 [00:00<?, ?it/s]"
      ]
     },
     "metadata": {},
     "output_type": "display_data"
    },
    {
     "data": {
      "application/vnd.jupyter.widget-view+json": {
       "model_id": "6b2283961e1a43f3a6097950bf851d78",
       "version_major": 2,
       "version_minor": 0
      },
      "text/plain": [
       "val batches:   0%|          | 0/8 [00:00<?, ?it/s]"
      ]
     },
     "metadata": {},
     "output_type": "display_data"
    },
    {
     "name": "stdout",
     "output_type": "stream",
     "text": [
      "Epoch 102/1000, Training Loss: 0.095027, Validation Loss: 0.038927\n"
     ]
    },
    {
     "data": {
      "application/vnd.jupyter.widget-view+json": {
       "model_id": "0910914ae60a4b2eb1515869c288e81f",
       "version_major": 2,
       "version_minor": 0
      },
      "text/plain": [
       "train batches:   0%|          | 0/52 [00:00<?, ?it/s]"
      ]
     },
     "metadata": {},
     "output_type": "display_data"
    },
    {
     "data": {
      "application/vnd.jupyter.widget-view+json": {
       "model_id": "f9e154d7ff5042fda59748a1e1605a65",
       "version_major": 2,
       "version_minor": 0
      },
      "text/plain": [
       "val batches:   0%|          | 0/8 [00:00<?, ?it/s]"
      ]
     },
     "metadata": {},
     "output_type": "display_data"
    },
    {
     "name": "stdout",
     "output_type": "stream",
     "text": [
      "Epoch 103/1000, Training Loss: 0.008216, Validation Loss: 0.034226\n"
     ]
    },
    {
     "data": {
      "application/vnd.jupyter.widget-view+json": {
       "model_id": "de26837d3a2945969e9cd8de1be0de22",
       "version_major": 2,
       "version_minor": 0
      },
      "text/plain": [
       "train batches:   0%|          | 0/52 [00:00<?, ?it/s]"
      ]
     },
     "metadata": {},
     "output_type": "display_data"
    },
    {
     "data": {
      "application/vnd.jupyter.widget-view+json": {
       "model_id": "b197bdbf50d84675be33bcf6a2f9302a",
       "version_major": 2,
       "version_minor": 0
      },
      "text/plain": [
       "val batches:   0%|          | 0/8 [00:00<?, ?it/s]"
      ]
     },
     "metadata": {},
     "output_type": "display_data"
    },
    {
     "name": "stdout",
     "output_type": "stream",
     "text": [
      "Epoch 104/1000, Training Loss: 0.004664, Validation Loss: 0.036328\n"
     ]
    },
    {
     "data": {
      "application/vnd.jupyter.widget-view+json": {
       "model_id": "bc7eaa649fde436589025eb7410d5e42",
       "version_major": 2,
       "version_minor": 0
      },
      "text/plain": [
       "train batches:   0%|          | 0/52 [00:00<?, ?it/s]"
      ]
     },
     "metadata": {},
     "output_type": "display_data"
    },
    {
     "data": {
      "application/vnd.jupyter.widget-view+json": {
       "model_id": "c0638f3e76704cd7bdac77dcf3b561e2",
       "version_major": 2,
       "version_minor": 0
      },
      "text/plain": [
       "val batches:   0%|          | 0/8 [00:00<?, ?it/s]"
      ]
     },
     "metadata": {},
     "output_type": "display_data"
    },
    {
     "name": "stdout",
     "output_type": "stream",
     "text": [
      "Epoch 105/1000, Training Loss: 0.003962, Validation Loss: 0.034033\n"
     ]
    },
    {
     "data": {
      "application/vnd.jupyter.widget-view+json": {
       "model_id": "4028ac59481948a5aa6f92f01452cf8b",
       "version_major": 2,
       "version_minor": 0
      },
      "text/plain": [
       "train batches:   0%|          | 0/52 [00:00<?, ?it/s]"
      ]
     },
     "metadata": {},
     "output_type": "display_data"
    },
    {
     "data": {
      "application/vnd.jupyter.widget-view+json": {
       "model_id": "baf68647d5394350a139a53e4e4eb399",
       "version_major": 2,
       "version_minor": 0
      },
      "text/plain": [
       "val batches:   0%|          | 0/8 [00:00<?, ?it/s]"
      ]
     },
     "metadata": {},
     "output_type": "display_data"
    },
    {
     "name": "stdout",
     "output_type": "stream",
     "text": [
      "Epoch 106/1000, Training Loss: 0.003578, Validation Loss: 0.035221\n"
     ]
    },
    {
     "data": {
      "application/vnd.jupyter.widget-view+json": {
       "model_id": "b084b0dd83e341e5a57246248a80fe52",
       "version_major": 2,
       "version_minor": 0
      },
      "text/plain": [
       "train batches:   0%|          | 0/52 [00:00<?, ?it/s]"
      ]
     },
     "metadata": {},
     "output_type": "display_data"
    },
    {
     "data": {
      "application/vnd.jupyter.widget-view+json": {
       "model_id": "24c0d0aa79e44fdd9bd4ed71099c9373",
       "version_major": 2,
       "version_minor": 0
      },
      "text/plain": [
       "val batches:   0%|          | 0/8 [00:00<?, ?it/s]"
      ]
     },
     "metadata": {},
     "output_type": "display_data"
    },
    {
     "name": "stdout",
     "output_type": "stream",
     "text": [
      "Epoch 107/1000, Training Loss: 0.003730, Validation Loss: 0.034695\n"
     ]
    },
    {
     "data": {
      "application/vnd.jupyter.widget-view+json": {
       "model_id": "5400dbc26b1442e888e896ef8b6405a0",
       "version_major": 2,
       "version_minor": 0
      },
      "text/plain": [
       "train batches:   0%|          | 0/52 [00:00<?, ?it/s]"
      ]
     },
     "metadata": {},
     "output_type": "display_data"
    },
    {
     "data": {
      "application/vnd.jupyter.widget-view+json": {
       "model_id": "c747f9891dc0484983b9fb3c99c64a20",
       "version_major": 2,
       "version_minor": 0
      },
      "text/plain": [
       "val batches:   0%|          | 0/8 [00:00<?, ?it/s]"
      ]
     },
     "metadata": {},
     "output_type": "display_data"
    },
    {
     "name": "stdout",
     "output_type": "stream",
     "text": [
      "Epoch 108/1000, Training Loss: 0.003566, Validation Loss: 0.036048\n"
     ]
    },
    {
     "data": {
      "application/vnd.jupyter.widget-view+json": {
       "model_id": "5d7e2d31d18743a9ba1d0917838ad4af",
       "version_major": 2,
       "version_minor": 0
      },
      "text/plain": [
       "train batches:   0%|          | 0/52 [00:00<?, ?it/s]"
      ]
     },
     "metadata": {},
     "output_type": "display_data"
    },
    {
     "data": {
      "application/vnd.jupyter.widget-view+json": {
       "model_id": "49363bbf34bc4edba58267ba5425f1ff",
       "version_major": 2,
       "version_minor": 0
      },
      "text/plain": [
       "val batches:   0%|          | 0/8 [00:00<?, ?it/s]"
      ]
     },
     "metadata": {},
     "output_type": "display_data"
    },
    {
     "name": "stdout",
     "output_type": "stream",
     "text": [
      "Epoch 109/1000, Training Loss: 0.003586, Validation Loss: 0.038076\n"
     ]
    },
    {
     "data": {
      "application/vnd.jupyter.widget-view+json": {
       "model_id": "2555f155bd084c06861a5924388e4735",
       "version_major": 2,
       "version_minor": 0
      },
      "text/plain": [
       "train batches:   0%|          | 0/52 [00:00<?, ?it/s]"
      ]
     },
     "metadata": {},
     "output_type": "display_data"
    },
    {
     "data": {
      "application/vnd.jupyter.widget-view+json": {
       "model_id": "c5e73f29febf46f5b7e78e62a7121a05",
       "version_major": 2,
       "version_minor": 0
      },
      "text/plain": [
       "val batches:   0%|          | 0/8 [00:00<?, ?it/s]"
      ]
     },
     "metadata": {},
     "output_type": "display_data"
    },
    {
     "name": "stdout",
     "output_type": "stream",
     "text": [
      "Epoch 110/1000, Training Loss: 0.003415, Validation Loss: 0.037115\n"
     ]
    },
    {
     "data": {
      "application/vnd.jupyter.widget-view+json": {
       "model_id": "27d6c1a92f674ebe82ed418a08cbb921",
       "version_major": 2,
       "version_minor": 0
      },
      "text/plain": [
       "train batches:   0%|          | 0/52 [00:00<?, ?it/s]"
      ]
     },
     "metadata": {},
     "output_type": "display_data"
    },
    {
     "data": {
      "application/vnd.jupyter.widget-view+json": {
       "model_id": "e78071e0ebb64bf7a52a2bc3d5fafd77",
       "version_major": 2,
       "version_minor": 0
      },
      "text/plain": [
       "val batches:   0%|          | 0/8 [00:00<?, ?it/s]"
      ]
     },
     "metadata": {},
     "output_type": "display_data"
    },
    {
     "name": "stdout",
     "output_type": "stream",
     "text": [
      "Epoch 111/1000, Training Loss: 0.003208, Validation Loss: 0.036983\n"
     ]
    },
    {
     "data": {
      "application/vnd.jupyter.widget-view+json": {
       "model_id": "c685dfde34434777b606afc826b4dad9",
       "version_major": 2,
       "version_minor": 0
      },
      "text/plain": [
       "train batches:   0%|          | 0/52 [00:00<?, ?it/s]"
      ]
     },
     "metadata": {},
     "output_type": "display_data"
    },
    {
     "data": {
      "application/vnd.jupyter.widget-view+json": {
       "model_id": "bdfe424674194dd7b623653804243854",
       "version_major": 2,
       "version_minor": 0
      },
      "text/plain": [
       "val batches:   0%|          | 0/8 [00:00<?, ?it/s]"
      ]
     },
     "metadata": {},
     "output_type": "display_data"
    },
    {
     "name": "stdout",
     "output_type": "stream",
     "text": [
      "Epoch 112/1000, Training Loss: 0.002963, Validation Loss: 0.043259\n"
     ]
    },
    {
     "data": {
      "application/vnd.jupyter.widget-view+json": {
       "model_id": "3cf146dd8e1f4ae2ae96eed73e6df341",
       "version_major": 2,
       "version_minor": 0
      },
      "text/plain": [
       "train batches:   0%|          | 0/52 [00:00<?, ?it/s]"
      ]
     },
     "metadata": {},
     "output_type": "display_data"
    },
    {
     "data": {
      "application/vnd.jupyter.widget-view+json": {
       "model_id": "d3e9295252e147ec822fecb9e1b5ad89",
       "version_major": 2,
       "version_minor": 0
      },
      "text/plain": [
       "val batches:   0%|          | 0/8 [00:00<?, ?it/s]"
      ]
     },
     "metadata": {},
     "output_type": "display_data"
    },
    {
     "name": "stdout",
     "output_type": "stream",
     "text": [
      "Epoch 113/1000, Training Loss: 0.003750, Validation Loss: 0.048663\n"
     ]
    },
    {
     "data": {
      "application/vnd.jupyter.widget-view+json": {
       "model_id": "df86b912cd2745edb616932fe48f3ab3",
       "version_major": 2,
       "version_minor": 0
      },
      "text/plain": [
       "train batches:   0%|          | 0/52 [00:00<?, ?it/s]"
      ]
     },
     "metadata": {},
     "output_type": "display_data"
    },
    {
     "data": {
      "application/vnd.jupyter.widget-view+json": {
       "model_id": "b804172d31f14e0e884a176797512d0d",
       "version_major": 2,
       "version_minor": 0
      },
      "text/plain": [
       "val batches:   0%|          | 0/8 [00:00<?, ?it/s]"
      ]
     },
     "metadata": {},
     "output_type": "display_data"
    },
    {
     "name": "stdout",
     "output_type": "stream",
     "text": [
      "Epoch 114/1000, Training Loss: 0.003346, Validation Loss: 0.048793\n"
     ]
    },
    {
     "data": {
      "application/vnd.jupyter.widget-view+json": {
       "model_id": "ca04c782ee624cdea87687b537ba3187",
       "version_major": 2,
       "version_minor": 0
      },
      "text/plain": [
       "train batches:   0%|          | 0/52 [00:00<?, ?it/s]"
      ]
     },
     "metadata": {},
     "output_type": "display_data"
    },
    {
     "data": {
      "application/vnd.jupyter.widget-view+json": {
       "model_id": "4a19752cc8724198836793679381f1d4",
       "version_major": 2,
       "version_minor": 0
      },
      "text/plain": [
       "val batches:   0%|          | 0/8 [00:00<?, ?it/s]"
      ]
     },
     "metadata": {},
     "output_type": "display_data"
    },
    {
     "name": "stdout",
     "output_type": "stream",
     "text": [
      "Epoch 115/1000, Training Loss: 0.003038, Validation Loss: 0.050820\n"
     ]
    },
    {
     "data": {
      "application/vnd.jupyter.widget-view+json": {
       "model_id": "8d70ad354e5843608a7c8e7cce4b75d7",
       "version_major": 2,
       "version_minor": 0
      },
      "text/plain": [
       "train batches:   0%|          | 0/52 [00:00<?, ?it/s]"
      ]
     },
     "metadata": {},
     "output_type": "display_data"
    },
    {
     "data": {
      "application/vnd.jupyter.widget-view+json": {
       "model_id": "1dcc01c6852740cc9d1fc6a84dcab298",
       "version_major": 2,
       "version_minor": 0
      },
      "text/plain": [
       "val batches:   0%|          | 0/8 [00:00<?, ?it/s]"
      ]
     },
     "metadata": {},
     "output_type": "display_data"
    },
    {
     "name": "stdout",
     "output_type": "stream",
     "text": [
      "Epoch 116/1000, Training Loss: 0.004267, Validation Loss: 0.037212\n"
     ]
    },
    {
     "data": {
      "application/vnd.jupyter.widget-view+json": {
       "model_id": "8241ab9ef33043d4978197c2dc0b08e1",
       "version_major": 2,
       "version_minor": 0
      },
      "text/plain": [
       "train batches:   0%|          | 0/52 [00:00<?, ?it/s]"
      ]
     },
     "metadata": {},
     "output_type": "display_data"
    },
    {
     "data": {
      "application/vnd.jupyter.widget-view+json": {
       "model_id": "56ccfa8448da462582c2a11ef522dfc8",
       "version_major": 2,
       "version_minor": 0
      },
      "text/plain": [
       "val batches:   0%|          | 0/8 [00:00<?, ?it/s]"
      ]
     },
     "metadata": {},
     "output_type": "display_data"
    },
    {
     "name": "stdout",
     "output_type": "stream",
     "text": [
      "Epoch 117/1000, Training Loss: 0.002967, Validation Loss: 0.056155\n"
     ]
    },
    {
     "data": {
      "application/vnd.jupyter.widget-view+json": {
       "model_id": "2761646066ea4e38a9c15caf36e59bee",
       "version_major": 2,
       "version_minor": 0
      },
      "text/plain": [
       "train batches:   0%|          | 0/52 [00:00<?, ?it/s]"
      ]
     },
     "metadata": {},
     "output_type": "display_data"
    },
    {
     "data": {
      "application/vnd.jupyter.widget-view+json": {
       "model_id": "941df3d71fbf49d69b3bb01cade34f98",
       "version_major": 2,
       "version_minor": 0
      },
      "text/plain": [
       "val batches:   0%|          | 0/8 [00:00<?, ?it/s]"
      ]
     },
     "metadata": {},
     "output_type": "display_data"
    },
    {
     "name": "stdout",
     "output_type": "stream",
     "text": [
      "Epoch 118/1000, Training Loss: 0.002950, Validation Loss: 0.047269\n"
     ]
    },
    {
     "data": {
      "application/vnd.jupyter.widget-view+json": {
       "model_id": "f7c92056603849faab7fef4e7b9487d3",
       "version_major": 2,
       "version_minor": 0
      },
      "text/plain": [
       "train batches:   0%|          | 0/52 [00:00<?, ?it/s]"
      ]
     },
     "metadata": {},
     "output_type": "display_data"
    },
    {
     "data": {
      "application/vnd.jupyter.widget-view+json": {
       "model_id": "ae65666b99f44e9f973c59df305a9384",
       "version_major": 2,
       "version_minor": 0
      },
      "text/plain": [
       "val batches:   0%|          | 0/8 [00:00<?, ?it/s]"
      ]
     },
     "metadata": {},
     "output_type": "display_data"
    },
    {
     "name": "stdout",
     "output_type": "stream",
     "text": [
      "Epoch 119/1000, Training Loss: 0.003969, Validation Loss: 0.052952\n"
     ]
    },
    {
     "data": {
      "application/vnd.jupyter.widget-view+json": {
       "model_id": "625236d8d312455e9b2b5a4da1fae58b",
       "version_major": 2,
       "version_minor": 0
      },
      "text/plain": [
       "train batches:   0%|          | 0/52 [00:00<?, ?it/s]"
      ]
     },
     "metadata": {},
     "output_type": "display_data"
    },
    {
     "data": {
      "application/vnd.jupyter.widget-view+json": {
       "model_id": "667e52823dad4dbcb0dca28a28306b08",
       "version_major": 2,
       "version_minor": 0
      },
      "text/plain": [
       "val batches:   0%|          | 0/8 [00:00<?, ?it/s]"
      ]
     },
     "metadata": {},
     "output_type": "display_data"
    },
    {
     "name": "stdout",
     "output_type": "stream",
     "text": [
      "Epoch 120/1000, Training Loss: 0.002915, Validation Loss: 0.042427\n"
     ]
    },
    {
     "data": {
      "application/vnd.jupyter.widget-view+json": {
       "model_id": "cb1ff757203e4e0cbf7fc02f260e1e88",
       "version_major": 2,
       "version_minor": 0
      },
      "text/plain": [
       "train batches:   0%|          | 0/52 [00:00<?, ?it/s]"
      ]
     },
     "metadata": {},
     "output_type": "display_data"
    },
    {
     "data": {
      "application/vnd.jupyter.widget-view+json": {
       "model_id": "7c9b5554551344a0b8ac30ada01a5a5e",
       "version_major": 2,
       "version_minor": 0
      },
      "text/plain": [
       "val batches:   0%|          | 0/8 [00:00<?, ?it/s]"
      ]
     },
     "metadata": {},
     "output_type": "display_data"
    },
    {
     "name": "stdout",
     "output_type": "stream",
     "text": [
      "Epoch 121/1000, Training Loss: 0.003551, Validation Loss: 0.043967\n"
     ]
    },
    {
     "data": {
      "application/vnd.jupyter.widget-view+json": {
       "model_id": "dedb4f55cc5949fcbd4d380c2b8dc7e8",
       "version_major": 2,
       "version_minor": 0
      },
      "text/plain": [
       "train batches:   0%|          | 0/52 [00:00<?, ?it/s]"
      ]
     },
     "metadata": {},
     "output_type": "display_data"
    },
    {
     "data": {
      "application/vnd.jupyter.widget-view+json": {
       "model_id": "977b520fe106426d902bb792c342b3a4",
       "version_major": 2,
       "version_minor": 0
      },
      "text/plain": [
       "val batches:   0%|          | 0/8 [00:00<?, ?it/s]"
      ]
     },
     "metadata": {},
     "output_type": "display_data"
    },
    {
     "name": "stdout",
     "output_type": "stream",
     "text": [
      "Epoch 122/1000, Training Loss: 0.003350, Validation Loss: 0.047515\n"
     ]
    },
    {
     "data": {
      "application/vnd.jupyter.widget-view+json": {
       "model_id": "64ac60ec69234164b1453b8bf6c9c618",
       "version_major": 2,
       "version_minor": 0
      },
      "text/plain": [
       "train batches:   0%|          | 0/52 [00:00<?, ?it/s]"
      ]
     },
     "metadata": {},
     "output_type": "display_data"
    },
    {
     "data": {
      "application/vnd.jupyter.widget-view+json": {
       "model_id": "471da6355a464639b4bc7a84e3fcf0c5",
       "version_major": 2,
       "version_minor": 0
      },
      "text/plain": [
       "val batches:   0%|          | 0/8 [00:00<?, ?it/s]"
      ]
     },
     "metadata": {},
     "output_type": "display_data"
    },
    {
     "name": "stdout",
     "output_type": "stream",
     "text": [
      "Epoch 123/1000, Training Loss: 0.002788, Validation Loss: 0.040049\n"
     ]
    },
    {
     "data": {
      "application/vnd.jupyter.widget-view+json": {
       "model_id": "75cd804c008e4296bcb04a6484bbc973",
       "version_major": 2,
       "version_minor": 0
      },
      "text/plain": [
       "train batches:   0%|          | 0/52 [00:00<?, ?it/s]"
      ]
     },
     "metadata": {},
     "output_type": "display_data"
    },
    {
     "data": {
      "application/vnd.jupyter.widget-view+json": {
       "model_id": "6faeb98683424b6c86537f43f227f49d",
       "version_major": 2,
       "version_minor": 0
      },
      "text/plain": [
       "val batches:   0%|          | 0/8 [00:00<?, ?it/s]"
      ]
     },
     "metadata": {},
     "output_type": "display_data"
    },
    {
     "name": "stdout",
     "output_type": "stream",
     "text": [
      "Epoch 124/1000, Training Loss: 0.003172, Validation Loss: 0.036083\n"
     ]
    },
    {
     "data": {
      "application/vnd.jupyter.widget-view+json": {
       "model_id": "8ea9359040db46e189e8d574c3db7008",
       "version_major": 2,
       "version_minor": 0
      },
      "text/plain": [
       "train batches:   0%|          | 0/52 [00:00<?, ?it/s]"
      ]
     },
     "metadata": {},
     "output_type": "display_data"
    },
    {
     "data": {
      "application/vnd.jupyter.widget-view+json": {
       "model_id": "148ce330991441fe9eff4103e4b50944",
       "version_major": 2,
       "version_minor": 0
      },
      "text/plain": [
       "val batches:   0%|          | 0/8 [00:00<?, ?it/s]"
      ]
     },
     "metadata": {},
     "output_type": "display_data"
    },
    {
     "name": "stdout",
     "output_type": "stream",
     "text": [
      "Epoch 125/1000, Training Loss: 0.002917, Validation Loss: 0.037591\n"
     ]
    },
    {
     "data": {
      "application/vnd.jupyter.widget-view+json": {
       "model_id": "49e438b0c3044d4b93fc1ece55018844",
       "version_major": 2,
       "version_minor": 0
      },
      "text/plain": [
       "train batches:   0%|          | 0/52 [00:00<?, ?it/s]"
      ]
     },
     "metadata": {},
     "output_type": "display_data"
    },
    {
     "data": {
      "application/vnd.jupyter.widget-view+json": {
       "model_id": "01e4976d178943ffb786ec09e4413077",
       "version_major": 2,
       "version_minor": 0
      },
      "text/plain": [
       "val batches:   0%|          | 0/8 [00:00<?, ?it/s]"
      ]
     },
     "metadata": {},
     "output_type": "display_data"
    },
    {
     "name": "stdout",
     "output_type": "stream",
     "text": [
      "Epoch 126/1000, Training Loss: 0.002965, Validation Loss: 0.034214\n"
     ]
    },
    {
     "data": {
      "application/vnd.jupyter.widget-view+json": {
       "model_id": "12c30f1ce9cb41338ee9862dec8b666d",
       "version_major": 2,
       "version_minor": 0
      },
      "text/plain": [
       "train batches:   0%|          | 0/52 [00:00<?, ?it/s]"
      ]
     },
     "metadata": {},
     "output_type": "display_data"
    },
    {
     "data": {
      "application/vnd.jupyter.widget-view+json": {
       "model_id": "64e81f3d9e1741cfbff70053bdfddb92",
       "version_major": 2,
       "version_minor": 0
      },
      "text/plain": [
       "val batches:   0%|          | 0/8 [00:00<?, ?it/s]"
      ]
     },
     "metadata": {},
     "output_type": "display_data"
    },
    {
     "name": "stdout",
     "output_type": "stream",
     "text": [
      "Epoch 127/1000, Training Loss: 0.003514, Validation Loss: 0.044927\n"
     ]
    },
    {
     "data": {
      "application/vnd.jupyter.widget-view+json": {
       "model_id": "4f861c45b59b4322ba4d427136bd3606",
       "version_major": 2,
       "version_minor": 0
      },
      "text/plain": [
       "train batches:   0%|          | 0/52 [00:00<?, ?it/s]"
      ]
     },
     "metadata": {},
     "output_type": "display_data"
    },
    {
     "data": {
      "application/vnd.jupyter.widget-view+json": {
       "model_id": "1ca2e2bc3a714e0cad89a4e7a629552f",
       "version_major": 2,
       "version_minor": 0
      },
      "text/plain": [
       "val batches:   0%|          | 0/8 [00:00<?, ?it/s]"
      ]
     },
     "metadata": {},
     "output_type": "display_data"
    },
    {
     "name": "stdout",
     "output_type": "stream",
     "text": [
      "Epoch 128/1000, Training Loss: 0.002545, Validation Loss: 0.042473\n"
     ]
    },
    {
     "data": {
      "application/vnd.jupyter.widget-view+json": {
       "model_id": "7243c309d6c2437fb146191ecf1cae7c",
       "version_major": 2,
       "version_minor": 0
      },
      "text/plain": [
       "train batches:   0%|          | 0/52 [00:00<?, ?it/s]"
      ]
     },
     "metadata": {},
     "output_type": "display_data"
    },
    {
     "data": {
      "application/vnd.jupyter.widget-view+json": {
       "model_id": "444a56eaf7d640579064b51aaf9f5319",
       "version_major": 2,
       "version_minor": 0
      },
      "text/plain": [
       "val batches:   0%|          | 0/8 [00:00<?, ?it/s]"
      ]
     },
     "metadata": {},
     "output_type": "display_data"
    },
    {
     "name": "stdout",
     "output_type": "stream",
     "text": [
      "Epoch 129/1000, Training Loss: 0.002626, Validation Loss: 0.032974\n"
     ]
    },
    {
     "data": {
      "application/vnd.jupyter.widget-view+json": {
       "model_id": "f9f44a4ee4284e6089c8c358175a5bb3",
       "version_major": 2,
       "version_minor": 0
      },
      "text/plain": [
       "train batches:   0%|          | 0/52 [00:00<?, ?it/s]"
      ]
     },
     "metadata": {},
     "output_type": "display_data"
    },
    {
     "data": {
      "application/vnd.jupyter.widget-view+json": {
       "model_id": "2257a86f6acb47c6946ee41d1ef93484",
       "version_major": 2,
       "version_minor": 0
      },
      "text/plain": [
       "val batches:   0%|          | 0/8 [00:00<?, ?it/s]"
      ]
     },
     "metadata": {},
     "output_type": "display_data"
    },
    {
     "name": "stdout",
     "output_type": "stream",
     "text": [
      "Epoch 130/1000, Training Loss: 0.005238, Validation Loss: 0.031755\n"
     ]
    },
    {
     "data": {
      "application/vnd.jupyter.widget-view+json": {
       "model_id": "4ec7dbcce39a4e0394b1004259c55c4b",
       "version_major": 2,
       "version_minor": 0
      },
      "text/plain": [
       "train batches:   0%|          | 0/52 [00:00<?, ?it/s]"
      ]
     },
     "metadata": {},
     "output_type": "display_data"
    },
    {
     "data": {
      "application/vnd.jupyter.widget-view+json": {
       "model_id": "c0f3e79b15d548f8a1e4adee8796bf08",
       "version_major": 2,
       "version_minor": 0
      },
      "text/plain": [
       "val batches:   0%|          | 0/8 [00:00<?, ?it/s]"
      ]
     },
     "metadata": {},
     "output_type": "display_data"
    },
    {
     "name": "stdout",
     "output_type": "stream",
     "text": [
      "Epoch 131/1000, Training Loss: 0.002590, Validation Loss: 0.035064\n"
     ]
    },
    {
     "data": {
      "application/vnd.jupyter.widget-view+json": {
       "model_id": "adc1aa771c214227ac1d09263d1cff78",
       "version_major": 2,
       "version_minor": 0
      },
      "text/plain": [
       "train batches:   0%|          | 0/52 [00:00<?, ?it/s]"
      ]
     },
     "metadata": {},
     "output_type": "display_data"
    },
    {
     "data": {
      "application/vnd.jupyter.widget-view+json": {
       "model_id": "3e08eaab6ffa4b65a4d8a7bbad997533",
       "version_major": 2,
       "version_minor": 0
      },
      "text/plain": [
       "val batches:   0%|          | 0/8 [00:00<?, ?it/s]"
      ]
     },
     "metadata": {},
     "output_type": "display_data"
    },
    {
     "name": "stdout",
     "output_type": "stream",
     "text": [
      "Epoch 132/1000, Training Loss: 0.001971, Validation Loss: 0.031721\n"
     ]
    },
    {
     "data": {
      "application/vnd.jupyter.widget-view+json": {
       "model_id": "dadcebf36ed5488fb0eb43b4c61148b2",
       "version_major": 2,
       "version_minor": 0
      },
      "text/plain": [
       "train batches:   0%|          | 0/52 [00:00<?, ?it/s]"
      ]
     },
     "metadata": {},
     "output_type": "display_data"
    },
    {
     "data": {
      "application/vnd.jupyter.widget-view+json": {
       "model_id": "68638036142644dd91d8352a18861fa0",
       "version_major": 2,
       "version_minor": 0
      },
      "text/plain": [
       "val batches:   0%|          | 0/8 [00:00<?, ?it/s]"
      ]
     },
     "metadata": {},
     "output_type": "display_data"
    },
    {
     "name": "stdout",
     "output_type": "stream",
     "text": [
      "Epoch 133/1000, Training Loss: 0.002435, Validation Loss: 0.025407\n"
     ]
    },
    {
     "data": {
      "application/vnd.jupyter.widget-view+json": {
       "model_id": "adee37d12ad041c68e60023c4a54e11c",
       "version_major": 2,
       "version_minor": 0
      },
      "text/plain": [
       "train batches:   0%|          | 0/52 [00:00<?, ?it/s]"
      ]
     },
     "metadata": {},
     "output_type": "display_data"
    },
    {
     "data": {
      "application/vnd.jupyter.widget-view+json": {
       "model_id": "a860c95a6de34739ab5ff10962134093",
       "version_major": 2,
       "version_minor": 0
      },
      "text/plain": [
       "val batches:   0%|          | 0/8 [00:00<?, ?it/s]"
      ]
     },
     "metadata": {},
     "output_type": "display_data"
    },
    {
     "name": "stdout",
     "output_type": "stream",
     "text": [
      "Epoch 134/1000, Training Loss: 0.003220, Validation Loss: 0.045339\n",
      "Done!\n"
     ]
    }
   ],
   "source": [
    "# model = create_model()\n",
    "# model.summary()\n",
    "\n",
    "# # Training data\n",
    "# X_train, y_train = trainX,trainY\n",
    "# ###############################################################################\n",
    "# # Validation data\n",
    "# X_val, y_val = testX,testY\n",
    "# ###############################################################################\n",
    "# # Test data\n",
    "# X_test, y_test = testX_a,testY_a\n",
    "# callback = tf.keras.callbacks.ModelCheckpoint('Transformer_5min.hdf5',\n",
    "#                                                       monitor='val_loss',\n",
    "#                                                       save_best_only=True,\n",
    "#                                                       verbose=1)\n",
    "# with tf.device(\"/gpu:0\"):\n",
    "#     history = model.fit(X_train, y_train,\n",
    "#                             batch_size=batch_size,\n",
    "# #                             epochs=50,\n",
    "#                             epochs=1,\n",
    "#                             validation_data=(X_val, y_val),\n",
    "#                             callbacks=[callback])\n",
    "\n",
    "# model = tf.keras.models.load_model('Transformer_5min.hdf5',\n",
    "#                                            custom_objects={'Time2Vector': Time2Vector,\n",
    "#                                                            'SingleAttention': SingleAttention,\n",
    "#                                                            'MultiAttention': MultiAttention,\n",
    "#                                                            'TransformerEncoder': TransformerEncoder,\n",
    "#                                                            'TransformerDecoder': TransformerDecoder}\n",
    "#                                            )\n",
    "\n",
    "import torch\n",
    "import torch.nn as nn\n",
    "import torch.optim as optim\n",
    "from torch.utils.data import TensorDataset, DataLoader\n",
    "from sklearn.model_selection import train_test_split\n",
    "import numpy as np\n",
    "\n",
    "torch.manual_seed(42)\n",
    "\n",
    "# Create PyTorch model\n",
    "model = TransformerBBSparse(seq_len = param_dset_lookback,\n",
    "                          # out_seq_len = param_dset_forecast,\n",
    "                          out_seq_len = param_dset_forecast,\n",
    "                          inp_dim = inp_len,\n",
    "                          emb_dim = emb_dim,\n",
    "                          n_heads = n_heads,\n",
    "                          n_enc_layers = enc_layer,\n",
    "                          n_dec_layers = dec_layer,\n",
    "                          block_size=param_trf_bksz,\n",
    "                          ffdim = ff_dim)\n",
    "\n",
    "# Print model summary\n",
    "# print(model)\n",
    "def num_parameters(m):\n",
    "    return sum([p.numel() for p in m.parameters()])\n",
    "\n",
    "parameters = num_parameters(model)\n",
    "\n",
    "# print(f\"Expected number of parameters: {m * dk * dk + m * 1 * 1 * n}\")\n",
    "print(f\"Actual number of model parameters: {parameters}\")\n",
    "\n",
    "trainable_params = sum(\n",
    "    p.numel() for p in model.parameters() if p.requires_grad\n",
    ")\n",
    "print(f\"Trainable model parameters: {trainable_params}\" )\n",
    "\n",
    "# total_params = 0\n",
    "# for name, parameter in model.named_parameters():\n",
    "#     if not parameter.requires_grad:\n",
    "#         continue\n",
    "#     params = parameter.numel()\n",
    "#     print(f\"{name}, {params}\")\n",
    "#     total_params+=params\n",
    "# print(f\"Total Trainable Params: {total_params}\")\n",
    "\n",
    "\n",
    "# Convert data to PyTorch tensors\n",
    "X_train, y_train = torch.tensor(trainX), torch.tensor(trainY)\n",
    "X_val, y_val = torch.tensor(valX), torch.tensor(valY)\n",
    "X_test, y_test = torch.tensor(testX), torch.tensor(testY)\n",
    "\n",
    "# Create DataLoader for training and validation data\n",
    "train_dataset = TensorDataset(X_train, y_train)\n",
    "# train_loader = DataLoader(train_dataset, batch_size=batch_size, shuffle=True)\n",
    "train_loader = DataLoader(train_dataset, batch_size=batch_size)\n",
    "\n",
    "val_dataset = TensorDataset(X_val, y_val)\n",
    "val_loader = DataLoader(val_dataset, batch_size=batch_size)\n",
    "\n",
    "test_dataset = TensorDataset(X_test, y_test)\n",
    "test_loader = DataLoader(test_dataset, batch_size=batch_size)\n",
    "\n",
    "# Optimizer and loss function\n",
    "optimizer = optim.RMSprop(model.parameters(), lr=0.001, eps=1e-07)\n",
    "# optimizer = optim.Adam(model.parameters())\n",
    "# optimizer = optim.SGD(model.parameters(), lr=0.001, momentum=0.9)\n",
    "criterion = nn.MSELoss()\n",
    "\n",
    "# Training loop\n",
    "num_epochs = 1000  # Replace with your desired number of epochs\n",
    "device = torch.device(\"cuda\" if torch.cuda.is_available() else \"cpu\")\n",
    "print(device)\n",
    "model.to(device)\n",
    "\n",
    "for epoch in tqdm(range(num_epochs), total= num_epochs, desc=\"epochs\", position=0, leave=True):\n",
    "    model.train()\n",
    "    train_loss = 0.0\n",
    "    for inputs, targets in tqdm(train_loader, total=len(train_loader), desc=\"train batches\", position=1, leave=True):\n",
    "        inputs, targets = inputs.to(device).nan_to_num(), targets.to(device)\n",
    "        optimizer.zero_grad()\n",
    "        outputs = model(inputs)\n",
    "\n",
    "        # print(\"inputs: \", inputs.shape)\n",
    "        # print(\"targets: \", targets.shape)\n",
    "        # print(\"outputs: \", outputs.shape)\n",
    "        loss = nn.MSELoss(reduction='mean')(outputs[~targets.isnan()], targets[~targets.isnan()])\n",
    "\n",
    "#         loss = criterion(outputs, targets)\n",
    "        loss.backward()\n",
    "        optimizer.step()\n",
    "\n",
    "#         for p in model.parameters():\n",
    "#             print(p.grad.norm())\n",
    "\n",
    "        train_loss += loss.item()\n",
    "\n",
    "    train_loss /= len(train_loader)\n",
    "\n",
    "    model.eval()\n",
    "    val_loss = 0.0\n",
    "    with torch.no_grad():\n",
    "        for inputs, targets in tqdm(val_loader, total=len(val_loader), desc=\"val batches\", position=2, leave=True):\n",
    "            inputs, targets = inputs.to(device).nan_to_num(), targets.to(device)\n",
    "            outputs = model(inputs)\n",
    "            val_loss += criterion(outputs, targets).item()\n",
    "\n",
    "    val_loss /= len(val_loader)\n",
    "    print(f'Epoch {epoch + 1}/{num_epochs}, Training Loss: {train_loss:.6f}, Validation Loss: {val_loss:.6f}')\n",
    "\n",
    "    saveBestModel(val_loss, epoch, model)\n",
    "\n",
    "    # Early stopping with patience\n",
    "    if early_stopper.early_stop(val_loss):\n",
    "        print(\"Done!\")\n",
    "        break\n"
   ]
  },
  {
   "cell_type": "code",
   "execution_count": 19,
   "id": "bff4271e",
   "metadata": {
    "id": "bff4271e",
    "scrolled": true
   },
   "outputs": [
    {
     "name": "stdout",
     "output_type": "stream",
     "text": [
      "torch.Size([471, 816, 7])\n"
     ]
    },
    {
     "data": {
      "application/vnd.jupyter.widget-view+json": {
       "model_id": "1bb86de263144296bcffbb5881460b87",
       "version_major": 2,
       "version_minor": 0
      },
      "text/plain": [
       "test batch:   0%|          | 0/8 [00:00<?, ?it/s]"
      ]
     },
     "metadata": {},
     "output_type": "display_data"
    },
    {
     "name": "stdout",
     "output_type": "stream",
     "text": [
      "Test Loss: 0.0086\n"
     ]
    }
   ],
   "source": [
    "# Load the PyTorch model\n",
    "loaded_model = TransformerBBSparse(seq_len = param_dset_lookback,\n",
    "                          # out_seq_len = param_dset_forecast,\n",
    "                          out_seq_len = param_dset_forecast,\n",
    "                          inp_dim = inp_len,\n",
    "                          emb_dim = emb_dim,\n",
    "                          n_heads = n_heads,\n",
    "                          n_enc_layers = enc_layer,\n",
    "                          n_dec_layers = dec_layer,\n",
    "                          block_size=param_trf_bksz,\n",
    "                          ffdim = ff_dim)\n",
    "\n",
    "loaded_model.load_state_dict(torch.load('transformer_5min.pth'))\n",
    "loaded_model.to(device)\n",
    "loaded_model.eval()\n",
    "\n",
    "# Use the whole signal (both train and validation data)\n",
    "# The metrics are computed only using the validation part.\n",
    "# This is needed for the signal processing\n",
    "print(testX.shape)\n",
    "\n",
    "# Testing the model on the test dataset\n",
    "test_outputs = []\n",
    "test_loss = 0.0\n",
    "with torch.no_grad():\n",
    "    for inputs, targets in tqdm(test_loader, total=len(test_loader), desc=\"test batch\"):\n",
    "        inputs, targets = inputs.to(device).nan_to_num(), targets.to(device)\n",
    "        outputs = loaded_model(inputs)\n",
    "        test_outputs.append(outputs.cpu().numpy())  # Collect the outputs\n",
    "\n",
    "        loss = nn.MSELoss(reduction='mean')(outputs[~targets.isnan()], targets[~targets.isnan()])\n",
    "        test_loss += loss\n",
    "#         test_loss += criterion(outputs, targets).item()\n",
    "\n",
    "testPredict_a = np.concatenate(test_outputs, axis=0)  # Concatenate outputs into a single numpy array\n",
    "test_loss /= len(test_loader)\n",
    "print(f'Test Loss: {test_loss:.4f}')\n",
    "\n",
    "# # Result from test\n",
    "# testPredict_a = np.transpose(testPredict_a, (0, 2, 1))\n",
    "# print(testPredict_a.shape)\n",
    "\n",
    "# testX_original = np.transpose(testX, (0, 2, 1))\n",
    "# print(testX_original.shape)\n",
    "\n",
    "# test_cat = np.concatenate((testX_original, testPredict_a), axis=2)\n",
    "# print(test_cat.shape)"
   ]
  },
  {
   "cell_type": "code",
   "execution_count": 20,
   "id": "602a4a58",
   "metadata": {
    "id": "602a4a58"
   },
   "outputs": [],
   "source": [
    "\n",
    "# D = test_cat.reshape(test_cat.shape[0],test_cat.shape[1]*test_cat.shape[2])\n",
    "# print(D.shape)\n",
    "\n",
    "# R = D.reshape(test_cat.shape[0],lev,2,test_cat.shape[2])\n",
    "# print(R.shape)\n",
    "\n",
    "# R = data_organization(R)\n",
    "\n",
    "# # print(R)\n",
    "\n",
    "# re=data_reconstruction(R)\n",
    "# Re = np.array(re)\n",
    "# print(Re.shape)\n",
    "\n",
    "\n",
    "# # Re = np.nan_to_num(Re)\n",
    "# Re = torch.from_numpy(Re)"
   ]
  },
  {
   "cell_type": "code",
   "execution_count": 21,
   "id": "004014ed",
   "metadata": {
    "id": "004014ed"
   },
   "outputs": [
    {
     "name": "stdout",
     "output_type": "stream",
     "text": [
      "torch.Size([471, 24])\n",
      "test truth:  torch.Size([471, 840])\n",
      "tensor(0.0929)\n"
     ]
    }
   ],
   "source": [
    "Re = testPredict_a.squeeze(-1)\n",
    "Re = torch.from_numpy(Re)\n",
    "print(Re.shape)\n",
    "\n",
    "test_set_squeeze = test_set.series.squeeze(-1)\n",
    "print(\"test truth: \", test_set_squeeze.shape)\n",
    "\n",
    "test_rmse = torch.nn.MSELoss(reduction='none')(test_set_squeeze[:,param_dset_lookback:], Re[:,:]).nanmean().sqrt_()\n",
    "print(test_rmse)"
   ]
  },
  {
   "cell_type": "code",
   "execution_count": 22,
   "id": "134a66ec",
   "metadata": {
    "id": "134a66ec"
   },
   "outputs": [],
   "source": [
    "from sklearn.preprocessing import MinMaxScaler,StandardScaler\n",
    "from sklearn.metrics import mean_squared_error,mean_absolute_error\n",
    "import matplotlib.pyplot as plt\n",
    "\n",
    "\n",
    "# test_set_squeeze = test_set.series.squeeze(-1)\n",
    "# print(\"test truth: \", test_set_squeeze.shape)\n",
    "\n",
    "# print(test_set_squeeze[:,param_dset_lookback:].shape)\n",
    "# print(Re[:,param_dset_lookback:].shape)\n",
    "\n",
    "\n",
    "# test_rmse = math.sqrt( mean_squared_error(test_set_squeeze[:,param_dset_lookback:], Re[:,param_dset_lookback:]))\n",
    "# # test_rmse = math.sqrt( mean_squared_error(test_compare, Re))\n",
    "\n",
    "# test_mae=mean_absolute_error(test_set_squeeze[:,param_dset_lookback:], Re[:,param_dset_lookback:])\n",
    "# # test_mae=mean_absolute_error(test_compare, Re)\n",
    "\n",
    "# # mape=100*np.mean(np.divide(abs(test_compare[:,1632:]- Re[:,1632:]),test_compare[:,1632:]))\n",
    "\n",
    "test_actual = test_set_squeeze[:,param_dset_lookback:]\n",
    "test_predict = Re[:,:]\n",
    "\n",
    "test_rmse = torch.nn.MSELoss(reduction='none')(test_actual, test_predict).nanmean().sqrt_()\n",
    "\n",
    "test_mae = (test_predict-test_actual).abs_().nanmean()\n",
    "\n",
    "mape = (2*(test_actual-test_predict).abs_() / (test_actual.abs() + test_predict.abs())).nanmean()"
   ]
  },
  {
   "cell_type": "code",
   "execution_count": 23,
   "id": "ed6df351",
   "metadata": {
    "id": "ed6df351"
   },
   "outputs": [
    {
     "name": "stdout",
     "output_type": "stream",
     "text": [
      "RMSE:  0.092938\n",
      "MAE:  0.074570\n",
      "MAPE:  0.210998\n"
     ]
    }
   ],
   "source": [
    "print('RMSE:  %.6f' % test_rmse)\n",
    "print('MAE:  %.6f' % test_mae)\n",
    "print('MAPE:  %.6f' % mape)"
   ]
  },
  {
   "cell_type": "code",
   "execution_count": 25,
   "id": "7ca1d17c",
   "metadata": {
    "id": "7ca1d17c"
   },
   "outputs": [
    {
     "data": {
      "image/png": "[encoded data removed]",
      "text/plain": [
       "<Figure size 640x480 with 1 Axes>"
      ]
     },
     "metadata": {},
     "output_type": "display_data"
    }
   ],
   "source": [
    "fig = plt.figure()\n",
    "# print(test_set_squeeze[:3,param_dset_lookback:])\n",
    "# print(Re[:3,param_dset_lookback:])\n",
    "plt.plot(test_set_squeeze[:1,param_dset_lookback:][0])\n",
    "plt.plot(Re[:1,:][0])\n",
    "plt.xlabel('Time/min')\n",
    "plt.ylabel('Electricity load (kWh)')\n",
    "plt.legend(['True', 'Predict'], loc='upper left')\n",
    "plt.show()\n"
   ]
  },
  {
   "cell_type": "code",
   "execution_count": 28,
   "id": "e0eab824",
   "metadata": {
    "id": "e0eab824"
   },
   "outputs": [
    {
     "data": {
      "image/png": "[encoded data removed]",
      "text/plain": [
       "<Figure size 640x480 with 1 Axes>"
      ]
     },
     "metadata": {},
     "output_type": "display_data"
    }
   ],
   "source": [
    "fig = plt.figure()\n",
    "# print(test_set_squeeze[:3,param_dset_lookback:])\n",
    "# print(Re[:3,param_dset_lookback:])\n",
    "plt.plot(test_set_squeeze[200:201,param_dset_lookback:][0])\n",
    "plt.plot(Re[200:201,:][0])\n",
    "plt.xlabel('Time/min')\n",
    "plt.ylabel('Electricity load (kWh)')\n",
    "plt.legend(['True', 'Predict'], loc='upper left')\n",
    "plt.show()"
   ]
  },
  {
   "cell_type": "code",
   "execution_count": null,
   "id": "2e3f5609-df53-40e5-9b71-15e02f23ad1b",
   "metadata": {},
   "outputs": [],
   "source": []
  }
 ],
 "metadata": {
  "accelerator": "GPU",
  "colab": {
   "gpuType": "T4",
   "provenance": []
  },
  "kernelspec": {
   "display_name": "swt_env",
   "language": "python",
   "name": "swt_env"
  },
  "language_info": {
   "codemirror_mode": {
    "name": "ipython",
    "version": 3
   },
   "file_extension": ".py",
   "mimetype": "text/x-python",
   "name": "python",
   "nbconvert_exporter": "python",
   "pygments_lexer": "ipython3",
   "version": "3.10.13"
  },
  "widgets": {
   "application/vnd.jupyter.widget-state+json": {
    "004d848e6b8545a38ff0af8478653c2b": {
     "model_module": "@jupyter-widgets/controls",
     "model_module_version": "1.5.0",
     "model_name": "HTMLModel",
     "state": {
      "_dom_classes": [],
      "_model_module": "@jupyter-widgets/controls",
      "_model_module_version": "1.5.0",
      "_model_name": "HTMLModel",
      "_view_count": null,
      "_view_module": "@jupyter-widgets/controls",
      "_view_module_version": "1.5.0",
      "_view_name": "HTMLView",
      "description": "",
      "description_tooltip": null,
      "layout": "IPY_MODEL_f9a40e30e1fc46089c472e5cb8feaff2",
      "placeholder": "​",
      "style": "IPY_MODEL_580a80552591472ea6da6fc386b441cc",
      "value": "epochs:   0%"
     }
    },
    "00be03abf2cc4670bee1415b0e22fc28": {
     "model_module": "@jupyter-widgets/controls",
     "model_module_version": "1.5.0",
     "model_name": "HTMLModel",
     "state": {
      "_dom_classes": [],
      "_model_module": "@jupyter-widgets/controls",
      "_model_module_version": "1.5.0",
      "_model_name": "HTMLModel",
      "_view_count": null,
      "_view_module": "@jupyter-widgets/controls",
      "_view_module_version": "1.5.0",
      "_view_name": "HTMLView",
      "description": "",
      "description_tooltip": null,
      "layout": "IPY_MODEL_90d415083630471b908f4b001693dbe9",
      "placeholder": "​",
      "style": "IPY_MODEL_57aafd9bfcf74b41a6f8c6b8db4451d3",
      "value": " 1/52 [00:26&lt;22:23, 26.34s/it]"
     }
    },
    "0ac21ef2886f4d5d824eb1c2c3a6cd1f": {
     "model_module": "@jupyter-widgets/controls",
     "model_module_version": "1.5.0",
     "model_name": "HTMLModel",
     "state": {
      "_dom_classes": [],
      "_model_module": "@jupyter-widgets/controls",
      "_model_module_version": "1.5.0",
      "_model_name": "HTMLModel",
      "_view_count": null,
      "_view_module": "@jupyter-widgets/controls",
      "_view_module_version": "1.5.0",
      "_view_name": "HTMLView",
      "description": "",
      "description_tooltip": null,
      "layout": "IPY_MODEL_6c91baf251014a12ae85e5de4c02fb3c",
      "placeholder": "​",
      "style": "IPY_MODEL_c6306010a67044f2871c97ac225073eb",
      "value": " 3318/3318 [00:01&lt;00:00, 2291.86it/s]"
     }
    },
    "0ca5dcaa5bce46fbba8591badf5df69b": {
     "model_module": "@jupyter-widgets/base",
     "model_module_version": "1.2.0",
     "model_name": "LayoutModel",
     "state": {
      "_model_module": "@jupyter-widgets/base",
      "_model_module_version": "1.2.0",
      "_model_name": "LayoutModel",
      "_view_count": null,
      "_view_module": "@jupyter-widgets/base",
      "_view_module_version": "1.2.0",
      "_view_name": "LayoutView",
      "align_content": null,
      "align_items": null,
      "align_self": null,
      "border": null,
      "bottom": null,
      "display": null,
      "flex": null,
      "flex_flow": null,
      "grid_area": null,
      "grid_auto_columns": null,
      "grid_auto_flow": null,
      "grid_auto_rows": null,
      "grid_column": null,
      "grid_gap": null,
      "grid_row": null,
      "grid_template_areas": null,
      "grid_template_columns": null,
      "grid_template_rows": null,
      "height": null,
      "justify_content": null,
      "justify_items": null,
      "left": null,
      "margin": null,
      "max_height": null,
      "max_width": null,
      "min_height": null,
      "min_width": null,
      "object_fit": null,
      "object_position": null,
      "order": null,
      "overflow": null,
      "overflow_x": null,
      "overflow_y": null,
      "padding": null,
      "right": null,
      "top": null,
      "visibility": null,
      "width": null
     }
    },
    "0d6df6c164004c989b305dd574a0f161": {
     "model_module": "@jupyter-widgets/controls",
     "model_module_version": "1.5.0",
     "model_name": "HTMLModel",
     "state": {
      "_dom_classes": [],
      "_model_module": "@jupyter-widgets/controls",
      "_model_module_version": "1.5.0",
      "_model_name": "HTMLModel",
      "_view_count": null,
      "_view_module": "@jupyter-widgets/controls",
      "_view_module_version": "1.5.0",
      "_view_name": "HTMLView",
      "description": "",
      "description_tooltip": null,
      "layout": "IPY_MODEL_88e592270bf34d75a2b6cb1b3a084dc4",
      "placeholder": "​",
      "style": "IPY_MODEL_16ef9a1c2e8744f4aaf59a88383a280f",
      "value": "swt: 100%"
     }
    },
    "0e8b902168b7457fb3fd2c1e37d56109": {
     "model_module": "@jupyter-widgets/controls",
     "model_module_version": "1.5.0",
     "model_name": "HTMLModel",
     "state": {
      "_dom_classes": [],
      "_model_module": "@jupyter-widgets/controls",
      "_model_module_version": "1.5.0",
      "_model_name": "HTMLModel",
      "_view_count": null,
      "_view_module": "@jupyter-widgets/controls",
      "_view_module_version": "1.5.0",
      "_view_name": "HTMLView",
      "description": "",
      "description_tooltip": null,
      "layout": "IPY_MODEL_a730ae1587b247c8954edd17fdbbd2ce",
      "placeholder": "​",
      "style": "IPY_MODEL_80fa96ed08d84d0288cd4fdc8bc8667c",
      "value": " 471/471 [00:00&lt;00:00, 1998.14it/s]"
     }
    },
    "16ef9a1c2e8744f4aaf59a88383a280f": {
     "model_module": "@jupyter-widgets/controls",
     "model_module_version": "1.5.0",
     "model_name": "DescriptionStyleModel",
     "state": {
      "_model_module": "@jupyter-widgets/controls",
      "_model_module_version": "1.5.0",
      "_model_name": "DescriptionStyleModel",
      "_view_count": null,
      "_view_module": "@jupyter-widgets/base",
      "_view_module_version": "1.2.0",
      "_view_name": "StyleView",
      "description_width": ""
     }
    },
    "1765c3a16e174d5cbdc893635df7c2f9": {
     "model_module": "@jupyter-widgets/controls",
     "model_module_version": "1.5.0",
     "model_name": "ProgressStyleModel",
     "state": {
      "_model_module": "@jupyter-widgets/controls",
      "_model_module_version": "1.5.0",
      "_model_name": "ProgressStyleModel",
      "_view_count": null,
      "_view_module": "@jupyter-widgets/base",
      "_view_module_version": "1.2.0",
      "_view_name": "StyleView",
      "bar_color": null,
      "description_width": ""
     }
    },
    "181483622bf74cc7be60ec75433ba70a": {
     "model_module": "@jupyter-widgets/base",
     "model_module_version": "1.2.0",
     "model_name": "LayoutModel",
     "state": {
      "_model_module": "@jupyter-widgets/base",
      "_model_module_version": "1.2.0",
      "_model_name": "LayoutModel",
      "_view_count": null,
      "_view_module": "@jupyter-widgets/base",
      "_view_module_version": "1.2.0",
      "_view_name": "LayoutView",
      "align_content": null,
      "align_items": null,
      "align_self": null,
      "border": null,
      "bottom": null,
      "display": null,
      "flex": null,
      "flex_flow": null,
      "grid_area": null,
      "grid_auto_columns": null,
      "grid_auto_flow": null,
      "grid_auto_rows": null,
      "grid_column": null,
      "grid_gap": null,
      "grid_row": null,
      "grid_template_areas": null,
      "grid_template_columns": null,
      "grid_template_rows": null,
      "height": null,
      "justify_content": null,
      "justify_items": null,
      "left": null,
      "margin": null,
      "max_height": null,
      "max_width": null,
      "min_height": null,
      "min_width": null,
      "object_fit": null,
      "object_position": null,
      "order": null,
      "overflow": null,
      "overflow_x": null,
      "overflow_y": null,
      "padding": null,
      "right": null,
      "top": null,
      "visibility": null,
      "width": null
     }
    },
    "20e1b14e268e4ca7b26015a0550a46b4": {
     "model_module": "@jupyter-widgets/base",
     "model_module_version": "1.2.0",
     "model_name": "LayoutModel",
     "state": {
      "_model_module": "@jupyter-widgets/base",
      "_model_module_version": "1.2.0",
      "_model_name": "LayoutModel",
      "_view_count": null,
      "_view_module": "@jupyter-widgets/base",
      "_view_module_version": "1.2.0",
      "_view_name": "LayoutView",
      "align_content": null,
      "align_items": null,
      "align_self": null,
      "border": null,
      "bottom": null,
      "display": null,
      "flex": null,
      "flex_flow": null,
      "grid_area": null,
      "grid_auto_columns": null,
      "grid_auto_flow": null,
      "grid_auto_rows": null,
      "grid_column": null,
      "grid_gap": null,
      "grid_row": null,
      "grid_template_areas": null,
      "grid_template_columns": null,
      "grid_template_rows": null,
      "height": null,
      "justify_content": null,
      "justify_items": null,
      "left": null,
      "margin": null,
      "max_height": null,
      "max_width": null,
      "min_height": null,
      "min_width": null,
      "object_fit": null,
      "object_position": null,
      "order": null,
      "overflow": null,
      "overflow_x": null,
      "overflow_y": null,
      "padding": null,
      "right": null,
      "top": null,
      "visibility": null,
      "width": null
     }
    },
    "2bafe723e24a4f1d83f706c1a205712f": {
     "model_module": "@jupyter-widgets/controls",
     "model_module_version": "1.5.0",
     "model_name": "HBoxModel",
     "state": {
      "_dom_classes": [],
      "_model_module": "@jupyter-widgets/controls",
      "_model_module_version": "1.5.0",
      "_model_name": "HBoxModel",
      "_view_count": null,
      "_view_module": "@jupyter-widgets/controls",
      "_view_module_version": "1.5.0",
      "_view_name": "HBoxView",
      "box_style": "",
      "children": [
       "IPY_MODEL_bd7a84653fb64f6b80b1b29fda901a67",
       "IPY_MODEL_3036d5d3d1d14a63a9bdcc31945478ee",
       "IPY_MODEL_00be03abf2cc4670bee1415b0e22fc28"
      ],
      "layout": "IPY_MODEL_e072098619654c249a66270ee75f9cc1"
     }
    },
    "3036d5d3d1d14a63a9bdcc31945478ee": {
     "model_module": "@jupyter-widgets/controls",
     "model_module_version": "1.5.0",
     "model_name": "FloatProgressModel",
     "state": {
      "_dom_classes": [],
      "_model_module": "@jupyter-widgets/controls",
      "_model_module_version": "1.5.0",
      "_model_name": "FloatProgressModel",
      "_view_count": null,
      "_view_module": "@jupyter-widgets/controls",
      "_view_module_version": "1.5.0",
      "_view_name": "ProgressView",
      "bar_style": "",
      "description": "",
      "description_tooltip": null,
      "layout": "IPY_MODEL_5816cb37865d4f1db99ed85c5af67a54",
      "max": 52,
      "min": 0,
      "orientation": "horizontal",
      "style": "IPY_MODEL_a362ad0e500a4d5d868ce428019cae12",
      "value": 1
     }
    },
    "380cd12c94fb4845b18b7b5cc6438bfb": {
     "model_module": "@jupyter-widgets/base",
     "model_module_version": "1.2.0",
     "model_name": "LayoutModel",
     "state": {
      "_model_module": "@jupyter-widgets/base",
      "_model_module_version": "1.2.0",
      "_model_name": "LayoutModel",
      "_view_count": null,
      "_view_module": "@jupyter-widgets/base",
      "_view_module_version": "1.2.0",
      "_view_name": "LayoutView",
      "align_content": null,
      "align_items": null,
      "align_self": null,
      "border": null,
      "bottom": null,
      "display": null,
      "flex": null,
      "flex_flow": null,
      "grid_area": null,
      "grid_auto_columns": null,
      "grid_auto_flow": null,
      "grid_auto_rows": null,
      "grid_column": null,
      "grid_gap": null,
      "grid_row": null,
      "grid_template_areas": null,
      "grid_template_columns": null,
      "grid_template_rows": null,
      "height": null,
      "justify_content": null,
      "justify_items": null,
      "left": null,
      "margin": null,
      "max_height": null,
      "max_width": null,
      "min_height": null,
      "min_width": null,
      "object_fit": null,
      "object_position": null,
      "order": null,
      "overflow": null,
      "overflow_x": null,
      "overflow_y": null,
      "padding": null,
      "right": null,
      "top": null,
      "visibility": null,
      "width": null
     }
    },
    "3b3a0feb9b43474eb5e0e2b04c33ff6b": {
     "model_module": "@jupyter-widgets/base",
     "model_module_version": "1.2.0",
     "model_name": "LayoutModel",
     "state": {
      "_model_module": "@jupyter-widgets/base",
      "_model_module_version": "1.2.0",
      "_model_name": "LayoutModel",
      "_view_count": null,
      "_view_module": "@jupyter-widgets/base",
      "_view_module_version": "1.2.0",
      "_view_name": "LayoutView",
      "align_content": null,
      "align_items": null,
      "align_self": null,
      "border": null,
      "bottom": null,
      "display": null,
      "flex": null,
      "flex_flow": null,
      "grid_area": null,
      "grid_auto_columns": null,
      "grid_auto_flow": null,
      "grid_auto_rows": null,
      "grid_column": null,
      "grid_gap": null,
      "grid_row": null,
      "grid_template_areas": null,
      "grid_template_columns": null,
      "grid_template_rows": null,
      "height": null,
      "justify_content": null,
      "justify_items": null,
      "left": null,
      "margin": null,
      "max_height": null,
      "max_width": null,
      "min_height": null,
      "min_width": null,
      "object_fit": null,
      "object_position": null,
      "order": null,
      "overflow": null,
      "overflow_x": null,
      "overflow_y": null,
      "padding": null,
      "right": null,
      "top": null,
      "visibility": null,
      "width": null
     }
    },
    "4395ebe6f5f04a27bdfa264604ed1b3a": {
     "model_module": "@jupyter-widgets/controls",
     "model_module_version": "1.5.0",
     "model_name": "FloatProgressModel",
     "state": {
      "_dom_classes": [],
      "_model_module": "@jupyter-widgets/controls",
      "_model_module_version": "1.5.0",
      "_model_name": "FloatProgressModel",
      "_view_count": null,
      "_view_module": "@jupyter-widgets/controls",
      "_view_module_version": "1.5.0",
      "_view_name": "ProgressView",
      "bar_style": "success",
      "description": "",
      "description_tooltip": null,
      "layout": "IPY_MODEL_c88119e9d77f469f8d0a9cd2c379eb46",
      "max": 471,
      "min": 0,
      "orientation": "horizontal",
      "style": "IPY_MODEL_1765c3a16e174d5cbdc893635df7c2f9",
      "value": 471
     }
    },
    "449234db07d241cd9293b032ae88701a": {
     "model_module": "@jupyter-widgets/controls",
     "model_module_version": "1.5.0",
     "model_name": "HTMLModel",
     "state": {
      "_dom_classes": [],
      "_model_module": "@jupyter-widgets/controls",
      "_model_module_version": "1.5.0",
      "_model_name": "HTMLModel",
      "_view_count": null,
      "_view_module": "@jupyter-widgets/controls",
      "_view_module_version": "1.5.0",
      "_view_name": "HTMLView",
      "description": "",
      "description_tooltip": null,
      "layout": "IPY_MODEL_380cd12c94fb4845b18b7b5cc6438bfb",
      "placeholder": "​",
      "style": "IPY_MODEL_cd351d2406e94be8a62acc07a98e5aee",
      "value": "swt: 100%"
     }
    },
    "4b8ceaef190f4ea0884fc7c0578a0ca4": {
     "model_module": "@jupyter-widgets/controls",
     "model_module_version": "1.5.0",
     "model_name": "DescriptionStyleModel",
     "state": {
      "_model_module": "@jupyter-widgets/controls",
      "_model_module_version": "1.5.0",
      "_model_name": "DescriptionStyleModel",
      "_view_count": null,
      "_view_module": "@jupyter-widgets/base",
      "_view_module_version": "1.2.0",
      "_view_name": "StyleView",
      "description_width": ""
     }
    },
    "4bc85bc9085b4bf58b9e582a525a156f": {
     "model_module": "@jupyter-widgets/controls",
     "model_module_version": "1.5.0",
     "model_name": "FloatProgressModel",
     "state": {
      "_dom_classes": [],
      "_model_module": "@jupyter-widgets/controls",
      "_model_module_version": "1.5.0",
      "_model_name": "FloatProgressModel",
      "_view_count": null,
      "_view_module": "@jupyter-widgets/controls",
      "_view_module_version": "1.5.0",
      "_view_name": "ProgressView",
      "bar_style": "success",
      "description": "",
      "description_tooltip": null,
      "layout": "IPY_MODEL_da3cfc7266294a3bad6e92f37d6dff37",
      "max": 3318,
      "min": 0,
      "orientation": "horizontal",
      "style": "IPY_MODEL_b849142db43b443e9cff5d1668421462",
      "value": 3318
     }
    },
    "4f4374618538479d80cd46ea99dd93f5": {
     "model_module": "@jupyter-widgets/controls",
     "model_module_version": "1.5.0",
     "model_name": "HTMLModel",
     "state": {
      "_dom_classes": [],
      "_model_module": "@jupyter-widgets/controls",
      "_model_module_version": "1.5.0",
      "_model_name": "HTMLModel",
      "_view_count": null,
      "_view_module": "@jupyter-widgets/controls",
      "_view_module_version": "1.5.0",
      "_view_name": "HTMLView",
      "description": "",
      "description_tooltip": null,
      "layout": "IPY_MODEL_973307790dfd453684f393add151fdf2",
      "placeholder": "​",
      "style": "IPY_MODEL_6817b6547bd342289b5ec1d47122d239",
      "value": " 0/1000 [00:00&lt;?, ?it/s]"
     }
    },
    "57aafd9bfcf74b41a6f8c6b8db4451d3": {
     "model_module": "@jupyter-widgets/controls",
     "model_module_version": "1.5.0",
     "model_name": "DescriptionStyleModel",
     "state": {
      "_model_module": "@jupyter-widgets/controls",
      "_model_module_version": "1.5.0",
      "_model_name": "DescriptionStyleModel",
      "_view_count": null,
      "_view_module": "@jupyter-widgets/base",
      "_view_module_version": "1.2.0",
      "_view_name": "StyleView",
      "description_width": ""
     }
    },
    "580a80552591472ea6da6fc386b441cc": {
     "model_module": "@jupyter-widgets/controls",
     "model_module_version": "1.5.0",
     "model_name": "DescriptionStyleModel",
     "state": {
      "_model_module": "@jupyter-widgets/controls",
      "_model_module_version": "1.5.0",
      "_model_name": "DescriptionStyleModel",
      "_view_count": null,
      "_view_module": "@jupyter-widgets/base",
      "_view_module_version": "1.2.0",
      "_view_name": "StyleView",
      "description_width": ""
     }
    },
    "5816cb37865d4f1db99ed85c5af67a54": {
     "model_module": "@jupyter-widgets/base",
     "model_module_version": "1.2.0",
     "model_name": "LayoutModel",
     "state": {
      "_model_module": "@jupyter-widgets/base",
      "_model_module_version": "1.2.0",
      "_model_name": "LayoutModel",
      "_view_count": null,
      "_view_module": "@jupyter-widgets/base",
      "_view_module_version": "1.2.0",
      "_view_name": "LayoutView",
      "align_content": null,
      "align_items": null,
      "align_self": null,
      "border": null,
      "bottom": null,
      "display": null,
      "flex": null,
      "flex_flow": null,
      "grid_area": null,
      "grid_auto_columns": null,
      "grid_auto_flow": null,
      "grid_auto_rows": null,
      "grid_column": null,
      "grid_gap": null,
      "grid_row": null,
      "grid_template_areas": null,
      "grid_template_columns": null,
      "grid_template_rows": null,
      "height": null,
      "justify_content": null,
      "justify_items": null,
      "left": null,
      "margin": null,
      "max_height": null,
      "max_width": null,
      "min_height": null,
      "min_width": null,
      "object_fit": null,
      "object_position": null,
      "order": null,
      "overflow": null,
      "overflow_x": null,
      "overflow_y": null,
      "padding": null,
      "right": null,
      "top": null,
      "visibility": null,
      "width": null
     }
    },
    "61c19f3e4f314df2a7fc7d9b1d179fe9": {
     "model_module": "@jupyter-widgets/controls",
     "model_module_version": "1.5.0",
     "model_name": "DescriptionStyleModel",
     "state": {
      "_model_module": "@jupyter-widgets/controls",
      "_model_module_version": "1.5.0",
      "_model_name": "DescriptionStyleModel",
      "_view_count": null,
      "_view_module": "@jupyter-widgets/base",
      "_view_module_version": "1.2.0",
      "_view_name": "StyleView",
      "description_width": ""
     }
    },
    "6817b6547bd342289b5ec1d47122d239": {
     "model_module": "@jupyter-widgets/controls",
     "model_module_version": "1.5.0",
     "model_name": "DescriptionStyleModel",
     "state": {
      "_model_module": "@jupyter-widgets/controls",
      "_model_module_version": "1.5.0",
      "_model_name": "DescriptionStyleModel",
      "_view_count": null,
      "_view_module": "@jupyter-widgets/base",
      "_view_module_version": "1.2.0",
      "_view_name": "StyleView",
      "description_width": ""
     }
    },
    "6c91baf251014a12ae85e5de4c02fb3c": {
     "model_module": "@jupyter-widgets/base",
     "model_module_version": "1.2.0",
     "model_name": "LayoutModel",
     "state": {
      "_model_module": "@jupyter-widgets/base",
      "_model_module_version": "1.2.0",
      "_model_name": "LayoutModel",
      "_view_count": null,
      "_view_module": "@jupyter-widgets/base",
      "_view_module_version": "1.2.0",
      "_view_name": "LayoutView",
      "align_content": null,
      "align_items": null,
      "align_self": null,
      "border": null,
      "bottom": null,
      "display": null,
      "flex": null,
      "flex_flow": null,
      "grid_area": null,
      "grid_auto_columns": null,
      "grid_auto_flow": null,
      "grid_auto_rows": null,
      "grid_column": null,
      "grid_gap": null,
      "grid_row": null,
      "grid_template_areas": null,
      "grid_template_columns": null,
      "grid_template_rows": null,
      "height": null,
      "justify_content": null,
      "justify_items": null,
      "left": null,
      "margin": null,
      "max_height": null,
      "max_width": null,
      "min_height": null,
      "min_width": null,
      "object_fit": null,
      "object_position": null,
      "order": null,
      "overflow": null,
      "overflow_x": null,
      "overflow_y": null,
      "padding": null,
      "right": null,
      "top": null,
      "visibility": null,
      "width": null
     }
    },
    "77ff28af0e6f4c3e9533bb0257fcae5a": {
     "model_module": "@jupyter-widgets/base",
     "model_module_version": "1.2.0",
     "model_name": "LayoutModel",
     "state": {
      "_model_module": "@jupyter-widgets/base",
      "_model_module_version": "1.2.0",
      "_model_name": "LayoutModel",
      "_view_count": null,
      "_view_module": "@jupyter-widgets/base",
      "_view_module_version": "1.2.0",
      "_view_name": "LayoutView",
      "align_content": null,
      "align_items": null,
      "align_self": null,
      "border": null,
      "bottom": null,
      "display": null,
      "flex": null,
      "flex_flow": null,
      "grid_area": null,
      "grid_auto_columns": null,
      "grid_auto_flow": null,
      "grid_auto_rows": null,
      "grid_column": null,
      "grid_gap": null,
      "grid_row": null,
      "grid_template_areas": null,
      "grid_template_columns": null,
      "grid_template_rows": null,
      "height": null,
      "justify_content": null,
      "justify_items": null,
      "left": null,
      "margin": null,
      "max_height": null,
      "max_width": null,
      "min_height": null,
      "min_width": null,
      "object_fit": null,
      "object_position": null,
      "order": null,
      "overflow": null,
      "overflow_x": null,
      "overflow_y": null,
      "padding": null,
      "right": null,
      "top": null,
      "visibility": null,
      "width": null
     }
    },
    "7a1863c060574471a1269845fba411b3": {
     "model_module": "@jupyter-widgets/controls",
     "model_module_version": "1.5.0",
     "model_name": "HBoxModel",
     "state": {
      "_dom_classes": [],
      "_model_module": "@jupyter-widgets/controls",
      "_model_module_version": "1.5.0",
      "_model_name": "HBoxModel",
      "_view_count": null,
      "_view_module": "@jupyter-widgets/controls",
      "_view_module_version": "1.5.0",
      "_view_name": "HBoxView",
      "box_style": "",
      "children": [
       "IPY_MODEL_0d6df6c164004c989b305dd574a0f161",
       "IPY_MODEL_4bc85bc9085b4bf58b9e582a525a156f",
       "IPY_MODEL_0ac21ef2886f4d5d824eb1c2c3a6cd1f"
      ],
      "layout": "IPY_MODEL_20e1b14e268e4ca7b26015a0550a46b4"
     }
    },
    "7b7ccb3823e242c1a43a02bd958ff557": {
     "model_module": "@jupyter-widgets/base",
     "model_module_version": "1.2.0",
     "model_name": "LayoutModel",
     "state": {
      "_model_module": "@jupyter-widgets/base",
      "_model_module_version": "1.2.0",
      "_model_name": "LayoutModel",
      "_view_count": null,
      "_view_module": "@jupyter-widgets/base",
      "_view_module_version": "1.2.0",
      "_view_name": "LayoutView",
      "align_content": null,
      "align_items": null,
      "align_self": null,
      "border": null,
      "bottom": null,
      "display": null,
      "flex": null,
      "flex_flow": null,
      "grid_area": null,
      "grid_auto_columns": null,
      "grid_auto_flow": null,
      "grid_auto_rows": null,
      "grid_column": null,
      "grid_gap": null,
      "grid_row": null,
      "grid_template_areas": null,
      "grid_template_columns": null,
      "grid_template_rows": null,
      "height": null,
      "justify_content": null,
      "justify_items": null,
      "left": null,
      "margin": null,
      "max_height": null,
      "max_width": null,
      "min_height": null,
      "min_width": null,
      "object_fit": null,
      "object_position": null,
      "order": null,
      "overflow": null,
      "overflow_x": null,
      "overflow_y": null,
      "padding": null,
      "right": null,
      "top": null,
      "visibility": null,
      "width": null
     }
    },
    "80fa96ed08d84d0288cd4fdc8bc8667c": {
     "model_module": "@jupyter-widgets/controls",
     "model_module_version": "1.5.0",
     "model_name": "DescriptionStyleModel",
     "state": {
      "_model_module": "@jupyter-widgets/controls",
      "_model_module_version": "1.5.0",
      "_model_name": "DescriptionStyleModel",
      "_view_count": null,
      "_view_module": "@jupyter-widgets/base",
      "_view_module_version": "1.2.0",
      "_view_name": "StyleView",
      "description_width": ""
     }
    },
    "810e3bd107f0475abe9ef231c2f7c303": {
     "model_module": "@jupyter-widgets/controls",
     "model_module_version": "1.5.0",
     "model_name": "HBoxModel",
     "state": {
      "_dom_classes": [],
      "_model_module": "@jupyter-widgets/controls",
      "_model_module_version": "1.5.0",
      "_model_name": "HBoxModel",
      "_view_count": null,
      "_view_module": "@jupyter-widgets/controls",
      "_view_module_version": "1.5.0",
      "_view_name": "HBoxView",
      "box_style": "",
      "children": [
       "IPY_MODEL_9b51cd4c37cc4610a32e6b99296552f1",
       "IPY_MODEL_4395ebe6f5f04a27bdfa264604ed1b3a",
       "IPY_MODEL_dc000aef513b441394e3a7e133a7650f"
      ],
      "layout": "IPY_MODEL_0ca5dcaa5bce46fbba8591badf5df69b"
     }
    },
    "852693f603684c5eab4223402e364d1d": {
     "model_module": "@jupyter-widgets/controls",
     "model_module_version": "1.5.0",
     "model_name": "FloatProgressModel",
     "state": {
      "_dom_classes": [],
      "_model_module": "@jupyter-widgets/controls",
      "_model_module_version": "1.5.0",
      "_model_name": "FloatProgressModel",
      "_view_count": null,
      "_view_module": "@jupyter-widgets/controls",
      "_view_module_version": "1.5.0",
      "_view_name": "ProgressView",
      "bar_style": "",
      "description": "",
      "description_tooltip": null,
      "layout": "IPY_MODEL_e31daaba94594b46b7ca78abf353bcae",
      "max": 1000,
      "min": 0,
      "orientation": "horizontal",
      "style": "IPY_MODEL_d8b0d11e031147f199b069ce9f424ffd",
      "value": 0
     }
    },
    "88e592270bf34d75a2b6cb1b3a084dc4": {
     "model_module": "@jupyter-widgets/base",
     "model_module_version": "1.2.0",
     "model_name": "LayoutModel",
     "state": {
      "_model_module": "@jupyter-widgets/base",
      "_model_module_version": "1.2.0",
      "_model_name": "LayoutModel",
      "_view_count": null,
      "_view_module": "@jupyter-widgets/base",
      "_view_module_version": "1.2.0",
      "_view_name": "LayoutView",
      "align_content": null,
      "align_items": null,
      "align_self": null,
      "border": null,
      "bottom": null,
      "display": null,
      "flex": null,
      "flex_flow": null,
      "grid_area": null,
      "grid_auto_columns": null,
      "grid_auto_flow": null,
      "grid_auto_rows": null,
      "grid_column": null,
      "grid_gap": null,
      "grid_row": null,
      "grid_template_areas": null,
      "grid_template_columns": null,
      "grid_template_rows": null,
      "height": null,
      "justify_content": null,
      "justify_items": null,
      "left": null,
      "margin": null,
      "max_height": null,
      "max_width": null,
      "min_height": null,
      "min_width": null,
      "object_fit": null,
      "object_position": null,
      "order": null,
      "overflow": null,
      "overflow_x": null,
      "overflow_y": null,
      "padding": null,
      "right": null,
      "top": null,
      "visibility": null,
      "width": null
     }
    },
    "90d415083630471b908f4b001693dbe9": {
     "model_module": "@jupyter-widgets/base",
     "model_module_version": "1.2.0",
     "model_name": "LayoutModel",
     "state": {
      "_model_module": "@jupyter-widgets/base",
      "_model_module_version": "1.2.0",
      "_model_name": "LayoutModel",
      "_view_count": null,
      "_view_module": "@jupyter-widgets/base",
      "_view_module_version": "1.2.0",
      "_view_name": "LayoutView",
      "align_content": null,
      "align_items": null,
      "align_self": null,
      "border": null,
      "bottom": null,
      "display": null,
      "flex": null,
      "flex_flow": null,
      "grid_area": null,
      "grid_auto_columns": null,
      "grid_auto_flow": null,
      "grid_auto_rows": null,
      "grid_column": null,
      "grid_gap": null,
      "grid_row": null,
      "grid_template_areas": null,
      "grid_template_columns": null,
      "grid_template_rows": null,
      "height": null,
      "justify_content": null,
      "justify_items": null,
      "left": null,
      "margin": null,
      "max_height": null,
      "max_width": null,
      "min_height": null,
      "min_width": null,
      "object_fit": null,
      "object_position": null,
      "order": null,
      "overflow": null,
      "overflow_x": null,
      "overflow_y": null,
      "padding": null,
      "right": null,
      "top": null,
      "visibility": null,
      "width": null
     }
    },
    "933cdb021ad04f738e93ebcd22842fbb": {
     "model_module": "@jupyter-widgets/controls",
     "model_module_version": "1.5.0",
     "model_name": "ProgressStyleModel",
     "state": {
      "_model_module": "@jupyter-widgets/controls",
      "_model_module_version": "1.5.0",
      "_model_name": "ProgressStyleModel",
      "_view_count": null,
      "_view_module": "@jupyter-widgets/base",
      "_view_module_version": "1.2.0",
      "_view_name": "StyleView",
      "bar_color": null,
      "description_width": ""
     }
    },
    "973307790dfd453684f393add151fdf2": {
     "model_module": "@jupyter-widgets/base",
     "model_module_version": "1.2.0",
     "model_name": "LayoutModel",
     "state": {
      "_model_module": "@jupyter-widgets/base",
      "_model_module_version": "1.2.0",
      "_model_name": "LayoutModel",
      "_view_count": null,
      "_view_module": "@jupyter-widgets/base",
      "_view_module_version": "1.2.0",
      "_view_name": "LayoutView",
      "align_content": null,
      "align_items": null,
      "align_self": null,
      "border": null,
      "bottom": null,
      "display": null,
      "flex": null,
      "flex_flow": null,
      "grid_area": null,
      "grid_auto_columns": null,
      "grid_auto_flow": null,
      "grid_auto_rows": null,
      "grid_column": null,
      "grid_gap": null,
      "grid_row": null,
      "grid_template_areas": null,
      "grid_template_columns": null,
      "grid_template_rows": null,
      "height": null,
      "justify_content": null,
      "justify_items": null,
      "left": null,
      "margin": null,
      "max_height": null,
      "max_width": null,
      "min_height": null,
      "min_width": null,
      "object_fit": null,
      "object_position": null,
      "order": null,
      "overflow": null,
      "overflow_x": null,
      "overflow_y": null,
      "padding": null,
      "right": null,
      "top": null,
      "visibility": null,
      "width": null
     }
    },
    "9829de0ad9b8432eb0dcd8fdd01cf97a": {
     "model_module": "@jupyter-widgets/controls",
     "model_module_version": "1.5.0",
     "model_name": "HBoxModel",
     "state": {
      "_dom_classes": [],
      "_model_module": "@jupyter-widgets/controls",
      "_model_module_version": "1.5.0",
      "_model_name": "HBoxModel",
      "_view_count": null,
      "_view_module": "@jupyter-widgets/controls",
      "_view_module_version": "1.5.0",
      "_view_name": "HBoxView",
      "box_style": "",
      "children": [
       "IPY_MODEL_004d848e6b8545a38ff0af8478653c2b",
       "IPY_MODEL_852693f603684c5eab4223402e364d1d",
       "IPY_MODEL_4f4374618538479d80cd46ea99dd93f5"
      ],
      "layout": "IPY_MODEL_ea32c2a8cf9d41df8c25c6141683caf8"
     }
    },
    "9b51cd4c37cc4610a32e6b99296552f1": {
     "model_module": "@jupyter-widgets/controls",
     "model_module_version": "1.5.0",
     "model_name": "HTMLModel",
     "state": {
      "_dom_classes": [],
      "_model_module": "@jupyter-widgets/controls",
      "_model_module_version": "1.5.0",
      "_model_name": "HTMLModel",
      "_view_count": null,
      "_view_module": "@jupyter-widgets/controls",
      "_view_module_version": "1.5.0",
      "_view_name": "HTMLView",
      "description": "",
      "description_tooltip": null,
      "layout": "IPY_MODEL_a744b2cb46034bebb46b75b53b00e724",
      "placeholder": "​",
      "style": "IPY_MODEL_61c19f3e4f314df2a7fc7d9b1d179fe9",
      "value": "swt: 100%"
     }
    },
    "a362ad0e500a4d5d868ce428019cae12": {
     "model_module": "@jupyter-widgets/controls",
     "model_module_version": "1.5.0",
     "model_name": "ProgressStyleModel",
     "state": {
      "_model_module": "@jupyter-widgets/controls",
      "_model_module_version": "1.5.0",
      "_model_name": "ProgressStyleModel",
      "_view_count": null,
      "_view_module": "@jupyter-widgets/base",
      "_view_module_version": "1.2.0",
      "_view_name": "StyleView",
      "bar_color": null,
      "description_width": ""
     }
    },
    "a730ae1587b247c8954edd17fdbbd2ce": {
     "model_module": "@jupyter-widgets/base",
     "model_module_version": "1.2.0",
     "model_name": "LayoutModel",
     "state": {
      "_model_module": "@jupyter-widgets/base",
      "_model_module_version": "1.2.0",
      "_model_name": "LayoutModel",
      "_view_count": null,
      "_view_module": "@jupyter-widgets/base",
      "_view_module_version": "1.2.0",
      "_view_name": "LayoutView",
      "align_content": null,
      "align_items": null,
      "align_self": null,
      "border": null,
      "bottom": null,
      "display": null,
      "flex": null,
      "flex_flow": null,
      "grid_area": null,
      "grid_auto_columns": null,
      "grid_auto_flow": null,
      "grid_auto_rows": null,
      "grid_column": null,
      "grid_gap": null,
      "grid_row": null,
      "grid_template_areas": null,
      "grid_template_columns": null,
      "grid_template_rows": null,
      "height": null,
      "justify_content": null,
      "justify_items": null,
      "left": null,
      "margin": null,
      "max_height": null,
      "max_width": null,
      "min_height": null,
      "min_width": null,
      "object_fit": null,
      "object_position": null,
      "order": null,
      "overflow": null,
      "overflow_x": null,
      "overflow_y": null,
      "padding": null,
      "right": null,
      "top": null,
      "visibility": null,
      "width": null
     }
    },
    "a744b2cb46034bebb46b75b53b00e724": {
     "model_module": "@jupyter-widgets/base",
     "model_module_version": "1.2.0",
     "model_name": "LayoutModel",
     "state": {
      "_model_module": "@jupyter-widgets/base",
      "_model_module_version": "1.2.0",
      "_model_name": "LayoutModel",
      "_view_count": null,
      "_view_module": "@jupyter-widgets/base",
      "_view_module_version": "1.2.0",
      "_view_name": "LayoutView",
      "align_content": null,
      "align_items": null,
      "align_self": null,
      "border": null,
      "bottom": null,
      "display": null,
      "flex": null,
      "flex_flow": null,
      "grid_area": null,
      "grid_auto_columns": null,
      "grid_auto_flow": null,
      "grid_auto_rows": null,
      "grid_column": null,
      "grid_gap": null,
      "grid_row": null,
      "grid_template_areas": null,
      "grid_template_columns": null,
      "grid_template_rows": null,
      "height": null,
      "justify_content": null,
      "justify_items": null,
      "left": null,
      "margin": null,
      "max_height": null,
      "max_width": null,
      "min_height": null,
      "min_width": null,
      "object_fit": null,
      "object_position": null,
      "order": null,
      "overflow": null,
      "overflow_x": null,
      "overflow_y": null,
      "padding": null,
      "right": null,
      "top": null,
      "visibility": null,
      "width": null
     }
    },
    "b849142db43b443e9cff5d1668421462": {
     "model_module": "@jupyter-widgets/controls",
     "model_module_version": "1.5.0",
     "model_name": "ProgressStyleModel",
     "state": {
      "_model_module": "@jupyter-widgets/controls",
      "_model_module_version": "1.5.0",
      "_model_name": "ProgressStyleModel",
      "_view_count": null,
      "_view_module": "@jupyter-widgets/base",
      "_view_module_version": "1.2.0",
      "_view_name": "StyleView",
      "bar_color": null,
      "description_width": ""
     }
    },
    "bd7a84653fb64f6b80b1b29fda901a67": {
     "model_module": "@jupyter-widgets/controls",
     "model_module_version": "1.5.0",
     "model_name": "HTMLModel",
     "state": {
      "_dom_classes": [],
      "_model_module": "@jupyter-widgets/controls",
      "_model_module_version": "1.5.0",
      "_model_name": "HTMLModel",
      "_view_count": null,
      "_view_module": "@jupyter-widgets/controls",
      "_view_module_version": "1.5.0",
      "_view_name": "HTMLView",
      "description": "",
      "description_tooltip": null,
      "layout": "IPY_MODEL_3b3a0feb9b43474eb5e0e2b04c33ff6b",
      "placeholder": "​",
      "style": "IPY_MODEL_d90557cb64fd4937aa98ffe3c02fc4f8",
      "value": "train batches:   2%"
     }
    },
    "c6306010a67044f2871c97ac225073eb": {
     "model_module": "@jupyter-widgets/controls",
     "model_module_version": "1.5.0",
     "model_name": "DescriptionStyleModel",
     "state": {
      "_model_module": "@jupyter-widgets/controls",
      "_model_module_version": "1.5.0",
      "_model_name": "DescriptionStyleModel",
      "_view_count": null,
      "_view_module": "@jupyter-widgets/base",
      "_view_module_version": "1.2.0",
      "_view_name": "StyleView",
      "description_width": ""
     }
    },
    "c88119e9d77f469f8d0a9cd2c379eb46": {
     "model_module": "@jupyter-widgets/base",
     "model_module_version": "1.2.0",
     "model_name": "LayoutModel",
     "state": {
      "_model_module": "@jupyter-widgets/base",
      "_model_module_version": "1.2.0",
      "_model_name": "LayoutModel",
      "_view_count": null,
      "_view_module": "@jupyter-widgets/base",
      "_view_module_version": "1.2.0",
      "_view_name": "LayoutView",
      "align_content": null,
      "align_items": null,
      "align_self": null,
      "border": null,
      "bottom": null,
      "display": null,
      "flex": null,
      "flex_flow": null,
      "grid_area": null,
      "grid_auto_columns": null,
      "grid_auto_flow": null,
      "grid_auto_rows": null,
      "grid_column": null,
      "grid_gap": null,
      "grid_row": null,
      "grid_template_areas": null,
      "grid_template_columns": null,
      "grid_template_rows": null,
      "height": null,
      "justify_content": null,
      "justify_items": null,
      "left": null,
      "margin": null,
      "max_height": null,
      "max_width": null,
      "min_height": null,
      "min_width": null,
      "object_fit": null,
      "object_position": null,
      "order": null,
      "overflow": null,
      "overflow_x": null,
      "overflow_y": null,
      "padding": null,
      "right": null,
      "top": null,
      "visibility": null,
      "width": null
     }
    },
    "cd351d2406e94be8a62acc07a98e5aee": {
     "model_module": "@jupyter-widgets/controls",
     "model_module_version": "1.5.0",
     "model_name": "DescriptionStyleModel",
     "state": {
      "_model_module": "@jupyter-widgets/controls",
      "_model_module_version": "1.5.0",
      "_model_name": "DescriptionStyleModel",
      "_view_count": null,
      "_view_module": "@jupyter-widgets/base",
      "_view_module_version": "1.2.0",
      "_view_name": "StyleView",
      "description_width": ""
     }
    },
    "d3a16bf08aea4800bac4fb0dabadb9ef": {
     "model_module": "@jupyter-widgets/controls",
     "model_module_version": "1.5.0",
     "model_name": "FloatProgressModel",
     "state": {
      "_dom_classes": [],
      "_model_module": "@jupyter-widgets/controls",
      "_model_module_version": "1.5.0",
      "_model_name": "FloatProgressModel",
      "_view_count": null,
      "_view_module": "@jupyter-widgets/controls",
      "_view_module_version": "1.5.0",
      "_view_name": "ProgressView",
      "bar_style": "success",
      "description": "",
      "description_tooltip": null,
      "layout": "IPY_MODEL_181483622bf74cc7be60ec75433ba70a",
      "max": 471,
      "min": 0,
      "orientation": "horizontal",
      "style": "IPY_MODEL_933cdb021ad04f738e93ebcd22842fbb",
      "value": 471
     }
    },
    "d8b0d11e031147f199b069ce9f424ffd": {
     "model_module": "@jupyter-widgets/controls",
     "model_module_version": "1.5.0",
     "model_name": "ProgressStyleModel",
     "state": {
      "_model_module": "@jupyter-widgets/controls",
      "_model_module_version": "1.5.0",
      "_model_name": "ProgressStyleModel",
      "_view_count": null,
      "_view_module": "@jupyter-widgets/base",
      "_view_module_version": "1.2.0",
      "_view_name": "StyleView",
      "bar_color": null,
      "description_width": ""
     }
    },
    "d90557cb64fd4937aa98ffe3c02fc4f8": {
     "model_module": "@jupyter-widgets/controls",
     "model_module_version": "1.5.0",
     "model_name": "DescriptionStyleModel",
     "state": {
      "_model_module": "@jupyter-widgets/controls",
      "_model_module_version": "1.5.0",
      "_model_name": "DescriptionStyleModel",
      "_view_count": null,
      "_view_module": "@jupyter-widgets/base",
      "_view_module_version": "1.2.0",
      "_view_name": "StyleView",
      "description_width": ""
     }
    },
    "da3cfc7266294a3bad6e92f37d6dff37": {
     "model_module": "@jupyter-widgets/base",
     "model_module_version": "1.2.0",
     "model_name": "LayoutModel",
     "state": {
      "_model_module": "@jupyter-widgets/base",
      "_model_module_version": "1.2.0",
      "_model_name": "LayoutModel",
      "_view_count": null,
      "_view_module": "@jupyter-widgets/base",
      "_view_module_version": "1.2.0",
      "_view_name": "LayoutView",
      "align_content": null,
      "align_items": null,
      "align_self": null,
      "border": null,
      "bottom": null,
      "display": null,
      "flex": null,
      "flex_flow": null,
      "grid_area": null,
      "grid_auto_columns": null,
      "grid_auto_flow": null,
      "grid_auto_rows": null,
      "grid_column": null,
      "grid_gap": null,
      "grid_row": null,
      "grid_template_areas": null,
      "grid_template_columns": null,
      "grid_template_rows": null,
      "height": null,
      "justify_content": null,
      "justify_items": null,
      "left": null,
      "margin": null,
      "max_height": null,
      "max_width": null,
      "min_height": null,
      "min_width": null,
      "object_fit": null,
      "object_position": null,
      "order": null,
      "overflow": null,
      "overflow_x": null,
      "overflow_y": null,
      "padding": null,
      "right": null,
      "top": null,
      "visibility": null,
      "width": null
     }
    },
    "dc000aef513b441394e3a7e133a7650f": {
     "model_module": "@jupyter-widgets/controls",
     "model_module_version": "1.5.0",
     "model_name": "HTMLModel",
     "state": {
      "_dom_classes": [],
      "_model_module": "@jupyter-widgets/controls",
      "_model_module_version": "1.5.0",
      "_model_name": "HTMLModel",
      "_view_count": null,
      "_view_module": "@jupyter-widgets/controls",
      "_view_module_version": "1.5.0",
      "_view_name": "HTMLView",
      "description": "",
      "description_tooltip": null,
      "layout": "IPY_MODEL_77ff28af0e6f4c3e9533bb0257fcae5a",
      "placeholder": "​",
      "style": "IPY_MODEL_4b8ceaef190f4ea0884fc7c0578a0ca4",
      "value": " 471/471 [00:00&lt;00:00, 2907.80it/s]"
     }
    },
    "e072098619654c249a66270ee75f9cc1": {
     "model_module": "@jupyter-widgets/base",
     "model_module_version": "1.2.0",
     "model_name": "LayoutModel",
     "state": {
      "_model_module": "@jupyter-widgets/base",
      "_model_module_version": "1.2.0",
      "_model_name": "LayoutModel",
      "_view_count": null,
      "_view_module": "@jupyter-widgets/base",
      "_view_module_version": "1.2.0",
      "_view_name": "LayoutView",
      "align_content": null,
      "align_items": null,
      "align_self": null,
      "border": null,
      "bottom": null,
      "display": null,
      "flex": null,
      "flex_flow": null,
      "grid_area": null,
      "grid_auto_columns": null,
      "grid_auto_flow": null,
      "grid_auto_rows": null,
      "grid_column": null,
      "grid_gap": null,
      "grid_row": null,
      "grid_template_areas": null,
      "grid_template_columns": null,
      "grid_template_rows": null,
      "height": null,
      "justify_content": null,
      "justify_items": null,
      "left": null,
      "margin": null,
      "max_height": null,
      "max_width": null,
      "min_height": null,
      "min_width": null,
      "object_fit": null,
      "object_position": null,
      "order": null,
      "overflow": null,
      "overflow_x": null,
      "overflow_y": null,
      "padding": null,
      "right": null,
      "top": null,
      "visibility": null,
      "width": null
     }
    },
    "e31daaba94594b46b7ca78abf353bcae": {
     "model_module": "@jupyter-widgets/base",
     "model_module_version": "1.2.0",
     "model_name": "LayoutModel",
     "state": {
      "_model_module": "@jupyter-widgets/base",
      "_model_module_version": "1.2.0",
      "_model_name": "LayoutModel",
      "_view_count": null,
      "_view_module": "@jupyter-widgets/base",
      "_view_module_version": "1.2.0",
      "_view_name": "LayoutView",
      "align_content": null,
      "align_items": null,
      "align_self": null,
      "border": null,
      "bottom": null,
      "display": null,
      "flex": null,
      "flex_flow": null,
      "grid_area": null,
      "grid_auto_columns": null,
      "grid_auto_flow": null,
      "grid_auto_rows": null,
      "grid_column": null,
      "grid_gap": null,
      "grid_row": null,
      "grid_template_areas": null,
      "grid_template_columns": null,
      "grid_template_rows": null,
      "height": null,
      "justify_content": null,
      "justify_items": null,
      "left": null,
      "margin": null,
      "max_height": null,
      "max_width": null,
      "min_height": null,
      "min_width": null,
      "object_fit": null,
      "object_position": null,
      "order": null,
      "overflow": null,
      "overflow_x": null,
      "overflow_y": null,
      "padding": null,
      "right": null,
      "top": null,
      "visibility": null,
      "width": null
     }
    },
    "ea32c2a8cf9d41df8c25c6141683caf8": {
     "model_module": "@jupyter-widgets/base",
     "model_module_version": "1.2.0",
     "model_name": "LayoutModel",
     "state": {
      "_model_module": "@jupyter-widgets/base",
      "_model_module_version": "1.2.0",
      "_model_name": "LayoutModel",
      "_view_count": null,
      "_view_module": "@jupyter-widgets/base",
      "_view_module_version": "1.2.0",
      "_view_name": "LayoutView",
      "align_content": null,
      "align_items": null,
      "align_self": null,
      "border": null,
      "bottom": null,
      "display": null,
      "flex": null,
      "flex_flow": null,
      "grid_area": null,
      "grid_auto_columns": null,
      "grid_auto_flow": null,
      "grid_auto_rows": null,
      "grid_column": null,
      "grid_gap": null,
      "grid_row": null,
      "grid_template_areas": null,
      "grid_template_columns": null,
      "grid_template_rows": null,
      "height": null,
      "justify_content": null,
      "justify_items": null,
      "left": null,
      "margin": null,
      "max_height": null,
      "max_width": null,
      "min_height": null,
      "min_width": null,
      "object_fit": null,
      "object_position": null,
      "order": null,
      "overflow": null,
      "overflow_x": null,
      "overflow_y": null,
      "padding": null,
      "right": null,
      "top": null,
      "visibility": null,
      "width": null
     }
    },
    "f9a40e30e1fc46089c472e5cb8feaff2": {
     "model_module": "@jupyter-widgets/base",
     "model_module_version": "1.2.0",
     "model_name": "LayoutModel",
     "state": {
      "_model_module": "@jupyter-widgets/base",
      "_model_module_version": "1.2.0",
      "_model_name": "LayoutModel",
      "_view_count": null,
      "_view_module": "@jupyter-widgets/base",
      "_view_module_version": "1.2.0",
      "_view_name": "LayoutView",
      "align_content": null,
      "align_items": null,
      "align_self": null,
      "border": null,
      "bottom": null,
      "display": null,
      "flex": null,
      "flex_flow": null,
      "grid_area": null,
      "grid_auto_columns": null,
      "grid_auto_flow": null,
      "grid_auto_rows": null,
      "grid_column": null,
      "grid_gap": null,
      "grid_row": null,
      "grid_template_areas": null,
      "grid_template_columns": null,
      "grid_template_rows": null,
      "height": null,
      "justify_content": null,
      "justify_items": null,
      "left": null,
      "margin": null,
      "max_height": null,
      "max_width": null,
      "min_height": null,
      "min_width": null,
      "object_fit": null,
      "object_position": null,
      "order": null,
      "overflow": null,
      "overflow_x": null,
      "overflow_y": null,
      "padding": null,
      "right": null,
      "top": null,
      "visibility": null,
      "width": null
     }
    },
    "fef6f61c285243868ec70dccb7fdc0ad": {
     "model_module": "@jupyter-widgets/controls",
     "model_module_version": "1.5.0",
     "model_name": "HBoxModel",
     "state": {
      "_dom_classes": [],
      "_model_module": "@jupyter-widgets/controls",
      "_model_module_version": "1.5.0",
      "_model_name": "HBoxModel",
      "_view_count": null,
      "_view_module": "@jupyter-widgets/controls",
      "_view_module_version": "1.5.0",
      "_view_name": "HBoxView",
      "box_style": "",
      "children": [
       "IPY_MODEL_449234db07d241cd9293b032ae88701a",
       "IPY_MODEL_d3a16bf08aea4800bac4fb0dabadb9ef",
       "IPY_MODEL_0e8b902168b7457fb3fd2c1e37d56109"
      ],
      "layout": "IPY_MODEL_7b7ccb3823e242c1a43a02bd958ff557"
     }
    }
   }
  }
 },
 "nbformat": 4,
 "nbformat_minor": 5
}
