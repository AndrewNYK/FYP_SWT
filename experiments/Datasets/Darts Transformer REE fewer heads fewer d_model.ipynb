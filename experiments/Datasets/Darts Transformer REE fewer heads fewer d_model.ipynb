{
 "cells": [
  {
   "cell_type": "code",
   "execution_count": 1,
   "id": "dffacd22-abe1-44b3-a11d-5a3c7e263931",
   "metadata": {},
   "outputs": [],
   "source": [
    "import pandas as pd\n",
    "import numpy as np\n",
    "import matplotlib.pyplot as plt\n",
    "import csv\n",
    "\n",
    "from tqdm.auto import tqdm"
   ]
  },
  {
   "cell_type": "code",
   "execution_count": 2,
   "id": "f31c05a5-3259-4477-baf9-13cfeb0f36ee",
   "metadata": {},
   "outputs": [],
   "source": [
    "from darts import TimeSeries\n",
    "from darts.metrics import mape, mase, rmse, mae, smape, mse\n",
    "\n",
    "from darts.utils.missing_values import fill_missing_values"
   ]
  },
  {
   "cell_type": "markdown",
   "id": "246f35ca-8e2a-420c-8d38-b996bafd0924",
   "metadata": {},
   "source": [
    "## MODWT functions"
   ]
  },
  {
   "cell_type": "code",
   "execution_count": 3,
   "id": "07b14ae0-c1f4-45e8-ba2f-5806264a7e16",
   "metadata": {},
   "outputs": [],
   "source": [
    "import numpy as np\n",
    "import pdb\n",
    "import pywt\n",
    "\n",
    "\n",
    "def upArrow_op(li, j):\n",
    "    if j == 0:\n",
    "        return [1]\n",
    "    N = len(li)\n",
    "    li_n = np.zeros(2 ** (j - 1) * (N - 1) + 1)\n",
    "    for i in range(N):\n",
    "        li_n[2 ** (j - 1) * i] = li[i]\n",
    "    return li_n\n",
    "\n",
    "\n",
    "def period_list(li, N):\n",
    "    n = len(li)\n",
    "    # append [0 0 ...]\n",
    "    n_app = N - np.mod(n, N)\n",
    "    li = list(li)\n",
    "    li = li + [0] * n_app\n",
    "    if len(li) < 2 * N:\n",
    "        return np.array(li)\n",
    "    else:\n",
    "        li = np.array(li)\n",
    "        li = np.reshape(li, [-1, N])\n",
    "        li = np.sum(li, axis=0)\n",
    "        return li\n",
    "\n",
    "\n",
    "def circular_convolve_mra( signal, ker ):\n",
    "    '''\n",
    "        signal: real 1D array\n",
    "        ker: real 1D array\n",
    "        signal and ker must have same shape\n",
    "        Modification of \n",
    "            https://stackoverflow.com/questions/35474078/python-1d-array-circular-convolution\n",
    "    '''\n",
    "    return np.flip(np.real(np.fft.ifft( np.fft.fft(signal)*np.fft.fft(np.flip(ker))))).astype(np.int).tolist()\n",
    "\n",
    "\n",
    "def circular_convolve_d(h_t, v_j_1, j):\n",
    "    '''\n",
    "    jth level decomposition\n",
    "    h_t: \\tilde{h} = h / sqrt(2)\n",
    "    v_j_1: v_{j-1}, the (j-1)th scale coefficients\n",
    "    return: w_j (or v_j)\n",
    "    '''\n",
    "    N = len(v_j_1)\n",
    "    L = len(h_t)\n",
    "    w_j = np.zeros(N)\n",
    "    l = np.arange(L)\n",
    "    for t in range(N):\n",
    "        index = np.mod(t - 2 ** (j - 1) * l, N)\n",
    "        v_p = np.array([v_j_1[ind] for ind in index])\n",
    "        w_j[t] = (np.array(h_t) * v_p).sum()\n",
    "    return w_j\n",
    "\n",
    "\n",
    "def circular_convolve_s(h_t, g_t, w_j, v_j, j):\n",
    "    '''\n",
    "    (j-1)th level synthesis from w_j, w_j\n",
    "    see function circular_convolve_d\n",
    "    '''\n",
    "    N = len(v_j)\n",
    "    L = len(h_t)\n",
    "    v_j_1 = np.zeros(N)\n",
    "    l = np.arange(L)\n",
    "    for t in range(N):\n",
    "        index = np.mod(t + 2 ** (j - 1) * l, N)\n",
    "        w_p = np.array([w_j[ind] for ind in index])\n",
    "        v_p = np.array([v_j[ind] for ind in index])\n",
    "        v_j_1[t] = (np.array(h_t) * w_p).sum()\n",
    "        v_j_1[t] = v_j_1[t] + (np.array(g_t) * v_p).sum()\n",
    "    return v_j_1\n",
    "\n",
    "\n",
    "def modwt(x, filters, level):\n",
    "    '''\n",
    "    filters: 'db1', 'db2', 'haar', ...\n",
    "    return: see matlab\n",
    "    '''\n",
    "    # filter\n",
    "    wavelet = pywt.Wavelet(filters)\n",
    "    h = wavelet.dec_hi\n",
    "    g = wavelet.dec_lo\n",
    "    h_t = np.array(h) / np.sqrt(2)\n",
    "    g_t = np.array(g) / np.sqrt(2)\n",
    "    wavecoeff = []\n",
    "    v_j_1 = x\n",
    "    for j in range(level):\n",
    "        w = circular_convolve_d(h_t, v_j_1, j + 1)\n",
    "        v_j_1 = circular_convolve_d(g_t, v_j_1, j + 1)\n",
    "        wavecoeff.append(w)\n",
    "    wavecoeff.append(v_j_1)\n",
    "    return np.vstack(wavecoeff)\n",
    "\n",
    "\n",
    "def imodwt(w, filters):\n",
    "    ''' inverse modwt '''\n",
    "    # filter\n",
    "    wavelet = pywt.Wavelet(filters)\n",
    "    h = wavelet.dec_hi\n",
    "    g = wavelet.dec_lo\n",
    "    h_t = np.array(h) / np.sqrt(2)\n",
    "    g_t = np.array(g) / np.sqrt(2)\n",
    "    level = len(w) - 1\n",
    "    v_j = w[-1]\n",
    "    for jp in range(level):\n",
    "        j = level - jp - 1\n",
    "        v_j = circular_convolve_s(h_t, g_t, w[j], v_j, j + 1)\n",
    "    return v_j\n",
    "\n",
    "\n",
    "def modwtmra(w, filters):\n",
    "    ''' Multiresolution analysis based on MODWT'''\n",
    "    # filter\n",
    "    wavelet = pywt.Wavelet(filters)\n",
    "    h = wavelet.dec_hi\n",
    "    g = wavelet.dec_lo\n",
    "    # D\n",
    "    level, N = w.shape\n",
    "    level = level - 1\n",
    "    D = []\n",
    "    g_j_part = [1]\n",
    "    for j in range(level):\n",
    "        # g_j_part\n",
    "        g_j_up = upArrow_op(g, j)\n",
    "        g_j_part = np.convolve(g_j_part, g_j_up)\n",
    "        # h_j_o\n",
    "        h_j_up = upArrow_op(h, j + 1)\n",
    "        h_j = np.convolve(g_j_part, h_j_up)\n",
    "        h_j_t = h_j / (2 ** ((j + 1) / 2.))\n",
    "        if j == 0: h_j_t = h / np.sqrt(2)\n",
    "        h_j_t_o = period_list(h_j_t, N)\n",
    "        D.append(circular_convolve_mra(h_j_t_o, w[j]))\n",
    "    # S\n",
    "    j = level - 1\n",
    "    g_j_up = upArrow_op(g, j + 1)\n",
    "    g_j = np.convolve(g_j_part, g_j_up)\n",
    "    g_j_t = g_j / (2 ** ((j + 1) / 2.))\n",
    "    g_j_t_o = period_list(g_j_t, N)\n",
    "    S = circular_convolve_mra(g_j_t_o, w[-1])\n",
    "    D.append(S)\n",
    "    return np.vstack(D)"
   ]
  },
  {
   "cell_type": "markdown",
   "id": "7116f9ee-964d-48ac-9808-b71b010ac041",
   "metadata": {},
   "source": [
    "## Prepare Dataset"
   ]
  },
  {
   "cell_type": "code",
   "execution_count": 4,
   "id": "fcdf62c4-7d1f-4597-81a6-14539c7b8d38",
   "metadata": {},
   "outputs": [],
   "source": [
    "#Default settings for experiment\n",
    "arg_model = \"tsrnn\" #Options: 'trfbb', 'tsrnn', 'trfbf'\n",
    "arg_dset = \"ree\" #Datasets -- Spain: 'ree', AEP, DAYTON: 'dyt' London: 'lsm'\n",
    "\n",
    "attr_dset_smpl_rt = 24 if arg_dset == \"aep\" else (48 if arg_dset == \"lsm\" else 24) #Samples per day. Spain, AEP: 24, London: 48\n",
    "param_dset_lookback_weeks = 5\n",
    "param_dset_forecast = 48 if arg_dset == \"lsm\" else 24\n",
    "# param_dset_lookback_weeks = 9\n",
    "# param_dset_forecast = 168 if arg_dset == \"lsm\" else 84 # 3.5days = 168\n",
    "param_dset_train_stride = 48 #Choose a coprime value to the forecast so all reading frames are eventually considered\n",
    "param_dset_test_stride = 'same' #tsrnn paper uses 1 week\n",
    "param_dset_lookback = param_dset_lookback_weeks*7*attr_dset_smpl_rt - param_dset_forecast\n",
    "\n",
    "param_trf_weather = False\n",
    "\n"
   ]
  },
  {
   "cell_type": "code",
   "execution_count": 5,
   "id": "5e5aa8d7-6341-4883-84fb-6f7c7dfae455",
   "metadata": {},
   "outputs": [],
   "source": [
    "from Spain_EW.spain_def import REE #Spain\n",
    "\n",
    "#Compute remaining settings\n",
    "param_dset_lookback = param_dset_lookback_weeks*7*attr_dset_smpl_rt - param_dset_forecast\n",
    "if param_dset_train_stride == 'same': param_dset_train_stride = param_dset_forecast\n",
    "if param_dset_test_stride == 'same': param_dset_test_stride = param_dset_forecast\n",
    "attr_dset_smpl_rt = {'ree':24,'aep':24,'lsm':48, 'dyt':24}[arg_dset]\n",
    "\n",
    "param_trf_inp_dim = {'ree':7,'lsm': 14}[arg_dset] if param_trf_weather else 1\n",
    "\n"
   ]
  },
  {
   "cell_type": "code",
   "execution_count": 6,
   "id": "3652aac7-9baa-4229-aad2-e30bb734d675",
   "metadata": {},
   "outputs": [
    {
     "name": "stdout",
     "output_type": "stream",
     "text": [
      "torch.Size([3888, 840, 1])\n",
      "torch.Size([141, 840, 1])\n"
     ]
    }
   ],
   "source": [
    "#Setup Dataset\n",
    "train_set = val_set = test_set = None\n",
    "if arg_dset == 'ree':\n",
    "    train_set = REE(path = \"./Spain_EW\",\n",
    "                    start_idx = 0, end_idx = 28051,\n",
    "                    seq_len = param_dset_lookback,\n",
    "                    pred_horz = param_dset_forecast,\n",
    "                    stride=7,\n",
    "                    timestamp = False, weather = param_trf_weather)\n",
    "    val_set = REE(path = \"./Spain_EW\",\n",
    "                  start_idx = 28051, end_idx = 28051+3506,\n",
    "                    seq_len = param_dset_lookback,\n",
    "                    pred_horz = param_dset_forecast,\n",
    "                    stride=19,\n",
    "                    timestamp = False, weather = param_trf_weather)\n",
    "    test_set = REE(path = \"./Spain_EW\",\n",
    "                    start_idx = 28051+3506,\n",
    "                    seq_len = param_dset_lookback,\n",
    "                    pred_horz = param_dset_forecast,\n",
    "                    stride=19,\n",
    "                    timestamp = False, weather = param_trf_weather)\n",
    "    \n",
    "    reemin = train_set.min()\n",
    "    reemax = train_set.max()\n",
    "    \n",
    "    #Monkey patch dataset to normalize series\n",
    "    train_set.series = (train_set.series - reemin)/(reemax - reemin)\n",
    "    val_set.series = (val_set.series - reemin)/(reemax - reemin)\n",
    "    test_set.series = (test_set.series - reemin)/(reemax - reemin)\n",
    "\n",
    "print(train_set.series.shape)\n",
    "print(test_set.series.shape)"
   ]
  },
  {
   "cell_type": "markdown",
   "id": "d6190299-730e-4e2d-82ef-a58c66ea0464",
   "metadata": {},
   "source": [
    "## Import Models for comparison"
   ]
  },
  {
   "cell_type": "code",
   "execution_count": 7,
   "id": "c243c0dd-d64e-4791-8bf7-3c067c175448",
   "metadata": {},
   "outputs": [],
   "source": [
    "#Importing the testing models\n",
    "from darts.models import (\n",
    "    NaiveSeasonal,\n",
    "    NaiveDrift,\n",
    "    Prophet,\n",
    "    ExponentialSmoothing,\n",
    "    ARIMA,\n",
    "    AutoARIMA,\n",
    "    VARIMA,\n",
    "    BATS,\n",
    "    TBATS,\n",
    "    StatsForecastAutoARIMA,\n",
    "    RegressionEnsembleModel,\n",
    "    RegressionModel,\n",
    "    Theta,\n",
    "    FourTheta,\n",
    "    FFT,\n",
    "    NBEATSModel,\n",
    "    TFTModel,\n",
    "    RNNModel,\n",
    "    TransformerModel,\n",
    ")"
   ]
  },
  {
   "cell_type": "code",
   "execution_count": 8,
   "id": "8d2291b2-7f2b-4ea4-ba97-bf049a2e22f7",
   "metadata": {},
   "outputs": [],
   "source": [
    "def eval_model(model, train, val, f=None ):\n",
    "    model.fit(train)\n",
    "    forecast = model.predict(len(val))\n",
    "    mseRes = mse(val, forecast)\n",
    "    rmseRes = rmse(val, forecast)\n",
    "    # mapeRes = mape(val, forecast)\n",
    "    maeRes = mae(val, forecast)\n",
    "    smapeRes = smape(val, forecast)\n",
    "    # maseRes = mase(val, forecast,train)\n",
    "    \n",
    "    # print('model {} obtains MSE: {:.6f}'.format(model,mseRes))\n",
    "    # print('model {} obtains RMSE: {:.6f}'.format(model,rmseRes))\n",
    "    # # print('model {} obtains MAPE: {:.6f}'.format(model,mapeRes ))\n",
    "    # print('model {} obtains MAE: {:.6f}'.format(model, maeRes))\n",
    "    # print('model {} obtains SMAPE: {:.6f}'.format(model,smapeRes ))\n",
    "    # print('model {} obtains MASE: {:.6f}'.format(model,maseRes ))\n",
    "\n",
    "    return forecast, mseRes, rmseRes, maeRes, smapeRes"
   ]
  },
  {
   "cell_type": "markdown",
   "id": "e6179e24-9f90-4695-94f1-ae4cffca11a5",
   "metadata": {},
   "source": [
    "## Prepare Data"
   ]
  },
  {
   "cell_type": "code",
   "execution_count": 9,
   "id": "384bcecb-500f-4cd1-ab75-9cffd802dbca",
   "metadata": {},
   "outputs": [
    {
     "name": "stdout",
     "output_type": "stream",
     "text": [
      "(141, 816)\n"
     ]
    }
   ],
   "source": [
    "train_set_squeeze = train_set.series.squeeze(-1)\n",
    "# print(train_set_squeeze.shape)\n",
    "train_np = train_set_squeeze.numpy()\n",
    "# print((type(train_np)))\n",
    "train_series = np.nan_to_num(train_np[:800])\n",
    "\n",
    "val_set_squeeze = val_set.series.squeeze(-1)\n",
    "# print(train_set_squeeze.shape)\n",
    "val_np = val_set_squeeze.numpy()\n",
    "val_series = np.nan_to_num(val_np[:])\n",
    "\n",
    "test_set_squeeze = test_set.series.squeeze(-1)\n",
    "# print(train_set_squeeze.shape)\n",
    "test_np = test_set_squeeze[:,:param_dset_lookback].numpy()\n",
    "test_series = np.nan_to_num(test_np)\n",
    "\n",
    "print(test_series.shape)"
   ]
  },
  {
   "cell_type": "code",
   "execution_count": 10,
   "id": "7671c716-228d-4efe-8622-63eb32ea2c0e",
   "metadata": {},
   "outputs": [
    {
     "data": {
      "application/vnd.jupyter.widget-view+json": {
       "model_id": "a1cbe7e495004c2eadea38ab3d6665cf",
       "version_major": 2,
       "version_minor": 0
      },
      "text/plain": [
       "Series Conversion:   0%|          | 0/800 [00:00<?, ?it/s]"
      ]
     },
     "metadata": {},
     "output_type": "display_data"
    },
    {
     "data": {
      "application/vnd.jupyter.widget-view+json": {
       "model_id": "a0f852f00f5544a59fcd5d6ae32293ae",
       "version_major": 2,
       "version_minor": 0
      },
      "text/plain": [
       "Series Conversion:   0%|          | 0/141 [00:00<?, ?it/s]"
      ]
     },
     "metadata": {},
     "output_type": "display_data"
    },
    {
     "data": {
      "application/vnd.jupyter.widget-view+json": {
       "model_id": "ca11370f010746f28a5d64f5120a1787",
       "version_major": 2,
       "version_minor": 0
      },
      "text/plain": [
       "Series Conversion:   0%|          | 0/141 [00:00<?, ?it/s]"
      ]
     },
     "metadata": {},
     "output_type": "display_data"
    }
   ],
   "source": [
    "# Create time series separate from one another\n",
    "train_TimeSeries = []\n",
    "val_TimeSeries = []\n",
    "test_TimeSeries = []\n",
    "\n",
    "\n",
    "for i in tqdm(range(len(train_series)), total=len(train_series), desc=\"Series Conversion\", position=1, leave=True):\n",
    "    train_temp = TimeSeries.from_values(train_series[i])\n",
    "    train_TimeSeries.append(train_temp)\n",
    "\n",
    "for i in tqdm(range(len(val_series)), total=len(val_series), desc=\"Series Conversion\", position=1, leave=True):\n",
    "    val_temp = TimeSeries.from_values(val_series[i])\n",
    "    val_TimeSeries.append(val_temp)\n",
    "\n",
    "for i in tqdm(range(len(test_series)), total=len(test_series), desc=\"Series Conversion\", position=1, leave=True):\n",
    "    test_temp = TimeSeries.from_values(test_series[i])\n",
    "    test_TimeSeries.append(test_temp)"
   ]
  },
  {
   "cell_type": "code",
   "execution_count": 11,
   "id": "7fcaa3d4-0e9d-4306-9d39-6a9a0ccb3c1a",
   "metadata": {},
   "outputs": [
    {
     "name": "stderr",
     "output_type": "stream",
     "text": [
      "GPU available: True (cuda), used: True\n",
      "TPU available: False, using: 0 TPU cores\n",
      "IPU available: False, using: 0 IPUs\n",
      "HPU available: False, using: 0 HPUs\n",
      "You are using a CUDA device ('NVIDIA GeForce RTX 3050 6GB Laptop GPU') that has Tensor Cores. To properly utilize them, you should set `torch.set_float32_matmul_precision('medium' | 'high')` which will trade-off precision for performance. For more details, read https://pytorch.org/docs/stable/generated/torch.set_float32_matmul_precision.html#torch.set_float32_matmul_precision\n",
      "LOCAL_RANK: 0 - CUDA_VISIBLE_DEVICES: [0]\n",
      "\n",
      "  | Name                | Type                | Params\n",
      "------------------------------------------------------------\n",
      "0 | criterion           | MSELoss             | 0     \n",
      "1 | train_metrics       | MetricCollection    | 0     \n",
      "2 | val_metrics         | MetricCollection    | 0     \n",
      "3 | encoder             | Linear              | 32    \n",
      "4 | positional_encoding | _PositionalEncoding | 0     \n",
      "5 | transformer         | Transformer         | 23.9 K\n",
      "6 | decoder             | Linear              | 17    \n",
      "------------------------------------------------------------\n",
      "23.9 K    Trainable params\n",
      "0         Non-trainable params\n",
      "23.9 K    Total params\n",
      "0.096     Total estimated model params size (MB)\n"
     ]
    },
    {
     "data": {
      "application/vnd.jupyter.widget-view+json": {
       "model_id": "",
       "version_major": 2,
       "version_minor": 0
      },
      "text/plain": [
       "Sanity Checking: |                                                                               | 0/? [00:00<…"
      ]
     },
     "metadata": {},
     "output_type": "display_data"
    },
    {
     "data": {
      "application/vnd.jupyter.widget-view+json": {
       "model_id": "52c432a81e214bf9af6e00896a1ae2b6",
       "version_major": 2,
       "version_minor": 0
      },
      "text/plain": [
       "Training: |                                                                                      | 0/? [00:00<…"
      ]
     },
     "metadata": {},
     "output_type": "display_data"
    },
    {
     "data": {
      "application/vnd.jupyter.widget-view+json": {
       "model_id": "",
       "version_major": 2,
       "version_minor": 0
      },
      "text/plain": [
       "Validation: |                                                                                    | 0/? [00:00<…"
      ]
     },
     "metadata": {},
     "output_type": "display_data"
    },
    {
     "data": {
      "application/vnd.jupyter.widget-view+json": {
       "model_id": "",
       "version_major": 2,
       "version_minor": 0
      },
      "text/plain": [
       "Validation: |                                                                                    | 0/? [00:00<…"
      ]
     },
     "metadata": {},
     "output_type": "display_data"
    },
    {
     "data": {
      "application/vnd.jupyter.widget-view+json": {
       "model_id": "",
       "version_major": 2,
       "version_minor": 0
      },
      "text/plain": [
       "Validation: |                                                                                    | 0/? [00:00<…"
      ]
     },
     "metadata": {},
     "output_type": "display_data"
    },
    {
     "data": {
      "application/vnd.jupyter.widget-view+json": {
       "model_id": "",
       "version_major": 2,
       "version_minor": 0
      },
      "text/plain": [
       "Validation: |                                                                                    | 0/? [00:00<…"
      ]
     },
     "metadata": {},
     "output_type": "display_data"
    },
    {
     "data": {
      "application/vnd.jupyter.widget-view+json": {
       "model_id": "",
       "version_major": 2,
       "version_minor": 0
      },
      "text/plain": [
       "Validation: |                                                                                    | 0/? [00:00<…"
      ]
     },
     "metadata": {},
     "output_type": "display_data"
    },
    {
     "data": {
      "application/vnd.jupyter.widget-view+json": {
       "model_id": "",
       "version_major": 2,
       "version_minor": 0
      },
      "text/plain": [
       "Validation: |                                                                                    | 0/? [00:00<…"
      ]
     },
     "metadata": {},
     "output_type": "display_data"
    },
    {
     "data": {
      "application/vnd.jupyter.widget-view+json": {
       "model_id": "",
       "version_major": 2,
       "version_minor": 0
      },
      "text/plain": [
       "Validation: |                                                                                    | 0/? [00:00<…"
      ]
     },
     "metadata": {},
     "output_type": "display_data"
    },
    {
     "data": {
      "application/vnd.jupyter.widget-view+json": {
       "model_id": "",
       "version_major": 2,
       "version_minor": 0
      },
      "text/plain": [
       "Validation: |                                                                                    | 0/? [00:00<…"
      ]
     },
     "metadata": {},
     "output_type": "display_data"
    }
   ],
   "source": [
    "from pytorch_lightning.callbacks.early_stopping import EarlyStopping\n",
    "\n",
    "# stop training when validation loss does not decrease more than 0.05 (`min_delta`) over\n",
    "# a period of 2 epochs (`patience`)\n",
    "my_stopper = EarlyStopping(\n",
    "    monitor=\"val_loss\",\n",
    "    patience=2,\n",
    "    min_delta=0.0,\n",
    "    mode='min',\n",
    ")\n",
    "\n",
    "Transformer = TransformerModel(\n",
    "    input_chunk_length=50,\n",
    "    output_chunk_length=1,\n",
    "    batch_size=64,\n",
    "    n_epochs=20,\n",
    "    model_name=\"REE_base_transformer_{}_{}\".format(param_dset_lookback_weeks, param_dset_forecast),\n",
    "    nr_epochs_val_period=1,\n",
    "    d_model=16,\n",
    "    nhead=8,\n",
    "    # d_model=64,\n",
    "    # nhead=32,\n",
    "    num_encoder_layers=2,\n",
    "    num_decoder_layers=2,\n",
    "    dim_feedforward=128,\n",
    "    dropout=0.1,\n",
    "    activation=\"relu\",\n",
    "    random_state=42,\n",
    "    save_checkpoints=True,\n",
    "    force_reset=True,\n",
    "    # pl_trainer_kwargs = {\"accelerator\": \"gpu\", \n",
    "    #                    \"gpus\": -1, \n",
    "    #                    \"auto_select_gpus\": True},\n",
    "    pl_trainer_kwargs = {\"callbacks\": [my_stopper]}\n",
    "    )\n",
    "\n",
    "Transformer.fit(series=train_TimeSeries, val_series=val_TimeSeries, verbose=True)\n",
    "Transformer.save(\"Base_transformer_model.pt\")\n",
    "# best_val_model = TransformerModel.load(\"Base_transformer_model.pt\")"
   ]
  },
  {
   "cell_type": "code",
   "execution_count": 12,
   "id": "05bbfef9-b5d3-4e38-9f0b-b27058c5ba8d",
   "metadata": {},
   "outputs": [],
   "source": [
    "best_val_model = TransformerModel.load_from_checkpoint(\"REE_base_transformer_{}_{}\".format(param_dset_lookback_weeks, param_dset_forecast))"
   ]
  },
  {
   "cell_type": "code",
   "execution_count": 13,
   "id": "30f81bae-3cb8-47b2-a990-772e124988d0",
   "metadata": {},
   "outputs": [
    {
     "name": "stderr",
     "output_type": "stream",
     "text": [
      "GPU available: True (cuda), used: True\n",
      "TPU available: False, using: 0 TPU cores\n",
      "IPU available: False, using: 0 IPUs\n",
      "HPU available: False, using: 0 HPUs\n",
      "LOCAL_RANK: 0 - CUDA_VISIBLE_DEVICES: [0]\n"
     ]
    },
    {
     "data": {
      "application/vnd.jupyter.widget-view+json": {
       "model_id": "8bc6c6460dff4320abec225f4d5691d4",
       "version_major": 2,
       "version_minor": 0
      },
      "text/plain": [
       "Predicting: |                                                                                    | 0/? [00:00<…"
      ]
     },
     "metadata": {},
     "output_type": "display_data"
    },
    {
     "data": {
      "application/vnd.jupyter.widget-view+json": {
       "model_id": "59fa15edd33c4dd3b7d9bee2dd3dce53",
       "version_major": 2,
       "version_minor": 0
      },
      "text/plain": [
       "Series Conversion:   0%|          | 0/141 [00:00<?, ?it/s]"
      ]
     },
     "metadata": {},
     "output_type": "display_data"
    }
   ],
   "source": [
    "pred_series = best_val_model.predict(n=param_dset_forecast, series=test_TimeSeries)\n",
    "\n",
    "test_actual = test_set_squeeze.numpy()\n",
    "test_actual = np.nan_to_num(test_actual)\n",
    "test_actual_TimeSeries = []\n",
    "\n",
    "for i in tqdm(range(len(test_actual)), total=len(test_actual), desc=\"Series Conversion\", position=1, leave=True):\n",
    "    test_temp = TimeSeries.from_values(test_actual[i])\n",
    "    test_actual_TimeSeries.append(test_temp[param_dset_lookback:])"
   ]
  },
  {
   "cell_type": "code",
   "execution_count": 14,
   "id": "4820efde-624d-492f-a8eb-e5c5bae4ea48",
   "metadata": {},
   "outputs": [
    {
     "data": {
      "text/plain": [
       "<matplotlib.legend.Legend at 0x1c1916e0190>"
      ]
     },
     "execution_count": 14,
     "metadata": {},
     "output_type": "execute_result"
    },
    {
     "data": {
      "image/png": "[encoded data removed]",
      "text/plain": [
       "<Figure size 800x500 with 1 Axes>"
      ]
     },
     "metadata": {},
     "output_type": "display_data"
    }
   ],
   "source": [
    "plt.figure(figsize=(8, 5))\n",
    "test_actual_TimeSeries[1].plot(label=\"Actual\")\n",
    "pred_series[1].plot(label=\"Forecast\")\n",
    "plt.legend()"
   ]
  },
  {
   "cell_type": "code",
   "execution_count": 15,
   "id": "57d931e1-f2b2-4666-88f8-7335aa930d6d",
   "metadata": {},
   "outputs": [
    {
     "name": "stdout",
     "output_type": "stream",
     "text": [
      "0.009851524 0.087260135 0.07169158 18.018633864344434\n"
     ]
    }
   ],
   "source": [
    "print(np.mean(mse(test_actual_TimeSeries,pred_series)), \n",
    "      np.mean(rmse(test_actual_TimeSeries,pred_series)),\n",
    "        np.mean(mae(test_actual_TimeSeries,pred_series)),\n",
    "        np.mean(smape(test_actual_TimeSeries,pred_series)), )\n",
    "        # np.mean(mape(test_actual_TimeSeries,pred_series)))"
   ]
  },
  {
   "cell_type": "code",
   "execution_count": null,
   "id": "d6f99710-7325-4f44-b3ac-7a8daf9e49b0",
   "metadata": {},
   "outputs": [],
   "source": []
  }
 ],
 "metadata": {
  "kernelspec": {
   "display_name": "swt_env",
   "language": "python",
   "name": "swt_env"
  },
  "language_info": {
   "codemirror_mode": {
    "name": "ipython",
    "version": 3
   },
   "file_extension": ".py",
   "mimetype": "text/x-python",
   "name": "python",
   "nbconvert_exporter": "python",
   "pygments_lexer": "ipython3",
   "version": "3.10.13"
  }
 },
 "nbformat": 4,
 "nbformat_minor": 5
}
