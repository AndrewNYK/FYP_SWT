{
 "cells": [
  {
   "cell_type": "code",
   "execution_count": 1,
   "id": "b339f2de",
   "metadata": {},
   "outputs": [
    {
     "name": "stdout",
     "output_type": "stream",
     "text": [
      "[name: \"/device:CPU:0\"\n",
      "device_type: \"CPU\"\n",
      "memory_limit: 268435456\n",
      "locality {\n",
      "}\n",
      "incarnation: 6292603544076367484\n",
      "xla_global_id: -1\n",
      ", name: \"/device:GPU:0\"\n",
      "device_type: \"GPU\"\n",
      "memory_limit: 4268752896\n",
      "locality {\n",
      "  bus_id: 1\n",
      "  links {\n",
      "  }\n",
      "}\n",
      "incarnation: 760055219429945090\n",
      "physical_device_desc: \"device: 0, name: NVIDIA GeForce RTX 2060, pci bus id: 0000:01:00.0, compute capability: 7.5\"\n",
      "xla_global_id: 416903419\n",
      "]\n"
     ]
    },
    {
     "data": {
      "text/plain": [
       "[PhysicalDevice(name='/physical_device:GPU:0', device_type='GPU')]"
      ]
     },
     "execution_count": 1,
     "metadata": {},
     "output_type": "execute_result"
    }
   ],
   "source": [
    "from tensorflow.python.client import device_lib \n",
    "import tensorflow as tf\n",
    "print(device_lib.list_local_devices())\n",
    "tf.config.experimental.list_physical_devices('GPU')"
   ]
  },
  {
   "cell_type": "code",
   "execution_count": 2,
   "id": "f86f97af",
   "metadata": {},
   "outputs": [
    {
     "name": "stdout",
     "output_type": "stream",
     "text": [
      "Tests require pytest, pytest not installed\n"
     ]
    },
    {
     "data": {
      "text/plain": [
       "1"
      ]
     },
     "execution_count": 2,
     "metadata": {},
     "output_type": "execute_result"
    }
   ],
   "source": [
    "import h5py\n",
    "h5py.run_tests()"
   ]
  },
  {
   "cell_type": "code",
   "execution_count": 3,
   "id": "ecda64f5",
   "metadata": {},
   "outputs": [],
   "source": [
    "# Lyes @2022\n",
    "# The data could be found in http://keddiyan.com/files/PowerForecast.html\n",
    "# and T.-Y. Kim and S.-B. Cho, ‘‘Predicting residential energy consumption using CNN–LSTM neural networks,’’ Energy, vol. 182, pp. 72–81, Sep. 2019.\n",
    "# https://towardsdatascience.com/the-time-series-transformer-2a521a0efad3\n",
    "\n",
    "#https://github.com/LyesSaadSaoud/House_transformer/blob/main/Transformers_Houses1to5_5min.py\n",
    "import sys\n",
    "sys.path.append(\"mypath\")\n",
    "\n",
    "\n",
    "import numpy as np\n",
    "import pandas as pd\n",
    "import math\n",
    "import os, datetime\n",
    "import tensorflow as tf\n",
    "# from tensorflow.keras.models import *\n",
    "# from tensorflow.keras.layers import *\n",
    "from sklearn.preprocessing import MinMaxScaler,StandardScaler\n",
    "from sklearn.metrics import mean_squared_error,mean_absolute_error\n",
    "import matplotlib.pyplot as plt\n",
    "import time\n",
    "# from tensorflow.keras.callbacks import EarlyStopping, ModelCheckpoint\n",
    "import pywt\n",
    "\n",
    "from numpy.random import seed\n",
    "# plt.style.use('seaborn')\n",
    "plt.style.use('seaborn-v0_8')\n",
    "\n",
    "from tqdm.auto import tqdm"
   ]
  },
  {
   "cell_type": "code",
   "execution_count": 4,
   "id": "b70c46bc",
   "metadata": {},
   "outputs": [],
   "source": [
    "dtype = {\n",
    "    'Year': 'Int64',\n",
    "    'Month': 'Int64',\n",
    "    'Day': 'Int64',\n",
    "    'Hour': 'Int64',\n",
    "    'Minute': 'Int64',\n",
    "    'Global_active_power':'float32',\n",
    "    'Global_reactive_power':'float32',\n",
    "    'Voltage;Global_intensity':'float32',\n",
    "    'Sub_metering_1':'float32',\n",
    "    'Sub_metering_2':'float32',\n",
    "    'Sub_metering_3':'float32'\n",
    "}\n",
    "\n",
    "def save_result(y_test,predicted_values):\n",
    "    np.savetxt('./T_SWT_house4_min5_test.csv',y_test) # save path\n",
    "    np.savetxt('./T_SWT_house4_min5_predicted.csv',predicted_values) # save path\n",
    "\n",
    "df = pd.read_csv('./data ukdale/house1_5mins.csv', dtype=dtype)  # path to data\n",
    "\n",
    "def data_preparation(dataset, window, lev):\n",
    "    da = []\n",
    "    for i in range(len(dataset)-window):\n",
    "        coeffs = pywt.swt(dataset[i:window+i], wavelet='db2', level=lev)\n",
    "        da.append(coeffs);\n",
    "    return da\n",
    "\n",
    "def data_reconstruction(dataset,window):\n",
    "    da = []\n",
    "    for i in tqdm(range(len(dataset)), total= len(dataset), desc=\"iswt\"):\n",
    "#         recon = pywt.iswt(dataset[i,:,:,:].tolist(), 'db2')\n",
    "        recon = pywt.iswt(dataset[i], 'db2')\n",
    "#         print(np.array(recon).shape)\n",
    "        da.append(recon[window-1])\n",
    "#         da.append(recon[0][window-1])\n",
    "    return da\n",
    "\n",
    "\n",
    "# Called because iswt cannot accept tolist() dataset\n",
    "def data_organization(coeffs):\n",
    "    '''\n",
    "    Reshape data back to (n,3,2,window_length), where there are 3 tuples of 2 values consisting of \n",
    "    coeffs array_like Coefficients list of tuples:\n",
    "    [(cAn, cDn), ..., (cA2, cD2), (cA1, cD1)]\n",
    "    '''\n",
    "    reshape_list = []\n",
    "    for i in range(len(coeffs)):\n",
    "        reshape_list.append([])\n",
    "        for j in range(len(coeffs[0])):\n",
    "            reshape_list[i].append(tuple(coeffs[i][j]))\n",
    "            \n",
    "    return reshape_list\n",
    "\n",
    "def create_dataset(dataset, look_back):\n",
    "    dataX,dataY=[],[]\n",
    "\n",
    "    for i in range(len(dataset)-look_back):\n",
    "        a=dataset[i:(i+look_back),0:4]\n",
    "        dataX.append(a)\n",
    "        dataY.append(dataset[i+look_back,0:4])\n",
    "    return np.array(dataX),np.array(dataY)"
   ]
  },
  {
   "cell_type": "code",
   "execution_count": 5,
   "id": "40e46b9d",
   "metadata": {},
   "outputs": [],
   "source": [
    "import torch\n",
    "import torch.nn as nn\n",
    "import torch.nn.functional as F\n",
    "\n",
    "# class Time2Vector(Layer):\n",
    "#     ''' https://arxiv.org/abs/1907.05321'''\n",
    "#     def __init__(self, seq_len, **kwargs):\n",
    "#         super(Time2Vector, self).__init__()\n",
    "#         self.seq_len = seq_len\n",
    "\n",
    "#     def build(self, input_shape):\n",
    "#         self.weights_linear = self.add_weight(name='weight_linear',\n",
    "#                                               shape=(int(self.seq_len),),\n",
    "#                                               initializer='uniform',\n",
    "#                                               trainable=True)\n",
    "\n",
    "#         self.bias_linear = self.add_weight(name='bias_linear',\n",
    "#                                            shape=(int(self.seq_len),),\n",
    "#                                            initializer='uniform',\n",
    "#                                            trainable=True)\n",
    "\n",
    "#         self.weights_periodic = self.add_weight(name='weight_periodic',\n",
    "#                                                 shape=(int(self.seq_len),),\n",
    "#                                                 initializer='uniform',\n",
    "#                                                 trainable=True)\n",
    "\n",
    "#         self.bias_periodic = self.add_weight(name='bias_periodic',\n",
    "#                                              shape=(int(self.seq_len),),\n",
    "#                                              initializer='uniform',\n",
    "#                                              trainable=True)\n",
    "\n",
    "#     def call(self, x):\n",
    "\n",
    "#         x = tf.math.reduce_mean(x[:, :, :4], axis=-1)\n",
    "#         time_linear = self.weights_linear * x + self.bias_linear\n",
    "#         time_linear = tf.expand_dims(time_linear, axis=-1)\n",
    "\n",
    "#         time_periodic = tf.math.sin(tf.multiply(x, self.weights_periodic) + self.bias_periodic)\n",
    "#         time_periodic = tf.expand_dims(time_periodic, axis=-1)\n",
    "#         return tf.concat([time_linear, time_periodic], axis=-1)\n",
    "\n",
    "#     def get_config(self):\n",
    "#         config = super().get_config().copy()\n",
    "#         config.update({'seq_len': self.seq_len})\n",
    "#         return config\n",
    "    \n",
    "class Time2Vector(nn.Module):\n",
    "    def __init__(self, seq_len):\n",
    "        super(Time2Vector, self).__init__()\n",
    "        self.seq_len = seq_len\n",
    "\n",
    "        self.weights_linear = nn.Parameter(torch.rand(seq_len, requires_grad=True))\n",
    "        self.bias_linear = nn.Parameter(torch.rand(seq_len), requires_grad=True)\n",
    "        self.weights_periodic = nn.Parameter(torch.rand(seq_len), requires_grad=True)\n",
    "        self.bias_periodic = nn.Parameter(torch.rand(seq_len), requires_grad=True)\n",
    "        \n",
    "        # Initialize parameters with uniform distribution\n",
    "        nn.init.uniform_(self.weights_linear, a=0.0, b=1.0)\n",
    "        nn.init.uniform_(self.bias_linear, a=0.0, b=1.0)\n",
    "        nn.init.uniform_(self.weights_periodic, a=0.0, b=1.0)\n",
    "        nn.init.uniform_(self.bias_periodic, a=0.0, b=1.0)\n",
    "\n",
    "    def forward(self, x):\n",
    "        x = torch.mean(x[:, :, :], dim=-1)\n",
    "        time_linear = self.weights_linear * x + self.bias_linear\n",
    "        time_linear = time_linear.unsqueeze(-1)\n",
    "\n",
    "        time_periodic = torch.sin(x * self.weights_periodic + self.bias_periodic)\n",
    "        time_periodic = time_periodic.unsqueeze(-1)\n",
    "\n",
    "        return torch.cat([time_linear, time_periodic], dim=-1)\n",
    "\n",
    "    def extra_repr(self):\n",
    "        return f'seq_len={self.seq_len}'"
   ]
  },
  {
   "cell_type": "code",
   "execution_count": 6,
   "id": "a1519e81",
   "metadata": {},
   "outputs": [],
   "source": [
    "# class SingleAttention(Layer):\n",
    "#     def __init__(self, d_k, d_v):\n",
    "#         super(SingleAttention, self).__init__()\n",
    "#         self.d_k = d_k\n",
    "#         self.d_v = d_v\n",
    "\n",
    "#     def build(self, input_shape):\n",
    "#         self.query = Dense(self.d_k,\n",
    "#                            input_shape=input_shape,\n",
    "#                            kernel_initializer='glorot_uniform',\n",
    "#                            bias_initializer='glorot_uniform')\n",
    "\n",
    "#         self.key = Dense(self.d_k,\n",
    "#                          input_shape=input_shape,\n",
    "#                          kernel_initializer='glorot_uniform',\n",
    "#                          bias_initializer='glorot_uniform')\n",
    "\n",
    "#         self.value = Dense(self.d_v,\n",
    "#                            input_shape=input_shape,\n",
    "#                            kernel_initializer='glorot_uniform',\n",
    "#                            bias_initializer='glorot_uniform')\n",
    "\n",
    "#     def call(self, inputs):\n",
    "#         q = self.query(inputs[0])\n",
    "#         k = self.key(inputs[1])\n",
    "\n",
    "#         attn_weights = tf.matmul(q, k, transpose_b=True)\n",
    "#         attn_weights = tf.map_fn(lambda x: x / np.sqrt(self.d_k), attn_weights)\n",
    "#         attn_weights = tf.nn.softmax(attn_weights, axis=-1)\n",
    "\n",
    "#         v = self.value(inputs[2])\n",
    "#         attn_out = tf.matmul(attn_weights, v)\n",
    "#         return attn_out\n",
    "\n",
    "class SingleAttention(nn.Module):\n",
    "    def __init__(self, d_k, d_v):\n",
    "        super(SingleAttention, self).__init__()\n",
    "        self.d_k = d_k\n",
    "        self.d_v = d_v\n",
    "\n",
    "        self.query = nn.Linear(in_features=8, out_features=d_k)\n",
    "        nn.init.xavier_uniform_(self.query.weight)\n",
    "        nn.init.zeros_(self.query.bias)\n",
    "\n",
    "        self.key = nn.Linear(in_features=8, out_features=d_k)\n",
    "        nn.init.xavier_uniform_(self.key.weight)\n",
    "        nn.init.zeros_(self.key.bias)\n",
    "\n",
    "        self.value = nn.Linear(in_features=8, out_features=d_v)\n",
    "        nn.init.xavier_uniform_(self.value.weight)\n",
    "        nn.init.zeros_(self.value.bias)\n",
    "\n",
    "    def forward(self, inputs):\n",
    "\n",
    "        q = self.query(inputs[0])\n",
    "        k = self.key(inputs[1])\n",
    "\n",
    "        attn_weights = torch.matmul(q, k.transpose(-2, -1))\n",
    "        attn_weights = attn_weights / torch.sqrt(torch.tensor(self.d_k, dtype=torch.float32))\n",
    "        attn_weights = F.softmax(attn_weights, dim=-1)\n",
    "\n",
    "        v = self.value(inputs[2])\n",
    "        attn_out = torch.matmul(attn_weights, v)\n",
    "        return attn_out"
   ]
  },
  {
   "cell_type": "code",
   "execution_count": 7,
   "id": "cdf84fe7",
   "metadata": {},
   "outputs": [],
   "source": [
    "# class MultiAttention(Layer):\n",
    "#     def __init__(self, d_k, d_v, n_heads):\n",
    "#         super(MultiAttention, self).__init__()\n",
    "#         self.d_k = d_k\n",
    "#         self.d_v = d_v\n",
    "#         self.n_heads = n_heads\n",
    "#         self.attn_heads = list()\n",
    "\n",
    "#     def build(self, input_shape):\n",
    "#         for n in range(self.n_heads):\n",
    "#             self.attn_heads.append(SingleAttention(self.d_k, self.d_v))\n",
    "#         self.linear = Dense(input_shape[0][-1],\n",
    "#                             input_shape=input_shape,\n",
    "#                             kernel_initializer='glorot_uniform',\n",
    "#                             bias_initializer='glorot_uniform')\n",
    "\n",
    "#     def call(self, inputs):\n",
    "#         attn = [self.attn_heads[i](inputs) for i in range(self.n_heads)]\n",
    "#         concat_attn = tf.concat(attn, axis=-1)\n",
    "#         multi_linear = self.linear(concat_attn)\n",
    "#         return multi_linear\n",
    "    \n",
    "class MultiAttention(nn.Module):\n",
    "    def __init__(self, d_k, d_v, n_heads):\n",
    "        super(MultiAttention, self).__init__()\n",
    "        self.d_k = d_k\n",
    "        self.d_v = d_v\n",
    "        self.n_heads = n_heads\n",
    "        \n",
    "        self.attn_heads = nn.ModuleList([SingleAttention(d_k, d_v) for _ in range(n_heads)])\n",
    "        \n",
    "        self.linear = nn.Linear(d_k * n_heads, 8)\n",
    "        nn.init.xavier_uniform_(self.linear.weight)\n",
    "        nn.init.zeros_(self.linear.bias)\n",
    "\n",
    "    def forward(self, inputs):\n",
    "        attn = [self.attn_heads[i](inputs) for i in range(self.n_heads)]\n",
    "        concat_attn = torch.cat(attn, dim=-1)\n",
    "        multi_linear = self.linear(concat_attn)\n",
    "        return multi_linear"
   ]
  },
  {
   "cell_type": "code",
   "execution_count": 8,
   "id": "4c3c255f",
   "metadata": {},
   "outputs": [],
   "source": [
    "# class TransformerEncoder(Layer):\n",
    "#     def __init__(self, d_k, d_v, n_heads, ff_dim, dropout=0.1, **kwargs):\n",
    "#         super(TransformerEncoder, self).__init__()\n",
    "#         self.d_k = d_k\n",
    "#         self.d_v = d_v\n",
    "#         self.n_heads = n_heads\n",
    "#         self.ff_dim = ff_dim\n",
    "#         self.attn_heads = list()\n",
    "#         self.dropout_rate = dropout\n",
    "\n",
    "#     def build(self, input_shape):\n",
    "#         self.attn_multi = MultiAttention(self.d_k, self.d_v, self.n_heads)\n",
    "#         self.attn_dropout = Dropout(self.dropout_rate)\n",
    "#         self.attn_normalize = LayerNormalization(input_shape=input_shape, epsilon=1e-6)\n",
    "\n",
    "#         self.ff_conv1D_1 = Conv1D(filters=self.ff_dim, kernel_size=1, activation='relu')\n",
    "#         self.ff_conv1D_2 = Conv1D(filters=input_shape[0][-1], kernel_size=1)\n",
    "#         self.ff_dropout = Dropout(self.dropout_rate)\n",
    "#         self.ff_normalize = LayerNormalization(input_shape=input_shape, epsilon=1e-6)\n",
    "\n",
    "#     def call(self, inputs):  # inputs = (in_seq, in_seq, in_seq)\n",
    "#         attn_layer = self.attn_multi(inputs)\n",
    "#         attn_layer = self.attn_dropout(attn_layer)\n",
    "#         attn_layer = self.attn_normalize(inputs[0] + attn_layer)\n",
    "\n",
    "#         ff_layer = self.ff_conv1D_1(attn_layer)\n",
    "#         ff_layer = self.ff_conv1D_2(ff_layer)\n",
    "#         ff_layer = self.ff_dropout(ff_layer)\n",
    "#         ff_layer = self.ff_normalize(inputs[0] + ff_layer)\n",
    "#         return ff_layer\n",
    "\n",
    "#     def get_config(self):\n",
    "#         config = super().get_config().copy()\n",
    "#         config.update({'d_k': self.d_k,\n",
    "#                        'd_v': self.d_v,\n",
    "#                        'n_heads': self.n_heads,\n",
    "#                        'ff_dim': self.ff_dim,\n",
    "#                        'attn_heads': self.attn_heads,\n",
    "#                        'dropout_rate': self.dropout_rate})\n",
    "#         return config\n",
    "\n",
    "    \n",
    "class TransformerEncoder(nn.Module):\n",
    "    def __init__(self, d_k, d_v, n_heads, ff_dim, dropout=0.1):\n",
    "        super(TransformerEncoder, self).__init__()\n",
    "        self.d_k = d_k\n",
    "        self.d_v = d_v\n",
    "        self.n_heads = n_heads\n",
    "        self.ff_dim = ff_dim\n",
    "        self.dropout_rate = dropout\n",
    "\n",
    "        self.attn_multi = MultiAttention(d_k, d_v, n_heads)\n",
    "        self.attn_dropout = nn.Dropout(dropout)\n",
    "        self.attn_normalize = nn.LayerNorm(normalized_shape=8, eps=1e-6)\n",
    "\n",
    "#         self.ff_conv1D_1 = nn.Conv1d(in_channels=8, out_channels=self.ff_dim, kernel_size=1)\n",
    "        self.ff_conv1D_1 = nn.Conv1d(in_channels=1, out_channels=self.ff_dim, kernel_size=1)\n",
    "#         self.ff_conv1D_2 = nn.Conv1d(in_channels=self.ff_dim, out_channels=8, kernel_size=1)\n",
    "        self.ff_conv1D_2 = nn.Conv1d(in_channels=self.ff_dim, out_channels=1, kernel_size=1)\n",
    "        self.ff_dropout = nn.Dropout(dropout)\n",
    "        self.ff_normalize = nn.LayerNorm(normalized_shape=8, eps=1e-6)\n",
    "\n",
    "    def forward(self, inputs):\n",
    "#         print(len(inputs))\n",
    "#         print(inputs[0].shape)\n",
    "        attn_layer = self.attn_multi(inputs)\n",
    "        attn_layer = self.attn_dropout(attn_layer)\n",
    "        attn_layer = self.attn_normalize(inputs[0] + attn_layer)\n",
    "\n",
    "        # Correction for transpose\n",
    "#         ff_layer = self.ff_conv1D_1(attn_layer.transpose(1, 2))\n",
    "        ff_layer = self.ff_conv1D_1(attn_layer)\n",
    "        ff_layer = F.relu(ff_layer)\n",
    "#         ff_layer = self.ff_conv1D_2(ff_layer).transpose(1, 2)\n",
    "        ff_layer = self.ff_conv1D_2(ff_layer)\n",
    "        ff_layer = self.ff_dropout(ff_layer)\n",
    "        ff_layer = self.ff_normalize(inputs[0] + ff_layer)\n",
    "        return ff_layer"
   ]
  },
  {
   "cell_type": "code",
   "execution_count": 9,
   "id": "c79145b4",
   "metadata": {},
   "outputs": [],
   "source": [
    "# class TransformerDecoder(Layer):\n",
    "#     def __init__(self, d_k, d_v, n_heads, ff_dim, dropout=0.1, **kwargs):\n",
    "#         super(TransformerDecoder, self).__init__()\n",
    "#         self.d_k = d_k\n",
    "#         self.d_v = d_v\n",
    "#         self.n_heads = n_heads\n",
    "#         self.ff_dim = ff_dim\n",
    "#         self.attn_heads = list()\n",
    "#         self.dropout_rate = dropout\n",
    "\n",
    "#     def build(self, input_shape):\n",
    "#         self.attn_multi = MultiAttention(self.d_k, self.d_v, self.n_heads)\n",
    "#         self.attn_dropout = Dropout(self.dropout_rate)\n",
    "#         self.attn_normalize = LayerNormalization(input_shape=input_shape, epsilon=1e-6)\n",
    "\n",
    "#         self.ff_conv1D_1 = Conv1D(filters=input_shape[0][-1], kernel_size=1, activation='relu')\n",
    "#         self.ff_dropout = Dropout(self.dropout_rate)\n",
    "#         self.ff_normalize = LayerNormalization(input_shape=input_shape, epsilon=1e-6)\n",
    "\n",
    "#     def call(self, inputs):  # inputs = (in_seq, in_seq, in_seq)\n",
    "#         attn_layer = self.attn_multi(inputs)\n",
    "#         attn_layer = self.attn_dropout(attn_layer)\n",
    "#         attn_layer = self.attn_normalize(inputs[0] + attn_layer)\n",
    "\n",
    "#         ff_layer = self.ff_conv1D_1(attn_layer)\n",
    "#         ff_layer = self.ff_dropout(ff_layer)\n",
    "#         ff_layer = self.ff_normalize(inputs[0] + ff_layer)\n",
    "#         return ff_layer\n",
    "\n",
    "#     def get_config(self):  # Needed for saving and loading model with custom layer\n",
    "#         config = super().get_config().copy()\n",
    "#         config.update({'d_k': self.d_k,\n",
    "#                        'd_v': self.d_v,\n",
    "#                        'n_heads': self.n_heads,\n",
    "#                        'ff_dim': self.ff_dim,\n",
    "#                        'attn_heads': self.attn_heads,\n",
    "#                        'dropout_rate': self.dropout_rate})\n",
    "#         return config\n",
    "\n",
    "class TransformerDecoder(nn.Module):\n",
    "    def __init__(self, d_k, d_v, n_heads, ff_dim, dropout=0.1):\n",
    "        super(TransformerDecoder, self).__init__()\n",
    "        self.d_k = d_k\n",
    "        self.d_v = d_v\n",
    "        self.n_heads = n_heads\n",
    "        self.ff_dim = ff_dim\n",
    "        self.dropout_rate = dropout\n",
    "\n",
    "        self.attn_multi = MultiAttention(d_k, d_v, n_heads)\n",
    "        self.attn_dropout = nn.Dropout(dropout)\n",
    "        self.attn_normalize = nn.LayerNorm(normalized_shape=8, eps=1e-6)\n",
    "\n",
    "#         self.ff_conv1D_1 = nn.Conv1d(in_channels=8, out_channels=8, kernel_size=1)\n",
    "        self.ff_conv1D_1 = nn.Conv1d(in_channels=1, out_channels=1, kernel_size=1)\n",
    "        self.ff_dropout = nn.Dropout(dropout)\n",
    "        self.ff_normalize = nn.LayerNorm(normalized_shape=8, eps=1e-6)\n",
    "\n",
    "    def forward(self, inputs):\n",
    "        attn_layer = self.attn_multi(inputs)\n",
    "        attn_layer = self.attn_dropout(attn_layer)\n",
    "        attn_layer = self.attn_normalize(inputs[0] + attn_layer)\n",
    "        \n",
    "        # Transpose for pytorch implementation\n",
    "#         ff_layer = self.ff_conv1D_1(attn_layer.transpose(1, 2)).transpose(1, 2)\n",
    "        ff_layer = self.ff_conv1D_1(attn_layer)\n",
    "        ff_layer = F.relu(ff_layer)\n",
    "        ff_layer = self.ff_dropout(ff_layer)\n",
    "        ff_layer = self.ff_normalize(inputs[0] + ff_layer)\n",
    "        return ff_layer"
   ]
  },
  {
   "cell_type": "code",
   "execution_count": 10,
   "id": "a1c8c0fa",
   "metadata": {},
   "outputs": [],
   "source": [
    "# def create_model():\n",
    "#   time_embedding = Time2Vector(seq_len)\n",
    "#   layer1 = TransformerEncoder(d_k, d_v, n_heads, ff_dim)\n",
    "#   layer2 = TransformerEncoder(d_k, d_v, n_heads, ff_dim)\n",
    "#   layer3 = TransformerEncoder(d_k, d_v, n_heads, ff_dim)\n",
    "#   layer4 = TransformerDecoder(d_k, d_v, n_heads, ff_dim)\n",
    "#   layer5 = TransformerDecoder(d_k, d_v, n_heads, ff_dim)\n",
    "#   in_seq = Input(shape=(seq_len, inp_len))\n",
    "\n",
    "#   x = time_embedding(in_seq)\n",
    "#   x = Concatenate(axis=-1)([in_seq, x])\n",
    "#   x = layer1((x, x, x))\n",
    "#   x = layer2((x, x, x))\n",
    "#   x = layer3((x, x, x))\n",
    "#   x = layer4((x, x, x))\n",
    "#   x = layer5((x, x, x))\n",
    "#   x = GlobalAveragePooling1D(data_format='channels_first')(x)\n",
    "#   x = Dropout(0.1)(x)\n",
    "#   x = Dense(128, activation='relu')(x)\n",
    "#   x = Dropout(0.1)(x)\n",
    "#   out = Dense(out_len, activation='linear')(x)\n",
    "\n",
    "#   model = Model(inputs=in_seq, outputs=out)\n",
    "#   model.compile(loss='mse', optimizer='RMSProp', metrics=['mae', 'mape'])\n",
    "#   return model\n",
    "\n",
    "# Put inside nn.module for model.parameters\n",
    "# def create_model(seq_len, inp_len, out_len, d_k, d_v, n_heads, ff_dim):\n",
    "#     time_embedding = Time2Vector(seq_len)\n",
    "#     layer1 = TransformerEncoder(d_k, d_v, n_heads, ff_dim)\n",
    "#     layer2 = TransformerEncoder(d_k, d_v, n_heads, ff_dim)\n",
    "#     layer3 = TransformerEncoder(d_k, d_v, n_heads, ff_dim)\n",
    "#     layer4 = TransformerDecoder(d_k, d_v, n_heads, ff_dim)\n",
    "#     layer5 = TransformerDecoder(d_k, d_v, n_heads, ff_dim)\n",
    "\n",
    "#     # Create required shape tensor for time embedding\n",
    "#     in_seq = torch.rand(1,seq_len, inp_len)\n",
    "# #     print(in_seq.shape)\n",
    "\n",
    "#     x = time_embedding(in_seq)\n",
    "# #     print(x.shape)\n",
    "#     x = torch.cat([in_seq, x], dim=-1)\n",
    "# #     print(x.shape)\n",
    "    \n",
    "#     x = layer1((x, x, x))\n",
    "#     x = layer2((x, x, x))\n",
    "#     x = layer3((x, x, x))\n",
    "#     x = layer4((x, x, x))\n",
    "#     x = layer5((x, x, x))\n",
    "\n",
    "#     # Global Average Pooling along the sequence dimension\n",
    "#     x = F.adaptive_avg_pool1d(x, 1).squeeze(2)\n",
    "    \n",
    "#     x = F.dropout(x, p=0.1)\n",
    "#     x = F.relu(nn.Linear(x.size(1), 128)(x))\n",
    "#     x = F.dropout(x, p=0.1)\n",
    "#     out = nn.Linear(128, out_len)(x)\n",
    "\n",
    "#     return out\n",
    "\n",
    "class SWT_Transformer(nn.Module):\n",
    "    def __init__(self, seq_len, inp_len, out_len, d_k, d_v, n_heads, ff_dim):\n",
    "        super(SWT_Transformer, self).__init__()\n",
    "        device = torch.device(\"cuda\" if torch.cuda.is_available() else \"cpu\")\n",
    "\n",
    "        self.time_embedding = Time2Vector(seq_len)\n",
    "        \n",
    "        self.layer1 = TransformerEncoder(d_k, d_v, n_heads, ff_dim)\n",
    "        self.layer2 = TransformerEncoder(d_k, d_v, n_heads, ff_dim)\n",
    "        self.layer3 = TransformerEncoder(d_k, d_v, n_heads, ff_dim)\n",
    "        self.layer4 = TransformerDecoder(d_k, d_v, n_heads, ff_dim)\n",
    "        self.layer5 = TransformerDecoder(d_k, d_v, n_heads, ff_dim)\n",
    "\n",
    "        self.pooling = nn.AdaptiveAvgPool1d(1)\n",
    "        self.fc1 = nn.Linear(seq_len, 128)\n",
    "        self.fc2 = nn.Linear(128, out_len)\n",
    "\n",
    "    def forward(self, x):\n",
    "        in_seq = x\n",
    "        \n",
    "        time_embedding = self.time_embedding(in_seq)\n",
    "        x = torch.cat([in_seq, time_embedding], dim=-1)\n",
    "        \n",
    "        x = self.layer1((x, x, x))\n",
    "        x = self.layer2((x, x, x))\n",
    "        x = self.layer3((x, x, x))\n",
    "        x = self.layer4((x, x, x))\n",
    "        x = self.layer5((x, x, x))\n",
    "\n",
    "        x = self.pooling(x).squeeze(2)\n",
    "        x = F.dropout(x, p=0.1)\n",
    "        x = F.relu(self.fc1(x))\n",
    "        x = F.dropout(x, p=0.1)\n",
    "        out = self.fc2(x)\n",
    "\n",
    "        return out"
   ]
  },
  {
   "cell_type": "code",
   "execution_count": 11,
   "id": "6a55a5b1",
   "metadata": {},
   "outputs": [],
   "source": [
    "batch_size = 32\n",
    "seq_len = 1\n",
    "d_k = 256\n",
    "d_v = 256\n",
    "n_heads = 12\n",
    "ff_dim = 256\n",
    "lev=3\n",
    "inp_len=2*lev\n",
    "out_len=2*lev\n",
    "window = 200\n",
    "look_back = 12"
   ]
  },
  {
   "cell_type": "code",
   "execution_count": 12,
   "id": "2009f68a",
   "metadata": {},
   "outputs": [
    {
     "name": "stdout",
     "output_type": "stream",
     "text": [
      "Maximum decomposition level: 5\n",
      "(36000,)\n",
      "<class 'numpy.ndarray'>\n",
      "(35800, 3, 2, 200)\n",
      "(35800, 1200)\n",
      "(35800, 1200)\n",
      "(35800, 6, 200)\n"
     ]
    }
   ],
   "source": [
    "# print(df.head())\n",
    "# print(df.dtypes)\n",
    "dataset = df['Volt-Ampere'].values\n",
    "dataset=dataset.astype('float32')\n",
    "\n",
    "# print(\"Dataset Shape:\", dataset.shape)\n",
    "# print(\"Dataset Length:\", len(dataset))\n",
    "\n",
    "s = dataset[:12000*3]\n",
    "# s = np.squeeze(dataset[:12000*3], axis=1)  #\n",
    "\n",
    "# Get the maximum decomposition level\n",
    "max_level = pywt.swt_max_level(len(s))\n",
    "print(\"Maximum decomposition level:\", max_level)\n",
    "\n",
    "print(s.shape)\n",
    "\n",
    "scaler = StandardScaler(copy=True, with_mean=True, with_std=True)\n",
    "print(type(s))\n",
    "da=data_preparation(s, window, lev)\n",
    "# print(da[0][0])\n",
    "\n",
    "Vv = np.array(da)\n",
    "print(Vv.shape)\n",
    "# print(Vv[0][0])\n",
    "\n",
    "vv = Vv.reshape(Vv.shape[0],2*lev*Vv.shape[3])\n",
    "print(vv.shape)\n",
    "\n",
    "\n",
    "dataset = scaler.fit_transform(vv)\n",
    "print(dataset.shape)\n",
    "\n",
    "dat = dataset.reshape(Vv.shape[0],2*lev,Vv.shape[3])\n",
    "print(dat.shape)"
   ]
  },
  {
   "cell_type": "code",
   "execution_count": 13,
   "id": "e906be69",
   "metadata": {},
   "outputs": [
    {
     "name": "stdout",
     "output_type": "stream",
     "text": [
      "(35800, 6, 200)\n",
      "(23867, 6, 1)\n",
      "(11933, 6, 1)\n",
      "(35800, 6, 1)\n",
      "(23867, 6)\n",
      "(35800, 1, 6)\n",
      "(23867, 1, 6)\n",
      "(11933, 1, 6)\n"
     ]
    }
   ],
   "source": [
    "print(dat.shape)\n",
    "alpha=0.6667\n",
    "\n",
    "# alpha = 0.6\n",
    "# beta = 0.8\n",
    "\n",
    "trainX,trainY=dat[:int(dat.shape[0]*alpha),:,window-seq_len-1:window-1],dat[:int(dat.shape[0]*alpha),:,window-1]\n",
    "testX,testY=dat[int(dat.shape[0]*alpha):,:,window-seq_len-1:window-1],dat[int(dat.shape[0]*alpha):,:,window-1]\n",
    "testX_a, testY_a = dat[:,:,window-seq_len-1:window-1],dat[:,:,window-1]\n",
    "\n",
    "print(trainX.shape)\n",
    "print(testX.shape)\n",
    "print(testX_a.shape)\n",
    "print(trainY.shape)\n",
    "\n",
    "testX_a=np.transpose(testX_a, (0, 2, 1))\n",
    "trainX=np.transpose(trainX, (0, 2, 1))\n",
    "testX =np.transpose(testX, (0, 2, 1))\n",
    "\n",
    "print(testX_a.shape)\n",
    "print(trainX.shape)\n",
    "print(testX.shape)\n",
    "\n"
   ]
  },
  {
   "cell_type": "code",
   "execution_count": 14,
   "id": "2c29e1e1",
   "metadata": {},
   "outputs": [
    {
     "name": "stdout",
     "output_type": "stream",
     "text": [
      "Actual number of model parameters: 541145\n",
      "Trainable model parameters: 541145\n"
     ]
    },
    {
     "data": {
      "application/vnd.jupyter.widget-view+json": {
       "model_id": "cac430df1cb7441698165a79a6e82c12",
       "version_major": 2,
       "version_minor": 0
      },
      "text/plain": [
       "epochs:   0%|          | 0/5 [00:00<?, ?it/s]"
      ]
     },
     "metadata": {},
     "output_type": "display_data"
    },
    {
     "data": {
      "application/vnd.jupyter.widget-view+json": {
       "model_id": "8eb72347034549ce87deaea342926d4e",
       "version_major": 2,
       "version_minor": 0
      },
      "text/plain": [
       "train batches:   0%|          | 0/746 [00:00<?, ?it/s]"
      ]
     },
     "metadata": {},
     "output_type": "display_data"
    },
    {
     "data": {
      "application/vnd.jupyter.widget-view+json": {
       "model_id": "1bc27cc8e93f45e6a4045a46866f4f8a",
       "version_major": 2,
       "version_minor": 0
      },
      "text/plain": [
       "val batches:   0%|          | 0/373 [00:00<?, ?it/s]"
      ]
     },
     "metadata": {},
     "output_type": "display_data"
    },
    {
     "name": "stdout",
     "output_type": "stream",
     "text": [
      "Epoch 1/5, Training Loss: 0.672965, Validation Loss: 0.532806\n"
     ]
    },
    {
     "data": {
      "application/vnd.jupyter.widget-view+json": {
       "model_id": "8c58e4812ce94ffd98c7c0e23aeec0b3",
       "version_major": 2,
       "version_minor": 0
      },
      "text/plain": [
       "train batches:   0%|          | 0/746 [00:00<?, ?it/s]"
      ]
     },
     "metadata": {},
     "output_type": "display_data"
    },
    {
     "data": {
      "application/vnd.jupyter.widget-view+json": {
       "model_id": "a683856226c84dd083caaac99af253ff",
       "version_major": 2,
       "version_minor": 0
      },
      "text/plain": [
       "val batches:   0%|          | 0/373 [00:00<?, ?it/s]"
      ]
     },
     "metadata": {},
     "output_type": "display_data"
    },
    {
     "name": "stdout",
     "output_type": "stream",
     "text": [
      "Epoch 2/5, Training Loss: 0.561111, Validation Loss: 0.498416\n"
     ]
    },
    {
     "data": {
      "application/vnd.jupyter.widget-view+json": {
       "model_id": "0acf65e7fdb7412b9ddae82fe4eb9541",
       "version_major": 2,
       "version_minor": 0
      },
      "text/plain": [
       "train batches:   0%|          | 0/746 [00:00<?, ?it/s]"
      ]
     },
     "metadata": {},
     "output_type": "display_data"
    },
    {
     "data": {
      "application/vnd.jupyter.widget-view+json": {
       "model_id": "5dc1956b4b104c18af3ad112d11d6bf1",
       "version_major": 2,
       "version_minor": 0
      },
      "text/plain": [
       "val batches:   0%|          | 0/373 [00:00<?, ?it/s]"
      ]
     },
     "metadata": {},
     "output_type": "display_data"
    },
    {
     "name": "stdout",
     "output_type": "stream",
     "text": [
      "Epoch 3/5, Training Loss: 0.519867, Validation Loss: 0.420543\n"
     ]
    },
    {
     "data": {
      "application/vnd.jupyter.widget-view+json": {
       "model_id": "862175fb14b54536b0a9028e62c4348a",
       "version_major": 2,
       "version_minor": 0
      },
      "text/plain": [
       "train batches:   0%|          | 0/746 [00:00<?, ?it/s]"
      ]
     },
     "metadata": {},
     "output_type": "display_data"
    },
    {
     "data": {
      "application/vnd.jupyter.widget-view+json": {
       "model_id": "2e75735ad4b04195ab3f51a3064636b2",
       "version_major": 2,
       "version_minor": 0
      },
      "text/plain": [
       "val batches:   0%|          | 0/373 [00:00<?, ?it/s]"
      ]
     },
     "metadata": {},
     "output_type": "display_data"
    },
    {
     "name": "stdout",
     "output_type": "stream",
     "text": [
      "Epoch 4/5, Training Loss: 0.451307, Validation Loss: 0.392757\n"
     ]
    },
    {
     "data": {
      "application/vnd.jupyter.widget-view+json": {
       "model_id": "543ca45d29e8459abac7d98341acbdd0",
       "version_major": 2,
       "version_minor": 0
      },
      "text/plain": [
       "train batches:   0%|          | 0/746 [00:00<?, ?it/s]"
      ]
     },
     "metadata": {},
     "output_type": "display_data"
    },
    {
     "data": {
      "application/vnd.jupyter.widget-view+json": {
       "model_id": "8a7f74f0ccfe49e2b4125f47fb5e506a",
       "version_major": 2,
       "version_minor": 0
      },
      "text/plain": [
       "val batches:   0%|          | 0/373 [00:00<?, ?it/s]"
      ]
     },
     "metadata": {},
     "output_type": "display_data"
    },
    {
     "name": "stdout",
     "output_type": "stream",
     "text": [
      "Epoch 5/5, Training Loss: 0.422164, Validation Loss: 0.362909\n"
     ]
    }
   ],
   "source": [
    "# model = create_model()\n",
    "# model.summary()\n",
    "\n",
    "# # Training data\n",
    "# X_train, y_train = trainX,trainY\n",
    "# ###############################################################################\n",
    "# # Validation data\n",
    "# X_val, y_val = testX,testY\n",
    "# ###############################################################################\n",
    "# # Test data\n",
    "# X_test, y_test = testX_a,testY_a\n",
    "# callback = tf.keras.callbacks.ModelCheckpoint('Transformer_5min.hdf5',\n",
    "#                                                       monitor='val_loss',\n",
    "#                                                       save_best_only=True,\n",
    "#                                                       verbose=1)\n",
    "# with tf.device(\"/gpu:0\"):\n",
    "#     history = model.fit(X_train, y_train,\n",
    "#                             batch_size=batch_size,\n",
    "# #                             epochs=50,\n",
    "#                             epochs=1,\n",
    "#                             validation_data=(X_val, y_val),\n",
    "#                             callbacks=[callback])\n",
    "\n",
    "# model = tf.keras.models.load_model('Transformer_5min.hdf5',\n",
    "#                                            custom_objects={'Time2Vector': Time2Vector,\n",
    "#                                                            'SingleAttention': SingleAttention,\n",
    "#                                                            'MultiAttention': MultiAttention,\n",
    "#                                                            'TransformerEncoder': TransformerEncoder,\n",
    "#                                                            'TransformerDecoder': TransformerDecoder}\n",
    "#                                            )\n",
    "\n",
    "import torch\n",
    "import torch.nn as nn\n",
    "import torch.optim as optim\n",
    "from torch.utils.data import TensorDataset, DataLoader\n",
    "from sklearn.model_selection import train_test_split\n",
    "import numpy as np\n",
    "\n",
    "torch.manual_seed(42)\n",
    "\n",
    "# Create PyTorch model\n",
    "model = SWT_Transformer(seq_len, inp_len, out_len, d_k, d_v, n_heads, ff_dim)\n",
    "\n",
    "# Print model summary\n",
    "# print(model)\n",
    "def num_parameters(m):\n",
    "  return sum([p.numel() for p in m.parameters()])\n",
    "\n",
    "parameters = num_parameters(model)\n",
    "\n",
    "# print(f\"Expected number of parameters: {m * dk * dk + m * 1 * 1 * n}\")\n",
    "print(f\"Actual number of model parameters: {parameters}\")\n",
    "\n",
    "trainable_params = sum(\n",
    "    p.numel() for p in model.parameters() if p.requires_grad\n",
    ")\n",
    "print(f\"Trainable model parameters: {trainable_params}\" )\n",
    "\n",
    "# total_params = 0\n",
    "# for name, parameter in model.named_parameters():\n",
    "#     if not parameter.requires_grad:\n",
    "#         continue\n",
    "#     params = parameter.numel()\n",
    "#     print(f\"{name}, {params}\")\n",
    "#     total_params+=params\n",
    "# print(f\"Total Trainable Params: {total_params}\")\n",
    "    \n",
    "\n",
    "# Convert data to PyTorch tensors\n",
    "X_train, y_train = torch.tensor(trainX), torch.tensor(trainY)\n",
    "X_val, y_val = torch.tensor(testX), torch.tensor(testY)\n",
    "X_test, y_test = torch.tensor(testX_a), torch.tensor(testY_a)\n",
    "\n",
    "# Create DataLoader for training and validation data\n",
    "train_dataset = TensorDataset(X_train, y_train)\n",
    "# train_loader = DataLoader(train_dataset, batch_size=batch_size, shuffle=True)\n",
    "train_loader = DataLoader(train_dataset, batch_size=batch_size)\n",
    "\n",
    "val_dataset = TensorDataset(X_val, y_val)\n",
    "val_loader = DataLoader(val_dataset, batch_size=batch_size)\n",
    "\n",
    "test_dataset = TensorDataset(X_test, y_test)\n",
    "test_loader = DataLoader(test_dataset, batch_size=batch_size)\n",
    "\n",
    "# Optimizer and loss function\n",
    "optimizer = optim.RMSprop(model.parameters(), lr=0.001, eps=1e-07)\n",
    "# optimizer = optim.Adam(model.parameters())\n",
    "# optimizer = optim.SGD(model.parameters(), lr=0.001, momentum=0.9)\n",
    "criterion = nn.MSELoss()\n",
    "\n",
    "Grad_scaler = torch.cuda.amp.GradScaler()\n",
    "\n",
    "# Training loop\n",
    "num_epochs = 5  # Replace with your desired number of epochs\n",
    "device = torch.device(\"cuda\" if torch.cuda.is_available() else \"cpu\")\n",
    "model.to(device)\n",
    "\n",
    "for epoch in tqdm(range(num_epochs), total= num_epochs, desc=\"epochs\", position=0, leave=True):\n",
    "    model.train()\n",
    "    train_loss = 0.0\n",
    "    for inputs, targets in tqdm(train_loader, total=len(train_loader), desc=\"train batches\", position=1, leave=True):\n",
    "        inputs, targets = inputs.to(device), targets.to(device)\n",
    "        optimizer.zero_grad()\n",
    "        \n",
    "#         with torch.cuda.amp.autocast(dtype=torch.float16):\n",
    "#             outputs = model(inputs)\n",
    "#     #         print(\"targets: \", targets.shape)\n",
    "#     #         print(\"outputs: \", outputs.shape)\n",
    "#             loss = criterion(outputs, targets)\n",
    "        \n",
    "#         optimizer.zero_grad()\n",
    "#         Grad_scaler.scale(loss).backward()\n",
    "#         Grad_scaler.step(optimizer)\n",
    "#         Grad_scaler.update()\n",
    "        \n",
    "        outputs = model(inputs)\n",
    "        loss = criterion(outputs, targets)\n",
    "        loss.backward()\n",
    "        optimizer.step()\n",
    "        \n",
    "#         for p in model.parameters():\n",
    "#             print(p.grad.norm())\n",
    "        \n",
    "        train_loss += loss.item()\n",
    "        \n",
    "    train_loss /= len(train_loader)\n",
    "\n",
    "    model.eval()\n",
    "    val_loss = 0.0\n",
    "    with torch.no_grad():\n",
    "        for inputs, targets in tqdm(val_loader, total=len(val_loader), desc=\"val batches\", position=2, leave=True):\n",
    "            inputs, targets = inputs.to(device), targets.to(device)\n",
    "            outputs = model(inputs)\n",
    "            val_loss += criterion(outputs, targets).item()\n",
    "\n",
    "    val_loss /= len(val_loader)\n",
    "    print(f'Epoch {epoch + 1}/{num_epochs}, Training Loss: {train_loss:.6f}, Validation Loss: {val_loss:.6f}')\n",
    "\n",
    "# Save the PyTorch model\n",
    "torch.save(model.state_dict(), 'transformer_5min.pth')\n"
   ]
  },
  {
   "cell_type": "code",
   "execution_count": 15,
   "id": "118d5031",
   "metadata": {},
   "outputs": [
    {
     "name": "stdout",
     "output_type": "stream",
     "text": [
      "(11933, 1, 6)\n"
     ]
    },
    {
     "data": {
      "application/vnd.jupyter.widget-view+json": {
       "model_id": "b7dcc98d258d4bcaaf557d93b8fb47c4",
       "version_major": 2,
       "version_minor": 0
      },
      "text/plain": [
       "test batch:   0%|          | 0/1119 [00:00<?, ?it/s]"
      ]
     },
     "metadata": {},
     "output_type": "display_data"
    },
    {
     "name": "stdout",
     "output_type": "stream",
     "text": [
      "Test Loss: 0.3851\n",
      "(35800, 6)\n",
      "(35800, 6, 200)\n",
      "(35800, 1200)\n",
      "(35800, 3, 2, 200)\n"
     ]
    },
    {
     "data": {
      "application/vnd.jupyter.widget-view+json": {
       "model_id": "ea5f7f26daea42d79dedcb0a8ec06ceb",
       "version_major": 2,
       "version_minor": 0
      },
      "text/plain": [
       "iswt:   0%|          | 0/35800 [00:00<?, ?it/s]"
      ]
     },
     "metadata": {},
     "output_type": "display_data"
    },
    {
     "name": "stdout",
     "output_type": "stream",
     "text": [
      "(35800,)\n",
      "(35800, 1)\n"
     ]
    }
   ],
   "source": [
    "# Load the PyTorch model\n",
    "loaded_model = SWT_Transformer(seq_len, inp_len, out_len, d_k, d_v, n_heads, ff_dim)\n",
    "loaded_model.load_state_dict(torch.load('transformer_5min.pth'))\n",
    "loaded_model.to(device)\n",
    "loaded_model.eval()\n",
    "\n",
    "# Use the whole signal (both train and validation data)\n",
    "# The metrics are computed only using the validation part.\n",
    "# This is needed for the signal processing\n",
    "print(testX.shape)\n",
    "\n",
    "# Testing the model on the test dataset\n",
    "test_outputs = []\n",
    "test_loss = 0.0\n",
    "with torch.no_grad():\n",
    "    for inputs, targets in tqdm(test_loader, total=len(test_loader), desc=\"test batch\"):\n",
    "        inputs, targets = inputs.to(device), targets.to(device)\n",
    "        outputs = loaded_model(inputs)\n",
    "        test_outputs.append(outputs.cpu().numpy())  # Collect the outputs\n",
    "        test_loss += criterion(outputs, targets).item()\n",
    "\n",
    "testPredict_a = np.concatenate(test_outputs, axis=0)  # Concatenate outputs into a single numpy array\n",
    "test_loss /= len(test_loader)\n",
    "print(f'Test Loss: {test_loss:.4f}')\n",
    "\n",
    "print(testPredict_a.shape)\n",
    "d=dat\n",
    "d[:,:,window-1]=testPredict_a\n",
    "print(d.shape)\n",
    "D = d.reshape(d.shape[0],d.shape[1]*d.shape[2])\n",
    "print(D.shape)\n",
    "\n",
    "R = scaler.inverse_transform(D)\n",
    "R = R.reshape(d.shape[0],lev,2,d.shape[2])\n",
    "print(R.shape)\n",
    "\n",
    "R = data_organization(R)\n",
    "\n",
    "re=data_reconstruction(R, window)\n",
    "Re = np.array(re)\n",
    "print(Re.shape)\n",
    "\n",
    "tY = s[window:].reshape(s[window:].shape[0],1)\n",
    "print(tY.shape)\n",
    "P1 = Re.reshape(Re.shape[0],1)\n",
    "\n",
    "testYa=tY[int(tY.shape[0]*alpha):,:] # take only the validation part\n",
    "testPredicta = P1[int(tY.shape[0]*alpha):, :] # take only the validation part\n",
    "\n",
    "# Calculate validation loss\n",
    "predicted_values, y_test=testPredicta[1:], testYa[:-1]\n",
    "test_rmse = math.sqrt( mean_squared_error(y_test, predicted_values))\n",
    "\n",
    "test_mae=mean_absolute_error(y_test, predicted_values)\n",
    "mape=100*np.mean(np.divide(abs(y_test- predicted_values),y_test))"
   ]
  },
  {
   "cell_type": "code",
   "execution_count": 16,
   "id": "08e44900",
   "metadata": {},
   "outputs": [
    {
     "data": {
      "image/png": "[encoded data removed]",
      "text/plain": [
       "<Figure size 800x550 with 1 Axes>"
      ]
     },
     "metadata": {},
     "output_type": "display_data"
    },
    {
     "name": "stdout",
     "output_type": "stream",
     "text": [
      "RMSE:  0.0024\n",
      "MAE:  0.0014\n",
      "MAPE:  5.7492\n"
     ]
    }
   ],
   "source": [
    "fig = plt.figure()\n",
    "plt.plot(y_test)\n",
    "plt.plot(predicted_values)\n",
    "plt.xlabel('Time/min')\n",
    "plt.ylabel('Electricity load (kWh)')\n",
    "plt.legend(['True', 'Predict'], loc='upper left')\n",
    "plt.show()\n",
    "print('RMSE:  %.4f' % test_rmse)\n",
    "print('MAE:  %.4f' % test_mae)\n",
    "print('MAPE:  %.4f' % mape)"
   ]
  },
  {
   "cell_type": "code",
   "execution_count": 17,
   "id": "5ff955bb",
   "metadata": {},
   "outputs": [
    {
     "name": "stdout",
     "output_type": "stream",
     "text": [
      "Maximum decomposition level: 3\n",
      "(800, 3, 2, 200)\n"
     ]
    },
    {
     "data": {
      "application/vnd.jupyter.widget-view+json": {
       "model_id": "961f1c71bd2c49b9bfae36e1af2a39ab",
       "version_major": 2,
       "version_minor": 0
      },
      "text/plain": [
       "iswt:   0%|          | 0/800 [00:00<?, ?it/s]"
      ]
     },
     "metadata": {},
     "output_type": "display_data"
    },
    {
     "name": "stdout",
     "output_type": "stream",
     "text": [
      "[199.00000000000006, 200.00000000000006, 201.00000000000006, 202.00000000000006, 203.00000000000006, 204.00000000000006, 205.00000000000006, 206.00000000000006, 207.00000000000006, 208.00000000000003, 209.0, 210.00000000000006, 211.00000000000006, 212.0, 213.00000000000006, 214.00000000000003, 215.00000000000006, 216.00000000000006, 217.00000000000006, 218.0, 219.0, 220.00000000000003, 221.00000000000006, 222.00000000000006, 223.0, 224.0, 225.0, 226.0, 227.00000000000006, 228.0, 229.00000000000006, 230.00000000000006, 231.00000000000006, 232.00000000000006, 233.00000000000006, 234.0, 235.00000000000006, 236.00000000000006, 237.00000000000003, 238.00000000000006, 239.00000000000006, 240.00000000000006, 241.00000000000006, 242.00000000000009, 243.00000000000006, 244.00000000000006, 245.00000000000006, 246.00000000000006, 247.00000000000006, 248.0, 249.00000000000006, 250.00000000000003, 251.00000000000006, 252.00000000000006, 253.00000000000006, 254.00000000000006, 255.00000000000003, 256.00000000000006, 257.0, 258.0000000000001, 259.00000000000006, 260.0000000000001, 261.0, 262.00000000000006, 263.0000000000001, 264.0000000000001, 265.0000000000001, 266.0000000000001, 267.00000000000006, 268.0, 269.0, 270.0000000000001, 271.0000000000001, 272.0000000000001, 273.0000000000001, 274.0000000000001, 275.00000000000006, 276.00000000000006, 277.0000000000001, 278.00000000000006, 279.0, 280.0, 281.00000000000006, 282.00000000000006, 283.00000000000006, 284.00000000000006, 285.0000000000001, 286.0, 287.0000000000001, 288.0000000000001, 289.0000000000001, 290.00000000000006, 291.00000000000006, 292.00000000000006, 293.0, 294.0000000000001, 295.0000000000001, 296.0000000000001, 297.0, 298.0000000000001, 299.0000000000001, 300.00000000000006, 301.0000000000001, 302.0000000000001, 303.0, 304.0000000000001, 305.00000000000006, 306.0000000000001, 307.0000000000001, 308.0000000000001, 309.0000000000001, 310.0000000000001, 311.0000000000001, 312.0000000000001, 313.0000000000001, 314.0000000000001, 315.0000000000001, 316.00000000000006, 317.0000000000001, 318.0000000000001, 319.0000000000001, 320.0000000000001, 321.00000000000006, 322.0000000000001, 323.00000000000006, 324.0000000000001, 325.0000000000001, 326.0000000000001, 327.0000000000001, 328.00000000000006, 329.0, 330.0000000000001, 331.0000000000001, 332.0000000000001, 333.0000000000001, 334.00000000000006, 335.00000000000006, 336.0000000000001, 337.0000000000001, 338.0000000000001, 339.00000000000006, 340.0000000000001, 341.0000000000001, 342.0, 343.0000000000001, 344.0000000000001, 345.0000000000001, 346.0000000000001, 347.00000000000017, 348.0000000000001, 349.0000000000001, 350.0000000000001, 351.0000000000001, 352.0000000000001, 353.0000000000001, 354.0000000000001, 355.0000000000001, 356.0000000000001, 357.00000000000017, 358.0000000000001, 359.0000000000001, 360.0000000000001, 361.0000000000001, 362.0000000000001, 363.0000000000001, 364.0000000000002, 365.00000000000017, 366.0000000000001, 367.0000000000001, 368.0000000000001, 369.0000000000001, 370.00000000000006, 371.00000000000006, 372.0000000000001, 373.0000000000002, 374.00000000000017, 375.0000000000001, 376.00000000000017, 377.0000000000001, 378.0000000000001, 379.0000000000001, 380.00000000000017, 381.00000000000017, 382.0000000000001, 383.0000000000001, 384.00000000000017, 385.0000000000001, 386.0000000000002, 387.0000000000001, 388.0000000000001, 389.0000000000001, 390.0000000000001, 391.00000000000017, 392.0000000000001, 393.0000000000001, 394.00000000000017, 395.0000000000002, 396.00000000000017, 397.00000000000017, 398.0000000000002, 399.0000000000002, 400.0, 401.0000000000001, 402.0000000000002, 403.0000000000001, 404.0000000000002, 405.0000000000002, 406.00000000000017, 407.00000000000006, 408.00000000000017, 409.0000000000001, 410.0000000000001, 411.0000000000001, 412.00000000000017, 413.00000000000017, 414.0000000000001, 415.0000000000001, 416.00000000000017, 417.0000000000002, 418.0000000000001, 419.0000000000001, 420.00000000000017, 421.0000000000001, 422.0000000000002, 423.0000000000001, 424.0000000000002, 425.0000000000001, 426.0000000000001, 427.0000000000001, 428.0000000000001, 429.0000000000002, 430.0000000000002, 431.0000000000001, 432.0000000000002, 433.0000000000002, 434.00000000000017, 435.0000000000001, 436.0000000000002, 437.00000000000017, 438.0000000000001, 439.0000000000001, 440.00000000000017, 441.0000000000002, 442.0000000000002, 443.0000000000001, 444.0000000000001, 445.00000000000017, 446.00000000000017, 447.0000000000002, 448.0000000000001, 449.00000000000006, 450.0000000000001, 451.0000000000002, 452.00000000000017, 453.0, 454.0000000000002, 455.00000000000017, 456.0000000000001, 457.0000000000001, 458.0000000000001, 459.00000000000017, 460.0000000000001, 461.0000000000001, 462.0000000000001, 463.0000000000001, 464.0000000000002, 465.00000000000017, 466.0000000000002, 467.0000000000001, 468.0, 469.0000000000002, 470.0000000000001, 471.0000000000002, 472.00000000000006, 473.0000000000002, 474.0000000000001, 475.0000000000002, 476.0000000000001, 477.0000000000001, 478.0000000000001, 479.0000000000001, 480.0000000000001, 481.00000000000017, 482.0000000000001, 483.0000000000002, 484.0000000000001, 485.0000000000002, 486.0000000000001, 487.00000000000017, 488.0000000000002, 489.0000000000001, 490.00000000000006, 491.0000000000001, 492.0000000000002, 493.0000000000001, 494.0000000000001, 495.0000000000002, 496.0000000000001, 497.0000000000001, 498.00000000000017, 499.0000000000001, 500.0000000000001, 501.00000000000017, 502.0000000000002, 503.00000000000017, 504.0000000000002, 505.0000000000002, 506.00000000000017, 507.0000000000001, 508.0000000000001, 509.0000000000002, 510.0000000000001, 511.0000000000002, 512.0000000000001, 513.0000000000002, 514.0000000000002, 515.0000000000002, 516.0000000000001, 517.0000000000002, 518.0000000000002, 519.0000000000003, 520.0000000000002, 521.0, 522.0000000000001, 523.0000000000002, 524.0000000000002, 525.0000000000001, 526.0, 527.0000000000002, 528.0000000000001, 529.0, 530.0000000000001, 531.0000000000002, 532.0000000000001, 533.0000000000001, 534.0000000000002, 535.0000000000002, 536.0000000000002, 537.0000000000002, 538.0000000000002, 539.0000000000001, 540.0000000000002, 541.0000000000001, 542.0000000000002, 543.0000000000001, 544.0000000000001, 545.0000000000002, 546.0000000000002, 547.0000000000001, 548.0000000000002, 549.0, 550.0000000000001, 551.0000000000002, 552.0000000000002, 553.0000000000002, 554.0000000000002, 555.0000000000002, 556.0000000000002, 557.0000000000002, 558.0000000000002, 559.0000000000002, 560.0000000000001, 561.0000000000002, 562.0000000000002, 563.0000000000002, 564.0000000000001, 565.0000000000002, 566.0000000000002, 567.0000000000002, 568.0000000000002, 569.0000000000002, 570.0000000000001, 571.0000000000001, 572.0000000000002, 573.0000000000002, 574.0000000000002, 575.0000000000001, 576.0000000000002, 577.0000000000002, 578.0000000000002, 579.0000000000002, 580.0000000000002, 581.0000000000002, 582.0000000000001, 583.0000000000001, 584.0000000000002, 585.0, 586.0000000000002, 587.0000000000002, 588.0000000000001, 589.0000000000002, 590.0000000000001, 591.0000000000002, 592.0000000000002, 593.0000000000002, 594.0000000000002, 595.0000000000002, 596.0000000000002, 597.0000000000002, 598.0000000000002, 599.0000000000002, 600.0000000000002, 601.0000000000002, 602.0000000000001, 603.0000000000002, 604.0000000000002, 605.0, 606.0000000000001, 607.0, 608.0000000000001, 609.0000000000002, 610.0000000000002, 611.0, 612.0000000000002, 613.0000000000002, 614.0, 615.0000000000002, 616.0000000000002, 617.0000000000001, 618.0000000000002, 619.0000000000002, 620.0, 621.0000000000002, 622.0000000000001, 623.0, 624.0000000000002, 625.0000000000002, 626.0000000000002, 627.0000000000002, 628.0000000000001, 629.0000000000001, 630.0000000000002, 631.0000000000001, 632.0000000000002, 633.0000000000001, 634.0000000000002, 635.0000000000001, 636.0000000000002, 637.0000000000002, 638.0000000000002, 639.0, 640.0000000000002, 641.0000000000002, 642.0, 643.0000000000002, 644.0000000000001, 645.0000000000002, 646.0000000000002, 647.0000000000002, 648.0000000000001, 649.0000000000001, 650.0, 651.0000000000002, 652.0000000000002, 653.0000000000001, 654.0000000000002, 655.0, 656.0000000000002, 657.0000000000002, 658.0000000000002, 659.0000000000002, 660.0000000000002, 661.0000000000002, 662.0000000000002, 663.0000000000001, 664.0000000000002, 665.0000000000003, 666.0000000000002, 667.0, 668.0000000000002, 669.0000000000001, 670.0000000000002, 671.0000000000003, 672.0000000000002, 673.0000000000002, 674.0000000000002, 675.0000000000002, 676.0000000000002, 677.0000000000002, 678.0000000000002, 679.0000000000005, 680.0000000000001, 681.0000000000002, 682.0000000000002, 683.0000000000001, 684.0000000000002, 685.0000000000003, 686.0, 687.0000000000002, 688.0000000000002, 689.0000000000001, 690.0000000000002, 691.0000000000002, 692.0000000000002, 693.0000000000002, 694.0000000000001, 695.0000000000002, 696.0000000000003, 697.0000000000002, 698.0000000000002, 699.0000000000002, 700.0000000000002, 701.0000000000003, 702.0000000000002, 703.0000000000002, 704.0000000000002, 705.0000000000001, 706.0, 707.0000000000002, 708.0000000000001, 709.0000000000001, 710.0000000000002, 711.0000000000002, 712.0000000000002, 713.0000000000002, 714.0000000000003, 715.0000000000002, 716.0000000000002, 717.0000000000002, 718.0000000000003, 719.0000000000002, 720.0000000000002, 721.0000000000002, 722.0000000000002, 723.0000000000002, 724.0000000000002, 725.0000000000001, 726.0000000000002, 727.0000000000002, 728.0000000000001, 729.0000000000003, 730.0000000000001, 731.0000000000002, 732.0000000000002, 733.0000000000002, 734.0000000000002, 735.0000000000002, 736.0000000000002, 737.0000000000002, 738.0000000000003, 739.0000000000002, 740.0000000000002, 741.0000000000003, 742.0, 743.0000000000002, 744.0, 745.0000000000001, 746.0000000000005, 747.0, 748.0000000000003, 749.0000000000001, 750.0, 751.0000000000005, 752.0000000000002, 753.0000000000002, 754.0000000000002, 755.0000000000003, 756.0000000000002, 757.0000000000002, 758.0000000000003, 759.0000000000002, 760.0000000000002, 761.0, 762.0000000000002, 763.0, 764.0000000000002, 765.0000000000003, 766.0000000000002, 767.0000000000002, 768.0000000000002, 769.0, 770.0000000000002, 771.0000000000002, 772.0000000000002, 773.0000000000002, 774.0000000000002, 775.0000000000003, 776.0000000000002, 777.0000000000002, 778.0000000000002, 779.0000000000002, 780.0000000000002, 781.0000000000001, 782.0000000000003, 783.0000000000002, 784.0000000000003, 785.0000000000002, 786.0000000000001, 787.0000000000002, 788.0, 789.0000000000002, 790.0000000000002, 791.0000000000002, 792.0000000000002, 793.0000000000002, 794.0000000000002, 795.0000000000002, 796.0000000000002, 797.0000000000002, 798.0000000000002, 799.0000000000002, 800.0000000000002, 801.0000000000002, 802.0000000000003, 803.0000000000002, 804.0000000000003, 805.0, 806.0000000000001, 807.0000000000003, 808.0, 809.0000000000003, 810.0000000000003, 811.0, 812.0000000000002, 813.0000000000003, 814.0000000000002, 815.0000000000002, 816.0000000000002, 817.0000000000002, 818.0000000000002, 819.0000000000002, 820.0000000000001, 821.0000000000002, 822.0000000000002, 823.0000000000002, 824.0000000000002, 825.0000000000002, 826.0000000000002, 827.0000000000002, 828.0000000000002, 829.0000000000005, 830.0000000000002, 831.0000000000002, 832.0000000000003, 833.0, 834.0000000000002, 835.0000000000002, 836.0000000000002, 837.0000000000002, 838.0000000000003, 839.0000000000005, 840.0000000000002, 841.0000000000002, 842.0000000000001, 843.0000000000005, 844.0000000000002, 845.0000000000002, 846.0000000000005, 847.0000000000001, 848.0000000000003, 849.0000000000003, 850.0000000000001, 851.0000000000002, 852.0000000000002, 853.0000000000002, 854.0000000000002, 855.0000000000005, 856.0000000000002, 857.0000000000005, 858.0000000000003, 859.0000000000002, 860.0000000000002, 861.0000000000002, 862.0000000000005, 863.0000000000002, 864.0000000000002, 865.0000000000005, 866.0000000000002, 867.0, 868.0000000000002, 869.0, 870.0000000000002, 871.0000000000002, 872.0000000000005, 873.0000000000005, 874.0000000000003, 875.0000000000003, 876.0000000000005, 877.0000000000005, 878.0000000000002, 879.0000000000003, 880.0000000000003, 881.0000000000002, 882.0000000000002, 883.0000000000002, 884.0000000000005, 885.0000000000002, 886.0000000000002, 887.0000000000003, 888.0000000000002, 889.0000000000003, 890.0000000000002, 891.0000000000002, 892.0000000000002, 893.0000000000005, 894.0000000000002, 895.0000000000002, 896.0000000000002, 897.0000000000003, 898.0000000000002, 899.0000000000002, 900.0000000000002, 901.0000000000002, 902.0000000000002, 903.0000000000002, 904.0000000000002, 905.0000000000001, 906.0000000000002, 907.0000000000005, 908.0000000000003, 909.0000000000002, 910.0, 911.0000000000002, 912.0000000000002, 913.0000000000003, 914.0000000000002, 915.0, 916.0000000000002, 917.0000000000001, 918.0000000000002, 919.0000000000005, 920.0000000000002, 921.0000000000003, 922.0000000000003, 923.0000000000002, 924.0000000000005, 925.0000000000005, 926.0000000000003, 927.0000000000002, 928.0000000000002, 929.0000000000002, 930.0000000000002, 931.0000000000005, 932.0000000000005, 933.0000000000002, 934.0000000000005, 935.0000000000002, 936.0000000000001, 937.0000000000002, 938.0000000000005, 939.0000000000001, 940.0000000000003, 941.0000000000002, 942.0000000000001, 943.0000000000005, 944.0000000000002, 945.0000000000005, 946.0000000000002, 947.0000000000002, 948.0000000000005, 949.0000000000002, 950.0000000000003, 951.0000000000005, 952.0000000000005, 953.0000000000001, 954.0000000000002, 955.0000000000002, 956.0000000000001, 957.0000000000005, 958.0000000000002, 959.0000000000003, 960.0000000000002, 961.0, 962.0000000000002, 963.0000000000003, 964.0000000000003, 965.0000000000003, 966.0000000000002, 967.0000000000003, 968.0000000000005, 969.0000000000002, 970.0000000000005, 971.0000000000002, 972.0000000000001, 973.0000000000001, 974.0000000000003, 975.0000000000002, 976.0000000000005, 977.0000000000005, 978.0000000000002, 979.0000000000002, 980.0000000000002, 981.0000000000002, 982.0000000000005, 983.0000000000002, 984.0000000000005, 985.0, 986.0000000000002, 987.0000000000005, 988.0000000000003, 989.0000000000002, 990.0000000000005, 991.0000000000002, 992.0000000000002, 993.0000000000002, 994.0000000000001, 995.0000000000005, 996.0000000000003, 997.0000000000002, 998.0000000000005]\n"
     ]
    },
    {
     "data": {
      "text/plain": [
       "(800,)"
      ]
     },
     "execution_count": 17,
     "metadata": {},
     "output_type": "execute_result"
    }
   ],
   "source": [
    "dataset = np.array([i for i in range(1000)])\n",
    "window = 200\n",
    "lev = 3\n",
    "\n",
    "# Get the maximum decomposition level\n",
    "max_level = pywt.swt_max_level(len(dataset))\n",
    "print(\"Maximum decomposition level:\", max_level)\n",
    "\n",
    "coeffs = data_preparation(dataset, window, lev)\n",
    "# print(np.array(coeffs).shape)\n",
    "# print(coeffs[0][0])\n",
    "coeffs = np.array(coeffs)\n",
    "# print(coeffs.shape)\n",
    "# print(coeffs[0][0])\n",
    "\n",
    "coeffs = data_organization(coeffs)\n",
    "\n",
    "print(np.array(coeffs).shape)\n",
    "res = data_reconstruction(coeffs,window)\n",
    "print(res)\n",
    "np.array(res).shape"
   ]
  },
  {
   "cell_type": "code",
   "execution_count": 18,
   "id": "0ce4d43c",
   "metadata": {},
   "outputs": [],
   "source": [
    "# Saved for full reconstruction\n",
    "def data_reconstruction(dataset,window):\n",
    "    da = []\n",
    "    for i in tqdm(range(len(dataset)), total= len(dataset), desc=\"iswt\"):\n",
    "#         recon = pywt.iswt(dataset[i,:,:,:].tolist(), 'db2')\n",
    "        recon = pywt.iswt(dataset[i], 'db2')\n",
    "#         da.append(recon[window-1])\n",
    "        da.append(recon)\n",
    "    return da"
   ]
  },
  {
   "cell_type": "code",
   "execution_count": null,
   "id": "f6dd21ca",
   "metadata": {},
   "outputs": [],
   "source": []
  }
 ],
 "metadata": {
  "kernelspec": {
   "display_name": "swt_env",
   "language": "python",
   "name": "swt_env"
  },
  "language_info": {
   "codemirror_mode": {
    "name": "ipython",
    "version": 3
   },
   "file_extension": ".py",
   "mimetype": "text/x-python",
   "name": "python",
   "nbconvert_exporter": "python",
   "pygments_lexer": "ipython3",
   "version": "3.10.14"
  }
 },
 "nbformat": 4,
 "nbformat_minor": 5
}
