{
 "cells": [
  {
   "cell_type": "code",
   "execution_count": 1,
   "id": "0c52fc97",
   "metadata": {},
   "outputs": [],
   "source": [
    "import numpy as np\n",
    "\n",
    "import sys\n",
    "import time\n",
    "sys.path.append(\"./Models\")\n",
    "import os\n",
    "os.system('')\n",
    "\n",
    "import subprocess\n",
    "import torch\n",
    "from torch.utils.data import Dataset\n",
    "\n",
    "import pickle\n",
    "import pgzip\n",
    "import copy\n",
    "\n",
    "import datetime\n",
    "\n",
    "import math\n",
    "from sklearn.preprocessing import MinMaxScaler,StandardScaler\n",
    "from sklearn.metrics import mean_squared_error,mean_absolute_error\n",
    "import matplotlib.pyplot as plt"
   ]
  },
  {
   "cell_type": "code",
   "execution_count": 2,
   "id": "7c2d59d0",
   "metadata": {},
   "outputs": [],
   "source": [
    "#Default settings for experiment\n",
    "arg_model = \"tsrnn\" #Options: 'trfbb', 'tsrnn', 'trfbf'\n",
    "arg_dset = \"aep\" #Datasets -- Spain: 'ree', AEP, DAYTON: 'dyt' London: 'lsm'\n",
    "\n",
    "attr_dset_smpl_rt = 24 if arg_dset == \"aep\" else (48 if arg_dset == \"lsm\" else 24) #Samples per day. Spain, AEP: 24, London: 48\n",
    "param_dset_lookback_weeks = 5\n",
    "param_dset_forecast = 48 if arg_dset == \"lsm\" else 24\n",
    "# param_dset_lookback_weeks = 9\n",
    "# param_dset_forecast = 168 if arg_dset == \"lsm\" else 84 # 3.5days = 168\n",
    "param_dset_train_stride = 48 #Choose a coprime value to the forecast so all reading frames are eventually considered\n",
    "param_dset_test_stride = 'same' #tsrnn paper uses 1 week\n",
    "param_dset_lookback = param_dset_lookback_weeks*7*attr_dset_smpl_rt - param_dset_forecast\n",
    "\n",
    "param_trf_weather = False\n"
   ]
  },
  {
   "cell_type": "code",
   "execution_count": 3,
   "id": "aab7d942",
   "metadata": {},
   "outputs": [],
   "source": [
    "import pywt\n",
    "from tqdm.auto import tqdm\n",
    "\n",
    "# Get the maximum decomposition level\n",
    "def print_maximal_decom_level(data):\n",
    "    max_level = pywt.swt_max_level(data)\n",
    "#     print(\"Maximum decomposition level:\", max_level)\n",
    "    \n",
    "    return max_level\n",
    "\n",
    "# SWT functions\n",
    "def data_preparation(dataset, window, lev):\n",
    "    '''\n",
    "    Converts time series to wave\n",
    "    '''\n",
    "    da = []\n",
    "    coeffs = []\n",
    "    \n",
    "#     for i in tqdm(range(len(dataset)), total=len(dataset), desc=\"swt\"):\n",
    "    for i in range(len(dataset)):\n",
    "        for j in range(len(dataset[0])-window):\n",
    "            coeffs_j = pywt.swt(dataset[i][j:window+j], wavelet='db2', level=lev)\n",
    "            coeffs.append(coeffs_j)\n",
    "            \n",
    "        da.append(coeffs);\n",
    "        coeffs = []\n",
    "    return da\n",
    "\n",
    "def data_reconstruction(dataset, window):\n",
    "    '''\n",
    "    Converts wave back to time series\n",
    "    Take window-1 (last) value since we predict this value based on window\n",
    "    '''\n",
    "    full_recon = []\n",
    "#     for i in tqdm(range(len(dataset)), total= len(dataset), desc=\"iswt\"):\n",
    "    for i in range(len(dataset)):\n",
    "        da = []\n",
    "        for j in range(len(dataset[0])):\n",
    "            recon = pywt.iswt(dataset[i][j], 'db2')\n",
    "            da.append(recon[window-1])\n",
    "        full_recon.append(da)\n",
    "\n",
    "    return full_recon\n",
    "\n",
    "\n",
    "# Called because iswt cannot accept tolist() dataset\n",
    "def data_organization(data):\n",
    "    '''\n",
    "    Reshape data back to (n,m,3,2,window_length), \n",
    "    n number of different household, m number of timelines\n",
    "    where there are 3 tuples of 2 values consisting of \n",
    "    coeffs array_like Coefficients list of tuples:\n",
    "    [(cAn, cDn), ..., (cA2, cD2), (cA1, cD1)]\n",
    "    '''\n",
    "    full_reshape_list = []\n",
    "    for i in range(len(data)):\n",
    "        reshape_list = []\n",
    "        for j in range(len(data[0])):\n",
    "            reshape_list.append([])\n",
    "            for k in range(len(data[0][0])):\n",
    "                reshape_list[j].append(tuple(data[i][j][k]))\n",
    "        \n",
    "        full_reshape_list.append(reshape_list)    \n",
    "    \n",
    "    return full_reshape_list"
   ]
  },
  {
   "cell_type": "code",
   "execution_count": 4,
   "id": "8ed9883e",
   "metadata": {},
   "outputs": [],
   "source": [
    "from dayton_def import DAYTON\n",
    "\n",
    "#Compute remaining settings\n",
    "param_dset_lookback = param_dset_lookback_weeks*7*attr_dset_smpl_rt - param_dset_forecast\n",
    "if param_dset_train_stride == 'same': param_dset_train_stride = param_dset_forecast\n",
    "if param_dset_test_stride == 'same': param_dset_test_stride = param_dset_forecast\n",
    "attr_dset_smpl_rt = {'ree':24,'aep':24,'lsm':48, 'dyt':24}[arg_dset]\n",
    "\n",
    "param_trf_inp_dim = {'ree':7,'lsm': 14}[arg_dset] if param_trf_weather else 1"
   ]
  },
  {
   "cell_type": "code",
   "execution_count": 5,
   "id": "3e0d3dc2",
   "metadata": {},
   "outputs": [
    {
     "name": "stdout",
     "output_type": "stream",
     "text": [
      "torch.Size([471, 840, 1])\n"
     ]
    }
   ],
   "source": [
    "full_set = DAYTON(path = \".\",\n",
    "                  seq_len = param_dset_lookback,\n",
    "                  pred_horz = param_dset_forecast,\n",
    "                  timestamp = False)\n",
    "dytmax = full_set.max()\n",
    "dytmin = full_set.min()\n",
    "del(full_set)\n",
    "\n",
    "train_set = DAYTON(path = \".\",\n",
    "                start_idx = 0, end_idx = 97036,\n",
    "                seq_len = param_dset_lookback,\n",
    "                pred_horz = param_dset_forecast,\n",
    "                stride=29,\n",
    "                timestamp = False)\n",
    "val_set = DAYTON(path = \".\",\n",
    "              start_idx = 97036, end_idx = 97036+12129,\n",
    "                seq_len = param_dset_lookback,\n",
    "                pred_horz = param_dset_forecast,\n",
    "                stride=param_dset_forecast,\n",
    "                timestamp = False)\n",
    "test_set = DAYTON(path = \".\",\n",
    "                start_idx = 97036+12129,\n",
    "                seq_len = param_dset_lookback,\n",
    "                pred_horz = param_dset_forecast,\n",
    "                stride=param_dset_forecast,\n",
    "                timestamp = False)\n",
    "\n",
    "\n",
    "train_set.series = (train_set.series - dytmin)/(dytmax - dytmin)\n",
    "val_set.series = (val_set.series - dytmin)/(dytmax - dytmin)\n",
    "test_set.series = (test_set.series - dytmin)/(dytmax - dytmin)\n",
    "\n",
    "print(test_set.series.shape)"
   ]
  },
  {
   "cell_type": "markdown",
   "id": "979e36f9",
   "metadata": {},
   "source": [
    "## Model Initialization"
   ]
  },
  {
   "cell_type": "code",
   "execution_count": 6,
   "id": "9abf1110",
   "metadata": {},
   "outputs": [],
   "source": [
    "import torch\n",
    "import torch.nn as nn\n",
    "import torch.nn.functional as F\n",
    "\n",
    "# path1 = \"/content/gdrive/MyDrive/FYP/Models\"\n",
    "# path2 = \"/content/gdrive/MyDrive/FYP/Models/BigBirdSparse\"\n",
    "# import sys\n",
    "# sys.path.insert(1,path1)\n",
    "# sys.path.insert(2,path2)\n",
    "import sys\n",
    "sys.path.append(\"../../Models\")\n",
    "\n",
    "from Encodings.encoding import LearnablePositionalEncoding\n",
    "from BigBirdSparse.bb_sparse import BlockSparseMultiheadAttention\n",
    "from BigBirdSparse.bb_fixed import BlockSparseFixedAttention\n",
    "from transformer_base import TBatchNorm\n",
    "\n",
    "class TransformerBBSparse(nn.Module):\n",
    "    def __init__(self, seq_len=2560, out_seq_len=24, interval=1, inp_dim=1, emb_dim=64,\\\n",
    "                 n_heads=4, n_enc_layers=2, n_dec_layers=2, block_size=40,\\\n",
    "                ffdim=128, drop_p = 0.1):\n",
    "        super(TransformerBBSparse,self).__init__()\n",
    "        self.seq_len = seq_len\n",
    "        self.out_seq_len = out_seq_len\n",
    "        self.emb_dim = emb_dim\n",
    "        #self.in_norm = nn.BatchNorm1d(seq_len,affine=False)\n",
    "        self.input_linear = nn.Linear(inp_dim,emb_dim)\n",
    "        #self.input_pool = nn.AvgPool1d(kernel_size=5,stride=5)\n",
    "        self.pe = LearnablePositionalEncoding(emb_dim,dropout=0.1,max_len=seq_len)\n",
    "        #self.pe = CosineEmbedding(emb_dim,max_len=seq_len,scale_factor=0.1)\n",
    "        #self.tpe = TimestampCosineEmbedding(emb_dim, interval, max_len = seq_len)\n",
    "\n",
    "        self.trf_el = nn.TransformerEncoderLayer(emb_dim,n_heads,ffdim,\n",
    "                                                 activation=F.gelu,dropout=drop_p,\n",
    "                                                 batch_first=True,norm_first=True)\n",
    "        self.trf_el.self_attn = BlockSparseMultiheadAttention(emb_dim, n_heads, block_size,batch_first=True)\n",
    "        #self.trf_el.self_attn = BlockSparseMheadAttnFixed(emb_dim, n_heads, block_size,batch_first=True)\n",
    "\n",
    "        self.trf_dl = nn.TransformerDecoderLayer(emb_dim,n_heads,ffdim,\n",
    "                                                 activation=F.gelu,dropout=drop_p,\n",
    "                                                 batch_first=True,norm_first=True)\n",
    "\n",
    "        self.trf_el.norm1 = TBatchNorm(num_features=emb_dim)\n",
    "        self.trf_el.norm1 = TBatchNorm(num_features=emb_dim)\n",
    "        self.trf_el.norm2 = TBatchNorm(num_features=emb_dim)\n",
    "\n",
    "        self.trf_dl.norm1 = TBatchNorm(num_features=emb_dim)\n",
    "        self.trf_dl.norm2 = TBatchNorm(num_features=emb_dim)\n",
    "        self.trf_dl.norm3 = TBatchNorm(num_features=emb_dim)\n",
    "\n",
    "        self.trf_e = nn.TransformerEncoder(self.trf_el,num_layers=n_enc_layers)\n",
    "        self.trf_d = nn.TransformerDecoder(self.trf_dl,num_layers=n_dec_layers)\n",
    "\n",
    "        # self.out = nn.Linear(emb_dim,inp_dim)\n",
    "        self.out = nn.Linear(emb_dim,1)\n",
    "        self.drop = nn.Dropout(p=drop_p)\n",
    "\n",
    "        # self.dec_tar = torch.nn.Parameter(torch.zeros((out_seq_len,emb_dim)))\n",
    "        # nn.init.normal_(self.dec_tar)\n",
    "        self.aux_out = nn.Linear(emb_dim,1)#inp_dim)\n",
    "        #self.reduce = nn.Linear(seq_len,out_seq_len)\n",
    "        self.aux_in = nn.Linear(1,emb_dim)#inp_dim,emb_dim)\n",
    "\n",
    "        self.expand = nn.Linear(seq_len,5120)\n",
    "        self.compress = nn.Linear(5120,out_seq_len)\n",
    "\n",
    "    def forward(self,x):\n",
    "        '''x: [batch dim, sequence length, variable dim]'''\n",
    "        x1 = self.input_linear(x) # x1.shape: [batch, seq len, emb dim]\n",
    "        x1 = self.pe(x1.permute(1,0,2)).permute(1,0,2)\n",
    "        #x1 = self.tpe(x1.permute(1,0,2),in_start_time).permute(1,0,2)\n",
    "        mem = self.trf_e(x1)\n",
    "\n",
    "        dec_in = self.aux_out(mem)\n",
    "        dec_in = F.gelu(self.expand(dec_in.view((-1,self.seq_len))))\n",
    "        dec_in = self.drop(dec_in)\n",
    "        dec_in = self.compress(dec_in)\n",
    "        #dec_in = F.gelu(self.reduce(dec_in.view((-1,self.seq_len))))\n",
    "\n",
    "        dec_in = self.aux_in(dec_in.unsqueeze(-1))\n",
    "\n",
    "        # x2 = self.trf_d(self.dec_tar.broadcast_to(x.shape[0],self.out_seq_len,self.emb_dim)\\\n",
    "        #                 ,mem)\n",
    "        x2 = self.trf_d(self.pe(dec_in.permute(1,0,2))\\\n",
    "                        .permute(1,0,2),mem)\n",
    "        # x2 = self.trf_d(self.tpe(dec_in.permute(1,0,2),pred_start_time)\\\n",
    "        #                 .permute(1,0,2),mem)\n",
    "\n",
    "        o1 = self.out(x2)\n",
    "\n",
    "        return o1\n",
    "\n"
   ]
  },
  {
   "cell_type": "code",
   "execution_count": 7,
   "id": "0b50fe50",
   "metadata": {},
   "outputs": [],
   "source": [
    "class TransformerBBFixed(nn.Module):\n",
    "    def __init__(self, seq_len=2560, out_seq_len=24, interval=1, inp_dim=1, emb_dim=64,\\\n",
    "                 n_heads=4, n_enc_layers=2, n_dec_layers=2, block_size=40,\\\n",
    "                ffdim=128, drop_p = 0.1):\n",
    "        super(TransformerBBFixed,self).__init__()\n",
    "        self.seq_len = seq_len\n",
    "        self.out_seq_len = out_seq_len\n",
    "        self.emb_dim = emb_dim\n",
    "        #self.in_norm = nn.BatchNorm1d(seq_len,affine=False)\n",
    "        self.input_linear = nn.Linear(inp_dim,emb_dim)\n",
    "        #self.input_pool = nn.AvgPool1d(kernel_size=5,stride=5)\n",
    "        self.pe = LearnablePositionalEncoding(emb_dim,dropout=drop_p,max_len=seq_len)\n",
    "        #self.pe = CosineEmbedding(emb_dim,max_len=seq_len,scale_factor=0.1)\n",
    "        #self.tpe = TimestampCosineEmbedding(emb_dim, interval, max_len = seq_len)\n",
    "\n",
    "        self.trf_el = nn.TransformerEncoderLayer(emb_dim,n_heads,ffdim,\n",
    "                                                 activation=F.gelu,dropout=drop_p,\n",
    "                                                 batch_first=True,norm_first=True)\n",
    "        #self.trf_el.self_attn = BlockSparseMultiheadAttention(emb_dim, n_heads, block_size,batch_first=True)\n",
    "        self.trf_el.self_attn = BlockSparseFixedAttention(emb_dim, n_heads, block_size,batch_first=True)\n",
    "\n",
    "        self.trf_dl = nn.TransformerDecoderLayer(emb_dim,n_heads,ffdim,\n",
    "                                                 activation=F.gelu,dropout=drop_p,\n",
    "                                                 batch_first=True,norm_first=True)\n",
    "\n",
    "        self.trf_el.norm1 = TBatchNorm(num_features=emb_dim)\n",
    "        self.trf_el.norm1 = TBatchNorm(num_features=emb_dim)\n",
    "        self.trf_el.norm2 = TBatchNorm(num_features=emb_dim)\n",
    "\n",
    "        self.trf_dl.norm1 = TBatchNorm(num_features=emb_dim)\n",
    "        self.trf_dl.norm2 = TBatchNorm(num_features=emb_dim)\n",
    "        self.trf_dl.norm3 = TBatchNorm(num_features=emb_dim)\n",
    "\n",
    "        self.trf_e = nn.TransformerEncoder(self.trf_el,num_layers=n_enc_layers)\n",
    "        self.trf_d = nn.TransformerDecoder(self.trf_dl,num_layers=n_dec_layers)\n",
    "\n",
    "        # self.out = nn.Linear(emb_dim,inp_dim)\n",
    "        self.out = nn.Linear(emb_dim,1)\n",
    "        self.drop = nn.Dropout(p=drop_p)\n",
    "\n",
    "        # self.dec_tar = torch.nn.Parameter(torch.zeros((out_seq_len,emb_dim)))\n",
    "        # nn.init.normal_(self.dec_tar)\n",
    "        self.aux_out = nn.Linear(emb_dim,1)#inp_dim)\n",
    "        #self.reduce = nn.Linear(seq_len,out_seq_len)\n",
    "        self.aux_in = nn.Linear(1,emb_dim)#inp_dim,emb_dim)\n",
    "\n",
    "        self.expand = nn.Linear(seq_len,5120)\n",
    "        self.compress = nn.Linear(5120,out_seq_len)\n",
    "\n",
    "    def forward(self,x):\n",
    "        '''x: [batch dim, sequence length, variable dim]'''\n",
    "        x1 = self.input_linear(x) # x1.shape: [batch, seq len, emb dim]\n",
    "        x1 = self.pe(x1.permute(1,0,2)).permute(1,0,2)\n",
    "        #x1 = self.tpe(x1.permute(1,0,2),in_start_time).permute(1,0,2)\n",
    "        mem = self.trf_e(x1)\n",
    "\n",
    "        dec_in = self.aux_out(mem)\n",
    "        dec_in = F.gelu(self.expand(dec_in.view((-1,self.seq_len))))\n",
    "        dec_in = self.drop(dec_in)\n",
    "        dec_in = self.compress(dec_in)\n",
    "        #dec_in = F.gelu(self.reduce(dec_in.view((-1,self.seq_len))))\n",
    "\n",
    "        dec_in = self.aux_in(dec_in.unsqueeze(-1))\n",
    "\n",
    "        # x2 = self.trf_d(self.dec_tar.broadcast_to(x.shape[0],self.out_seq_len,self.emb_dim)\\\n",
    "        #                 ,mem)\n",
    "        x2 = self.trf_d(self.pe(dec_in.permute(1,0,2))\\\n",
    "                        .permute(1,0,2),mem)\n",
    "        # x2 = self.trf_d(self.tpe(dec_in.permute(1,0,2),pred_start_time)\\\n",
    "        #                 .permute(1,0,2),mem)\n",
    "\n",
    "        o1 = self.out(x2)\n",
    "\n",
    "        return o1"
   ]
  },
  {
   "cell_type": "code",
   "execution_count": null,
   "id": "973b717b",
   "metadata": {},
   "outputs": [],
   "source": []
  },
  {
   "cell_type": "code",
   "execution_count": null,
   "id": "c516d8f7",
   "metadata": {},
   "outputs": [],
   "source": []
  },
  {
   "cell_type": "code",
   "execution_count": null,
   "id": "080fde85",
   "metadata": {},
   "outputs": [],
   "source": []
  },
  {
   "cell_type": "markdown",
   "id": "07f52ef6",
   "metadata": {},
   "source": [
    "## Create model and data tensor"
   ]
  },
  {
   "cell_type": "code",
   "execution_count": 8,
   "id": "c11a8ea8",
   "metadata": {},
   "outputs": [],
   "source": [
    "#SWT Transformation\n",
    "def swt_transformation(self_series, window, lev):\n",
    "    self_series = self_series.squeeze(-1)\n",
    "#     print(\"total series shape after squeeze: \", self_series.shape)\n",
    "    self_series_numpy = self_series.numpy()\n",
    "#     print(\"torch shape: \", self_series.shape)\n",
    "#     print(\"numpy shape: \", self_series_numpy.shape)\n",
    "#     print(self_series[0])\n",
    "#     print(self_series_numpy[0])\n",
    "\n",
    "    da = data_preparation(self_series_numpy, window, lev)\n",
    "#     print(da[0][0])\n",
    "\n",
    "    Vv = np.array(da)\n",
    "#     print(Vv.shape)\n",
    "#     print(Vv[0][0])\n",
    "\n",
    "    vv = Vv.reshape(Vv.shape[0],Vv.shape[1],2*lev*Vv.shape[4])\n",
    "#     print(vv.shape)\n",
    "\n",
    "\n",
    "    # dataset = scaler.fit_transform(vv)\n",
    "\n",
    "    dat = vv.reshape(Vv.shape[0],Vv.shape[1],2*lev,Vv.shape[4])\n",
    "#     print(dat.shape)\n",
    "    \n",
    "    return dat\n",
    "    \n",
    "# Early stopping\n",
    "class EarlyStopper:\n",
    "    def __init__(self, patience=10, min_delta=0):\n",
    "        self.patience = patience\n",
    "        self.min_delta = min_delta\n",
    "        self.counter = 0\n",
    "        self.min_validation_loss = np.inf\n",
    "\n",
    "    def early_stop(self, validation_loss):\n",
    "        if validation_loss < self.min_validation_loss:\n",
    "            self.min_validation_loss = validation_loss\n",
    "            self.counter = 0\n",
    "        elif validation_loss > (self.min_validation_loss + self.min_delta):\n",
    "            self.counter += 1\n",
    "            if self.counter >= self.patience:\n",
    "                return True\n",
    "        return False\n",
    "    \n",
    "class SaveBestModel:\n",
    "    \"\"\"\n",
    "    Class to save or load the best model while training.\n",
    "    \"\"\"\n",
    "    def __init__(\n",
    "        self, best_valid_loss=float('inf')\n",
    "    ):\n",
    "        self.best_valid_loss = best_valid_loss\n",
    "\n",
    "    def __call__(\n",
    "        self, current_valid_loss, epoch, model\n",
    "    ):\n",
    "        if current_valid_loss < self.best_valid_loss:\n",
    "            self.best_valid_loss = current_valid_loss\n",
    "#             print(f\"\\nBest validation loss: {self.best_valid_loss}\")\n",
    "#             print(f\"\\nSaving best model for epoch: {epoch+1}\\n\")\n",
    "            # Save the PyTorch model\n",
    "            torch.save(model.state_dict(), 'transformer_5min.pth')\n",
    "    \n",
    "patience = 15\n",
    "early_stopper = EarlyStopper(patience=patience, min_delta=0)\n",
    "saveBestModel = SaveBestModel()"
   ]
  },
  {
   "cell_type": "code",
   "execution_count": 9,
   "id": "5d846fdc",
   "metadata": {},
   "outputs": [
    {
     "name": "stdout",
     "output_type": "stream",
     "text": [
      "256\n"
     ]
    }
   ],
   "source": [
    "window = param_dset_lookback\n",
    "\n",
    "batch_size = 64\n",
    "max_level = print_maximal_decom_level(window)\n",
    "lev = max_level if max_level < 3 else 3\n",
    "\n",
    "seq_len = 256\n",
    "print(seq_len)\n",
    "\n",
    "# Transformer parameters\n",
    "inp_len = 2*lev\n",
    "# inp_len = 1\n",
    "out_len = 2*lev\n",
    "emb_dim = 3 * inp_len # Must be 3 * inp_len\n",
    "n_heads = 3 # divisible by emb_dim\n",
    "enc_layer = 4\n",
    "dec_layer = 4\n",
    "ff_dim = 256\n",
    "param_trf_bksz = 32\n",
    "# lev = 3\n",
    "# seq_len = 1\n",
    "# window = 200\n",
    "# look_back = 12"
   ]
  },
  {
   "cell_type": "code",
   "execution_count": 10,
   "id": "36934952",
   "metadata": {},
   "outputs": [
    {
     "name": "stdout",
     "output_type": "stream",
     "text": [
      "torch.Size([3318, 840, 1])\n",
      "torch.Size([471, 840, 1])\n",
      "torch.Size([471, 840, 1])\n"
     ]
    }
   ],
   "source": [
    "import copy\n",
    "\n",
    "train_set_copy = copy.deepcopy(train_set.series)\n",
    "val_set_copy = copy.deepcopy(val_set.series)\n",
    "test_set_copy = copy.deepcopy(test_set.series)\n",
    "\n",
    "print(train_set_copy.shape)\n",
    "print(val_set_copy.shape)\n",
    "print(val_set_copy.shape)"
   ]
  },
  {
   "cell_type": "code",
   "execution_count": 11,
   "id": "5e410735",
   "metadata": {},
   "outputs": [],
   "source": [
    "# Currently, targets are formed from the same mistakes of previous days\n",
    "# targets should be form from the original train_set.series for better training\n",
    "# Inputs however should come from changes of different days"
   ]
  },
  {
   "cell_type": "code",
   "execution_count": 12,
   "id": "ffb936bd",
   "metadata": {},
   "outputs": [
    {
     "name": "stdout",
     "output_type": "stream",
     "text": [
      "Actual number of model parameters: 1464274\n",
      "Trainable model parameters: 1464274\n"
     ]
    },
    {
     "data": {
      "application/vnd.jupyter.widget-view+json": {
       "model_id": "0f79c81e4dd74e5491e9f9bc653d647c",
       "version_major": 2,
       "version_minor": 0
      },
      "text/plain": [
       "epochs:   0%|          | 0/20 [00:00<?, ?it/s]"
      ]
     },
     "metadata": {},
     "output_type": "display_data"
    },
    {
     "data": {
      "application/vnd.jupyter.widget-view+json": {
       "model_id": "682fd12260244a87a7dcd160a01c6f8d",
       "version_major": 2,
       "version_minor": 0
      },
      "text/plain": [
       "forecast:   0%|          | 0/24 [00:00<?, ?it/s]"
      ]
     },
     "metadata": {},
     "output_type": "display_data"
    },
    {
     "name": "stdout",
     "output_type": "stream",
     "text": [
      "Epoch 1/20, Training Loss: 2.922677, Validation Loss: 0.043731\n"
     ]
    },
    {
     "data": {
      "application/vnd.jupyter.widget-view+json": {
       "model_id": "59078bcd911d47c39e97cf28c01dc072",
       "version_major": 2,
       "version_minor": 0
      },
      "text/plain": [
       "forecast:   0%|          | 0/24 [00:00<?, ?it/s]"
      ]
     },
     "metadata": {},
     "output_type": "display_data"
    },
    {
     "name": "stdout",
     "output_type": "stream",
     "text": [
      "Epoch 2/20, Training Loss: 0.064586, Validation Loss: 0.025397\n"
     ]
    },
    {
     "data": {
      "application/vnd.jupyter.widget-view+json": {
       "model_id": "946134c9233d42a98e49d80c58102b38",
       "version_major": 2,
       "version_minor": 0
      },
      "text/plain": [
       "forecast:   0%|          | 0/24 [00:00<?, ?it/s]"
      ]
     },
     "metadata": {},
     "output_type": "display_data"
    },
    {
     "name": "stdout",
     "output_type": "stream",
     "text": [
      "Epoch 3/20, Training Loss: 0.016198, Validation Loss: 0.008621\n"
     ]
    },
    {
     "data": {
      "application/vnd.jupyter.widget-view+json": {
       "model_id": "c90aeafc26094506b6558588ec46faca",
       "version_major": 2,
       "version_minor": 0
      },
      "text/plain": [
       "forecast:   0%|          | 0/24 [00:00<?, ?it/s]"
      ]
     },
     "metadata": {},
     "output_type": "display_data"
    },
    {
     "name": "stdout",
     "output_type": "stream",
     "text": [
      "Epoch 4/20, Training Loss: 0.010987, Validation Loss: 0.008317\n"
     ]
    },
    {
     "data": {
      "application/vnd.jupyter.widget-view+json": {
       "model_id": "a3a94e55365644e2b27565b58f4a9862",
       "version_major": 2,
       "version_minor": 0
      },
      "text/plain": [
       "forecast:   0%|          | 0/24 [00:00<?, ?it/s]"
      ]
     },
     "metadata": {},
     "output_type": "display_data"
    },
    {
     "name": "stdout",
     "output_type": "stream",
     "text": [
      "Epoch 5/20, Training Loss: 0.008166, Validation Loss: 0.008269\n"
     ]
    },
    {
     "data": {
      "application/vnd.jupyter.widget-view+json": {
       "model_id": "5824b9dee3924df79b868f32d131d871",
       "version_major": 2,
       "version_minor": 0
      },
      "text/plain": [
       "forecast:   0%|          | 0/24 [00:00<?, ?it/s]"
      ]
     },
     "metadata": {},
     "output_type": "display_data"
    },
    {
     "name": "stdout",
     "output_type": "stream",
     "text": [
      "Epoch 6/20, Training Loss: 0.006871, Validation Loss: 0.008234\n"
     ]
    },
    {
     "data": {
      "application/vnd.jupyter.widget-view+json": {
       "model_id": "d295ac0d2e8342778e1b89fc6b39dd20",
       "version_major": 2,
       "version_minor": 0
      },
      "text/plain": [
       "forecast:   0%|          | 0/24 [00:00<?, ?it/s]"
      ]
     },
     "metadata": {},
     "output_type": "display_data"
    },
    {
     "name": "stdout",
     "output_type": "stream",
     "text": [
      "Epoch 7/20, Training Loss: 0.006181, Validation Loss: 0.008305\n"
     ]
    },
    {
     "data": {
      "application/vnd.jupyter.widget-view+json": {
       "model_id": "8af96786599d424d83d72bcbc5541b94",
       "version_major": 2,
       "version_minor": 0
      },
      "text/plain": [
       "forecast:   0%|          | 0/24 [00:00<?, ?it/s]"
      ]
     },
     "metadata": {},
     "output_type": "display_data"
    },
    {
     "name": "stdout",
     "output_type": "stream",
     "text": [
      "Epoch 8/20, Training Loss: 0.005673, Validation Loss: 0.009359\n"
     ]
    },
    {
     "data": {
      "application/vnd.jupyter.widget-view+json": {
       "model_id": "a4aec3be09c64e1198dff6a2bcc51c35",
       "version_major": 2,
       "version_minor": 0
      },
      "text/plain": [
       "forecast:   0%|          | 0/24 [00:00<?, ?it/s]"
      ]
     },
     "metadata": {},
     "output_type": "display_data"
    },
    {
     "name": "stdout",
     "output_type": "stream",
     "text": [
      "Epoch 9/20, Training Loss: 0.005334, Validation Loss: 0.009854\n"
     ]
    },
    {
     "data": {
      "application/vnd.jupyter.widget-view+json": {
       "model_id": "a524adb5f61c4b8798195231ff2b97f8",
       "version_major": 2,
       "version_minor": 0
      },
      "text/plain": [
       "forecast:   0%|          | 0/24 [00:00<?, ?it/s]"
      ]
     },
     "metadata": {},
     "output_type": "display_data"
    },
    {
     "name": "stdout",
     "output_type": "stream",
     "text": [
      "Epoch 10/20, Training Loss: 0.004975, Validation Loss: 0.010221\n"
     ]
    },
    {
     "data": {
      "application/vnd.jupyter.widget-view+json": {
       "model_id": "a9937d2635c749dbac788746150f4bc7",
       "version_major": 2,
       "version_minor": 0
      },
      "text/plain": [
       "forecast:   0%|          | 0/24 [00:00<?, ?it/s]"
      ]
     },
     "metadata": {},
     "output_type": "display_data"
    },
    {
     "name": "stdout",
     "output_type": "stream",
     "text": [
      "Epoch 11/20, Training Loss: 0.004792, Validation Loss: 0.010106\n"
     ]
    },
    {
     "data": {
      "application/vnd.jupyter.widget-view+json": {
       "model_id": "d69f7cf4305d422fa1fcf16d5eee6e57",
       "version_major": 2,
       "version_minor": 0
      },
      "text/plain": [
       "forecast:   0%|          | 0/24 [00:00<?, ?it/s]"
      ]
     },
     "metadata": {},
     "output_type": "display_data"
    },
    {
     "name": "stdout",
     "output_type": "stream",
     "text": [
      "Epoch 12/20, Training Loss: 0.004502, Validation Loss: 0.010888\n"
     ]
    },
    {
     "data": {
      "application/vnd.jupyter.widget-view+json": {
       "model_id": "736d78170a854be7a6c452a3b4b5d936",
       "version_major": 2,
       "version_minor": 0
      },
      "text/plain": [
       "forecast:   0%|          | 0/24 [00:00<?, ?it/s]"
      ]
     },
     "metadata": {},
     "output_type": "display_data"
    },
    {
     "name": "stdout",
     "output_type": "stream",
     "text": [
      "Epoch 13/20, Training Loss: 0.004358, Validation Loss: 0.010686\n"
     ]
    },
    {
     "data": {
      "application/vnd.jupyter.widget-view+json": {
       "model_id": "662a3880a62240d794b2c54748f4ca7b",
       "version_major": 2,
       "version_minor": 0
      },
      "text/plain": [
       "forecast:   0%|          | 0/24 [00:00<?, ?it/s]"
      ]
     },
     "metadata": {},
     "output_type": "display_data"
    },
    {
     "name": "stdout",
     "output_type": "stream",
     "text": [
      "Epoch 14/20, Training Loss: 0.004220, Validation Loss: 0.011347\n"
     ]
    },
    {
     "data": {
      "application/vnd.jupyter.widget-view+json": {
       "model_id": "28f0dc6fca164f75b0fefcb348a18b80",
       "version_major": 2,
       "version_minor": 0
      },
      "text/plain": [
       "forecast:   0%|          | 0/24 [00:00<?, ?it/s]"
      ]
     },
     "metadata": {},
     "output_type": "display_data"
    },
    {
     "name": "stdout",
     "output_type": "stream",
     "text": [
      "Epoch 15/20, Training Loss: 0.004058, Validation Loss: 0.013403\n"
     ]
    },
    {
     "data": {
      "application/vnd.jupyter.widget-view+json": {
       "model_id": "6249d2c9643a4dfbba068f14a056afe0",
       "version_major": 2,
       "version_minor": 0
      },
      "text/plain": [
       "forecast:   0%|          | 0/24 [00:00<?, ?it/s]"
      ]
     },
     "metadata": {},
     "output_type": "display_data"
    },
    {
     "name": "stdout",
     "output_type": "stream",
     "text": [
      "Epoch 16/20, Training Loss: 0.003881, Validation Loss: 0.012374\n"
     ]
    },
    {
     "data": {
      "application/vnd.jupyter.widget-view+json": {
       "model_id": "574848dd783b474986b679821b38a689",
       "version_major": 2,
       "version_minor": 0
      },
      "text/plain": [
       "forecast:   0%|          | 0/24 [00:00<?, ?it/s]"
      ]
     },
     "metadata": {},
     "output_type": "display_data"
    },
    {
     "name": "stdout",
     "output_type": "stream",
     "text": [
      "Epoch 17/20, Training Loss: 0.003807, Validation Loss: 0.011371\n"
     ]
    },
    {
     "data": {
      "application/vnd.jupyter.widget-view+json": {
       "model_id": "06412e2d402d4474a4946677b8372fe8",
       "version_major": 2,
       "version_minor": 0
      },
      "text/plain": [
       "forecast:   0%|          | 0/24 [00:00<?, ?it/s]"
      ]
     },
     "metadata": {},
     "output_type": "display_data"
    },
    {
     "name": "stdout",
     "output_type": "stream",
     "text": [
      "Epoch 18/20, Training Loss: 0.003635, Validation Loss: 0.015155\n"
     ]
    },
    {
     "data": {
      "application/vnd.jupyter.widget-view+json": {
       "model_id": "1d5f27d341c24d50b405b5be9d401bc5",
       "version_major": 2,
       "version_minor": 0
      },
      "text/plain": [
       "forecast:   0%|          | 0/24 [00:00<?, ?it/s]"
      ]
     },
     "metadata": {},
     "output_type": "display_data"
    },
    {
     "name": "stdout",
     "output_type": "stream",
     "text": [
      "Epoch 19/20, Training Loss: 0.003538, Validation Loss: 0.014847\n"
     ]
    },
    {
     "data": {
      "application/vnd.jupyter.widget-view+json": {
       "model_id": "3d8db517e61c41ea87d3cb65a96087ae",
       "version_major": 2,
       "version_minor": 0
      },
      "text/plain": [
       "forecast:   0%|          | 0/24 [00:00<?, ?it/s]"
      ]
     },
     "metadata": {},
     "output_type": "display_data"
    },
    {
     "name": "stdout",
     "output_type": "stream",
     "text": [
      "Epoch 20/20, Training Loss: 0.003412, Validation Loss: 0.015469\n"
     ]
    }
   ],
   "source": [
    "import torch\n",
    "import torch.nn as nn\n",
    "import torch.optim as optim\n",
    "from torch.utils.data import TensorDataset, DataLoader\n",
    "from sklearn.model_selection import train_test_split\n",
    "import numpy as np\n",
    "\n",
    "torch.manual_seed(42)\n",
    "\n",
    "# Create PyTorch model\n",
    "model = TransformerBBFixed(seq_len = seq_len,\n",
    "                          # out_seq_len = param_dset_forecast,\n",
    "                          out_seq_len = out_len,\n",
    "                          inp_dim = inp_len,\n",
    "                          emb_dim = emb_dim,\n",
    "                          n_heads = n_heads,\n",
    "                          n_enc_layers = enc_layer,\n",
    "                          n_dec_layers = dec_layer,\n",
    "                          block_size=param_trf_bksz,\n",
    "                          ffdim = ff_dim)\n",
    "\n",
    "# Print model summary\n",
    "# print(model)\n",
    "def num_parameters(m):\n",
    "    return sum([p.numel() for p in m.parameters()])\n",
    "\n",
    "parameters = num_parameters(model)\n",
    "\n",
    "# print(f\"Expected number of parameters: {m * dk * dk + m * 1 * 1 * n}\")\n",
    "print(f\"Actual number of model parameters: {parameters}\")\n",
    "\n",
    "trainable_params = sum(\n",
    "    p.numel() for p in model.parameters() if p.requires_grad\n",
    ")\n",
    "print(f\"Trainable model parameters: {trainable_params}\" )\n",
    "\n",
    "# total_params = 0\n",
    "# for name, parameter in model.named_parameters():\n",
    "#     if not parameter.requires_grad:\n",
    "#         continue\n",
    "#     params = parameter.numel()\n",
    "#     print(f\"{name}, {params}\")\n",
    "#     total_params+=params\n",
    "# print(f\"Total Trainable Params: {total_params}\")\n",
    "\n",
    "# Optimizer and loss function\n",
    "optimizer = optim.RMSprop(model.parameters(), lr=0.001, eps=1e-07)\n",
    "# optimizer = optim.Adam(model.parameters())\n",
    "# optimizer = optim.SGD(model.parameters(), lr=0.001, momentum=0.9)\n",
    "criterion = nn.MSELoss()\n",
    "\n",
    "Grad_scaler = torch.cuda.amp.GradScaler()\n",
    "\n",
    "# Training loop\n",
    "num_epochs = 20  # Replace with your desired number of epochs\n",
    "device = torch.device(\"cuda\" if torch.cuda.is_available() else \"cpu\")\n",
    "model.to(device)\n",
    "\n",
    "for epoch in tqdm(range(num_epochs), total= num_epochs, desc=\"epochs\", position=0, leave=True):\n",
    "    epoch_train_loss = 0.0\n",
    "    epoch_val_loss = 0.0\n",
    "    \n",
    "    for forecast_day in tqdm(range(param_dset_forecast), total=param_dset_forecast, desc=\"forecast\", position=1, leave=True):\n",
    "\n",
    "        train_set_transform = swt_transformation(train_set_copy[:,forecast_day:window+forecast_day+1], window, lev)\n",
    "#         print(\"train_set_transform shape: \", train_set_transform.shape)\n",
    "#         print(\"----------------------------------------------------\")\n",
    "\n",
    "        train_actual_transform = swt_transformation(train_set.series[:,forecast_day:window+forecast_day+1], window, lev)\n",
    "\n",
    "        val_set_transform = swt_transformation(val_set_copy[:,forecast_day:window+forecast_day+1], window, lev)\n",
    "#         print(\"val_set_transform shape: \", val_set_transform.shape)\n",
    "#         print(\"----------------------------------------------------\")\n",
    "\n",
    "        val_actual_transform = swt_transformation(val_set.series[:,forecast_day:window+forecast_day+1], window, lev)\n",
    "        \n",
    "        # Split seq_len and pred\n",
    "        train_set_transform = train_set_transform.squeeze(1)\n",
    "        val_set_transform = val_set_transform.squeeze(1)\n",
    "        \n",
    "        # Actual train and validation targets\n",
    "        train_actual_transform = train_actual_transform.squeeze(1)\n",
    "        val_actual_transform = val_actual_transform.squeeze(1)\n",
    "\n",
    "        # targets replaced with actual transformed data\n",
    "        trainX, trainY = train_set_transform[:,:,window-seq_len-1:window-1], train_actual_transform[:,:,window-1:window]\n",
    "        valX, valY = val_set_transform[:,:,window-seq_len-1:window-1], val_actual_transform[:,:,window-1:window]\n",
    "\n",
    "        trainX=np.transpose(trainX, (0, 2, 1))\n",
    "        valX =np.transpose(valX, (0, 2, 1))\n",
    "        \n",
    "        # Convert data to PyTorch tensors\n",
    "        X_train, y_train = torch.tensor(trainX), torch.tensor(trainY)\n",
    "        X_val, y_val = torch.tensor(valX), torch.tensor(valY)\n",
    "\n",
    "        # Create DataLoader for training and validation data\n",
    "        train_dataset = TensorDataset(X_train, y_train)\n",
    "        # train_loader = DataLoader(train_dataset, batch_size=batch_size, shuffle=True)\n",
    "        train_loader = DataLoader(train_dataset, batch_size=batch_size)\n",
    "\n",
    "        val_dataset = TensorDataset(X_val, y_val)\n",
    "        val_loader = DataLoader(val_dataset, batch_size=batch_size)\n",
    "\n",
    "\n",
    "        model.train()\n",
    "        train_output = []\n",
    "        train_loss = 0.0\n",
    "        for inputs, targets in train_loader:\n",
    "            inputs, targets = inputs.to(device).nan_to_num(), targets.to(device)\n",
    "            optimizer.zero_grad()\n",
    "    #             outputs = model(inputs)       \n",
    "\n",
    "            with torch.cuda.amp.autocast(dtype=torch.float16):\n",
    "                outputs = model(inputs)\n",
    "                loss = nn.MSELoss(reduction='mean')(outputs[~targets.isnan()], targets[~targets.isnan()])\n",
    "\n",
    "                optimizer.zero_grad()\n",
    "                Grad_scaler.scale(loss).backward()\n",
    "                Grad_scaler.step(optimizer)\n",
    "                Grad_scaler.update()\n",
    "            \n",
    "            train_output.append(outputs.detach().cpu().numpy())  # Collect the outputs\n",
    "            train_loss += loss.item()\n",
    "\n",
    "        train_loss /= len(train_loader)\n",
    "\n",
    "        model.eval()\n",
    "        val_output = []\n",
    "        val_loss = 0.0\n",
    "        with torch.no_grad():\n",
    "            for inputs, targets in val_loader:\n",
    "                inputs, targets = inputs.to(device).nan_to_num(), targets.to(device)\n",
    "                outputs = model(inputs)\n",
    "                val_output.append(outputs.cpu().numpy())  # Collect the outputs\n",
    "                loss = nn.MSELoss(reduction='mean')(outputs[~targets.isnan()], targets[~targets.isnan()])\n",
    "    #             val_loss += criterion(outputs, targets).item()\n",
    "                val_loss += loss\n",
    "                \n",
    "        val_loss /= len(val_loader)\n",
    "        \n",
    "        train_concat = np.concatenate(train_output, axis=0)  # Concatenate outputs into a single numpy array\n",
    "        val_concat = np.concatenate(val_output, axis=0)  # Concatenate outputs into a single numpy array\n",
    "\n",
    "        train_concat = train_concat.squeeze(-1)\n",
    "        val_concat = val_concat.squeeze(-1)\n",
    "        \n",
    "        epoch_train_loss += train_loss\n",
    "        epoch_val_loss += val_loss\n",
    "        \n",
    "        # Function to iswt and modify train_set_copy\n",
    "        # Might have to calculate loss in each epoch rather than each forecast loop\n",
    "        # Result from test\n",
    "        # print(np.array(train_concat).shape)\n",
    "\n",
    "        train_transform_copy = train_set_transform.copy()\n",
    "        # print(train_transform_copy.shape)\n",
    "\n",
    "        # Prediction place at the end of the wave\n",
    "        # In iswt, we will take the last value as our prediction\n",
    "        train_set_transform[:,:,window-1] = train_concat\n",
    "#         print(train_set_transform.shape)\n",
    "\n",
    "        train_set_transform = train_set_transform.reshape(train_set_transform.shape[0],train_set_transform.shape[1]*train_set_transform.shape[2])\n",
    "#         print(train_set_transform.shape)\n",
    "        \n",
    "        train_set_transform = train_set_transform.reshape(train_transform_copy.shape[0],lev,2,train_transform_copy.shape[2])\n",
    "#         print(train_set_transform.shape)\n",
    "\n",
    "        train_set_transform = np.array(torch.from_numpy(train_set_transform).unsqueeze(1))\n",
    "#         print(train_set_transform.shape)\n",
    "\n",
    "        train_set_transform = data_organization(train_set_transform)\n",
    "\n",
    "        # Change to tuple type for iswt\n",
    "#         print(len(train_set_transform[0][0]))\n",
    "#         print(type(train_set_transform[0][0]))\n",
    "\n",
    "        train_result = data_reconstruction(train_set_transform, window)\n",
    "\n",
    "        # Prediction for next 48 data in test set\n",
    "        train_result = np.array(train_result)\n",
    "#         print(train_result.shape)\n",
    "        train_result = torch.from_numpy(train_result)\n",
    "        \n",
    "#         print(window+forecast_day)\n",
    "        train_set_copy[:,window+forecast_day] = train_result\n",
    "        \n",
    "        \n",
    "        # Function to iswt and modify train_set_copy\n",
    "        # Might have to calculate loss in each epoch rather than each forecast loop\n",
    "        # Result from test\n",
    "#         print(np.array(val_concat).shape)\n",
    "\n",
    "        val_transform_copy = val_set_transform.copy()\n",
    "#         print(val_transform_copy.shape)\n",
    "\n",
    "        # Prediction place at the end of the wave\n",
    "        # In iswt, we will take the last value as our prediction\n",
    "        val_set_transform[:,:,window-1] = val_concat\n",
    "#         print(val_set_transform.shape)\n",
    "\n",
    "        val_set_transform = val_set_transform.reshape(val_set_transform.shape[0],val_set_transform.shape[1]*val_set_transform.shape[2])\n",
    "#         print(val_set_transform.shape)\n",
    "        \n",
    "        val_set_transform = val_set_transform.reshape(val_transform_copy.shape[0],lev,2,val_transform_copy.shape[2])\n",
    "#         print(val_set_transform.shape)\n",
    "\n",
    "        val_set_transform = np.array(torch.from_numpy(val_set_transform).unsqueeze(1))\n",
    "#         print(val_set_transform.shape)\n",
    "\n",
    "        val_set_transform = data_organization(val_set_transform)\n",
    "\n",
    "        # Change to tuple type for iswt\n",
    "#         print(len(val_set_transform[0][0]))\n",
    "#         print(type(val_set_transform[0][0]))\n",
    "\n",
    "        val_result = data_reconstruction(val_set_transform, window)\n",
    "\n",
    "        # Prediction for next 48 data in test set\n",
    "        val_result = np.array(val_result)\n",
    "#         print(val_result.shape)\n",
    "        val_result = torch.from_numpy(val_result)\n",
    "        \n",
    "#         print(window+forecast_day)\n",
    "        val_set_copy[:,window+forecast_day] = val_result\n",
    "        \n",
    "    epoch_train_loss /= param_dset_forecast\n",
    "    epoch_val_loss /= param_dset_forecast\n",
    "    \n",
    "    print(f'Epoch {epoch + 1}/{num_epochs}, Training Loss: {epoch_train_loss:.6f}, Validation Loss: {epoch_val_loss:.6f}')\n",
    "    \n",
    "    saveBestModel(epoch_val_loss, epoch, model)\n",
    "    \n",
    "    # Early stopping with patience\n",
    "    if early_stopper.early_stop(epoch_val_loss):\n",
    "        print(\"Done!\")\n",
    "        break\n"
   ]
  },
  {
   "cell_type": "code",
   "execution_count": 14,
   "id": "ec2bf99e",
   "metadata": {},
   "outputs": [
    {
     "data": {
      "application/vnd.jupyter.widget-view+json": {
       "model_id": "0b2e37d0cef540858b18c5482a19f0dc",
       "version_major": 2,
       "version_minor": 0
      },
      "text/plain": [
       "forecast:   0%|          | 0/24 [00:00<?, ?it/s]"
      ]
     },
     "metadata": {},
     "output_type": "display_data"
    },
    {
     "name": "stdout",
     "output_type": "stream",
     "text": [
      "Test Loss: 0.009749\n",
      "Test Loss: 0.010934\n",
      "Test Loss: 0.012146\n",
      "Test Loss: 0.013441\n",
      "Test Loss: 0.014937\n",
      "Test Loss: 0.016836\n",
      "Test Loss: 0.019461\n",
      "Test Loss: 0.022050\n",
      "Test Loss: 0.023637\n",
      "Test Loss: 0.023548\n",
      "Test Loss: 0.021056\n",
      "Test Loss: 0.017104\n",
      "Test Loss: 0.013098\n",
      "Test Loss: 0.009868\n",
      "Test Loss: 0.007537\n",
      "Test Loss: 0.006107\n",
      "Test Loss: 0.005412\n",
      "Test Loss: 0.005329\n",
      "Test Loss: 0.005979\n",
      "Test Loss: 0.007341\n",
      "Test Loss: 0.008760\n",
      "Test Loss: 0.009966\n",
      "Test Loss: 0.011332\n",
      "Test Loss: 0.013048\n",
      "Average test Loss: 0.012862\n"
     ]
    }
   ],
   "source": [
    "# Load the PyTorch model\n",
    "loaded_model = TransformerBBFixed(seq_len = seq_len,\n",
    "                          # out_seq_len = param_dset_forecast,\n",
    "                          out_seq_len = out_len,\n",
    "                          inp_dim = inp_len,\n",
    "                          emb_dim = emb_dim,\n",
    "                          n_heads = n_heads,\n",
    "                          n_enc_layers = enc_layer,\n",
    "                          n_dec_layers = dec_layer,\n",
    "                          block_size=param_trf_bksz,\n",
    "                          ffdim = ff_dim)\n",
    "loaded_model.load_state_dict(torch.load('transformer_5min.pth'))\n",
    "loaded_model.to(device)\n",
    "loaded_model.eval()\n",
    "\n",
    "total_test_loss = 0.0\n",
    "\n",
    "for forecast_day in tqdm(range(param_dset_forecast), total=param_dset_forecast, desc=\"forecast\", position=1, leave=True):\n",
    "\n",
    "    test_set_transform = swt_transformation(test_set_copy[:,forecast_day:window+forecast_day+1], window, lev)\n",
    "#         print(\"test_set_transform shape: \", test_set_transform.shape)\n",
    "#         print(\"----------------------------------------------------\")\n",
    "    \n",
    "    test_actual_transform = swt_transformation(test_set.series[:,forecast_day:window+forecast_day+1], window, lev)\n",
    "\n",
    "    # Squeeze since predicting 1 day at a time\n",
    "    test_set_transform = test_set_transform.squeeze(1)\n",
    "    test_actual_transform = test_actual_transform.squeeze(1)\n",
    "\n",
    "    testX, testY = test_set_transform[:,:,window-seq_len-1:window-1], test_actual_transform[:,:,window-1:window]\n",
    "\n",
    "    testX = np.transpose(testX, (0, 2, 1))\n",
    "    \n",
    "    X_test, y_test = torch.tensor(testX), torch.tensor(testY)\n",
    "\n",
    "    \n",
    "    # Create DataLoader for testing data\n",
    "    test_dataset = TensorDataset(X_test, y_test)\n",
    "    test_loader = DataLoader(test_dataset, batch_size=batch_size)\n",
    "    \n",
    "    # Testing the model on the test dataset\n",
    "    test_outputs = []\n",
    "    test_loss = 0.0\n",
    "    with torch.no_grad():\n",
    "        for inputs, targets in test_loader:\n",
    "            inputs, targets = inputs.to(device).nan_to_num(), targets.to(device)\n",
    "            outputs = loaded_model(inputs)\n",
    "            test_outputs.append(outputs.cpu().numpy())  # Collect the outputs\n",
    "\n",
    "            loss = nn.MSELoss(reduction='mean')(outputs[~targets.isnan()], targets[~targets.isnan()])\n",
    "            test_loss += loss\n",
    "    #         test_loss += criterion(outputs, targets).item()\n",
    "\n",
    "    test_concat = np.concatenate(test_outputs, axis=0)  # Concatenate outputs into a single numpy array\n",
    "    test_loss /= len(test_loader)\n",
    "    total_test_loss += test_loss\n",
    "    print(f'Test Loss: {test_loss:.6f}')\n",
    "    \n",
    "    # Function to iswt and modify train_set_copy\n",
    "    # Might have to calculate loss in each epoch rather than each forecast loop\n",
    "    # Result from test\n",
    "#     print(np.array(test_concat).shape)\n",
    "\n",
    "    test_concat = test_concat.squeeze(-1)\n",
    "\n",
    "    test_transform_copy = test_set_transform.copy()\n",
    "#     print(test_transform_copy.shape)\n",
    "\n",
    "    # Prediction place at the end of the wave\n",
    "    # In iswt, we will take the last value as our prediction\n",
    "    test_set_transform[:,:,window-1] = test_concat\n",
    "#     print(test_set_transform.shape)\n",
    "\n",
    "    test_set_transform = test_set_transform.reshape(test_set_transform.shape[0],test_set_transform.shape[1]*test_set_transform.shape[2])\n",
    "#     print(test_set_transform.shape)\n",
    "\n",
    "    test_set_transform = test_set_transform.reshape(test_transform_copy.shape[0],lev,2,test_transform_copy.shape[2])\n",
    "#     print(test_set_transform.shape)\n",
    "\n",
    "    test_set_transform = np.array(torch.from_numpy(test_set_transform).unsqueeze(1))\n",
    "#     print(test_set_transform.shape)\n",
    "\n",
    "    test_set_transform = data_organization(test_set_transform)\n",
    "\n",
    "    # Change to tuple type for iswt\n",
    "#     print(len(test_set_transform[0][0]))\n",
    "#     print(type(test_set_transform[0][0]))\n",
    "\n",
    "    test_result = data_reconstruction(test_set_transform, window)\n",
    "\n",
    "    # Prediction for next 48 data in test set\n",
    "    test_result = np.array(test_result)\n",
    "#     print(test_result.shape)\n",
    "    test_result = torch.from_numpy(test_result)\n",
    "\n",
    "#     print(window+forecast_day)\n",
    "#     print(test_set_copy[:,window+forecast_day][0])\n",
    "#     print(test_result[0])\n",
    "    test_set_copy[:,window+forecast_day] = test_result\n",
    "#     print(test_set_copy[:,window+forecast_day][0])\n",
    "#     print(test_set_copy.shape)\n",
    "\n",
    "average_test_loss = total_test_loss / param_dset_forecast\n",
    "print(f'Average test Loss: {average_test_loss:.6f}')\n",
    "    "
   ]
  },
  {
   "cell_type": "code",
   "execution_count": 15,
   "id": "004014ed",
   "metadata": {},
   "outputs": [
    {
     "name": "stdout",
     "output_type": "stream",
     "text": [
      "torch.Size([471, 24, 1])\n",
      "torch.Size([471, 24])\n",
      "torch.Size([471, 24, 1])\n",
      "torch.Size([471, 24])\n"
     ]
    }
   ],
   "source": [
    "# Original Data\n",
    "test_actual = test_set.series[:, param_dset_lookback:]\n",
    "print(test_actual.shape)\n",
    "\n",
    "test_actual = test_actual.squeeze(-1)\n",
    "print(test_actual.shape)\n",
    "\n",
    "test_predict = test_set_copy[:, param_dset_lookback:]\n",
    "print(test_predict.shape)\n",
    "\n",
    "test_predict = test_predict.squeeze(-1)\n",
    "print(test_predict.shape)\n",
    "\n",
    "# This was included in the original transformer_houses1to5_5min program\n",
    "# Re, test_actual=Re[:,1:], test_actual[:,:-1] # I don't understand\n",
    "# Similarly, taking the values 1 time step before results in the equally good RMSE value\n",
    "# test_actual = test_set[:, param_dset_lookback-1:param_dset_lookback-1+param_dset_forecast]"
   ]
  },
  {
   "cell_type": "code",
   "execution_count": 16,
   "id": "134a66ec",
   "metadata": {},
   "outputs": [],
   "source": [
    "from sklearn.preprocessing import MinMaxScaler,StandardScaler\n",
    "from sklearn.metrics import mean_squared_error,mean_absolute_error\n",
    "import matplotlib.pyplot as plt\n",
    "\n",
    "# Input contains Nan\n",
    "# test_rmse = math.sqrt( mean_squared_error(test_actual, Re))\n",
    "# test_mae=mean_absolute_error(test_actual, Re)\n",
    "# mape=100*np.mean(np.divide(abs(test_actual- Re),test_actual))\n",
    "\n",
    "test_rmse = torch.nn.MSELoss(reduction='none')(test_actual, test_predict).nanmean().sqrt_()\n",
    "\n",
    "test_mae = (test_predict-test_actual).abs_().nanmean()\n",
    "\n",
    "mape = (2*(test_actual-test_predict).abs_() / (test_actual.abs() + test_predict.abs())).nanmean()"
   ]
  },
  {
   "cell_type": "code",
   "execution_count": 17,
   "id": "ed6df351",
   "metadata": {},
   "outputs": [
    {
     "name": "stdout",
     "output_type": "stream",
     "text": [
      "RMSE:  0.108638\n",
      "MAE:  0.084079\n",
      "MAPE:  0.244449\n"
     ]
    }
   ],
   "source": [
    "print('RMSE:  %.6f' % test_rmse)\n",
    "print('MAE:  %.6f' % test_mae)\n",
    "print('MAPE:  %.6f' % mape)"
   ]
  },
  {
   "cell_type": "code",
   "execution_count": 21,
   "id": "7ca1d17c",
   "metadata": {},
   "outputs": [
    {
     "data": {
      "image/png": "[encoded data removed]",
      "text/plain": [
       "<Figure size 640x480 with 1 Axes>"
      ]
     },
     "metadata": {},
     "output_type": "display_data"
    }
   ],
   "source": [
    "fig = plt.figure()\n",
    "plt.plot(test_actual[0])\n",
    "plt.plot(test_predict[0])\n",
    "plt.xlabel('Time/hr')\n",
    "plt.ylabel('DAYTON prediction units(tentative)')\n",
    "plt.legend(['True', 'Predict'], loc='upper left')\n",
    "plt.show()\n"
   ]
  },
  {
   "cell_type": "code",
   "execution_count": 22,
   "id": "e0eab824",
   "metadata": {},
   "outputs": [
    {
     "data": {
      "image/png": "[encoded data removed]",
      "text/plain": [
       "<Figure size 640x480 with 1 Axes>"
      ]
     },
     "metadata": {},
     "output_type": "display_data"
    }
   ],
   "source": [
    "fig = plt.figure()\n",
    "plt.plot(test_actual[1])\n",
    "plt.plot(test_predict[1])\n",
    "plt.xlabel('Time/hr')\n",
    "plt.ylabel('DAYTON prediction units(tentative)')\n",
    "plt.legend(['True', 'Predict'], loc='upper left')\n",
    "plt.show()"
   ]
  },
  {
   "cell_type": "code",
   "execution_count": 23,
   "id": "e40c9cd6",
   "metadata": {},
   "outputs": [
    {
     "data": {
      "image/png": "[encoded data removed]",
      "text/plain": [
       "<Figure size 640x480 with 1 Axes>"
      ]
     },
     "metadata": {},
     "output_type": "display_data"
    }
   ],
   "source": [
    "fig = plt.figure()\n",
    "plt.plot(test_actual[200])\n",
    "plt.plot(test_predict[200])\n",
    "plt.xlabel('Time/hr')\n",
    "plt.ylabel('DAYTON prediction units(tentative)')\n",
    "plt.legend(['True', 'Predict'], loc='upper left')\n",
    "plt.show()"
   ]
  },
  {
   "cell_type": "markdown",
   "id": "4218aaab",
   "metadata": {},
   "source": [
    "###### "
   ]
  }
 ],
 "metadata": {
  "kernelspec": {
   "display_name": "swt_env",
   "language": "python",
   "name": "swt_env"
  },
  "language_info": {
   "codemirror_mode": {
    "name": "ipython",
    "version": 3
   },
   "file_extension": ".py",
   "mimetype": "text/x-python",
   "name": "python",
   "nbconvert_exporter": "python",
   "pygments_lexer": "ipython3",
   "version": "3.10.14"
  }
 },
 "nbformat": 4,
 "nbformat_minor": 5
}
