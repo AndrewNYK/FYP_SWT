{
 "cells": [
  {
   "cell_type": "code",
   "execution_count": 1,
   "id": "dffacd22-abe1-44b3-a11d-5a3c7e263931",
   "metadata": {},
   "outputs": [],
   "source": [
    "import pandas as pd\n",
    "import numpy as np\n",
    "import matplotlib.pyplot as plt\n",
    "import csv\n",
    "\n",
    "from tqdm.auto import tqdm"
   ]
  },
  {
   "cell_type": "code",
   "execution_count": 2,
   "id": "f31c05a5-3259-4477-baf9-13cfeb0f36ee",
   "metadata": {},
   "outputs": [],
   "source": [
    "from darts import TimeSeries\n",
    "from darts.metrics import mape, mase, rmse, mae, smape, mse\n",
    "\n",
    "from darts.utils.missing_values import fill_missing_values"
   ]
  },
  {
   "cell_type": "markdown",
   "id": "246f35ca-8e2a-420c-8d38-b996bafd0924",
   "metadata": {},
   "source": [
    "## MODWT functions"
   ]
  },
  {
   "cell_type": "code",
   "execution_count": 3,
   "id": "07b14ae0-c1f4-45e8-ba2f-5806264a7e16",
   "metadata": {},
   "outputs": [],
   "source": [
    "import numpy as np\n",
    "import pdb\n",
    "import pywt\n",
    "\n",
    "\n",
    "def upArrow_op(li, j):\n",
    "    if j == 0:\n",
    "        return [1]\n",
    "    N = len(li)\n",
    "    li_n = np.zeros(2 ** (j - 1) * (N - 1) + 1)\n",
    "    for i in range(N):\n",
    "        li_n[2 ** (j - 1) * i] = li[i]\n",
    "    return li_n\n",
    "\n",
    "\n",
    "def period_list(li, N):\n",
    "    n = len(li)\n",
    "    # append [0 0 ...]\n",
    "    n_app = N - np.mod(n, N)\n",
    "    li = list(li)\n",
    "    li = li + [0] * n_app\n",
    "    if len(li) < 2 * N:\n",
    "        return np.array(li)\n",
    "    else:\n",
    "        li = np.array(li)\n",
    "        li = np.reshape(li, [-1, N])\n",
    "        li = np.sum(li, axis=0)\n",
    "        return li\n",
    "\n",
    "\n",
    "def circular_convolve_mra( signal, ker ):\n",
    "    '''\n",
    "        signal: real 1D array\n",
    "        ker: real 1D array\n",
    "        signal and ker must have same shape\n",
    "        Modification of \n",
    "            https://stackoverflow.com/questions/35474078/python-1d-array-circular-convolution\n",
    "    '''\n",
    "    return np.flip(np.real(np.fft.ifft( np.fft.fft(signal)*np.fft.fft(np.flip(ker))))).astype(np.int).tolist()\n",
    "\n",
    "\n",
    "def circular_convolve_d(h_t, v_j_1, j):\n",
    "    '''\n",
    "    jth level decomposition\n",
    "    h_t: \\tilde{h} = h / sqrt(2)\n",
    "    v_j_1: v_{j-1}, the (j-1)th scale coefficients\n",
    "    return: w_j (or v_j)\n",
    "    '''\n",
    "    N = len(v_j_1)\n",
    "    L = len(h_t)\n",
    "    w_j = np.zeros(N)\n",
    "    l = np.arange(L)\n",
    "    for t in range(N):\n",
    "        index = np.mod(t - 2 ** (j - 1) * l, N)\n",
    "        v_p = np.array([v_j_1[ind] for ind in index])\n",
    "        w_j[t] = (np.array(h_t) * v_p).sum()\n",
    "    return w_j\n",
    "\n",
    "\n",
    "def circular_convolve_s(h_t, g_t, w_j, v_j, j):\n",
    "    '''\n",
    "    (j-1)th level synthesis from w_j, w_j\n",
    "    see function circular_convolve_d\n",
    "    '''\n",
    "    N = len(v_j)\n",
    "    L = len(h_t)\n",
    "    v_j_1 = np.zeros(N)\n",
    "    l = np.arange(L)\n",
    "    for t in range(N):\n",
    "        index = np.mod(t + 2 ** (j - 1) * l, N)\n",
    "        w_p = np.array([w_j[ind] for ind in index])\n",
    "        v_p = np.array([v_j[ind] for ind in index])\n",
    "        v_j_1[t] = (np.array(h_t) * w_p).sum()\n",
    "        v_j_1[t] = v_j_1[t] + (np.array(g_t) * v_p).sum()\n",
    "    return v_j_1\n",
    "\n",
    "\n",
    "def modwt(x, filters, level):\n",
    "    '''\n",
    "    filters: 'db1', 'db2', 'haar', ...\n",
    "    return: see matlab\n",
    "    '''\n",
    "    # filter\n",
    "    wavelet = pywt.Wavelet(filters)\n",
    "    h = wavelet.dec_hi\n",
    "    g = wavelet.dec_lo\n",
    "    h_t = np.array(h) / np.sqrt(2)\n",
    "    g_t = np.array(g) / np.sqrt(2)\n",
    "    wavecoeff = []\n",
    "    v_j_1 = x\n",
    "    for j in range(level):\n",
    "        w = circular_convolve_d(h_t, v_j_1, j + 1)\n",
    "        v_j_1 = circular_convolve_d(g_t, v_j_1, j + 1)\n",
    "        wavecoeff.append(w)\n",
    "    wavecoeff.append(v_j_1)\n",
    "    return np.vstack(wavecoeff)\n",
    "\n",
    "\n",
    "def imodwt(w, filters):\n",
    "    ''' inverse modwt '''\n",
    "    # filter\n",
    "    wavelet = pywt.Wavelet(filters)\n",
    "    h = wavelet.dec_hi\n",
    "    g = wavelet.dec_lo\n",
    "    h_t = np.array(h) / np.sqrt(2)\n",
    "    g_t = np.array(g) / np.sqrt(2)\n",
    "    level = len(w) - 1\n",
    "    v_j = w[-1]\n",
    "    for jp in range(level):\n",
    "        j = level - jp - 1\n",
    "        v_j = circular_convolve_s(h_t, g_t, w[j], v_j, j + 1)\n",
    "    return v_j\n",
    "\n",
    "\n",
    "def modwtmra(w, filters):\n",
    "    ''' Multiresolution analysis based on MODWT'''\n",
    "    # filter\n",
    "    wavelet = pywt.Wavelet(filters)\n",
    "    h = wavelet.dec_hi\n",
    "    g = wavelet.dec_lo\n",
    "    # D\n",
    "    level, N = w.shape\n",
    "    level = level - 1\n",
    "    D = []\n",
    "    g_j_part = [1]\n",
    "    for j in range(level):\n",
    "        # g_j_part\n",
    "        g_j_up = upArrow_op(g, j)\n",
    "        g_j_part = np.convolve(g_j_part, g_j_up)\n",
    "        # h_j_o\n",
    "        h_j_up = upArrow_op(h, j + 1)\n",
    "        h_j = np.convolve(g_j_part, h_j_up)\n",
    "        h_j_t = h_j / (2 ** ((j + 1) / 2.))\n",
    "        if j == 0: h_j_t = h / np.sqrt(2)\n",
    "        h_j_t_o = period_list(h_j_t, N)\n",
    "        D.append(circular_convolve_mra(h_j_t_o, w[j]))\n",
    "    # S\n",
    "    j = level - 1\n",
    "    g_j_up = upArrow_op(g, j + 1)\n",
    "    g_j = np.convolve(g_j_part, g_j_up)\n",
    "    g_j_t = g_j / (2 ** ((j + 1) / 2.))\n",
    "    g_j_t_o = period_list(g_j_t, N)\n",
    "    S = circular_convolve_mra(g_j_t_o, w[-1])\n",
    "    D.append(S)\n",
    "    return np.vstack(D)"
   ]
  },
  {
   "cell_type": "markdown",
   "id": "7116f9ee-964d-48ac-9808-b71b010ac041",
   "metadata": {},
   "source": [
    "## Prepare Dataset"
   ]
  },
  {
   "cell_type": "code",
   "execution_count": 4,
   "id": "fcdf62c4-7d1f-4597-81a6-14539c7b8d38",
   "metadata": {},
   "outputs": [
    {
     "name": "stdout",
     "output_type": "stream",
     "text": [
      "48\n"
     ]
    }
   ],
   "source": [
    "#Default settings for experiment\n",
    "arg_model = \"tsrnn\" #Options: 'trfbb', 'tsrnn', 'trfbf'\n",
    "arg_dset = \"lsm\" #Datasets -- Spain: 'ree', AEP, DAYTON: 'dyt' London: 'lsm'\n",
    "\n",
    "attr_dset_smpl_rt = 24 if arg_dset == \"aep\" else (48 if arg_dset == \"lsm\" else 24) #Samples per day. Spain, AEP: 24, London: 48\n",
    "param_dset_lookback_weeks = 5\n",
    "param_dset_forecast = 48 if arg_dset == \"lsm\" else 24\n",
    "# param_dset_lookback_weeks = 9\n",
    "# param_dset_forecast = 168 if arg_dset == \"lsm\" else 84 # 3.5days = 168\n",
    "param_dset_train_stride = 48 #Choose a coprime value to the forecast so all reading frames are eventually considered\n",
    "param_dset_test_stride = 'same' #tsrnn paper uses 1 week\n",
    "param_dset_lookback = param_dset_lookback_weeks*7*attr_dset_smpl_rt - param_dset_forecast\n",
    "\n",
    "param_trf_weather = False\n",
    "\n",
    "print(param_dset_forecast)"
   ]
  },
  {
   "cell_type": "code",
   "execution_count": 5,
   "id": "1b38cf31-6cd4-4ef3-8db4-eaff6f8d9b2f",
   "metadata": {},
   "outputs": [],
   "source": [
    "import os\n",
    "os.system('')\n",
    "import pgzip\n",
    "import pickle\n",
    "import copy\n",
    "import torch\n",
    "import datetime\n",
    "\n",
    "# path='Datasets/LondonSmartMeter' # if under experiments folder\n",
    "path = './LondonSmartMeter'\n",
    "seq_len = param_dset_lookback\n",
    "pred_horz = param_dset_forecast\n",
    "weather = param_trf_weather\n",
    "timestamps = False\n",
    "weather = False\n",
    "\n",
    "\n",
    "if 'lsm_dict.pkl.pgz' not in os.listdir(path):\n",
    "    subprocess.check_call('python ./LondonSmartMeter_hhour.py ./LondonSmartMeter lsm_dict.pkl')\n",
    "if 'londonWeather.pkl.pgz' not in os.listdir(path):   \n",
    "    raise ValueError\n",
    "\n",
    "with pgzip.open(os.path.join(path,'lsm_dict.pkl.pgz'),'rb') as f:\n",
    "    s_dict = pickle.load(f)\n",
    "    \n"
   ]
  },
  {
   "cell_type": "code",
   "execution_count": 6,
   "id": "5e5aa8d7-6341-4883-84fb-6f7c7dfae455",
   "metadata": {},
   "outputs": [
    {
     "name": "stdout",
     "output_type": "stream",
     "text": [
      "before series: torch.Size([14, 1680])\n",
      "start_times_ after:  [[2012, 10, 12, 0, 30, 0], [2012, 11, 16, 0, 30, 0], [2012, 12, 21, 0, 30, 0], [2013, 1, 25, 0, 30, 0], [2013, 3, 1, 0, 30, 0], [2013, 4, 5, 0, 30, 0], [2013, 5, 10, 0, 30, 0], [2013, 6, 14, 0, 30, 0], [2013, 7, 19, 0, 30, 0], [2013, 8, 23, 0, 30, 0], [2013, 9, 27, 0, 30, 0], [2013, 11, 1, 0, 30, 0], [2013, 12, 6, 0, 30, 0], [2014, 1, 10, 0, 30, 0]]\n",
      "start_times after:  [[2012, 10, 12, 0, 30, 0], [2012, 11, 16, 0, 30, 0], [2012, 12, 21, 0, 30, 0], [2013, 1, 25, 0, 30, 0], [2013, 3, 1, 0, 30, 0], [2013, 4, 5, 0, 30, 0], [2013, 5, 10, 0, 30, 0], [2013, 6, 14, 0, 30, 0], [2013, 7, 19, 0, 30, 0], [2013, 8, 23, 0, 30, 0], [2013, 9, 27, 0, 30, 0], [2013, 11, 1, 0, 30, 0], [2013, 12, 6, 0, 30, 0], [2014, 1, 10, 0, 30, 0]]\n",
      "before concat series: 5561\n",
      "before concat series: torch.Size([14, 1680])\n",
      "before normalization series: torch.Size([97143, 1680, 1])\n",
      "total series shape:  torch.Size([97143, 1680, 1])\n"
     ]
    }
   ],
   "source": [
    "self_has_weather = weather\n",
    "self_return_timestamps = timestamps\n",
    "\n",
    "self_weather_dict = None\n",
    "if self_has_weather:\n",
    "    with pgzip.open(os.path.join(path,'londonWeather.pkl.pgz'),'rb') as f2:\n",
    "        weather_dict = pickle.load(f2)\n",
    "\n",
    "    self_weather_dict = weather_dict\n",
    "\n",
    "#s_dict is dictionary as follows: { lclid: (start_timestamp,Tensor), ...}\n",
    "\n",
    "#List to store the dataset indices corresponding to each household\n",
    "self_household_idxs = [None]*len(s_dict)\n",
    "#List to hold the split series\n",
    "self_series = [None]*len(s_dict)\n",
    "#These two lists will be converted to torch tensors\n",
    "self_start_times = []\n",
    "self_pred_starttimes = []\n",
    "#These two lists stores the datetime format\n",
    "self_start_times__ = []\n",
    "#self.pred_starttimes__ = []\n",
    "\n",
    "index_count = 0\n",
    "\n",
    "# Enumerate all keys in dictionary -> lclid\n",
    "for index, lclid in enumerate(s_dict.keys()):    \n",
    "    start_time, s_tensor = s_dict[lclid]\n",
    "    #start_time[0] = start_time[0]%400\n",
    "    \n",
    "    #pad_amt = (seq_len+pred_horz) - (len(s_tensor)%(seq_len+pred_horz))\n",
    "    #s_tensor = torch.nn.functional.pad(s_tensor,pad = (pad_amt,0), value = torch.nan)\n",
    "    \n",
    "    #Split into chunks of seq_len+pred_horz length each\n",
    "    s_tensors = s_tensor.split(seq_len+pred_horz)\n",
    "\n",
    "    #Compute start timestamps for splits\n",
    "    start_times = [None]*len(s_tensors)\n",
    "    pred_starttimes = [None]*len(s_tensors)\n",
    "\n",
    "    for i in range(len(start_times)):\n",
    "        minutes_delta = 30*i*(seq_len + pred_horz)\n",
    "        time_delta = datetime.timedelta(minutes=minutes_delta)\n",
    "        new_start_time = start_time + time_delta\n",
    "        start_times[i] = new_start_time\n",
    "\n",
    "    # Reinitialised for computation of prediction start time\n",
    "    minutes_delta = 30*seq_len\n",
    "    time_delta = datetime.timedelta(minutes=minutes_delta)\n",
    "\n",
    "    #Compute prediction start timestamps\n",
    "    for i in range(len(pred_starttimes)):\n",
    "        new_predtime = start_times[i] + time_delta\n",
    "        pred_starttimes[i] = [new_predtime.year,\n",
    "                              new_predtime.month,\n",
    "                              new_predtime.day,\n",
    "                              new_predtime.hour,\n",
    "                              new_predtime.minute,\n",
    "                              new_predtime.second]\n",
    "\n",
    "    ''' \n",
    "    A shallow copy, li2, is created using copy.copy(), \n",
    "    preserving the top-level structure but sharing references to the inner lists. \n",
    "    A deep copy, li3, is created using copy.deepcopy(), resulting in a completely \n",
    "    independent copy of li1, including all nested elements\n",
    "    '''\n",
    "    \n",
    "    start_times__ = copy.deepcopy(start_times)\n",
    "    for i in range(len(start_times)):\n",
    "        new_start_time = start_times[i]\n",
    "        start_times[i] = [new_start_time.year,\n",
    "                          new_start_time.month,\n",
    "                          new_start_time.day,\n",
    "                          new_start_time.hour,\n",
    "                          new_start_time.minute,\n",
    "                          new_start_time.second]\n",
    "\n",
    "    #Remove last if length less than the others\n",
    "    if s_tensors[-1].shape[0] < seq_len+pred_horz:\n",
    "        s_tensors = s_tensors[:-1]\n",
    "        start_times = start_times[:-1]\n",
    "        pred_starttimes = pred_starttimes[:-1]\n",
    "        start_times__ = start_times__[:-1]\n",
    "\n",
    "    if len(s_tensors) == 0:\n",
    "        self_series[index] = torch.empty(0)                    \n",
    "    else:\n",
    "        '''\n",
    "        torch.stack()\n",
    "        Concatenates a sequence of tensors along a new dimension.\n",
    "        All tensors need to be of the same size.\n",
    "        '''\n",
    "        s_tensors = torch.stack(s_tensors)\n",
    "        # Remove invalid (more than 4/5 (80%) of series is 0 or nan)\n",
    "        s_tensors[s_tensors==0] = torch.nan # 0s are invalid too, replace with nan\n",
    "        # Count those tensor index with less than 80% invalid\n",
    "        sel = (( (s_tensors==0) | s_tensors.isnan()).sum(dim=-1) < (4*(seq_len+pred_horz)//5))\n",
    "        s_tensors = s_tensors[sel]\n",
    "        \n",
    "        # Get start, prediction times for those with less than 80% nan\n",
    "        start_times_ = [start_times[i] for i in range(len(start_times)) if sel[i]]\n",
    "        pred_starttimes_ = [pred_starttimes[i] for i in range(len(pred_starttimes)) if sel[i]]\n",
    "        _start_times__ = [ start_times__[i] for i in range(len(start_times__)) if sel[i]]\n",
    "        \n",
    "        self_series[index] = s_tensors\n",
    "        if index==0:\n",
    "            print(\"before series:\", self_series[0].shape)\n",
    "        self_start_times = self_start_times + start_times_\n",
    "        if index==0:\n",
    "            print(\"start_times_ after: \", start_times_)\n",
    "            print(\"start_times after: \", start_times)\n",
    "        self_pred_starttimes = self_pred_starttimes + pred_starttimes_\n",
    "        self_start_times__ = self_start_times__ + _start_times__\n",
    "\n",
    "    if len(s_tensors) == 0:\n",
    "        self_household_idxs[index] = []\n",
    "    else:\n",
    "        self_household_idxs[index] = list(range(index_count,index_count+len(s_tensors)))\n",
    "        index_count = index_count + len(s_tensors)\n",
    "        \n",
    "print(\"before concat series:\", len(self_series))\n",
    "print(\"before concat series:\", self_series[0].shape)\n",
    "# Concat all households series but retain 1680 seq_len predictions\n",
    "self_series = torch.cat(self_series,dim=0).unsqueeze(-1)\n",
    "print(\"before normalization series:\", self_series.shape)\n",
    "\n",
    "self_start_times = torch.tensor(self_start_times,dtype = torch.long)\n",
    "self_pred_starttimes = torch.tensor(self_pred_starttimes,dtype = torch.long)\n",
    "\n",
    "#self.series[:,:seq_len] = self.series[:,:seq_len].nan_to_num(nan=0.,posinf=0.,neginf=0.)\n",
    "\n",
    "#Series normalization\n",
    "smin = self_series.nan_to_num(nan=torch.finfo(self_series.dtype).max).amin(dim=-2,keepdim=True)\n",
    "smax = self_series.nan_to_num(nan=torch.finfo(self_series.dtype).min).amax(dim=-2,keepdim=True)\n",
    "# Normalize over dimension -2, which is seq_len + prediction len\n",
    "self_series = (self_series - smin.broadcast_to(self_series.shape))/(smax-smin+1e-10).broadcast_to(self_series.shape)\n",
    "\n",
    "print(\"total series shape: \", self_series.shape)\n",
    "\n",
    "\n",
    "if self_has_weather:\n",
    "    #Weather series normalization\n",
    "    #Only dimensions 0, 3, 4, 5, 6, 7 needs normalization\n",
    "    wdmin = self_weather_dict['tensor'].nan_to_num(nan=torch.finfo(self_weather_dict['tensor'].dtype).max).amin(dim=-2,keepdim=True)\n",
    "    wdmax = self_weather_dict['tensor'].nan_to_num(nan=torch.finfo(self_weather_dict['tensor'].dtype).min).amax(dim=-2,keepdim=True)\n",
    "    self_weather_dict['tensor'] = (self_weather_dict['tensor'] - wdmin.broadcast_to(self_weather_dict['tensor'].shape))\\\n",
    "        /(wdmax-wdmin + 1e-10).broadcast_to(self_weather_dict['tensor'].shape)\n",
    "\n",
    "    self_weather_dict['tensor'] = self_weather_dict['tensor'].type(torch.float32)\n",
    "\n",
    "self_length = len(self_series)\n",
    "self_seq_len = seq_len\n",
    "self_pred_horz = pred_horz"
   ]
  },
  {
   "cell_type": "code",
   "execution_count": 7,
   "id": "3652aac7-9baa-4229-aad2-e30bb734d675",
   "metadata": {},
   "outputs": [
    {
     "name": "stdout",
     "output_type": "stream",
     "text": [
      "torch.Size([1334, 1680, 1])\n",
      "torch.Size([800, 1680, 1])\n",
      "torch.Size([267, 1680, 1])\n",
      "torch.Size([267, 1680, 1])\n"
     ]
    }
   ],
   "source": [
    "dat = self_series[:1334]\n",
    "\n",
    "print(dat.shape)\n",
    "# alpha=0.6667\n",
    "\n",
    "alpha = 0.6\n",
    "beta = 0.8\n",
    "\n",
    "\n",
    "train_set = dat[:int(dat.shape[0]*alpha),:,:]\n",
    "val_set = dat[int(dat.shape[0]*alpha):int(dat.shape[0]*beta),:,:]\n",
    "test_set = dat[int(dat.shape[0]*beta):,:,:]\n",
    "\n",
    "print(train_set.shape)\n",
    "print(val_set.shape)\n",
    "print(test_set.shape)"
   ]
  },
  {
   "cell_type": "markdown",
   "id": "d6190299-730e-4e2d-82ef-a58c66ea0464",
   "metadata": {},
   "source": [
    "## Import Models for comparison"
   ]
  },
  {
   "cell_type": "code",
   "execution_count": 8,
   "id": "c243c0dd-d64e-4791-8bf7-3c067c175448",
   "metadata": {},
   "outputs": [],
   "source": [
    "#Importing the testing models\n",
    "from darts.models import (\n",
    "    NaiveSeasonal,\n",
    "    NaiveDrift,\n",
    "    Prophet,\n",
    "    ExponentialSmoothing,\n",
    "    ARIMA,\n",
    "    AutoARIMA,\n",
    "    VARIMA,\n",
    "    BATS,\n",
    "    TBATS,\n",
    "    StatsForecastAutoARIMA,\n",
    "    RegressionEnsembleModel,\n",
    "    RegressionModel,\n",
    "    Theta,\n",
    "    FourTheta,\n",
    "    FFT,\n",
    "    NBEATSModel,\n",
    "    TFTModel,\n",
    "    RNNModel,\n",
    "    TransformerModel,\n",
    ")"
   ]
  },
  {
   "cell_type": "code",
   "execution_count": 9,
   "id": "8d2291b2-7f2b-4ea4-ba97-bf049a2e22f7",
   "metadata": {},
   "outputs": [],
   "source": [
    "def eval_model(model, train, val, f=None ):\n",
    "    model.fit(train)\n",
    "    forecast = model.predict(len(val))\n",
    "    mseRes = mse(val, forecast)\n",
    "    rmseRes = rmse(val, forecast)\n",
    "    # mapeRes = mape(val, forecast)\n",
    "    maeRes = mae(val, forecast)\n",
    "    smapeRes = smape(val, forecast)\n",
    "    # maseRes = mase(val, forecast,train)\n",
    "    \n",
    "    # print('model {} obtains MSE: {:.6f}'.format(model,mseRes))\n",
    "    # print('model {} obtains RMSE: {:.6f}'.format(model,rmseRes))\n",
    "    # # print('model {} obtains MAPE: {:.6f}'.format(model,mapeRes ))\n",
    "    # print('model {} obtains MAE: {:.6f}'.format(model, maeRes))\n",
    "    # print('model {} obtains SMAPE: {:.6f}'.format(model,smapeRes ))\n",
    "    # print('model {} obtains MASE: {:.6f}'.format(model,maseRes ))\n",
    "\n",
    "    return forecast, mseRes, rmseRes, maeRes, smapeRes"
   ]
  },
  {
   "cell_type": "markdown",
   "id": "e6179e24-9f90-4695-94f1-ae4cffca11a5",
   "metadata": {},
   "source": [
    "## Prepare Data"
   ]
  },
  {
   "cell_type": "code",
   "execution_count": 10,
   "id": "384bcecb-500f-4cd1-ab75-9cffd802dbca",
   "metadata": {},
   "outputs": [
    {
     "name": "stdout",
     "output_type": "stream",
     "text": [
      "(267, 1680)\n"
     ]
    }
   ],
   "source": [
    "train_set_squeeze = train_set.squeeze(-1)\n",
    "# print(train_set_squeeze.shape)\n",
    "train_np = train_set_squeeze.numpy()\n",
    "# print((type(train_np)))\n",
    "train_series = np.nan_to_num(train_np[:])\n",
    "\n",
    "val_set_squeeze = val_set.squeeze(-1)\n",
    "# print(train_set_squeeze.shape)\n",
    "val_np = val_set_squeeze.numpy()\n",
    "val_series = np.nan_to_num(val_np[:])\n",
    "\n",
    "test_set_squeeze = test_set.squeeze(-1)\n",
    "# print(train_set_squeeze.shape)\n",
    "test_np = test_set_squeeze[:,:].numpy()\n",
    "test_series = np.nan_to_num(test_np)\n",
    "\n",
    "print(test_series.shape)"
   ]
  },
  {
   "cell_type": "code",
   "execution_count": 11,
   "id": "7671c716-228d-4efe-8622-63eb32ea2c0e",
   "metadata": {},
   "outputs": [
    {
     "data": {
      "application/vnd.jupyter.widget-view+json": {
       "model_id": "60a0c49c9b4749e7a3430ffe26b55654",
       "version_major": 2,
       "version_minor": 0
      },
      "text/plain": [
       "Series Conversion:   0%|          | 0/800 [00:00<?, ?it/s]"
      ]
     },
     "metadata": {},
     "output_type": "display_data"
    },
    {
     "data": {
      "application/vnd.jupyter.widget-view+json": {
       "model_id": "f7a1cfcfdfc64d9ab8984ea3d56b4ece",
       "version_major": 2,
       "version_minor": 0
      },
      "text/plain": [
       "Series Conversion:   0%|          | 0/267 [00:00<?, ?it/s]"
      ]
     },
     "metadata": {},
     "output_type": "display_data"
    },
    {
     "data": {
      "application/vnd.jupyter.widget-view+json": {
       "model_id": "fa9137481f464031ae8754d8975c3acc",
       "version_major": 2,
       "version_minor": 0
      },
      "text/plain": [
       "Series Conversion:   0%|          | 0/267 [00:00<?, ?it/s]"
      ]
     },
     "metadata": {},
     "output_type": "display_data"
    }
   ],
   "source": [
    "# Create time series separate from one another\n",
    "train_TimeSeries = []\n",
    "val_TimeSeries = []\n",
    "test_TimeSeries = []\n",
    "\n",
    "\n",
    "for i in tqdm(range(len(train_series)), total=len(train_series), desc=\"Series Conversion\", position=1, leave=True):\n",
    "    train_temp = TimeSeries.from_values(train_series[i])\n",
    "    train_TimeSeries.append(train_temp)\n",
    "\n",
    "for i in tqdm(range(len(val_series)), total=len(val_series), desc=\"Series Conversion\", position=1, leave=True):\n",
    "    val_temp = TimeSeries.from_values(val_series[i])\n",
    "    val_TimeSeries.append(val_temp)\n",
    "\n",
    "for i in tqdm(range(len(test_series)), total=len(test_series), desc=\"Series Conversion\", position=1, leave=True):\n",
    "    test_temp = TimeSeries.from_values(test_series[i])\n",
    "    test_TimeSeries.append(test_temp)"
   ]
  },
  {
   "cell_type": "code",
   "execution_count": 12,
   "id": "7fcaa3d4-0e9d-4306-9d39-6a9a0ccb3c1a",
   "metadata": {},
   "outputs": [
    {
     "name": "stderr",
     "output_type": "stream",
     "text": [
      "GPU available: True (cuda), used: True\n",
      "TPU available: False, using: 0 TPU cores\n",
      "IPU available: False, using: 0 IPUs\n",
      "HPU available: False, using: 0 HPUs\n",
      "LOCAL_RANK: 0 - CUDA_VISIBLE_DEVICES: [0]\n",
      "\n",
      "  | Name                | Type                | Params\n",
      "------------------------------------------------------------\n",
      "0 | criterion           | MSELoss             | 0     \n",
      "1 | train_metrics       | MetricCollection    | 0     \n",
      "2 | val_metrics         | MetricCollection    | 0     \n",
      "3 | encoder             | Linear              | 32    \n",
      "4 | positional_encoding | _PositionalEncoding | 0     \n",
      "5 | transformer         | Transformer         | 23.9 K\n",
      "6 | decoder             | Linear              | 17    \n",
      "------------------------------------------------------------\n",
      "23.9 K    Trainable params\n",
      "0         Non-trainable params\n",
      "23.9 K    Total params\n",
      "0.096     Total estimated model params size (MB)\n"
     ]
    },
    {
     "data": {
      "application/vnd.jupyter.widget-view+json": {
       "model_id": "",
       "version_major": 2,
       "version_minor": 0
      },
      "text/plain": [
       "Sanity Checking: |                                                                               | 0/? [00:00<…"
      ]
     },
     "metadata": {},
     "output_type": "display_data"
    },
    {
     "data": {
      "application/vnd.jupyter.widget-view+json": {
       "model_id": "8f0ed34d4f884e89bfb79da37461bbf9",
       "version_major": 2,
       "version_minor": 0
      },
      "text/plain": [
       "Training: |                                                                                      | 0/? [00:00<…"
      ]
     },
     "metadata": {},
     "output_type": "display_data"
    },
    {
     "data": {
      "application/vnd.jupyter.widget-view+json": {
       "model_id": "",
       "version_major": 2,
       "version_minor": 0
      },
      "text/plain": [
       "Validation: |                                                                                    | 0/? [00:00<…"
      ]
     },
     "metadata": {},
     "output_type": "display_data"
    },
    {
     "data": {
      "application/vnd.jupyter.widget-view+json": {
       "model_id": "",
       "version_major": 2,
       "version_minor": 0
      },
      "text/plain": [
       "Validation: |                                                                                    | 0/? [00:00<…"
      ]
     },
     "metadata": {},
     "output_type": "display_data"
    },
    {
     "data": {
      "application/vnd.jupyter.widget-view+json": {
       "model_id": "",
       "version_major": 2,
       "version_minor": 0
      },
      "text/plain": [
       "Validation: |                                                                                    | 0/? [00:00<…"
      ]
     },
     "metadata": {},
     "output_type": "display_data"
    },
    {
     "data": {
      "application/vnd.jupyter.widget-view+json": {
       "model_id": "",
       "version_major": 2,
       "version_minor": 0
      },
      "text/plain": [
       "Validation: |                                                                                    | 0/? [00:00<…"
      ]
     },
     "metadata": {},
     "output_type": "display_data"
    },
    {
     "data": {
      "application/vnd.jupyter.widget-view+json": {
       "model_id": "",
       "version_major": 2,
       "version_minor": 0
      },
      "text/plain": [
       "Validation: |                                                                                    | 0/? [00:00<…"
      ]
     },
     "metadata": {},
     "output_type": "display_data"
    },
    {
     "data": {
      "application/vnd.jupyter.widget-view+json": {
       "model_id": "",
       "version_major": 2,
       "version_minor": 0
      },
      "text/plain": [
       "Validation: |                                                                                    | 0/? [00:00<…"
      ]
     },
     "metadata": {},
     "output_type": "display_data"
    },
    {
     "data": {
      "application/vnd.jupyter.widget-view+json": {
       "model_id": "",
       "version_major": 2,
       "version_minor": 0
      },
      "text/plain": [
       "Validation: |                                                                                    | 0/? [00:00<…"
      ]
     },
     "metadata": {},
     "output_type": "display_data"
    },
    {
     "data": {
      "application/vnd.jupyter.widget-view+json": {
       "model_id": "",
       "version_major": 2,
       "version_minor": 0
      },
      "text/plain": [
       "Validation: |                                                                                    | 0/? [00:00<…"
      ]
     },
     "metadata": {},
     "output_type": "display_data"
    },
    {
     "data": {
      "application/vnd.jupyter.widget-view+json": {
       "model_id": "",
       "version_major": 2,
       "version_minor": 0
      },
      "text/plain": [
       "Validation: |                                                                                    | 0/? [00:00<…"
      ]
     },
     "metadata": {},
     "output_type": "display_data"
    },
    {
     "data": {
      "application/vnd.jupyter.widget-view+json": {
       "model_id": "",
       "version_major": 2,
       "version_minor": 0
      },
      "text/plain": [
       "Validation: |                                                                                    | 0/? [00:00<…"
      ]
     },
     "metadata": {},
     "output_type": "display_data"
    },
    {
     "name": "stderr",
     "output_type": "stream",
     "text": [
      "`Trainer.fit` stopped: `max_epochs=10` reached.\n"
     ]
    },
    {
     "data": {
      "text/plain": [
       "TransformerModel(output_chunk_shift=0, d_model=16, nhead=8, num_encoder_layers=2, num_decoder_layers=2, dim_feedforward=128, dropout=0.1, activation=relu, norm_type=None, custom_encoder=None, custom_decoder=None, input_chunk_length=12, output_chunk_length=1, batch_size=64, n_epochs=10, model_name=London_base_transformer_HIST_5_48, nr_epochs_val_period=1, random_state=42, save_checkpoints=True, force_reset=True)"
      ]
     },
     "execution_count": 12,
     "metadata": {},
     "output_type": "execute_result"
    }
   ],
   "source": [
    "from pytorch_lightning.callbacks.early_stopping import EarlyStopping\n",
    "\n",
    "# stop training when validation loss does not decrease more than 0.05 (`min_delta`) over\n",
    "# a period of 2 epochs (`patience`)\n",
    "my_stopper = EarlyStopping(\n",
    "    monitor=\"val_loss\",\n",
    "    patience=2,\n",
    "    min_delta=0.0,\n",
    "    mode='min',\n",
    ")\n",
    "\n",
    "Transformer = TransformerModel(\n",
    "    # input_chunk_length=50,\n",
    "    input_chunk_length=12,\n",
    "    output_chunk_length=1,\n",
    "    batch_size=64,\n",
    "    n_epochs=10,\n",
    "    model_name=\"London_base_transformer_HIST_{}_{}\".format(param_dset_lookback_weeks, param_dset_forecast),\n",
    "    nr_epochs_val_period=1,\n",
    "    d_model=16,\n",
    "    nhead=8,\n",
    "    # d_model=64,\n",
    "    # nhead=32,\n",
    "    num_encoder_layers=2,\n",
    "    num_decoder_layers=2,\n",
    "    dim_feedforward=128,\n",
    "    dropout=0.1,\n",
    "    activation=\"relu\",\n",
    "    random_state=42,\n",
    "    save_checkpoints=True,\n",
    "    force_reset=True,\n",
    "    # pl_trainer_kwargs = {\"accelerator\": \"gpu\", \n",
    "    #                    \"gpus\": -1, \n",
    "    #                    \"auto_select_gpus\": True},\n",
    "    # pl_trainer_kwargs = {\"callbacks\": [my_stopper]}\n",
    "    )\n",
    "\n",
    "# Transformer.fit(series=test_TimeSeries, verbose=True)\n",
    "Transformer.fit(series=train_TimeSeries, val_series=val_TimeSeries, verbose=True)\n",
    "# Transformer.save(\"Base_transformer_model.pt\")\n",
    "# best_val_model = TransformerModel.load(\"Base_transformer_model.pt\")"
   ]
  },
  {
   "cell_type": "code",
   "execution_count": 13,
   "id": "05bbfef9-b5d3-4e38-9f0b-b27058c5ba8d",
   "metadata": {},
   "outputs": [],
   "source": [
    "# best_val_model = TransformerModel.load_from_checkpoint(\"London_base_transformer_HIST_{}_{}\".format(param_dset_lookback_weeks, param_dset_forecast))"
   ]
  },
  {
   "cell_type": "code",
   "execution_count": 24,
   "id": "30f81bae-3cb8-47b2-a990-772e124988d0",
   "metadata": {},
   "outputs": [
    {
     "name": "stderr",
     "output_type": "stream",
     "text": [
      "GPU available: True (cuda), used: True\n",
      "TPU available: False, using: 0 TPU cores\n",
      "IPU available: False, using: 0 IPUs\n",
      "HPU available: False, using: 0 HPUs\n",
      "LOCAL_RANK: 0 - CUDA_VISIBLE_DEVICES: [0]\n"
     ]
    },
    {
     "data": {
      "application/vnd.jupyter.widget-view+json": {
       "model_id": "be26b1efabbc4c0785c5d7fa50c93531",
       "version_major": 2,
       "version_minor": 0
      },
      "text/plain": [
       "Predicting: |                                                                                    | 0/? [00:00<…"
      ]
     },
     "metadata": {},
     "output_type": "display_data"
    },
    {
     "data": {
      "text/plain": [
       "49"
      ]
     },
     "execution_count": 24,
     "metadata": {},
     "output_type": "execute_result"
    }
   ],
   "source": [
    "# pred_series = best_val_model.predict(n=param_dset_forecast, series=test_TimeSeries)\n",
    "pred_series = Transformer.historical_forecasts(test_TimeSeries,\n",
    "                                                start = param_dset_lookback, #the first point in time at which a prediction is computed\n",
    "                                                retrain=False,\n",
    "                                                verbose=True,\n",
    "                                                )\n",
    "len(pred_series)\n",
    "len(pred_series[0])\n",
    "\n",
    "# test_actual = test_set_squeeze.numpy()\n",
    "# test_actual = np.nan_to_num(test_actual)\n",
    "\n",
    "# for i in tqdm(range(len(test_actual)), total=len(test_actual), desc=\"Series Conversion\", position=1, leave=True):\n",
    "#     test_temp = TimeSeries.from_values(test_actual[i])\n",
    "#     test_actual_TimeSeries.append(test_temp[param_dset_lookback:])"
   ]
  },
  {
   "cell_type": "code",
   "execution_count": 41,
   "id": "e267bf4a-8181-492a-b6bc-f5b01e6c7dc1",
   "metadata": {},
   "outputs": [],
   "source": [
    "test_actual_TimeSeries = []\n",
    "for i in range(len(test_TimeSeries)):\n",
    "    test_actual_TimeSeries.append(TimeSeries.from_values(np.array(test_series[i])))"
   ]
  },
  {
   "cell_type": "code",
   "execution_count": 42,
   "id": "4820efde-624d-492f-a8eb-e5c5bae4ea48",
   "metadata": {},
   "outputs": [
    {
     "data": {
      "text/plain": [
       "<matplotlib.legend.Legend at 0x19d1104b610>"
      ]
     },
     "execution_count": 42,
     "metadata": {},
     "output_type": "execute_result"
    },
    {
     "data": {
      "image/png": "[encoded data removed]",
      "text/plain": [
       "<Figure size 800x500 with 1 Axes>"
      ]
     },
     "metadata": {},
     "output_type": "display_data"
    }
   ],
   "source": [
    "plt.figure(figsize=(8, 5))\n",
    "pred_series[0].plot(label=\"Actual\")\n",
    "test_actual_TimeSeries[0][param_dset_lookback-1:].plot(label=\"Forecast\")\n",
    "plt.legend()"
   ]
  },
  {
   "cell_type": "code",
   "execution_count": 38,
   "id": "57d931e1-f2b2-4666-88f8-7335aa930d6d",
   "metadata": {},
   "outputs": [
    {
     "name": "stdout",
     "output_type": "stream",
     "text": [
      "0.010553358 0.09440747 0.056944527 53.40543006396807\n"
     ]
    }
   ],
   "source": [
    "print(np.mean(mse(test_actual_TimeSeries,pred_series)), \n",
    "      np.mean(rmse(test_actual_TimeSeries,pred_series)),\n",
    "        np.mean(mae(test_actual_TimeSeries,pred_series)),\n",
    "        np.mean(smape(test_actual_TimeSeries,pred_series)), )\n",
    "        # np.mean(mape(test_actual_TimeSeries,pred_series)))"
   ]
  },
  {
   "cell_type": "code",
   "execution_count": null,
   "id": "d6f99710-7325-4f44-b3ac-7a8daf9e49b0",
   "metadata": {},
   "outputs": [],
   "source": []
  }
 ],
 "metadata": {
  "kernelspec": {
   "display_name": "swt_env",
   "language": "python",
   "name": "swt_env"
  },
  "language_info": {
   "codemirror_mode": {
    "name": "ipython",
    "version": 3
   },
   "file_extension": ".py",
   "mimetype": "text/x-python",
   "name": "python",
   "nbconvert_exporter": "python",
   "pygments_lexer": "ipython3",
   "version": "3.10.14"
  }
 },
 "nbformat": 4,
 "nbformat_minor": 5
}
