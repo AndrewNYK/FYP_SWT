{
 "cells": [
  {
   "cell_type": "code",
   "execution_count": 1,
   "id": "0c52fc97",
   "metadata": {},
   "outputs": [],
   "source": [
    "import numpy as np\n",
    "\n",
    "import sys\n",
    "import time\n",
    "sys.path.append(\"./Models\")\n",
    "import os\n",
    "os.system('')\n",
    "\n",
    "import subprocess\n",
    "import torch\n",
    "from torch.utils.data import Dataset\n",
    "\n",
    "import pickle\n",
    "import pgzip\n",
    "import copy\n",
    "\n",
    "import datetime\n",
    "\n",
    "import math\n",
    "from sklearn.preprocessing import MinMaxScaler,StandardScaler\n",
    "from sklearn.metrics import mean_squared_error,mean_absolute_error\n",
    "import matplotlib.pyplot as plt"
   ]
  },
  {
   "cell_type": "code",
   "execution_count": 2,
   "id": "7c2d59d0",
   "metadata": {},
   "outputs": [],
   "source": [
    "#Default settings for experiment\n",
    "arg_model = \"tsrnn\" #Options: 'trfbb', 'tsrnn', 'trfbf'\n",
    "arg_dset = \"dyt\" #Datasets -- Spain: 'ree', AEP, DAYTON: 'dyt' London: 'lsm'\n",
    "\n",
    "attr_dset_smpl_rt = 24 if arg_dset == \"aep\" else (48 if arg_dset == \"lsm\" else 24) #Samples per day. Spain, AEP: 24, London: 48\n",
    "param_dset_lookback_weeks = 5\n",
    "# param_dset_forecast = 48 if arg_dset == \"lsm\" else 24\n",
    "# param_dset_lookback_weeks = 9\n",
    "param_dset_forecast = 168 if arg_dset == \"lsm\" else 84 # 3.5days = 168\n",
    "param_dset_train_stride = 48 #Choose a coprime value to the forecast so all reading frames are eventually considered\n",
    "param_dset_test_stride = 'same' #tsrnn paper uses 1 week\n",
    "param_dset_lookback = param_dset_lookback_weeks*7*attr_dset_smpl_rt - param_dset_forecast\n",
    "\n",
    "param_trf_weather = False\n"
   ]
  },
  {
   "cell_type": "code",
   "execution_count": 3,
   "id": "aab7d942",
   "metadata": {},
   "outputs": [],
   "source": [
    "import pywt\n",
    "from tqdm.auto import tqdm\n",
    "\n",
    "# Get the maximum decomposition level\n",
    "def print_maximal_decom_level(data):\n",
    "    max_level = pywt.swt_max_level(data)\n",
    "    print(\"Maximum decomposition level:\", max_level)\n",
    "    \n",
    "    return max_level\n",
    "\n",
    "# SWT functions\n",
    "def data_preparation(dataset, window, lev):\n",
    "    '''\n",
    "    Converts time series to wave\n",
    "    '''\n",
    "    da = []\n",
    "    coeffs = []\n",
    "    \n",
    "    for i in tqdm(range(len(dataset)), total=len(dataset), desc=\"swt\"):\n",
    "        for j in range(len(dataset[0])-window):\n",
    "            coeffs_j = pywt.swt(dataset[i][j:window+j], wavelet='db2', level=lev)\n",
    "            coeffs.append(coeffs_j)\n",
    "            \n",
    "        da.append(coeffs);\n",
    "        coeffs = []\n",
    "    return da\n",
    "\n",
    "def data_reconstruction(dataset, window):\n",
    "    '''\n",
    "    Converts wave back to time series\n",
    "    Take window-1 (last) value since we predict this value based on window\n",
    "    '''\n",
    "    full_recon = []\n",
    "    for i in tqdm(range(len(dataset)), total= len(dataset), desc=\"iswt\"):\n",
    "        da = []\n",
    "        for j in range(len(dataset[0])):\n",
    "            recon = pywt.iswt(dataset[i][j], 'db2')\n",
    "            da.append(recon[window-1])\n",
    "        full_recon.append(da)\n",
    "\n",
    "    return full_recon\n",
    "\n",
    "\n",
    "# Called because iswt cannot accept tolist() dataset\n",
    "def data_organization(data):\n",
    "    '''\n",
    "    Reshape data back to (n,m,3,2,window_length), \n",
    "    n number of different household, m number of timelines\n",
    "    where there are 3 tuples of 2 values consisting of \n",
    "    coeffs array_like Coefficients list of tuples:\n",
    "    [(cAn, cDn), ..., (cA2, cD2), (cA1, cD1)]\n",
    "    '''\n",
    "    full_reshape_list = []\n",
    "    for i in range(len(data)):\n",
    "        reshape_list = []\n",
    "        for j in range(len(data[0])):\n",
    "            reshape_list.append([])\n",
    "            for k in range(len(data[0][0])):\n",
    "                reshape_list[j].append(tuple(data[i][j][k]))\n",
    "        \n",
    "        full_reshape_list.append(reshape_list)    \n",
    "    \n",
    "    return full_reshape_list"
   ]
  },
  {
   "cell_type": "code",
   "execution_count": 4,
   "id": "8ed9883e",
   "metadata": {},
   "outputs": [],
   "source": [
    "from dayton_def import DAYTON\n",
    "# # -*- coding: utf-8 -*-\n",
    "\n",
    "# import numpy as np\n",
    "\n",
    "# import os\n",
    "# import subprocess\n",
    "# import torch\n",
    "# from torch.utils.data import Dataset\n",
    "\n",
    "# import pickle\n",
    "# import pgzip\n",
    "# import copy\n",
    "\n",
    "# import datetime\n",
    "\n",
    "# class DAYTON(Dataset):\n",
    "#     \"\"\"\n",
    "#     PJM-DAYTON dataset. Instantaneous power reported in MW.\n",
    "#     Ranges from around ??? GW (???? MW) to ??? GW (???? MW).\n",
    "#     \"\"\"\n",
    "#     def __init__(self,path = '.',start_idx = 0, end_idx = 9999999,\n",
    "#                  seq_len = 816, pred_horz = 24, stride=-1, timestamp = True):\n",
    "#         assert(end_idx - start_idx > seq_len+pred_horz)\n",
    "#         if stride <= 0:\n",
    "#             stride = seq_len+pred_horz\n",
    "#         #if 'aep_tensor.pkl' not in os.listdir(path) or 'aep_timestamps.pkl' not in os.listdir(path):\n",
    "#         if 'dayton_dict.pkl.pgz' not in os.listdir(path):\n",
    "#             raise FileNotFoundError(os.listdir(path))\n",
    "#             #subprocess.check_call('python ./dayton_.py . aep_dict.pkl.pgz')\n",
    "            \n",
    "#         # with open(os.path.join(path,'aep_tensor.pkl'),'rb') as f:\n",
    "#         #     series = pickle.load(f)\n",
    "#         # with open(os.path.join(path,'aep_timestamps.pkl'),'rb') as f:\n",
    "#         #     timestamps = pickle.load(f)\n",
    "        \n",
    "#         with pgzip.open(os.path.join(path,'dayton_dict.pkl.pgz')) as f:\n",
    "#             sd = pickle.load(f)\n",
    "            \n",
    "#         series = sd[\"tensor\"] #121296 total elements\n",
    "#         starttime = sd['start_time']\n",
    "        \n",
    "#         self.total_datapoints = len(series)\n",
    "        \n",
    "#         end_idx = min(end_idx,len(series))\n",
    "        \n",
    "#         wset = []\n",
    "#         ser_start = []\n",
    "#         pred_start = []\n",
    "#         i = start_idx\n",
    "#         while i + seq_len + pred_horz < end_idx:\n",
    "#             wset.append(series[i:i+seq_len+pred_horz])\n",
    "#             # ser_start.append(timestamps[i])\n",
    "#             # pred_start.append(timestamps[i+seq_len+1])\n",
    "#             ser_start.append(starttime + i*datetime.timedelta(hours=1))\n",
    "#             pred_start.append(starttime + (i + seq_len)*datetime.timedelta(hours=1))\n",
    "#             i += stride\n",
    "        \n",
    "#         wset = torch.stack(wset).unsqueeze(-1)\n",
    "#         self.series = wset\n",
    "        \n",
    "#         for i in range(len(ser_start)):\n",
    "#             tmptime = ser_start[i]\n",
    "#             ser_start[i] = [tmptime.year,\n",
    "#                             tmptime.month,\n",
    "#                             tmptime.day,\n",
    "#                             tmptime.hour,\n",
    "#                             tmptime.minute,\n",
    "#                             tmptime.second]\n",
    "            \n",
    "#         for i in range(len(pred_start)):\n",
    "#             tmptime = pred_start[i]\n",
    "#             pred_start[i] = [tmptime.year,\n",
    "#                             tmptime.month,\n",
    "#                             tmptime.day,\n",
    "#                             tmptime.hour,\n",
    "#                             tmptime.minute,\n",
    "#                             tmptime.second]\n",
    "\n",
    "#         #Series normalization    \n",
    "#         #Convert nans so that they do not count toward the min/max\n",
    "#         # smin = self.series.nan_to_num(nan=torch.finfo(self.series.dtype).max).amin(dim=-2,keepdim=True)\n",
    "#         # smax = self.series.nan_to_num(nan=torch.finfo(self.series.dtype).min).amax(dim=-2,keepdim=True)\n",
    "        \n",
    "#         self._min = self.series[~self.series.isnan()].min()\n",
    "#         self._max = self.series[~self.series.isnan()].max()\n",
    "        \n",
    "#         #self.series = (self.series - smin.broadcast_to(self.series.shape))/(smax-smin).broadcast_to(self.series.shape)\n",
    "#         self.series_starttimes = torch.tensor(ser_start,dtype=torch.long)\n",
    "#         self.pred_start = torch.tensor(pred_start,dtype=torch.long)\n",
    "        \n",
    "#         self.length = len(self.series)\n",
    "#         self.return_timestamps = timestamp\n",
    "        \n",
    "#         self.seq_len = seq_len\n",
    "#         self.pred_horz = pred_horz\n",
    "        \n",
    "#         #Dataset in use will contain nans, to be handled by the training code\n",
    "    \n",
    "#     def __len__(self):\n",
    "#         return self.length\n",
    "    \n",
    "#     def min(self):\n",
    "#         \"\"\"Returns the minimum load power in GW\"\"\"\n",
    "#         return self._min\n",
    "#         #return 18.041\n",
    "    \n",
    "#     def max(self):\n",
    "#         \"\"\"Returns the maximum load power in GW\"\"\"\n",
    "#         return self._max\n",
    "#         #return 41.015\n",
    "\n",
    "#     def __getitem__(self,idx):\n",
    "#         if self.return_timestamps:\n",
    "#             return self.series[idx][:self.seq_len], self.series[idx][self.seq_len:], self.series_starttimes[idx], self.pred_start[idx]\n",
    "#         return self.series[idx][:self.seq_len], self.series[idx][self.seq_len:]"
   ]
  },
  {
   "cell_type": "code",
   "execution_count": 5,
   "id": "3e0d3dc2",
   "metadata": {},
   "outputs": [
    {
     "name": "stdout",
     "output_type": "stream",
     "text": [
      "torch.Size([135, 840, 1])\n"
     ]
    }
   ],
   "source": [
    "full_set = DAYTON(path = \".\",\n",
    "                  seq_len = param_dset_lookback,\n",
    "                  pred_horz = param_dset_forecast,\n",
    "                  timestamp = False)\n",
    "dytmax = full_set.max()\n",
    "dytmin = full_set.min()\n",
    "del(full_set)\n",
    "\n",
    "train_set = DAYTON(path = \".\",\n",
    "                start_idx = 0, end_idx = 97036,\n",
    "                seq_len = param_dset_lookback,\n",
    "                pred_horz = param_dset_forecast,\n",
    "                stride=29,\n",
    "                timestamp = False)\n",
    "val_set = DAYTON(path = \".\",\n",
    "              start_idx = 97036, end_idx = 97036+12129,\n",
    "                seq_len = param_dset_lookback,\n",
    "                pred_horz = param_dset_forecast,\n",
    "                stride=param_dset_forecast,\n",
    "                timestamp = False)\n",
    "test_set = DAYTON(path = \".\",\n",
    "                start_idx = 97036+12129,\n",
    "                seq_len = param_dset_lookback,\n",
    "                pred_horz = param_dset_forecast,\n",
    "                stride=param_dset_forecast,\n",
    "                timestamp = False)\n",
    "\n",
    "\n",
    "train_set.series = (train_set.series - dytmin)/(dytmax - dytmin)\n",
    "val_set.series = (val_set.series - dytmin)/(dytmax - dytmin)\n",
    "test_set.series = (test_set.series - dytmin)/(dytmax - dytmin)\n",
    "\n",
    "print(test_set.series.shape)"
   ]
  },
  {
   "cell_type": "code",
   "execution_count": 6,
   "id": "a03b3057",
   "metadata": {},
   "outputs": [
    {
     "name": "stdout",
     "output_type": "stream",
     "text": [
      "Maximum decomposition level: 2\n",
      "total series shape after squeeze:  torch.Size([3318, 840])\n",
      "torch shape:  torch.Size([3318, 840])\n",
      "numpy shape:  (3318, 840)\n"
     ]
    },
    {
     "data": {
      "application/vnd.jupyter.widget-view+json": {
       "model_id": "717fc14d376745fba8dd7ffc21dd9960",
       "version_major": 2,
       "version_minor": 0
      },
      "text/plain": [
       "swt:   0%|          | 0/3318 [00:00<?, ?it/s]"
      ]
     },
     "metadata": {},
     "output_type": "display_data"
    },
    {
     "name": "stdout",
     "output_type": "stream",
     "text": [
      "(3318, 84, 2, 2, 756)\n",
      "(3318, 84, 3024)\n",
      "(3318, 84, 4, 756)\n",
      "train_set_transform shape:  (3318, 84, 4, 756)\n",
      "----------------------------------------------------\n",
      "total series shape after squeeze:  torch.Size([135, 840])\n",
      "torch shape:  torch.Size([135, 840])\n",
      "numpy shape:  (135, 840)\n"
     ]
    },
    {
     "data": {
      "application/vnd.jupyter.widget-view+json": {
       "model_id": "055f5783729f4122a1d7ee29fd1f6a3f",
       "version_major": 2,
       "version_minor": 0
      },
      "text/plain": [
       "swt:   0%|          | 0/135 [00:00<?, ?it/s]"
      ]
     },
     "metadata": {},
     "output_type": "display_data"
    },
    {
     "name": "stdout",
     "output_type": "stream",
     "text": [
      "(135, 84, 2, 2, 756)\n",
      "(135, 84, 3024)\n",
      "(135, 84, 4, 756)\n",
      "val_set_transform shape:  (135, 84, 4, 756)\n",
      "----------------------------------------------------\n",
      "total series shape after squeeze:  torch.Size([135, 840])\n",
      "torch shape:  torch.Size([135, 840])\n",
      "numpy shape:  (135, 840)\n"
     ]
    },
    {
     "data": {
      "application/vnd.jupyter.widget-view+json": {
       "model_id": "462542b5440b412188cacead262e7c6c",
       "version_major": 2,
       "version_minor": 0
      },
      "text/plain": [
       "swt:   0%|          | 0/135 [00:00<?, ?it/s]"
      ]
     },
     "metadata": {},
     "output_type": "display_data"
    },
    {
     "name": "stdout",
     "output_type": "stream",
     "text": [
      "(135, 84, 2, 2, 756)\n",
      "(135, 84, 3024)\n",
      "(135, 84, 4, 756)\n",
      "test_set_transform shape:  (135, 84, 4, 756)\n",
      "----------------------------------------------------\n"
     ]
    }
   ],
   "source": [
    "#SWT Transformation\n",
    "def swt_transformation(self_series, window, lev):\n",
    "    self_series = self_series.squeeze(-1)\n",
    "    print(\"total series shape after squeeze: \", self_series.shape)\n",
    "    self_series_numpy = self_series.numpy()\n",
    "    print(\"torch shape: \", self_series.shape)\n",
    "    print(\"numpy shape: \", self_series_numpy.shape)\n",
    "#     print(self_series[0])\n",
    "#     print(self_series_numpy[0])\n",
    "\n",
    "    da = data_preparation(self_series_numpy, window, lev)\n",
    "#     print(da[0][0])\n",
    "\n",
    "    Vv = np.array(da)\n",
    "    print(Vv.shape)\n",
    "#     print(Vv[0][0])\n",
    "\n",
    "    vv = Vv.reshape(Vv.shape[0],Vv.shape[1],2*lev*Vv.shape[4])\n",
    "    print(vv.shape)\n",
    "\n",
    "\n",
    "    # dataset = scaler.fit_transform(vv)\n",
    "\n",
    "    dat = vv.reshape(Vv.shape[0],Vv.shape[1],2*lev,Vv.shape[4])\n",
    "    print(dat.shape)\n",
    "    \n",
    "    return dat\n",
    "    \n",
    "window = param_dset_lookback\n",
    "max_level = print_maximal_decom_level(window)\n",
    "lev = max_level if max_level < 3 else 3\n",
    "\n",
    "train_set_transform = swt_transformation(train_set.series, window, lev)\n",
    "print(\"train_set_transform shape: \", train_set_transform.shape)\n",
    "print(\"----------------------------------------------------\")\n",
    "\n",
    "val_set_transform = swt_transformation(val_set.series, window, lev)\n",
    "print(\"val_set_transform shape: \", val_set_transform.shape)\n",
    "print(\"----------------------------------------------------\")\n",
    "\n",
    "test_set_transform = swt_transformation(test_set.series, window, lev)\n",
    "print(\"test_set_transform shape: \", test_set_transform.shape)\n",
    "print(\"----------------------------------------------------\")"
   ]
  },
  {
   "cell_type": "code",
   "execution_count": 7,
   "id": "d566a8d0",
   "metadata": {},
   "outputs": [
    {
     "name": "stdout",
     "output_type": "stream",
     "text": [
      "(3318, 84, 4, 50)\n",
      "(135, 84, 4, 50)\n",
      "(135, 84, 4, 50)\n",
      "(3318, 84, 4)\n",
      "(3318, 84, 50, 4)\n",
      "(135, 84, 50, 4)\n",
      "(135, 84, 50, 4)\n"
     ]
    }
   ],
   "source": [
    "# Split seq_len and pred\n",
    "seq_len = 50\n",
    "\n",
    "trainX, trainY = train_set_transform[:,:,:,window-seq_len-1:window-1], train_set_transform[:,:,:,window-1]\n",
    "valX, valY = val_set_transform[:,:,:,window-seq_len-1:window-1], val_set_transform[:,:,:,window-1]\n",
    "testX, testY = test_set_transform[:,:,:,window-seq_len-1:window-1], test_set_transform[:,:,:,window-1]\n",
    "\n",
    "print(trainX.shape)\n",
    "print(valX.shape)\n",
    "print(testX.shape)\n",
    "print(trainY.shape)\n",
    "\n",
    "trainX=np.transpose(trainX, (0, 1, 3, 2))\n",
    "valX =np.transpose(valX, (0, 1, 3, 2))\n",
    "testX=np.transpose(testX, (0, 1, 3, 2))\n",
    "\n",
    "print(trainX.shape)\n",
    "print(valX.shape)\n",
    "print(testX.shape)\n"
   ]
  },
  {
   "cell_type": "markdown",
   "id": "979e36f9",
   "metadata": {},
   "source": [
    "## Model Initialization"
   ]
  },
  {
   "cell_type": "code",
   "execution_count": 8,
   "id": "9abf1110",
   "metadata": {},
   "outputs": [],
   "source": [
    "import torch\n",
    "import torch.nn as nn\n",
    "import torch.nn.functional as F"
   ]
  },
  {
   "cell_type": "code",
   "execution_count": 9,
   "id": "0b50fe50",
   "metadata": {},
   "outputs": [],
   "source": [
    "class Time2Vector(nn.Module):\n",
    "    def __init__(self, seq_len):\n",
    "        super(Time2Vector, self).__init__()\n",
    "        self.seq_len = seq_len\n",
    "\n",
    "        self.weights_linear = nn.Parameter(torch.rand(seq_len, requires_grad=True))\n",
    "        self.bias_linear = nn.Parameter(torch.rand(seq_len), requires_grad=True)\n",
    "        self.weights_periodic = nn.Parameter(torch.rand(seq_len), requires_grad=True)\n",
    "        self.bias_periodic = nn.Parameter(torch.rand(seq_len), requires_grad=True)\n",
    "        \n",
    "        # Initialize parameters with uniform distribution\n",
    "        nn.init.uniform_(self.weights_linear, a=0.0, b=1.0)\n",
    "        nn.init.uniform_(self.bias_linear, a=0.0, b=1.0)\n",
    "        nn.init.uniform_(self.weights_periodic, a=0.0, b=1.0)\n",
    "        nn.init.uniform_(self.bias_periodic, a=0.0, b=1.0)\n",
    "\n",
    "    def forward(self, x):\n",
    "        x = torch.mean(x[:, :, :], dim=-1)\n",
    "        time_linear = self.weights_linear * x + self.bias_linear\n",
    "        time_linear = time_linear.unsqueeze(-1)\n",
    "\n",
    "        time_periodic = torch.sin(x * self.weights_periodic + self.bias_periodic)\n",
    "        time_periodic = time_periodic.unsqueeze(-1)\n",
    "\n",
    "        return torch.cat([time_linear, time_periodic], dim=-1)\n",
    "\n",
    "    def extra_repr(self):\n",
    "        return f'seq_len={self.seq_len}'"
   ]
  },
  {
   "cell_type": "code",
   "execution_count": 10,
   "id": "973b717b",
   "metadata": {},
   "outputs": [],
   "source": [
    "class SingleAttention(nn.Module):\n",
    "    def __init__(self, d_k, d_v, inp_len):\n",
    "        super(SingleAttention, self).__init__()\n",
    "        self.d_k = d_k\n",
    "        self.d_v = d_v\n",
    "\n",
    "        self.query = nn.Linear(in_features=inp_len, out_features=d_k)\n",
    "        nn.init.xavier_uniform_(self.query.weight)\n",
    "        nn.init.zeros_(self.query.bias)\n",
    "\n",
    "        self.key = nn.Linear(in_features=inp_len, out_features=d_k)\n",
    "        nn.init.xavier_uniform_(self.key.weight)\n",
    "        nn.init.zeros_(self.key.bias)\n",
    "\n",
    "        self.value = nn.Linear(in_features=inp_len, out_features=d_v)\n",
    "        nn.init.xavier_uniform_(self.value.weight)\n",
    "        nn.init.zeros_(self.value.bias)\n",
    "\n",
    "    def forward(self, inputs):\n",
    "\n",
    "        q = self.query(inputs[0])\n",
    "        k = self.key(inputs[1])\n",
    "\n",
    "        attn_weights = torch.matmul(q, k.transpose(-2, -1))\n",
    "        attn_weights = attn_weights / torch.sqrt(torch.tensor(self.d_k, dtype=torch.float32))\n",
    "        attn_weights = F.softmax(attn_weights, dim=-1)\n",
    "\n",
    "        v = self.value(inputs[2])\n",
    "        attn_out = torch.matmul(attn_weights, v)\n",
    "        return attn_out\n",
    "    \n",
    "class MultiAttention(nn.Module):\n",
    "    def __init__(self, d_k, d_v, n_heads, inp_len):\n",
    "        super(MultiAttention, self).__init__()\n",
    "        self.d_k = d_k\n",
    "        self.d_v = d_v\n",
    "        self.n_heads = n_heads\n",
    "        \n",
    "        self.attn_heads = nn.ModuleList([SingleAttention(d_k, d_v, inp_len) for _ in range(n_heads)])\n",
    "        \n",
    "        self.linear = nn.Linear(d_k * n_heads, inp_len)\n",
    "        nn.init.xavier_uniform_(self.linear.weight)\n",
    "        nn.init.zeros_(self.linear.bias)\n",
    "\n",
    "    def forward(self, inputs):\n",
    "        attn = [self.attn_heads[i](inputs) for i in range(self.n_heads)]\n",
    "        concat_attn = torch.cat(attn, dim=-1)\n",
    "        multi_linear = self.linear(concat_attn)\n",
    "        return multi_linear"
   ]
  },
  {
   "cell_type": "code",
   "execution_count": 11,
   "id": "c516d8f7",
   "metadata": {},
   "outputs": [],
   "source": [
    "class TransformerEncoder(nn.Module):\n",
    "    def __init__(self, d_k, d_v, n_heads, ff_dim, seq_len, inp_len, dropout=0.1):\n",
    "        super(TransformerEncoder, self).__init__()\n",
    "        self.d_k = d_k\n",
    "        self.d_v = d_v\n",
    "        self.n_heads = n_heads\n",
    "        self.ff_dim = ff_dim\n",
    "        self.dropout_rate = dropout\n",
    "\n",
    "        self.attn_multi = MultiAttention(d_k, d_v, n_heads, inp_len)\n",
    "        self.attn_dropout = nn.Dropout(dropout)\n",
    "        self.attn_normalize = nn.LayerNorm(normalized_shape=inp_len, eps=1e-6)\n",
    "\n",
    "#         self.ff_conv1D_1 = nn.Conv1d(in_channels=8, out_channels=self.ff_dim, kernel_size=1)\n",
    "        self.ff_conv1D_1 = nn.Conv1d(in_channels=seq_len, out_channels=self.ff_dim, kernel_size=1)\n",
    "#         self.ff_conv1D_2 = nn.Conv1d(in_channels=self.ff_dim, out_channels=8, kernel_size=1)\n",
    "        self.ff_conv1D_2 = nn.Conv1d(in_channels=self.ff_dim, out_channels=seq_len, kernel_size=1)\n",
    "        self.ff_dropout = nn.Dropout(dropout)\n",
    "        self.ff_normalize = nn.LayerNorm(normalized_shape=inp_len, eps=1e-6)\n",
    "\n",
    "    def forward(self, inputs):\n",
    "#         print(len(inputs))\n",
    "#         print(inputs[0].shape)\n",
    "        attn_layer = self.attn_multi(inputs)\n",
    "        attn_layer = self.attn_dropout(attn_layer)\n",
    "        attn_layer = self.attn_normalize(inputs[0] + attn_layer)\n",
    "\n",
    "        # Correction for transpose\n",
    "#         ff_layer = self.ff_conv1D_1(attn_layer.transpose(1, 2))\n",
    "        ff_layer = self.ff_conv1D_1(attn_layer)\n",
    "        ff_layer = F.relu(ff_layer)\n",
    "#         ff_layer = self.ff_conv1D_2(ff_layer).transpose(1, 2)\n",
    "        ff_layer = self.ff_conv1D_2(ff_layer)\n",
    "        ff_layer = self.ff_dropout(ff_layer)\n",
    "        ff_layer = self.ff_normalize(inputs[0] + ff_layer)\n",
    "        return ff_layer\n",
    "    \n",
    "class TransformerDecoder(nn.Module):\n",
    "    def __init__(self, d_k, d_v, n_heads, ff_dim, seq_len, inp_len, dropout=0.1):\n",
    "        super(TransformerDecoder, self).__init__()\n",
    "        self.d_k = d_k\n",
    "        self.d_v = d_v\n",
    "        self.n_heads = n_heads\n",
    "        self.ff_dim = ff_dim\n",
    "        self.dropout_rate = dropout\n",
    "\n",
    "        self.attn_multi = MultiAttention(d_k, d_v, n_heads, inp_len)\n",
    "        self.attn_dropout = nn.Dropout(dropout)\n",
    "        self.attn_normalize = nn.LayerNorm(normalized_shape=inp_len, eps=1e-6)\n",
    "\n",
    "#         self.ff_conv1D_1 = nn.Conv1d(in_channels=8, out_channels=8, kernel_size=1)\n",
    "        self.ff_conv1D_1 = nn.Conv1d(in_channels=seq_len, out_channels=seq_len, kernel_size=1)\n",
    "        self.ff_dropout = nn.Dropout(dropout)\n",
    "        self.ff_normalize = nn.LayerNorm(normalized_shape=inp_len, eps=1e-6)\n",
    "\n",
    "    def forward(self, inputs):\n",
    "        attn_layer = self.attn_multi(inputs)\n",
    "        attn_layer = self.attn_dropout(attn_layer)\n",
    "        attn_layer = self.attn_normalize(inputs[0] + attn_layer)\n",
    "        \n",
    "        # Transpose for pytorch implementation\n",
    "#         ff_layer = self.ff_conv1D_1(attn_layer.transpose(1, 2)).transpose(1, 2)\n",
    "        ff_layer = self.ff_conv1D_1(attn_layer)\n",
    "        ff_layer = F.relu(ff_layer)\n",
    "        ff_layer = self.ff_dropout(ff_layer)\n",
    "        ff_layer = self.ff_normalize(inputs[0] + ff_layer)\n",
    "        return ff_layer"
   ]
  },
  {
   "cell_type": "code",
   "execution_count": 12,
   "id": "080fde85",
   "metadata": {},
   "outputs": [],
   "source": [
    "class SWT_Transformer(nn.Module):\n",
    "    def __init__(self, seq_len, inp_len, out_len, d_k, d_v, n_heads, ff_dim):\n",
    "        super(SWT_Transformer, self).__init__()\n",
    "        device = torch.device(\"cuda\" if torch.cuda.is_available() else \"cpu\")\n",
    "\n",
    "        self.time_embedding = Time2Vector(seq_len)\n",
    "        \n",
    "        self.layer1 = TransformerEncoder(d_k, d_v, n_heads, ff_dim, seq_len, inp_len)\n",
    "        self.layer2 = TransformerEncoder(d_k, d_v, n_heads, ff_dim, seq_len, inp_len)\n",
    "        self.layer3 = TransformerEncoder(d_k, d_v, n_heads, ff_dim, seq_len, inp_len)\n",
    "        self.layer4 = TransformerDecoder(d_k, d_v, n_heads, ff_dim, seq_len, inp_len)\n",
    "        self.layer5 = TransformerDecoder(d_k, d_v, n_heads, ff_dim, seq_len, inp_len)\n",
    "\n",
    "        self.pooling = nn.AdaptiveAvgPool1d(1)\n",
    "        self.fc1 = nn.Linear(seq_len, 128)\n",
    "        self.fc2 = nn.Linear(128, out_len)\n",
    "\n",
    "    def forward(self, x):\n",
    "        in_seq = x\n",
    "        \n",
    "        time_embedding = self.time_embedding(in_seq)\n",
    "        x = torch.cat([in_seq, time_embedding], dim=-1)\n",
    "        \n",
    "        x = self.layer1((x, x, x))\n",
    "        x = self.layer2((x, x, x))\n",
    "        x = self.layer3((x, x, x))\n",
    "        x = self.layer4((x, x, x))\n",
    "        x = self.layer5((x, x, x))\n",
    "\n",
    "        x = self.pooling(x).squeeze(2)\n",
    "        x = F.dropout(x, p=0.1)\n",
    "        x = F.relu(self.fc1(x))\n",
    "        x = F.dropout(x, p=0.1)\n",
    "        out = self.fc2(x)\n",
    "\n",
    "        return out"
   ]
  },
  {
   "cell_type": "markdown",
   "id": "07f52ef6",
   "metadata": {},
   "source": [
    "## Create model and data tensor"
   ]
  },
  {
   "cell_type": "code",
   "execution_count": 13,
   "id": "c11a8ea8",
   "metadata": {},
   "outputs": [],
   "source": [
    "batch_size = 32\n",
    "d_k = 256\n",
    "d_v = 256\n",
    "n_heads = 12\n",
    "ff_dim = 256\n",
    "inp_len = 2*lev + 2 # 2 from time2Vector embedding\n",
    "out_len = 2*lev\n",
    "\n",
    "# lev = 3\n",
    "# seq_len = 1\n",
    "# window = 200\n",
    "# look_back = 12"
   ]
  },
  {
   "cell_type": "code",
   "execution_count": 14,
   "id": "e83f32b4",
   "metadata": {},
   "outputs": [
    {
     "name": "stdout",
     "output_type": "stream",
     "text": [
      "Actual number of model parameters: 504932\n",
      "Trainable model parameters: 504932\n"
     ]
    },
    {
     "data": {
      "application/vnd.jupyter.widget-view+json": {
       "model_id": "a964cf274ee74f3ea8d9fb5a8fbbc75d",
       "version_major": 2,
       "version_minor": 0
      },
      "text/plain": [
       "epochs:   0%|          | 0/6 [00:00<?, ?it/s]"
      ]
     },
     "metadata": {},
     "output_type": "display_data"
    },
    {
     "data": {
      "application/vnd.jupyter.widget-view+json": {
       "model_id": "ff049131c2354347802edf67f9d05e53",
       "version_major": 2,
       "version_minor": 0
      },
      "text/plain": [
       "train:   0%|          | 0/3318 [00:00<?, ?it/s]"
      ]
     },
     "metadata": {},
     "output_type": "display_data"
    },
    {
     "data": {
      "application/vnd.jupyter.widget-view+json": {
       "model_id": "284d05f093534abbb531fac826bd4edc",
       "version_major": 2,
       "version_minor": 0
      },
      "text/plain": [
       "Validation:   0%|          | 0/135 [00:00<?, ?it/s]"
      ]
     },
     "metadata": {},
     "output_type": "display_data"
    },
    {
     "name": "stdout",
     "output_type": "stream",
     "text": [
      "Epoch 1/6, Training Loss: 0.003319, Validation Loss: 0.001524\n"
     ]
    },
    {
     "data": {
      "application/vnd.jupyter.widget-view+json": {
       "model_id": "7eec5e3cee324ec0af4592fa293958fb",
       "version_major": 2,
       "version_minor": 0
      },
      "text/plain": [
       "train:   0%|          | 0/3318 [00:00<?, ?it/s]"
      ]
     },
     "metadata": {},
     "output_type": "display_data"
    },
    {
     "data": {
      "application/vnd.jupyter.widget-view+json": {
       "model_id": "afb8841acca640ebbb4d0fa0a9f2e1a3",
       "version_major": 2,
       "version_minor": 0
      },
      "text/plain": [
       "Validation:   0%|          | 0/135 [00:00<?, ?it/s]"
      ]
     },
     "metadata": {},
     "output_type": "display_data"
    },
    {
     "name": "stdout",
     "output_type": "stream",
     "text": [
      "Epoch 2/6, Training Loss: 0.000875, Validation Loss: 0.001502\n"
     ]
    },
    {
     "data": {
      "application/vnd.jupyter.widget-view+json": {
       "model_id": "f4ef3a9af710441d8044aa2fa63d09f4",
       "version_major": 2,
       "version_minor": 0
      },
      "text/plain": [
       "train:   0%|          | 0/3318 [00:00<?, ?it/s]"
      ]
     },
     "metadata": {},
     "output_type": "display_data"
    },
    {
     "data": {
      "application/vnd.jupyter.widget-view+json": {
       "model_id": "b31db0f4d0e4493d8ed383ada490a316",
       "version_major": 2,
       "version_minor": 0
      },
      "text/plain": [
       "Validation:   0%|          | 0/135 [00:00<?, ?it/s]"
      ]
     },
     "metadata": {},
     "output_type": "display_data"
    },
    {
     "name": "stdout",
     "output_type": "stream",
     "text": [
      "Epoch 3/6, Training Loss: 0.000696, Validation Loss: 0.000841\n"
     ]
    },
    {
     "data": {
      "application/vnd.jupyter.widget-view+json": {
       "model_id": "f63b1312162f4121951bc7947c2f667c",
       "version_major": 2,
       "version_minor": 0
      },
      "text/plain": [
       "train:   0%|          | 0/3318 [00:00<?, ?it/s]"
      ]
     },
     "metadata": {},
     "output_type": "display_data"
    },
    {
     "data": {
      "application/vnd.jupyter.widget-view+json": {
       "model_id": "524d7dd27fde4bf78fa9164431767755",
       "version_major": 2,
       "version_minor": 0
      },
      "text/plain": [
       "Validation:   0%|          | 0/135 [00:00<?, ?it/s]"
      ]
     },
     "metadata": {},
     "output_type": "display_data"
    },
    {
     "name": "stdout",
     "output_type": "stream",
     "text": [
      "Epoch 4/6, Training Loss: 0.000619, Validation Loss: 0.000979\n"
     ]
    },
    {
     "data": {
      "application/vnd.jupyter.widget-view+json": {
       "model_id": "22a08d14657141d18703b15db1a93635",
       "version_major": 2,
       "version_minor": 0
      },
      "text/plain": [
       "train:   0%|          | 0/3318 [00:00<?, ?it/s]"
      ]
     },
     "metadata": {},
     "output_type": "display_data"
    },
    {
     "data": {
      "application/vnd.jupyter.widget-view+json": {
       "model_id": "13e89b45c53243688e9adaac73eec7d6",
       "version_major": 2,
       "version_minor": 0
      },
      "text/plain": [
       "Validation:   0%|          | 0/135 [00:00<?, ?it/s]"
      ]
     },
     "metadata": {},
     "output_type": "display_data"
    },
    {
     "name": "stdout",
     "output_type": "stream",
     "text": [
      "Epoch 5/6, Training Loss: 0.000571, Validation Loss: 0.000830\n"
     ]
    },
    {
     "data": {
      "application/vnd.jupyter.widget-view+json": {
       "model_id": "0fda331df7ff43b7b24662b4808b679c",
       "version_major": 2,
       "version_minor": 0
      },
      "text/plain": [
       "train:   0%|          | 0/3318 [00:00<?, ?it/s]"
      ]
     },
     "metadata": {},
     "output_type": "display_data"
    },
    {
     "data": {
      "application/vnd.jupyter.widget-view+json": {
       "model_id": "aa4e849492804ba68857e6a0eafbb45c",
       "version_major": 2,
       "version_minor": 0
      },
      "text/plain": [
       "Validation:   0%|          | 0/135 [00:00<?, ?it/s]"
      ]
     },
     "metadata": {},
     "output_type": "display_data"
    },
    {
     "name": "stdout",
     "output_type": "stream",
     "text": [
      "Epoch 6/6, Training Loss: 0.000537, Validation Loss: 0.000617\n"
     ]
    }
   ],
   "source": [
    "# model = create_model()\n",
    "# model.summary()\n",
    "\n",
    "# # Training data\n",
    "# X_train, y_train = trainX,trainY\n",
    "# ###############################################################################\n",
    "# # Validation data\n",
    "# X_val, y_val = testX,testY\n",
    "# ###############################################################################\n",
    "# # Test data\n",
    "# X_test, y_test = testX_a,testY_a\n",
    "# callback = tf.keras.callbacks.ModelCheckpoint('Transformer_5min.hdf5',\n",
    "#                                                       monitor='val_loss',\n",
    "#                                                       save_best_only=True,\n",
    "#                                                       verbose=1)\n",
    "# with tf.device(\"/gpu:0\"):\n",
    "#     history = model.fit(X_train, y_train,\n",
    "#                             batch_size=batch_size,\n",
    "# #                             epochs=50,\n",
    "#                             epochs=1,\n",
    "#                             validation_data=(X_val, y_val),\n",
    "#                             callbacks=[callback])\n",
    "\n",
    "# model = tf.keras.models.load_model('Transformer_5min.hdf5',\n",
    "#                                            custom_objects={'Time2Vector': Time2Vector,\n",
    "#                                                            'SingleAttention': SingleAttention,\n",
    "#                                                            'MultiAttention': MultiAttention,\n",
    "#                                                            'TransformerEncoder': TransformerEncoder,\n",
    "#                                                            'TransformerDecoder': TransformerDecoder}\n",
    "#                                            )\n",
    "\n",
    "import torch\n",
    "import torch.nn as nn\n",
    "import torch.optim as optim\n",
    "from torch.utils.data import TensorDataset, DataLoader\n",
    "from sklearn.model_selection import train_test_split\n",
    "import numpy as np\n",
    "\n",
    "torch.manual_seed(42)\n",
    "\n",
    "# Create PyTorch model\n",
    "model = SWT_Transformer(seq_len, inp_len, out_len, d_k, d_v, n_heads, ff_dim)\n",
    "\n",
    "# Print model summary\n",
    "# print(model)\n",
    "def num_parameters(m):\n",
    "    return sum([p.numel() for p in m.parameters()])\n",
    "\n",
    "parameters = num_parameters(model)\n",
    "\n",
    "# print(f\"Expected number of parameters: {m * dk * dk + m * 1 * 1 * n}\")\n",
    "print(f\"Actual number of model parameters: {parameters}\")\n",
    "\n",
    "trainable_params = sum(\n",
    "    p.numel() for p in model.parameters() if p.requires_grad\n",
    ")\n",
    "print(f\"Trainable model parameters: {trainable_params}\" )\n",
    "\n",
    "# total_params = 0\n",
    "# for name, parameter in model.named_parameters():\n",
    "#     if not parameter.requires_grad:\n",
    "#         continue\n",
    "#     params = parameter.numel()\n",
    "#     print(f\"{name}, {params}\")\n",
    "#     total_params+=params\n",
    "# print(f\"Total Trainable Params: {total_params}\")\n",
    "\n",
    "\n",
    "# Optimizer and loss function\n",
    "optimizer = optim.RMSprop(model.parameters(), lr=0.001, eps=1e-07)\n",
    "# optimizer = optim.Adam(model.parameters())\n",
    "# optimizer = optim.SGD(model.parameters(), lr=0.001, momentum=0.9)\n",
    "criterion = nn.MSELoss()\n",
    "\n",
    "Grad_scaler = torch.cuda.amp.GradScaler()\n",
    "\n",
    "# Training loop\n",
    "num_epochs = 6  # Replace with your desired number of epochs\n",
    "device = torch.device(\"cuda\" if torch.cuda.is_available() else \"cpu\")\n",
    "model.to(device)\n",
    "\n",
    "# Convert data to PyTorch tensors\n",
    "X_train, y_train = torch.tensor(trainX), torch.tensor(trainY)\n",
    "X_val, y_val = torch.tensor(valX), torch.tensor(valY)\n",
    "X_test, y_test = torch.tensor(testX), torch.tensor(testY)\n",
    "    \n",
    "for epoch in tqdm(range(num_epochs), total= num_epochs, desc=\"epochs\", position=0, leave=True):\n",
    "    mean_train_loss = 0.0\n",
    "    \n",
    "    for i in tqdm(range(len(X_train)), total=len(X_train), desc=\"train\"):\n",
    "        # Create DataLoader for training data\n",
    "        train_dataset = TensorDataset(X_train[i], y_train[i])\n",
    "        train_loader = DataLoader(train_dataset, batch_size=batch_size)\n",
    "\n",
    "        model.train()\n",
    "        train_loss = 0.0\n",
    "\n",
    "        for inputs, targets in train_loader:\n",
    "#             print(inputs.shape)\n",
    "            inputs, targets = inputs.to(device).nan_to_num(), targets.to(device)\n",
    "            optimizer.zero_grad()\n",
    "#             outputs = model(inputs)       \n",
    "            \n",
    "            with torch.cuda.amp.autocast(dtype=torch.float16):\n",
    "                outputs = model(inputs)\n",
    "                loss = nn.MSELoss(reduction='mean')(outputs[~targets.isnan()], targets[~targets.isnan()])\n",
    "        \n",
    "                optimizer.zero_grad()\n",
    "                Grad_scaler.scale(loss).backward()\n",
    "                Grad_scaler.step(optimizer)\n",
    "                Grad_scaler.update()\n",
    "\n",
    "#             loss = nn.MSELoss(reduction='mean')(outputs[~targets.isnan()], targets[~targets.isnan()])\n",
    "# #             print(loss)\n",
    "# #                 print(\"targets: \", targets.shape)\n",
    "# #                 print(\"outputs: \", outputs.shape)\n",
    "# #                 loss = criterion(outputs, targets)\n",
    "#             loss.backward()\n",
    "#             optimizer.step()\n",
    "            train_loss += loss.item()\n",
    "\n",
    "        train_loss /= len(train_loader)\n",
    "        mean_train_loss += train_loss\n",
    "        \n",
    "    mean_train_loss /= len(X_train)\n",
    "    \n",
    "    model.eval()\n",
    "    \n",
    "    mean_val_loss = 0.0\n",
    "    \n",
    "    for j in tqdm(range(len(X_val)), total=len(X_val), desc=\"Validation\"):\n",
    "        # Create DataLoader for Validation data\n",
    "        val_dataset = TensorDataset(X_val[j], y_val[j])\n",
    "        val_loader = DataLoader(val_dataset, batch_size=batch_size)\n",
    "    \n",
    "            \n",
    "        val_loss = 0.0\n",
    "        with torch.no_grad():\n",
    "            for inputs, targets in val_loader:\n",
    "                inputs, targets = inputs.to(device).nan_to_num(), targets.to(device)\n",
    "                outputs = model(inputs)\n",
    "                loss = nn.MSELoss(reduction='mean')(outputs[~targets.isnan()], targets[~targets.isnan()])\n",
    "#                 val_loss += criterion(outputs, targets).item()\n",
    "                val_loss += loss\n",
    "\n",
    "        val_loss /= len(val_loader)\n",
    "        mean_val_loss += val_loss\n",
    "        \n",
    "    mean_val_loss /= len(X_val)\n",
    "    \n",
    "    print(f'Epoch {epoch + 1}/{num_epochs}, Training Loss: {mean_train_loss:.6f}, Validation Loss: {mean_val_loss:.6f}')\n",
    "    \n",
    "    # Save the PyTorch model\n",
    "    torch.save(model.state_dict(), 'transformer_5min.pth')"
   ]
  },
  {
   "cell_type": "code",
   "execution_count": 23,
   "id": "bff4271e",
   "metadata": {
    "scrolled": true
   },
   "outputs": [
    {
     "name": "stdout",
     "output_type": "stream",
     "text": [
      "(135, 84, 50, 4)\n"
     ]
    },
    {
     "data": {
      "application/vnd.jupyter.widget-view+json": {
       "model_id": "a2184e95f44b44c99e775b5083e05498",
       "version_major": 2,
       "version_minor": 0
      },
      "text/plain": [
       "Test:   0%|          | 0/135 [00:00<?, ?it/s]"
      ]
     },
     "metadata": {},
     "output_type": "display_data"
    },
    {
     "name": "stdout",
     "output_type": "stream",
     "text": [
      "Test Loss: 0.000534\n",
      "(135, 84, 4)\n",
      "(135, 84, 4, 756)\n",
      "(135, 84, 4, 756)\n",
      "(135, 84, 3024)\n"
     ]
    }
   ],
   "source": [
    "# Load the PyTorch model\n",
    "loaded_model = SWT_Transformer(seq_len, inp_len, out_len, d_k, d_v, n_heads, ff_dim)\n",
    "loaded_model.load_state_dict(torch.load('transformer_5min.pth'))\n",
    "loaded_model.to(device)\n",
    "loaded_model.eval()\n",
    "\n",
    "# Use the whole signal (both train and validation data)\n",
    "# The metrics are computed only using the validation part.\n",
    "# This is needed for the signal processing\n",
    "print(testX.shape)\n",
    "\n",
    "# Testing the model on the test dataset\n",
    "full_test_outputs = []\n",
    "mean_test_loss = 0.0\n",
    "\n",
    "for j in tqdm(range(len(X_test)), total=len(X_test), desc=\"Test\"):\n",
    "    # Create DataLoader for Test data\n",
    "    test_dataset = TensorDataset(X_test[j], y_test[j])\n",
    "    test_loader = DataLoader(test_dataset, batch_size=batch_size)\n",
    "\n",
    "    test_loss = 0.0\n",
    "    test_outputs = []\n",
    "    with torch.no_grad():\n",
    "        for inputs, targets in test_loader:\n",
    "            inputs, targets = inputs.to(device).nan_to_num(), targets.to(device)\n",
    "            outputs = loaded_model(inputs)\n",
    "            test_outputs.append(outputs.cpu().numpy())  # Collect the outputs\n",
    "\n",
    "            loss = nn.MSELoss(reduction='mean')(outputs[~targets.isnan()], targets[~targets.isnan()])\n",
    "            test_loss += loss\n",
    "    #         test_loss += criterion(outputs, targets).item()\n",
    "\n",
    "    testPredict = np.concatenate(test_outputs, axis=0)  # Concatenate outputs into a single numpy array\n",
    "    full_test_outputs.append(testPredict)\n",
    "    test_loss /= len(test_loader)\n",
    "    mean_test_loss += test_loss\n",
    "    \n",
    "mean_test_loss /= len(X_test)\n",
    "\n",
    "print(f'Test Loss: {mean_test_loss:.6f}')\n",
    "\n",
    "# Result from test\n",
    "print(np.array(full_test_outputs).shape)\n",
    "\n",
    "d = test_set_transform\n",
    "print(d.shape)\n",
    "\n",
    "# Prediction place at the end of the wave\n",
    "# In iswt, we will take the last value as our prediction\n",
    "d[:,:,:,window-1] = full_test_outputs\n",
    "print(d.shape)\n",
    "\n",
    "D = d.reshape(d.shape[0],d.shape[1],d.shape[2]*d.shape[3])\n",
    "print(D.shape)"
   ]
  },
  {
   "cell_type": "code",
   "execution_count": 24,
   "id": "602a4a58",
   "metadata": {},
   "outputs": [
    {
     "name": "stdout",
     "output_type": "stream",
     "text": [
      "(135, 84, 2, 2, 756)\n",
      "2\n",
      "<class 'tuple'>\n"
     ]
    },
    {
     "data": {
      "application/vnd.jupyter.widget-view+json": {
       "model_id": "37fa6b5766714390be8addeeed217513",
       "version_major": 2,
       "version_minor": 0
      },
      "text/plain": [
       "iswt:   0%|          | 0/135 [00:00<?, ?it/s]"
      ]
     },
     "metadata": {},
     "output_type": "display_data"
    },
    {
     "name": "stdout",
     "output_type": "stream",
     "text": [
      "(135, 84)\n"
     ]
    }
   ],
   "source": [
    "R = D.reshape(d.shape[0],d.shape[1],lev,2,d.shape[3])\n",
    "print(R.shape)\n",
    "\n",
    "R = data_organization(R)\n",
    "\n",
    "# Change to tuple type for iswt\n",
    "print(len(R[0][0][0]))\n",
    "print(type(R[0][0][0]))\n",
    "\n",
    "re=data_reconstruction(R, window)\n",
    "\n",
    "# Prediction for next 48 data in test set\n",
    "Re = np.array(re)\n",
    "print(Re.shape)\n",
    "\n",
    "Re = torch.from_numpy(Re)"
   ]
  },
  {
   "cell_type": "code",
   "execution_count": 25,
   "id": "004014ed",
   "metadata": {},
   "outputs": [
    {
     "name": "stdout",
     "output_type": "stream",
     "text": [
      "torch.Size([135, 84, 1])\n",
      "torch.Size([135, 84])\n"
     ]
    }
   ],
   "source": [
    "# Original Data\n",
    "test_actual = test_set.series[:, param_dset_lookback:]\n",
    "print(test_actual.shape)\n",
    "\n",
    "test_actual = test_actual.squeeze(-1)\n",
    "print(test_actual.shape)\n",
    "\n",
    "# This was included in the original transformer_houses1to5_5min program\n",
    "Re, test_actual=Re[:,1:], test_actual[:,:-1] # I don't understand\n",
    "# Similarly, taking the values 1 time step before results in the equally good RMSE value\n",
    "# test_actual = test_set[:, param_dset_lookback-1:param_dset_lookback-1+param_dset_forecast]"
   ]
  },
  {
   "cell_type": "code",
   "execution_count": 26,
   "id": "134a66ec",
   "metadata": {},
   "outputs": [],
   "source": [
    "from sklearn.preprocessing import MinMaxScaler,StandardScaler\n",
    "from sklearn.metrics import mean_squared_error,mean_absolute_error\n",
    "import matplotlib.pyplot as plt\n",
    "\n",
    "\n",
    "# Input contains Nan\n",
    "# test_rmse = math.sqrt( mean_squared_error(test_actual, Re))\n",
    "# test_mae=mean_absolute_error(test_actual, Re)\n",
    "# mape=100*np.mean(np.divide(abs(test_actual- Re),test_actual))\n",
    "\n",
    "test_rmse = torch.nn.MSELoss(reduction='none')(test_actual, Re).nanmean().sqrt_()\n",
    "\n",
    "test_mae = (Re-test_actual).abs_().nanmean()\n",
    "\n",
    "mape = (2*(test_actual-Re).abs_() / (test_actual.abs() + Re.abs())).nanmean()"
   ]
  },
  {
   "cell_type": "code",
   "execution_count": 27,
   "id": "ed6df351",
   "metadata": {},
   "outputs": [
    {
     "name": "stdout",
     "output_type": "stream",
     "text": [
      "RMSE:  0.005199\n",
      "MAE:  0.003957\n",
      "MAPE:  0.012429\n"
     ]
    }
   ],
   "source": [
    "print('RMSE:  %.6f' % test_rmse)\n",
    "print('MAE:  %.6f' % test_mae)\n",
    "print('MAPE:  %.6f' % mape)"
   ]
  },
  {
   "cell_type": "code",
   "execution_count": 28,
   "id": "7ca1d17c",
   "metadata": {},
   "outputs": [
    {
     "data": {
      "image/png": "[encoded data removed]",
      "text/plain": [
       "<Figure size 640x480 with 1 Axes>"
      ]
     },
     "metadata": {},
     "output_type": "display_data"
    }
   ],
   "source": [
    "fig = plt.figure()\n",
    "plt.plot(test_actual[0])\n",
    "plt.plot(Re[0])\n",
    "plt.xlabel('Time/hr')\n",
    "plt.ylabel('Dayton prediction units(tentative)')\n",
    "plt.legend(['True', 'Predict'], loc='upper left')\n",
    "plt.show()\n"
   ]
  },
  {
   "cell_type": "code",
   "execution_count": 29,
   "id": "e0eab824",
   "metadata": {},
   "outputs": [
    {
     "data": {
      "image/png": "[encoded data removed]",
      "text/plain": [
       "<Figure size 640x480 with 1 Axes>"
      ]
     },
     "metadata": {},
     "output_type": "display_data"
    }
   ],
   "source": [
    "fig = plt.figure()\n",
    "plt.plot(test_actual[1])\n",
    "plt.plot(Re[1])\n",
    "plt.xlabel('Time/hr')\n",
    "plt.ylabel('Dayton prediction units(tentative)')\n",
    "plt.legend(['True', 'Predict'], loc='upper left')\n",
    "plt.show()"
   ]
  },
  {
   "cell_type": "code",
   "execution_count": 30,
   "id": "e40c9cd6",
   "metadata": {},
   "outputs": [
    {
     "data": {
      "image/png": "[encoded data removed]",
      "text/plain": [
       "<Figure size 640x480 with 1 Axes>"
      ]
     },
     "metadata": {},
     "output_type": "display_data"
    }
   ],
   "source": [
    "fig = plt.figure()\n",
    "plt.plot(test_actual[20])\n",
    "plt.plot(Re[20])\n",
    "plt.xlabel('Time/hr')\n",
    "plt.ylabel('Dayton prediction units(tentative)')\n",
    "plt.legend(['True', 'Predict'], loc='upper left')\n",
    "plt.show()"
   ]
  },
  {
   "cell_type": "code",
   "execution_count": null,
   "id": "57b71161",
   "metadata": {},
   "outputs": [],
   "source": []
  }
 ],
 "metadata": {
  "kernelspec": {
   "display_name": "swt_env",
   "language": "python",
   "name": "swt_env"
  },
  "language_info": {
   "codemirror_mode": {
    "name": "ipython",
    "version": 3
   },
   "file_extension": ".py",
   "mimetype": "text/x-python",
   "name": "python",
   "nbconvert_exporter": "python",
   "pygments_lexer": "ipython3",
   "version": "3.10.13"
  }
 },
 "nbformat": 4,
 "nbformat_minor": 5
}
